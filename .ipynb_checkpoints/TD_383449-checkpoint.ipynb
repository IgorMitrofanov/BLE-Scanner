{
 "cells": [
  {
   "cell_type": "code",
   "execution_count": 1,
   "id": "88eda71b",
   "metadata": {},
   "outputs": [],
   "source": [
    "import numpy \n",
    "import pandas\n",
    "\n",
    "import nest_asyncio\n",
    "import asyncio\n",
    "\n",
    "import bleak\n",
    "from bleak import BleakScanner, BleakClient\n",
    "\n",
    "nest_asyncio.apply()"
   ]
  },
  {
   "cell_type": "code",
   "execution_count": 2,
   "id": "215fce1d",
   "metadata": {},
   "outputs": [],
   "source": [
    "def adv_decrypt(data):\n",
    "    # Расшифровка уровня топлива\n",
    "    oil_level_raw = int.from_bytes(data[1:3], byteorder='little', signed=False)\n",
    "    print(f\"Уровень топлива: {oil_level_raw}\")\n",
    "\n",
    "    # Расшифровка напряжения встроенной батареи\n",
    "    battery_voltage_raw = int.from_bytes(data[3:4], byteorder='little', signed=False)\n",
    "    battery_voltage = battery_voltage_raw / 10.0\n",
    "    print(f\"Напряжение встроенной батареи: {battery_voltage} В\")\n",
    "\n",
    "    # Расшифровка температуры\n",
    "    TD_temp_raw = int.from_bytes(data[4:5], byteorder='little', signed=True)\n",
    "    print(f\"Температура: {TD_temp_raw} Градус Цельсия\")\n",
    "\n",
    "    # Расшифровка версии прошивки\n",
    "    TD_version_raw = int.from_bytes(data[5:6], byteorder='little', signed=False)\n",
    "    print(f\"Версия прошивки: {TD_version_raw}\")\n",
    "                    \n",
    "    # Расшифровка периода (непосредственно измеренный параметр)\n",
    "    TD_period_param = int.from_bytes(data[6:10], byteorder='little', signed=False)\n",
    "    print(f\"Период: {TD_period_param} \")\n",
    "\n",
    "    # Расшифровка режима работы\n",
    "    TD_mode_raw = int.from_bytes(data[10:11], byteorder='little', signed=False)\n",
    "    TD_range = (TD_mode_raw & 0b11110000)\n",
    "    if TD_range & 0x80:\n",
    "        print(\"Диапазон датчика 4095\")\n",
    "    if TD_range & 0b00000000:\n",
    "         print(\"Диапазон датчика 1024\")\n",
    "\n",
    "    TD_flags = (TD_mode_raw & 0b00001111)\n",
    "    if TD_flags & 0b00000000:\n",
    "        print(\"Обычный алгоритм расчета\")\n",
    "    if TD_flags & 0b00000001:\n",
    "        print(\"Алгоритм расчета с тарировочной таблицей\")\n",
    "\n",
    "      # Расшифровка сглаживания и термокомпенсации\n",
    "    TD_smoth_and_copm_raw = int.from_bytes(data[11:12], byteorder='little', signed=False)\n",
    "    TD_therm_compensation = (TD_smoth_and_copm_raw & 0b11110000)\n",
    "    if TD_therm_compensation & 0x80:\n",
    "         print(\"Термокомпенсация выключена\")\n",
    "    if TD_therm_compensation & 0b00000000:\n",
    "          print(\"Термокомпенсация включена\")\n",
    "\n",
    "    TD_smoothing = TD_smoth_and_copm_raw & 0x0F\n",
    "    print(f'Сглаживание: {TD_smoothing}')"
   ]
  },
  {
   "cell_type": "code",
   "execution_count": 3,
   "id": "f2eaf33e",
   "metadata": {},
   "outputs": [],
   "source": [
    "timeout_seconds = 60"
   ]
  },
  {
   "cell_type": "code",
   "execution_count": 6,
   "id": "95f7b467",
   "metadata": {},
   "outputs": [],
   "source": [
    "NAME = 'TD_383449'"
   ]
  },
  {
   "cell_type": "code",
   "execution_count": 69,
   "id": "ab205815",
   "metadata": {
    "scrolled": false
   },
   "outputs": [
    {
     "name": "stderr",
     "output_type": "stream",
     "text": [
      "C:\\Users\\Dukalis\\AppData\\Local\\Temp\\ipykernel_10756\\1427519126.py:9: FutureWarning: This method will be removed in a future version of Bleak. Use the detection_callback of the BleakScanner constructor instead.\n",
      "  self._scanner.register_detection_callback(self.detection_callback)\n",
      "C:\\Users\\Dukalis\\AppData\\Local\\Temp\\ipykernel_10756\\1427519126.py:15: FutureWarning: BLEDevice.rssi is deprecated and will be removed in a future version of Bleak, use AdvertisementData.rssi instead\n",
      "  print(\"Device %s (%s), RSSI=%d dB\" % (device.address, device.name, device.rssi), device.metadata['uuids'], datetime.datetime.now())\n",
      "C:\\Users\\Dukalis\\AppData\\Local\\Temp\\ipykernel_10756\\1427519126.py:15: FutureWarning: BLEDevice.metadata is deprecated and will be removed in a future version of Bleak, use AdvertisementData instead\n",
      "  print(\"Device %s (%s), RSSI=%d dB\" % (device.address, device.name, device.rssi), device.metadata['uuids'], datetime.datetime.now())\n"
     ]
    },
    {
     "name": "stdout",
     "output_type": "stream",
     "text": [
      "Device E2:F1:F3:8C:E1:45 (TD_383449), RSSI=-40 dB [] 2023-05-26 14:47:33.858983\n",
      "Уровень топлива: 1\n",
      "Напряжение встроенной батареи: 3.7 В\n",
      "Температура: 23 Градус Цельсия\n",
      "Версия прошивки: 141\n",
      "Период: 30512 \n",
      "Термокомпенсация выключена\n",
      "Сглаживание: 0\n",
      "Device E2:F1:F3:8C:E1:45 (TD_383449), RSSI=-40 dB ['6e400001-b5a3-f393-e0a9-ffeeddc5d9d9'] 2023-05-26 14:47:33.861966\n",
      "Уровень топлива: 1\n",
      "Напряжение встроенной батареи: 3.7 В\n",
      "Температура: 23 Градус Цельсия\n",
      "Версия прошивки: 141\n",
      "Период: 30512 \n",
      "Термокомпенсация выключена\n",
      "Сглаживание: 0\n",
      "Device E2:F1:F3:8C:E1:45 (TD_383449), RSSI=-34 dB ['6e400001-b5a3-f393-e0a9-ffeeddc5d9d9'] 2023-05-26 14:47:54.895805\n",
      "Уровень топлива: 1\n",
      "Напряжение встроенной батареи: 3.7 В\n",
      "Температура: 23 Градус Цельсия\n",
      "Версия прошивки: 141\n",
      "Период: 30512 \n",
      "Термокомпенсация выключена\n",
      "Сглаживание: 0\n",
      "Device E2:F1:F3:8C:E1:45 (TD_383449), RSSI=-34 dB ['6e400001-b5a3-f393-e0a9-ffeeddc5d9d9'] 2023-05-26 14:48:00.903101\n",
      "Уровень топлива: 1\n",
      "Напряжение встроенной батареи: 3.7 В\n",
      "Температура: 23 Градус Цельсия\n",
      "Версия прошивки: 141\n",
      "Период: 30512 \n",
      "Термокомпенсация выключена\n",
      "Сглаживание: 0\n",
      "Device E2:F1:F3:8C:E1:45 (TD_383449), RSSI=-34 dB ['6e400001-b5a3-f393-e0a9-ffeeddc5d9d9'] 2023-05-26 14:48:00.905079\n",
      "Уровень топлива: 1\n",
      "Напряжение встроенной батареи: 3.7 В\n",
      "Температура: 23 Градус Цельсия\n",
      "Версия прошивки: 141\n",
      "Период: 30512 \n",
      "Термокомпенсация выключена\n",
      "Сглаживание: 0\n",
      "\t\tScan has timed out so we terminate\n"
     ]
    }
   ],
   "source": [
    "import struct\n",
    "import datetime\n",
    "\n",
    "\n",
    "\n",
    "class MyScanner:\n",
    "    def __init__(self):\n",
    "        self._scanner = BleakScanner()\n",
    "        self._scanner.register_detection_callback(self.detection_callback)\n",
    "        self.scanning = asyncio.Event()\n",
    "\n",
    "    def detection_callback(self, device, advertisement_data):\n",
    "        if device.name is not None:\n",
    "            if device.name == NAME: # device.name.startswith('TD_'):\n",
    "                print(\"Device %s (%s), RSSI=%d dB\" % (device.address, device.name, device.rssi), device.metadata['uuids'], datetime.datetime.now())\n",
    "                adv_decrypt(advertisement_data.manufacturer_data[3862])\n",
    "    async def run(self):\n",
    "        await self._scanner.start()\n",
    "        self.scanning.set()\n",
    "        end_time = loop.time() + timeout_seconds\n",
    "        while self.scanning.is_set():\n",
    "            if loop.time() > end_time:\n",
    "                self.scanning.clear()\n",
    "                print('\\t\\tScan has timed out so we terminate')\n",
    "            await asyncio.sleep(0.1)\n",
    "        await self._scanner.stop()\n",
    "\n",
    "\n",
    "if __name__ == '__main__':\n",
    "    my_scanner = MyScanner()\n",
    "    loop = asyncio.get_event_loop()\n",
    "    loop.run_until_complete(my_scanner.run())"
   ]
  },
  {
   "cell_type": "code",
   "execution_count": 5,
   "id": "a2e0109c",
   "metadata": {},
   "outputs": [],
   "source": [
    "ADDRESS = 'E2:F1:F3:8C:E1:45'"
   ]
  },
  {
   "cell_type": "code",
   "execution_count": 7,
   "id": "523b20c7",
   "metadata": {},
   "outputs": [],
   "source": [
    "SERVICE_UUID = '6e400001-b5a3-f393-e0a9-ffeeddc5d9d9'"
   ]
  },
  {
   "cell_type": "code",
   "execution_count": 8,
   "id": "3da60704",
   "metadata": {},
   "outputs": [],
   "source": [
    "uniq_uuid_part = SERVICE_UUID.split('-')[-1]"
   ]
  },
  {
   "cell_type": "code",
   "execution_count": 56,
   "id": "132432ff",
   "metadata": {},
   "outputs": [],
   "source": [
    "RX_UUID_part = '6e400003-b5a3-f393-e0a9-'"
   ]
  },
  {
   "cell_type": "code",
   "execution_count": 57,
   "id": "4dcbd866",
   "metadata": {},
   "outputs": [],
   "source": [
    "TX_UUID_part = '6e400002-b5a3-f393-e0a9-'"
   ]
  },
  {
   "cell_type": "code",
   "execution_count": 58,
   "id": "84a8151a",
   "metadata": {},
   "outputs": [],
   "source": [
    "RX_UUID = RX_UUID_part + uniq_uuid_part"
   ]
  },
  {
   "cell_type": "code",
   "execution_count": 59,
   "id": "15192d98",
   "metadata": {},
   "outputs": [
    {
     "data": {
      "text/plain": [
       "'6e400003-b5a3-f393-e0a9-ffeeddc5d9d9'"
      ]
     },
     "execution_count": 59,
     "metadata": {},
     "output_type": "execute_result"
    }
   ],
   "source": [
    "RX_UUID"
   ]
  },
  {
   "cell_type": "code",
   "execution_count": 60,
   "id": "92edf970",
   "metadata": {},
   "outputs": [],
   "source": [
    "TX_UUID = TX_UUID_part + uniq_uuid_part"
   ]
  },
  {
   "cell_type": "code",
   "execution_count": 61,
   "id": "967ae557",
   "metadata": {},
   "outputs": [
    {
     "data": {
      "text/plain": [
       "'6e400002-b5a3-f393-e0a9-ffeeddc5d9d9'"
      ]
     },
     "execution_count": 61,
     "metadata": {},
     "output_type": "execute_result"
    }
   ],
   "source": [
    "TX_UUID"
   ]
  },
  {
   "cell_type": "code",
   "execution_count": 72,
   "id": "8abffb0e",
   "metadata": {},
   "outputs": [
    {
     "name": "stderr",
     "output_type": "stream",
     "text": [
      "C:\\Users\\Dukalis\\AppData\\Local\\Temp\\ipykernel_10756\\3907029730.py:9: FutureWarning: This method will be removed future version, use the services property instead.\n",
      "  services = await client.get_services()\n"
     ]
    },
    {
     "name": "stdout",
     "output_type": "stream",
     "text": [
      "WTIRE: b'HK:1:100\\r' on TX_char\n"
     ]
    },
    {
     "ename": "BleakError",
     "evalue": "Could not read characteristic handle 14: Protocol Error 0x05: Insufficient Authentication",
     "output_type": "error",
     "traceback": [
      "\u001b[1;31m---------------------------------------------------------------------------\u001b[0m",
      "\u001b[1;31mBleakError\u001b[0m                                Traceback (most recent call last)",
      "Cell \u001b[1;32mIn[72], line 33\u001b[0m\n\u001b[0;32m     30\u001b[0m         \u001b[38;5;28mprint\u001b[39m(\u001b[38;5;124m\"\u001b[39m\u001b[38;5;124mResponse from RX_char:\u001b[39m\u001b[38;5;124m\"\u001b[39m, response)\n\u001b[0;32m     32\u001b[0m loop \u001b[38;5;241m=\u001b[39m asyncio\u001b[38;5;241m.\u001b[39mget_event_loop()\n\u001b[1;32m---> 33\u001b[0m \u001b[43mloop\u001b[49m\u001b[38;5;241;43m.\u001b[39;49m\u001b[43mrun_until_complete\u001b[49m\u001b[43m(\u001b[49m\u001b[43mclient\u001b[49m\u001b[43m(\u001b[49m\u001b[43m)\u001b[49m\u001b[43m)\u001b[49m\n",
      "File \u001b[1;32m~\\AppData\\Local\\Programs\\Python\\Python311\\Lib\\site-packages\\nest_asyncio.py:90\u001b[0m, in \u001b[0;36m_patch_loop.<locals>.run_until_complete\u001b[1;34m(self, future)\u001b[0m\n\u001b[0;32m     87\u001b[0m \u001b[38;5;28;01mif\u001b[39;00m \u001b[38;5;129;01mnot\u001b[39;00m f\u001b[38;5;241m.\u001b[39mdone():\n\u001b[0;32m     88\u001b[0m     \u001b[38;5;28;01mraise\u001b[39;00m \u001b[38;5;167;01mRuntimeError\u001b[39;00m(\n\u001b[0;32m     89\u001b[0m         \u001b[38;5;124m'\u001b[39m\u001b[38;5;124mEvent loop stopped before Future completed.\u001b[39m\u001b[38;5;124m'\u001b[39m)\n\u001b[1;32m---> 90\u001b[0m \u001b[38;5;28;01mreturn\u001b[39;00m \u001b[43mf\u001b[49m\u001b[38;5;241;43m.\u001b[39;49m\u001b[43mresult\u001b[49m\u001b[43m(\u001b[49m\u001b[43m)\u001b[49m\n",
      "File \u001b[1;32m~\\AppData\\Local\\Programs\\Python\\Python311\\Lib\\asyncio\\futures.py:203\u001b[0m, in \u001b[0;36mFuture.result\u001b[1;34m(self)\u001b[0m\n\u001b[0;32m    201\u001b[0m \u001b[38;5;28mself\u001b[39m\u001b[38;5;241m.\u001b[39m__log_traceback \u001b[38;5;241m=\u001b[39m \u001b[38;5;28;01mFalse\u001b[39;00m\n\u001b[0;32m    202\u001b[0m \u001b[38;5;28;01mif\u001b[39;00m \u001b[38;5;28mself\u001b[39m\u001b[38;5;241m.\u001b[39m_exception \u001b[38;5;129;01mis\u001b[39;00m \u001b[38;5;129;01mnot\u001b[39;00m \u001b[38;5;28;01mNone\u001b[39;00m:\n\u001b[1;32m--> 203\u001b[0m     \u001b[38;5;28;01mraise\u001b[39;00m \u001b[38;5;28mself\u001b[39m\u001b[38;5;241m.\u001b[39m_exception\u001b[38;5;241m.\u001b[39mwith_traceback(\u001b[38;5;28mself\u001b[39m\u001b[38;5;241m.\u001b[39m_exception_tb)\n\u001b[0;32m    204\u001b[0m \u001b[38;5;28;01mreturn\u001b[39;00m \u001b[38;5;28mself\u001b[39m\u001b[38;5;241m.\u001b[39m_result\n",
      "File \u001b[1;32m~\\AppData\\Local\\Programs\\Python\\Python311\\Lib\\asyncio\\tasks.py:267\u001b[0m, in \u001b[0;36mTask.__step\u001b[1;34m(***failed resolving arguments***)\u001b[0m\n\u001b[0;32m    263\u001b[0m \u001b[38;5;28;01mtry\u001b[39;00m:\n\u001b[0;32m    264\u001b[0m     \u001b[38;5;28;01mif\u001b[39;00m exc \u001b[38;5;129;01mis\u001b[39;00m \u001b[38;5;28;01mNone\u001b[39;00m:\n\u001b[0;32m    265\u001b[0m         \u001b[38;5;66;03m# We use the `send` method directly, because coroutines\u001b[39;00m\n\u001b[0;32m    266\u001b[0m         \u001b[38;5;66;03m# don't have `__iter__` and `__next__` methods.\u001b[39;00m\n\u001b[1;32m--> 267\u001b[0m         result \u001b[38;5;241m=\u001b[39m coro\u001b[38;5;241m.\u001b[39msend(\u001b[38;5;28;01mNone\u001b[39;00m)\n\u001b[0;32m    268\u001b[0m     \u001b[38;5;28;01melse\u001b[39;00m:\n\u001b[0;32m    269\u001b[0m         result \u001b[38;5;241m=\u001b[39m coro\u001b[38;5;241m.\u001b[39mthrow(exc)\n",
      "Cell \u001b[1;32mIn[72], line 29\u001b[0m, in \u001b[0;36mclient\u001b[1;34m()\u001b[0m\n\u001b[0;32m     26\u001b[0m \u001b[38;5;28mprint\u001b[39m(\u001b[38;5;124mf\u001b[39m\u001b[38;5;124m'\u001b[39m\u001b[38;5;124mWTIRE: \u001b[39m\u001b[38;5;132;01m{\u001b[39;00mMESSAGE\u001b[38;5;132;01m}\u001b[39;00m\u001b[38;5;124m on TX_char\u001b[39m\u001b[38;5;124m'\u001b[39m)\n\u001b[0;32m     28\u001b[0m \u001b[38;5;66;03m# Читаем ответ из RX характеристики \u001b[39;00m\n\u001b[1;32m---> 29\u001b[0m response \u001b[38;5;241m=\u001b[39m \u001b[38;5;28;01mawait\u001b[39;00m client\u001b[38;5;241m.\u001b[39mread_gatt_char(rx_char\u001b[38;5;241m.\u001b[39mhandle)\n\u001b[0;32m     30\u001b[0m \u001b[38;5;28mprint\u001b[39m(\u001b[38;5;124m\"\u001b[39m\u001b[38;5;124mResponse from RX_char:\u001b[39m\u001b[38;5;124m\"\u001b[39m, response)\n",
      "File \u001b[1;32m~\\AppData\\Local\\Programs\\Python\\Python311\\Lib\\site-packages\\bleak\\__init__.py:637\u001b[0m, in \u001b[0;36mBleakClient.read_gatt_char\u001b[1;34m(self, char_specifier, **kwargs)\u001b[0m\n\u001b[0;32m    619\u001b[0m \u001b[38;5;28;01masync\u001b[39;00m \u001b[38;5;28;01mdef\u001b[39;00m \u001b[38;5;21mread_gatt_char\u001b[39m(\n\u001b[0;32m    620\u001b[0m     \u001b[38;5;28mself\u001b[39m,\n\u001b[0;32m    621\u001b[0m     char_specifier: Union[BleakGATTCharacteristic, \u001b[38;5;28mint\u001b[39m, \u001b[38;5;28mstr\u001b[39m, uuid\u001b[38;5;241m.\u001b[39mUUID],\n\u001b[0;32m    622\u001b[0m     \u001b[38;5;241m*\u001b[39m\u001b[38;5;241m*\u001b[39mkwargs,\n\u001b[0;32m    623\u001b[0m ) \u001b[38;5;241m-\u001b[39m\u001b[38;5;241m>\u001b[39m \u001b[38;5;28mbytearray\u001b[39m:\n\u001b[0;32m    624\u001b[0m \u001b[38;5;250m    \u001b[39m\u001b[38;5;124;03m\"\"\"\u001b[39;00m\n\u001b[0;32m    625\u001b[0m \u001b[38;5;124;03m    Perform read operation on the specified GATT characteristic.\u001b[39;00m\n\u001b[0;32m    626\u001b[0m \n\u001b[1;32m   (...)\u001b[0m\n\u001b[0;32m    635\u001b[0m \n\u001b[0;32m    636\u001b[0m \u001b[38;5;124;03m    \"\"\"\u001b[39;00m\n\u001b[1;32m--> 637\u001b[0m     \u001b[38;5;28;01mreturn\u001b[39;00m \u001b[38;5;28;01mawait\u001b[39;00m \u001b[38;5;28mself\u001b[39m\u001b[38;5;241m.\u001b[39m_backend\u001b[38;5;241m.\u001b[39mread_gatt_char(char_specifier, \u001b[38;5;241m*\u001b[39m\u001b[38;5;241m*\u001b[39mkwargs)\n",
      "File \u001b[1;32m~\\AppData\\Local\\Programs\\Python\\Python311\\Lib\\site-packages\\bleak\\backends\\winrt\\client.py:784\u001b[0m, in \u001b[0;36mBleakClientWinRT.read_gatt_char\u001b[1;34m(self, char_specifier, **kwargs)\u001b[0m\n\u001b[0;32m    780\u001b[0m \u001b[38;5;28;01mif\u001b[39;00m \u001b[38;5;129;01mnot\u001b[39;00m characteristic:\n\u001b[0;32m    781\u001b[0m     \u001b[38;5;28;01mraise\u001b[39;00m BleakError(\u001b[38;5;124mf\u001b[39m\u001b[38;5;124m\"\u001b[39m\u001b[38;5;124mCharacteristic \u001b[39m\u001b[38;5;132;01m{\u001b[39;00mchar_specifier\u001b[38;5;132;01m}\u001b[39;00m\u001b[38;5;124m was not found!\u001b[39m\u001b[38;5;124m\"\u001b[39m)\n\u001b[0;32m    783\u001b[0m value \u001b[38;5;241m=\u001b[39m \u001b[38;5;28mbytearray\u001b[39m(\n\u001b[1;32m--> 784\u001b[0m     \u001b[43m_ensure_success\u001b[49m\u001b[43m(\u001b[49m\n\u001b[0;32m    785\u001b[0m \u001b[43m        \u001b[49m\u001b[38;5;28;43;01mawait\u001b[39;49;00m\u001b[43m \u001b[49m\u001b[43mcharacteristic\u001b[49m\u001b[38;5;241;43m.\u001b[39;49m\u001b[43mobj\u001b[49m\u001b[38;5;241;43m.\u001b[39;49m\u001b[43mread_value_async\u001b[49m\u001b[43m(\u001b[49m\n\u001b[0;32m    786\u001b[0m \u001b[43m            \u001b[49m\u001b[43mBluetoothCacheMode\u001b[49m\u001b[38;5;241;43m.\u001b[39;49m\u001b[43mCACHED\u001b[49m\n\u001b[0;32m    787\u001b[0m \u001b[43m            \u001b[49m\u001b[38;5;28;43;01mif\u001b[39;49;00m\u001b[43m \u001b[49m\u001b[43muse_cached\u001b[49m\n\u001b[0;32m    788\u001b[0m \u001b[43m            \u001b[49m\u001b[38;5;28;43;01melse\u001b[39;49;00m\u001b[43m \u001b[49m\u001b[43mBluetoothCacheMode\u001b[49m\u001b[38;5;241;43m.\u001b[39;49m\u001b[43mUNCACHED\u001b[49m\n\u001b[0;32m    789\u001b[0m \u001b[43m        \u001b[49m\u001b[43m)\u001b[49m\u001b[43m,\u001b[49m\n\u001b[0;32m    790\u001b[0m \u001b[43m        \u001b[49m\u001b[38;5;124;43m\"\u001b[39;49m\u001b[38;5;124;43mvalue\u001b[39;49m\u001b[38;5;124;43m\"\u001b[39;49m\u001b[43m,\u001b[49m\n\u001b[0;32m    791\u001b[0m \u001b[43m        \u001b[49m\u001b[38;5;124;43mf\u001b[39;49m\u001b[38;5;124;43m\"\u001b[39;49m\u001b[38;5;124;43mCould not read characteristic handle \u001b[39;49m\u001b[38;5;132;43;01m{\u001b[39;49;00m\u001b[43mcharacteristic\u001b[49m\u001b[38;5;241;43m.\u001b[39;49m\u001b[43mhandle\u001b[49m\u001b[38;5;132;43;01m}\u001b[39;49;00m\u001b[38;5;124;43m\"\u001b[39;49m\u001b[43m,\u001b[49m\n\u001b[0;32m    792\u001b[0m \u001b[43m    \u001b[49m\u001b[43m)\u001b[49m\n\u001b[0;32m    793\u001b[0m )\n\u001b[0;32m    795\u001b[0m logger\u001b[38;5;241m.\u001b[39mdebug(\u001b[38;5;124m\"\u001b[39m\u001b[38;5;124mRead Characteristic \u001b[39m\u001b[38;5;132;01m%04X\u001b[39;00m\u001b[38;5;124m : \u001b[39m\u001b[38;5;132;01m%s\u001b[39;00m\u001b[38;5;124m\"\u001b[39m, characteristic\u001b[38;5;241m.\u001b[39mhandle, value)\n\u001b[0;32m    797\u001b[0m \u001b[38;5;28;01mreturn\u001b[39;00m value\n",
      "File \u001b[1;32m~\\AppData\\Local\\Programs\\Python\\Python311\\Lib\\site-packages\\bleak\\backends\\winrt\\client.py:115\u001b[0m, in \u001b[0;36m_ensure_success\u001b[1;34m(result, attr, fail_msg)\u001b[0m\n\u001b[0;32m    113\u001b[0m \u001b[38;5;28;01mif\u001b[39;00m status \u001b[38;5;241m==\u001b[39m GattCommunicationStatus\u001b[38;5;241m.\u001b[39mPROTOCOL_ERROR:\n\u001b[0;32m    114\u001b[0m     err \u001b[38;5;241m=\u001b[39m PROTOCOL_ERROR_CODES\u001b[38;5;241m.\u001b[39mget(result\u001b[38;5;241m.\u001b[39mprotocol_error, \u001b[38;5;124m\"\u001b[39m\u001b[38;5;124mUnknown\u001b[39m\u001b[38;5;124m\"\u001b[39m)\n\u001b[1;32m--> 115\u001b[0m     \u001b[38;5;28;01mraise\u001b[39;00m BleakError(\n\u001b[0;32m    116\u001b[0m         \u001b[38;5;124mf\u001b[39m\u001b[38;5;124m\"\u001b[39m\u001b[38;5;132;01m{\u001b[39;00mfail_msg\u001b[38;5;132;01m}\u001b[39;00m\u001b[38;5;124m: Protocol Error 0x\u001b[39m\u001b[38;5;132;01m{\u001b[39;00mresult\u001b[38;5;241m.\u001b[39mprotocol_error\u001b[38;5;132;01m:\u001b[39;00m\u001b[38;5;124m02X\u001b[39m\u001b[38;5;132;01m}\u001b[39;00m\u001b[38;5;124m: \u001b[39m\u001b[38;5;132;01m{\u001b[39;00merr\u001b[38;5;132;01m}\u001b[39;00m\u001b[38;5;124m\"\u001b[39m\n\u001b[0;32m    117\u001b[0m     )\n\u001b[0;32m    119\u001b[0m \u001b[38;5;28;01mif\u001b[39;00m status \u001b[38;5;241m==\u001b[39m GattCommunicationStatus\u001b[38;5;241m.\u001b[39mACCESS_DENIED:\n\u001b[0;32m    120\u001b[0m     \u001b[38;5;28;01mraise\u001b[39;00m BleakError(\u001b[38;5;124mf\u001b[39m\u001b[38;5;124m\"\u001b[39m\u001b[38;5;132;01m{\u001b[39;00mfail_msg\u001b[38;5;132;01m}\u001b[39;00m\u001b[38;5;124m: Access Denied\u001b[39m\u001b[38;5;124m\"\u001b[39m)\n",
      "\u001b[1;31mBleakError\u001b[0m: Could not read characteristic handle 14: Protocol Error 0x05: Insufficient Authentication"
     ]
    }
   ],
   "source": [
    "import asyncio\n",
    "from bleak import BleakClient\n",
    "\n",
    "MESSAGE = b\"HK:1:100\\r\"\n",
    "\n",
    "async def client():\n",
    "    async with BleakClient(ADDRESS, timeout=40, is_secured=True) as client:\n",
    "        # Connect to the device and discover the services and characteristics\n",
    "        services = await client.get_services()\n",
    "\n",
    "\n",
    "        # Find the RX and TX characteristics\n",
    "        rx_char, tx_char = None, None  # обнуляем переменные\n",
    "        for service in services:\n",
    "            if service.uuid == SERVICE_UUID:\n",
    "                for characteristic in service.characteristics:\n",
    "\n",
    "                    if characteristic.uuid == RX_UUID:\n",
    "                        rx_char = characteristic\n",
    "\n",
    "                    elif characteristic.uuid == TX_UUID:\n",
    "                        tx_char = characteristic\n",
    "                        \n",
    "        # Записываем сообщение в TX характеристику \n",
    "        await client.write_gatt_char(tx_char.handle, MESSAGE)\n",
    "        print(f'WTIRE: {MESSAGE} on TX_char')\n",
    "        \n",
    "        # Читаем ответ из RX характеристики \n",
    "        response = await client.read_gatt_char(rx_char.handle)\n",
    "        print(\"Response from RX_char:\", response)\n",
    "\n",
    "loop = asyncio.get_event_loop()\n",
    "loop.run_until_complete(client())"
   ]
  },
  {
   "cell_type": "code",
   "execution_count": 53,
   "id": "06249ef5",
   "metadata": {},
   "outputs": [
    {
     "data": {
      "text/plain": [
       "\"     if device.address == address_to_look_for:\\n            byte_data = advertisement_data.service_data.get(service_id_to_look_for)\\n            num_to_test, = struct.unpack_from('<I', byte_data, 0)\\n            if num_to_test == 62976:\\n                print('\\t\\tDevice found so we terminate')\\n                self.scanning.clear()\\n                \\n\""
      ]
     },
     "execution_count": 53,
     "metadata": {},
     "output_type": "execute_result"
    }
   ],
   "source": [
    "'''     if device.address == address_to_look_for:\n",
    "            byte_data = advertisement_data.service_data.get(service_id_to_look_for)\n",
    "            num_to_test, = struct.unpack_from('<I', byte_data, 0)\n",
    "            if num_to_test == 62976:\n",
    "                print('\\t\\tDevice found so we terminate')\n",
    "                self.scanning.clear()\n",
    "                \n",
    "'''"
   ]
  },
  {
   "cell_type": "code",
   "execution_count": null,
   "id": "ba8ad401",
   "metadata": {},
   "outputs": [],
   "source": []
  }
 ],
 "metadata": {
  "kernelspec": {
   "display_name": "Python 3 (ipykernel)",
   "language": "python",
   "name": "python3"
  },
  "language_info": {
   "codemirror_mode": {
    "name": "ipython",
    "version": 3
   },
   "file_extension": ".py",
   "mimetype": "text/x-python",
   "name": "python",
   "nbconvert_exporter": "python",
   "pygments_lexer": "ipython3",
   "version": "3.11.3"
  }
 },
 "nbformat": 4,
 "nbformat_minor": 5
}
