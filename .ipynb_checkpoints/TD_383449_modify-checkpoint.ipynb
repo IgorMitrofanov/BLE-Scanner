{
 "cells": [
  {
   "cell_type": "code",
   "execution_count": 1,
   "id": "88eda71b",
   "metadata": {},
   "outputs": [],
   "source": [
    "import numpy \n",
    "import pandas\n",
    "\n",
    "import nest_asyncio\n",
    "import asyncio\n",
    "\n",
    "import bleak\n",
    "from bleak import BleakScanner, BleakClient\n",
    "\n",
    "nest_asyncio.apply()"
   ]
  },
  {
   "cell_type": "code",
   "execution_count": 2,
   "id": "f26e3e5e",
   "metadata": {},
   "outputs": [],
   "source": [
    "SERVICE_UUID_PART = '6e400001-b5a3-f393-e0a9-'"
   ]
  },
  {
   "cell_type": "code",
   "execution_count": 3,
   "id": "1b16b4ea",
   "metadata": {},
   "outputs": [],
   "source": [
    "RX_UUID_PART = '6e400003-b5a3-f393-e0a9-'"
   ]
  },
  {
   "cell_type": "code",
   "execution_count": 4,
   "id": "70d83c28",
   "metadata": {},
   "outputs": [],
   "source": [
    "TX_UUID_PART = '6e400002-b5a3-f393-e0a9-'"
   ]
  },
  {
   "cell_type": "code",
   "execution_count": null,
   "id": "fccdbf30",
   "metadata": {},
   "outputs": [],
   "source": []
  },
  {
   "cell_type": "code",
   "execution_count": null,
   "id": "3148cd39",
   "metadata": {},
   "outputs": [],
   "source": []
  },
  {
   "cell_type": "code",
   "execution_count": null,
   "id": "a7969c5b",
   "metadata": {},
   "outputs": [],
   "source": []
  },
  {
   "cell_type": "code",
   "execution_count": null,
   "id": "498c0c49",
   "metadata": {},
   "outputs": [],
   "source": []
  },
  {
   "cell_type": "code",
   "execution_count": null,
   "id": "362b11b3",
   "metadata": {},
   "outputs": [],
   "source": []
  },
  {
   "cell_type": "code",
   "execution_count": null,
   "id": "d51b4808",
   "metadata": {},
   "outputs": [],
   "source": []
  },
  {
   "cell_type": "code",
   "execution_count": 5,
   "id": "215fce1d",
   "metadata": {},
   "outputs": [],
   "source": [
    "def adv_decrypt(data):\n",
    "    # Расшифровка уровня топлива\n",
    "    oil_level_raw = int.from_bytes(data[1:3], byteorder='little', signed=False)\n",
    "    print(f\"Уровень топлива: {oil_level_raw}\")\n",
    "\n",
    "    # Расшифровка напряжения встроенной батареи\n",
    "    battery_voltage_raw = int.from_bytes(data[3:4], byteorder='little', signed=False)\n",
    "    battery_voltage = battery_voltage_raw / 10.0\n",
    "    print(f\"Напряжение встроенной батареи: {battery_voltage} В\")\n",
    "\n",
    "    # Расшифровка температуры\n",
    "    TD_temp_raw = int.from_bytes(data[4:5], byteorder='little', signed=True)\n",
    "    print(f\"Температура: {TD_temp_raw} Градус Цельсия\")\n",
    "\n",
    "    # Расшифровка версии прошивки\n",
    "    TD_version_raw = int.from_bytes(data[5:6], byteorder='little', signed=False)\n",
    "    print(f\"Версия прошивки: {TD_version_raw}\")\n",
    "                    \n",
    "    # Расшифровка периода (непосредственно измеренный параметр)\n",
    "    TD_period_param = int.from_bytes(data[6:10], byteorder='little', signed=False)\n",
    "    print(f\"Период: {TD_period_param} \")\n",
    "\n",
    "    # Расшифровка режима работы\n",
    "    TD_mode_raw = int.from_bytes(data[10:11], byteorder='little', signed=False)\n",
    "    TD_range = (TD_mode_raw & 0b11110000)\n",
    "    if TD_range & 0x80:\n",
    "        print(\"Диапазон датчика 4095\")\n",
    "    if TD_range & 0b00000000:\n",
    "         print(\"Диапазон датчика 1024\")\n",
    "\n",
    "    TD_flags = (TD_mode_raw & 0b00001111)\n",
    "    if TD_flags & 0b00000000:\n",
    "        print(\"Обычный алгоритм расчета\")\n",
    "    if TD_flags & 0b00000001:\n",
    "        print(\"Алгоритм расчета с тарировочной таблицей\")\n",
    "\n",
    "      # Расшифровка сглаживания и термокомпенсации\n",
    "    TD_smoth_and_copm_raw = int.from_bytes(data[11:12], byteorder='little', signed=False)\n",
    "    TD_therm_compensation = (TD_smoth_and_copm_raw & 0b11110000)\n",
    "    if TD_therm_compensation & 0x80:\n",
    "         print(\"Термокомпенсация выключена\")\n",
    "    if TD_therm_compensation & 0b00000000:\n",
    "          print(\"Термокомпенсация включена\")\n",
    "\n",
    "    TD_smoothing = TD_smoth_and_copm_raw & 0x0F\n",
    "    print(f'Сглаживание: {TD_smoothing}')"
   ]
  },
  {
   "cell_type": "code",
   "execution_count": 6,
   "id": "f2eaf33e",
   "metadata": {},
   "outputs": [],
   "source": [
    "timeout = 60"
   ]
  },
  {
   "cell_type": "code",
   "execution_count": 8,
   "id": "95f7b467",
   "metadata": {},
   "outputs": [],
   "source": [
    "NAME = 'TD_383448'"
   ]
  },
  {
   "cell_type": "code",
   "execution_count": 9,
   "id": "ab205815",
   "metadata": {
    "scrolled": false
   },
   "outputs": [
    {
     "name": "stderr",
     "output_type": "stream",
     "text": [
      "C:\\Users\\Dukalis\\AppData\\Local\\Temp\\ipykernel_9544\\387149350.py:8: FutureWarning: This method will be removed in a future version of Bleak. Use the detection_callback of the BleakScanner constructor instead.\n",
      "  self._scanner.register_detection_callback(self.detection_callback)\n",
      "C:\\Users\\Dukalis\\AppData\\Local\\Temp\\ipykernel_9544\\387149350.py:16: FutureWarning: BLEDevice.rssi is deprecated and will be removed in a future version of Bleak, use AdvertisementData.rssi instead\n",
      "  print(\"Device %s (%s), RSSI=%d dB\" % (device.address, device.name, device.rssi), device.metadata['uuids'], datetime.datetime.now())\n",
      "C:\\Users\\Dukalis\\AppData\\Local\\Temp\\ipykernel_9544\\387149350.py:16: FutureWarning: BLEDevice.metadata is deprecated and will be removed in a future version of Bleak, use AdvertisementData instead\n",
      "  print(\"Device %s (%s), RSSI=%d dB\" % (device.address, device.name, device.rssi), device.metadata['uuids'], datetime.datetime.now())\n",
      "C:\\Users\\Dukalis\\AppData\\Local\\Temp\\ipykernel_9544\\387149350.py:18: FutureWarning: BLEDevice.metadata is deprecated and will be removed in a future version of Bleak, use AdvertisementData instead\n",
      "  self.service_uuid = device.metadata['uuids']\n"
     ]
    },
    {
     "name": "stdout",
     "output_type": "stream",
     "text": [
      "Device CA:17:37:73:61:98 (TD_383448), RSSI=-60 dB [] 2023-05-29 12:24:21.009793\n",
      "Уровень топлива: 1\n",
      "Напряжение встроенной батареи: 3.7 В\n",
      "Температура: 23 Градус Цельсия\n",
      "Версия прошивки: 141\n",
      "Период: 30693 \n",
      "Термокомпенсация выключена\n",
      "Сглаживание: 0\n",
      "Device CA:17:37:73:61:98 (TD_383448), RSSI=-52 dB [] 2023-05-29 12:24:42.040462\n",
      "Уровень топлива: 1\n",
      "Напряжение встроенной батареи: 3.7 В\n",
      "Температура: 23 Градус Цельсия\n",
      "Версия прошивки: 141\n",
      "Период: 30693 \n",
      "Термокомпенсация выключена\n",
      "Сглаживание: 0\n",
      "Device CA:17:37:73:61:98 (TD_383448), RSSI=-62 dB [] 2023-05-29 12:25:03.059305\n",
      "Уровень топлива: 1\n",
      "Напряжение встроенной батареи: 3.7 В\n",
      "Температура: 23 Градус Цельсия\n",
      "Версия прошивки: 141\n",
      "Период: 30695 \n",
      "Термокомпенсация выключена\n",
      "Сглаживание: 0\n",
      "Device CA:17:37:73:61:98 (TD_383448), RSSI=-60 dB ['6e400001-b5a3-f393-e0a9-ffeeddc5d9d8'] 2023-05-29 12:25:03.062322\n",
      "Уровень топлива: 1\n",
      "Напряжение встроенной батареи: 3.7 В\n",
      "Температура: 23 Градус Цельсия\n",
      "Версия прошивки: 141\n",
      "Период: 30695 \n",
      "Термокомпенсация выключена\n",
      "Сглаживание: 0\n",
      "\t\tScan has timed out so we terminate\n"
     ]
    }
   ],
   "source": [
    "import struct\n",
    "import datetime\n",
    "\n",
    "\n",
    "class MyScanner:\n",
    "    def __init__(self):\n",
    "        self._scanner = BleakScanner()\n",
    "        self._scanner.register_detection_callback(self.detection_callback)\n",
    "        self.scanning = asyncio.Event()\n",
    "        self.address = None\n",
    "        self.service_uuid = None\n",
    "\n",
    "    def detection_callback(self, device, advertisement_data):\n",
    "        if device.name is not None:\n",
    "            if device.name == NAME: # device.name.startswith('TD_'):\n",
    "                print(\"Device %s (%s), RSSI=%d dB\" % (device.address, device.name, device.rssi), device.metadata['uuids'], datetime.datetime.now())\n",
    "                self.address = device.address\n",
    "                self.service_uuid = device.metadata['uuids']\n",
    "                adv_decrypt(advertisement_data.manufacturer_data[3862])\n",
    "\n",
    "    async def run(self):\n",
    "        await self._scanner.start()\n",
    "        self.scanning.set()\n",
    "        end_time = loop.time() + timeout\n",
    "        while self.scanning.is_set():\n",
    "            if loop.time() > end_time:\n",
    "                self.scanning.clear()\n",
    "                print('\\t\\tScan has timed out so we terminate')\n",
    "            await asyncio.sleep(0.1)\n",
    "        await self._scanner.stop()\n",
    "\n",
    "    def get_address(self):\n",
    "        return self.address\n",
    "\n",
    "    def get_service_uuid(self):\n",
    "        return self.service_uuid\n",
    "\n",
    "\n",
    "if __name__ == '__main__':\n",
    "    my_scanner = MyScanner()\n",
    "    loop = asyncio.get_event_loop()\n",
    "    loop.run_until_complete(my_scanner.run())\n",
    "    address = my_scanner.get_address()\n",
    "    service_uuids = my_scanner.get_service_uuid()"
   ]
  },
  {
   "cell_type": "code",
   "execution_count": 10,
   "id": "c07e0b7f",
   "metadata": {},
   "outputs": [
    {
     "data": {
      "text/plain": [
       "'CA:17:37:73:61:98'"
      ]
     },
     "execution_count": 10,
     "metadata": {},
     "output_type": "execute_result"
    }
   ],
   "source": [
    "address"
   ]
  },
  {
   "cell_type": "code",
   "execution_count": 11,
   "id": "3e8172fc",
   "metadata": {},
   "outputs": [
    {
     "data": {
      "text/plain": [
       "['6e400001-b5a3-f393-e0a9-ffeeddc5d9d8']"
      ]
     },
     "execution_count": 11,
     "metadata": {},
     "output_type": "execute_result"
    }
   ],
   "source": [
    "service_uuids"
   ]
  },
  {
   "cell_type": "code",
   "execution_count": 12,
   "id": "ec30c417",
   "metadata": {},
   "outputs": [],
   "source": [
    "service_uuid = [uuid for uuid in service_uuids if uuid.startswith(SERVICE_UUID_PART)][0]"
   ]
  },
  {
   "cell_type": "code",
   "execution_count": 13,
   "id": "4baee2d7",
   "metadata": {},
   "outputs": [
    {
     "data": {
      "text/plain": [
       "'6e400001-b5a3-f393-e0a9-ffeeddc5d9d8'"
      ]
     },
     "execution_count": 13,
     "metadata": {},
     "output_type": "execute_result"
    }
   ],
   "source": [
    "service_uuid"
   ]
  },
  {
   "cell_type": "code",
   "execution_count": 14,
   "id": "3da60704",
   "metadata": {},
   "outputs": [],
   "source": [
    "uniq_uuid_part = service_uuid.split('-')[-1]"
   ]
  },
  {
   "cell_type": "code",
   "execution_count": 15,
   "id": "e418bede",
   "metadata": {},
   "outputs": [
    {
     "data": {
      "text/plain": [
       "'ffeeddc5d9d8'"
      ]
     },
     "execution_count": 15,
     "metadata": {},
     "output_type": "execute_result"
    }
   ],
   "source": [
    "uniq_uuid_part"
   ]
  },
  {
   "cell_type": "code",
   "execution_count": 16,
   "id": "fea3dad2",
   "metadata": {},
   "outputs": [],
   "source": [
    "rx_uuid = RX_UUID_PART + uniq_uuid_part"
   ]
  },
  {
   "cell_type": "code",
   "execution_count": 17,
   "id": "5c24e7f2",
   "metadata": {},
   "outputs": [
    {
     "data": {
      "text/plain": [
       "'6e400003-b5a3-f393-e0a9-ffeeddc5d9d8'"
      ]
     },
     "execution_count": 17,
     "metadata": {},
     "output_type": "execute_result"
    }
   ],
   "source": [
    "rx_uuid"
   ]
  },
  {
   "cell_type": "code",
   "execution_count": 18,
   "id": "db2f9a26",
   "metadata": {},
   "outputs": [],
   "source": [
    "tx_uuid = TX_UUID_PART + uniq_uuid_part"
   ]
  },
  {
   "cell_type": "code",
   "execution_count": 19,
   "id": "c81a01e9",
   "metadata": {},
   "outputs": [
    {
     "data": {
      "text/plain": [
       "'6e400002-b5a3-f393-e0a9-ffeeddc5d9d8'"
      ]
     },
     "execution_count": 19,
     "metadata": {},
     "output_type": "execute_result"
    }
   ],
   "source": [
    "tx_uuid"
   ]
  },
  {
   "cell_type": "code",
   "execution_count": 71,
   "id": "8abffb0e",
   "metadata": {},
   "outputs": [
    {
     "name": "stdout",
     "output_type": "stream",
     "text": [
      "WTIRE: b'SD,HK:1:30000,LK:1:10000\\r' on TX_char\n",
      "Received notification from RX_char: bytearray(b'ADO\\r')\n"
     ]
    }
   ],
   "source": [
    "import asyncio\n",
    "from bleak import BleakClient\n",
    "\n",
    "MESSAGE = b\"SD,HK:1:30000,LK:1:10000\\r\"\n",
    "# MESSAGE = b\"SH,SL\\r\"\n",
    "\n",
    "async def client(MESSAGE, timeout=60):\n",
    "    async with BleakClient(address, timeout=timeout) as client:\n",
    "        # Connect to the device and discover the services and characteristics\n",
    "                        \n",
    "        # Subscribe to notifications for the RX characteristic\n",
    "        await client.start_notify(14, callback)\n",
    "                        \n",
    "        # Записываем сообщение в TX характеристику \n",
    "        await client.write_gatt_char(12, MESSAGE)\n",
    "        print(f'WTIRE: {MESSAGE} on TX_char')\n",
    "\n",
    "        # Stop receiving notifications\n",
    "        await client.stop_notify(14)\n",
    "\n",
    "async def callback(sender: int, data: bytearray):\n",
    "    print(f'Received notification from RX_char: {data}')\n",
    "\n",
    "loop = asyncio.get_event_loop()\n",
    "loop.run_until_complete(client(MESSAGE))"
   ]
  },
  {
   "cell_type": "code",
   "execution_count": null,
   "id": "88c36338",
   "metadata": {},
   "outputs": [],
   "source": []
  }
 ],
 "metadata": {
  "kernelspec": {
   "display_name": "Python 3 (ipykernel)",
   "language": "python",
   "name": "python3"
  },
  "language_info": {
   "codemirror_mode": {
    "name": "ipython",
    "version": 3
   },
   "file_extension": ".py",
   "mimetype": "text/x-python",
   "name": "python",
   "nbconvert_exporter": "python",
   "pygments_lexer": "ipython3",
   "version": "3.10.9"
  }
 },
 "nbformat": 4,
 "nbformat_minor": 5
}
