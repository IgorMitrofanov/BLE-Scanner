{
 "cells": [
  {
   "cell_type": "code",
   "execution_count": 1,
   "id": "88eda71b",
   "metadata": {},
   "outputs": [],
   "source": [
    "import numpy \n",
    "import pandas as pd\n",
    "\n",
    "import nest_asyncio\n",
    "import asyncio\n",
    "\n",
    "import bleak\n",
    "from bleak import BleakScanner, BleakClient\n",
    "\n",
    "nest_asyncio.apply()"
   ]
  },
  {
   "cell_type": "code",
   "execution_count": 2,
   "id": "fd97ee71",
   "metadata": {},
   "outputs": [],
   "source": [
    "SERVICE_UUID_PART = '6e400001-b5a3-f393-e0a9-'"
   ]
  },
  {
   "cell_type": "code",
   "execution_count": 3,
   "id": "10aa6321",
   "metadata": {},
   "outputs": [],
   "source": [
    "RX_UUID_PART = '6e400003-b5a3-f393-e0a9-'"
   ]
  },
  {
   "cell_type": "code",
   "execution_count": 4,
   "id": "1b9ec4dd",
   "metadata": {},
   "outputs": [],
   "source": [
    "TX_UUID_PART = '6e400002-b5a3-f393-e0a9-'"
   ]
  },
  {
   "cell_type": "code",
   "execution_count": 5,
   "id": "3b04f475",
   "metadata": {},
   "outputs": [],
   "source": [
    "start_range = 100001\n",
    "end_range   = 100002\n",
    "\n",
    "TIMEOUT = 10"
   ]
  },
  {
   "cell_type": "code",
   "execution_count": 6,
   "id": "b2f3b602",
   "metadata": {},
   "outputs": [],
   "source": [
    "def create_table(start_range, end_range):\n",
    "    device_names = [\"TH_\" + str(i) for i in range(start_range, end_range+1)]\n",
    "    df = pd.DataFrame({'Device Name': device_names, \n",
    "                       'Address': [None] * len(device_names),\n",
    "                       'RSSI': [None] * len(device_names),\n",
    "                       'UUIDs': [None] * len(device_names)})\n",
    "    return df"
   ]
  },
  {
   "cell_type": "code",
   "execution_count": 7,
   "id": "05c143a6",
   "metadata": {},
   "outputs": [],
   "source": [
    "df = create_table(start_range, end_range)"
   ]
  },
  {
   "cell_type": "code",
   "execution_count": 8,
   "id": "dca43527",
   "metadata": {},
   "outputs": [
    {
     "data": {
      "text/html": [
       "<div>\n",
       "<style scoped>\n",
       "    .dataframe tbody tr th:only-of-type {\n",
       "        vertical-align: middle;\n",
       "    }\n",
       "\n",
       "    .dataframe tbody tr th {\n",
       "        vertical-align: top;\n",
       "    }\n",
       "\n",
       "    .dataframe thead th {\n",
       "        text-align: right;\n",
       "    }\n",
       "</style>\n",
       "<table border=\"1\" class=\"dataframe\">\n",
       "  <thead>\n",
       "    <tr style=\"text-align: right;\">\n",
       "      <th></th>\n",
       "      <th>Device Name</th>\n",
       "      <th>Address</th>\n",
       "      <th>RSSI</th>\n",
       "      <th>UUIDs</th>\n",
       "    </tr>\n",
       "  </thead>\n",
       "  <tbody>\n",
       "    <tr>\n",
       "      <th>0</th>\n",
       "      <td>TH_100001</td>\n",
       "      <td>None</td>\n",
       "      <td>None</td>\n",
       "      <td>None</td>\n",
       "    </tr>\n",
       "    <tr>\n",
       "      <th>1</th>\n",
       "      <td>TH_100002</td>\n",
       "      <td>None</td>\n",
       "      <td>None</td>\n",
       "      <td>None</td>\n",
       "    </tr>\n",
       "  </tbody>\n",
       "</table>\n",
       "</div>"
      ],
      "text/plain": [
       "  Device Name Address  RSSI UUIDs\n",
       "0   TH_100001    None  None  None\n",
       "1   TH_100002    None  None  None"
      ]
     },
     "execution_count": 8,
     "metadata": {},
     "output_type": "execute_result"
    }
   ],
   "source": [
    "df"
   ]
  },
  {
   "cell_type": "code",
   "execution_count": 9,
   "id": "215fce1d",
   "metadata": {},
   "outputs": [],
   "source": [
    "def adv_decrypt(data):\n",
    "     # Расшифровка температуры\n",
    "    TH09_temp_raw = int.from_bytes(data[1:3], byteorder='little', signed=True)\n",
    "    TH09_temp = TH09_temp_raw / 10.0\n",
    "    print(f\"Температура: {TH09_temp} градусов Цельсия\")\n",
    "\n",
    "    # Расшифровка освещенности\n",
    "    TH09_light_raw = int.from_bytes(data[3:5], byteorder='little', signed=False)\n",
    "    print(f\"Освещенность: {TH09_light_raw} люкс\")\n",
    "\n",
    "    # Расшифровка влажности\n",
    "    TH09_humidity_raw = int.from_bytes(data[5:7], byteorder='little', signed=False)\n",
    "    TH09_humidity = TH09_humidity_raw / 10.0\n",
    "    print(f\"Влажность: {TH09_humidity}%\")\n",
    "                    \n",
    "    # Расшифровка состояния дискретных входов\n",
    "    #  Надеюсь сюда тоже идет один байт (не знаю)\n",
    "    #discrete_row = int.from_bytes(data[7:8], byteorder='big', signed=False)\n",
    "                    \n",
    "    # Резерв\n",
    "    #reserve_row = int.from_bytes(data[8:9], byteorder='big', signed=False)\n",
    "    #print('Резерв: не применимо')\n",
    "    \n",
    "    # Расшифровка режима работы\n",
    "    TH09_mode_raw = int.from_bytes(data[9:10], byteorder='big', signed=False)\n",
    "    TH09_period = (TH09_mode_raw & 0b00000111) * 20\n",
    "    print(f\"Период опроса датчиков: {TH09_period} секунд\")\n",
    "    TH09_flags = TH09_mode_raw & 0b11111000\n",
    "    if TH09_flags & 0b10000000:\n",
    "        print(\"Датчик температуры включен\")\n",
    "    if TH09_flags & 0b01000000:\n",
    "        print(\"Датчик влажности включен\")\n",
    "    if TH09_flags & 0b00100000:\n",
    "        print(\"Датчик атмосферного давления включен\")\n",
    "    if TH09_flags & 0b00010000:\n",
    "        print(\"Датчик освещенности включен\")\n",
    "    if TH09_flags & 0b00001000:\n",
    "        print(\"Датчик холла сработал\")\n",
    "\n",
    "    # Расшифровка напряжения батареи\n",
    "    TH09_battery_raw = int.from_bytes(data[10:11], byteorder='big', signed=False)\n",
    "    TH09_battery = TH09_battery_raw / 10.0\n",
    "    print(f\"Напряжение батареи: {TH09_battery} В\")\n",
    "\n",
    "    # Расшифровка версии прошивки\n",
    "    TH09_version_raw = int.from_bytes(data[11:12], byteorder='big', signed=False)\n",
    "    print(f\"Версия прошивки: {TH09_version_raw}\")"
   ]
  },
  {
   "cell_type": "code",
   "execution_count": 10,
   "id": "7a24d389",
   "metadata": {},
   "outputs": [],
   "source": [
    "timeout = 60"
   ]
  },
  {
   "cell_type": "code",
   "execution_count": 11,
   "id": "0daad52e",
   "metadata": {},
   "outputs": [],
   "source": [
    "NAME = 'TH_100001'"
   ]
  },
  {
   "cell_type": "code",
   "execution_count": 13,
   "id": "da1c3b94",
   "metadata": {},
   "outputs": [
    {
     "name": "stderr",
     "output_type": "stream",
     "text": [
      "C:\\Users\\Dukalis\\AppData\\Local\\Temp\\ipykernel_8652\\1786645481.py:8: FutureWarning: This method will be removed in a future version of Bleak. Use the detection_callback of the BleakScanner constructor instead.\n",
      "  self._scanner.register_detection_callback(self.detection_callback)\n",
      "C:\\Users\\Dukalis\\AppData\\Local\\Temp\\ipykernel_8652\\1786645481.py:17: FutureWarning: BLEDevice.rssi is deprecated and will be removed in a future version of Bleak, use AdvertisementData.rssi instead\n",
      "  print(\"Device %s (%s), RSSI=%d dB\" % (device.address, device.name, device.rssi), device.metadata['uuids'], datetime.datetime.now())\n",
      "C:\\Users\\Dukalis\\AppData\\Local\\Temp\\ipykernel_8652\\1786645481.py:17: FutureWarning: BLEDevice.metadata is deprecated and will be removed in a future version of Bleak, use AdvertisementData instead\n",
      "  print(\"Device %s (%s), RSSI=%d dB\" % (device.address, device.name, device.rssi), device.metadata['uuids'], datetime.datetime.now())\n",
      "C:\\Users\\Dukalis\\AppData\\Local\\Temp\\ipykernel_8652\\1786645481.py:19: FutureWarning: BLEDevice.metadata is deprecated and will be removed in a future version of Bleak, use AdvertisementData instead\n",
      "  self.service_uuids = device.metadata['uuids']\n",
      "Exception in callback BleakScannerWinRT._received_handler(<_bleak_winrt...001DD06BE8BF0>, <_bleak_winrt...001DD06BEBFB0>)\n",
      "handle: <Handle BleakScannerWinRT._received_handler(<_bleak_winrt...001DD06BE8BF0>, <_bleak_winrt...001DD06BEBFB0>)>\n",
      "Traceback (most recent call last):\n",
      "  File \"C:\\ProgramData\\anaconda3\\lib\\asyncio\\events.py\", line 80, in _run\n",
      "    self._context.run(self._callback, *self._args)\n",
      "  File \"C:\\Users\\Dukalis\\AppData\\Roaming\\Python\\Python310\\site-packages\\bleak\\backends\\winrt\\scanner.py\", line 208, in _received_handler\n",
      "    self._callback(device, advertisement_data)\n",
      "  File \"C:\\Users\\Dukalis\\AppData\\Local\\Temp\\ipykernel_8652\\1786645481.py\", line 21, in detection_callback\n",
      "    self.service_uuid = [uuid for uuid in self.service_uuids if uuid.startswith(SERVICE_UUID_PART)][0]\n",
      "IndexError: list index out of range\n",
      "C:\\Users\\Dukalis\\AppData\\Local\\Temp\\ipykernel_8652\\1786645481.py:28: FutureWarning: BLEDevice.rssi is deprecated and will be removed in a future version of Bleak, use AdvertisementData.rssi instead\n",
      "  df.at[index, 'RSSI'] = device.rssi\n"
     ]
    },
    {
     "name": "stdout",
     "output_type": "stream",
     "text": [
      "Device D8:2D:BB:A0:8B:4C (TH_100001), RSSI=-36 dB [] 2023-05-29 10:27:54.581452\n",
      "Device D8:2D:BB:A0:8B:4C (TH_100001), RSSI=-34 dB ['6e400001-b5a3-f393-e0a9-f5eeddc186a1'] 2023-05-29 10:27:54.584431\n",
      "Температура: 27.9 градусов Цельсия\n",
      "Освещенность: 114 люкс\n",
      "Влажность: 37.8%\n",
      "Период опроса датчиков: 60 секунд\n",
      "Датчик атмосферного давления включен\n",
      "Датчик освещенности включен\n",
      "Напряжение батареи: 3.5 В\n",
      "Версия прошивки: 108\n"
     ]
    },
    {
     "ename": "KeyboardInterrupt",
     "evalue": "",
     "output_type": "error",
     "traceback": [
      "\u001b[1;31m---------------------------------------------------------------------------\u001b[0m",
      "\u001b[1;31mKeyboardInterrupt\u001b[0m                         Traceback (most recent call last)",
      "Cell \u001b[1;32mIn[13], line 53\u001b[0m\n\u001b[0;32m     51\u001b[0m my_scanner \u001b[38;5;241m=\u001b[39m MyScanner()\n\u001b[0;32m     52\u001b[0m loop \u001b[38;5;241m=\u001b[39m asyncio\u001b[38;5;241m.\u001b[39mget_event_loop()\n\u001b[1;32m---> 53\u001b[0m \u001b[43mloop\u001b[49m\u001b[38;5;241;43m.\u001b[39;49m\u001b[43mrun_until_complete\u001b[49m\u001b[43m(\u001b[49m\u001b[43mmy_scanner\u001b[49m\u001b[38;5;241;43m.\u001b[39;49m\u001b[43mrun\u001b[49m\u001b[43m(\u001b[49m\u001b[43m)\u001b[49m\u001b[43m)\u001b[49m\n\u001b[0;32m     54\u001b[0m address \u001b[38;5;241m=\u001b[39m my_scanner\u001b[38;5;241m.\u001b[39mget_address()\n\u001b[0;32m     55\u001b[0m service_uuid \u001b[38;5;241m=\u001b[39m my_scanner\u001b[38;5;241m.\u001b[39mget_service_uuid()\n",
      "File \u001b[1;32mC:\\ProgramData\\anaconda3\\lib\\site-packages\\nest_asyncio.py:84\u001b[0m, in \u001b[0;36m_patch_loop.<locals>.run_until_complete\u001b[1;34m(self, future)\u001b[0m\n\u001b[0;32m     82\u001b[0m     f\u001b[38;5;241m.\u001b[39m_log_destroy_pending \u001b[38;5;241m=\u001b[39m \u001b[38;5;28;01mFalse\u001b[39;00m\n\u001b[0;32m     83\u001b[0m \u001b[38;5;28;01mwhile\u001b[39;00m \u001b[38;5;129;01mnot\u001b[39;00m f\u001b[38;5;241m.\u001b[39mdone():\n\u001b[1;32m---> 84\u001b[0m     \u001b[38;5;28;43mself\u001b[39;49m\u001b[38;5;241;43m.\u001b[39;49m\u001b[43m_run_once\u001b[49m\u001b[43m(\u001b[49m\u001b[43m)\u001b[49m\n\u001b[0;32m     85\u001b[0m     \u001b[38;5;28;01mif\u001b[39;00m \u001b[38;5;28mself\u001b[39m\u001b[38;5;241m.\u001b[39m_stopping:\n\u001b[0;32m     86\u001b[0m         \u001b[38;5;28;01mbreak\u001b[39;00m\n",
      "File \u001b[1;32mC:\\ProgramData\\anaconda3\\lib\\site-packages\\nest_asyncio.py:107\u001b[0m, in \u001b[0;36m_patch_loop.<locals>._run_once\u001b[1;34m(self)\u001b[0m\n\u001b[0;32m    100\u001b[0m     heappop(scheduled)\n\u001b[0;32m    102\u001b[0m timeout \u001b[38;5;241m=\u001b[39m (\n\u001b[0;32m    103\u001b[0m     \u001b[38;5;241m0\u001b[39m \u001b[38;5;28;01mif\u001b[39;00m ready \u001b[38;5;129;01mor\u001b[39;00m \u001b[38;5;28mself\u001b[39m\u001b[38;5;241m.\u001b[39m_stopping\n\u001b[0;32m    104\u001b[0m     \u001b[38;5;28;01melse\u001b[39;00m \u001b[38;5;28mmin\u001b[39m(\u001b[38;5;28mmax\u001b[39m(\n\u001b[0;32m    105\u001b[0m         scheduled[\u001b[38;5;241m0\u001b[39m]\u001b[38;5;241m.\u001b[39m_when \u001b[38;5;241m-\u001b[39m \u001b[38;5;28mself\u001b[39m\u001b[38;5;241m.\u001b[39mtime(), \u001b[38;5;241m0\u001b[39m), \u001b[38;5;241m86400\u001b[39m) \u001b[38;5;28;01mif\u001b[39;00m scheduled\n\u001b[0;32m    106\u001b[0m     \u001b[38;5;28;01melse\u001b[39;00m \u001b[38;5;28;01mNone\u001b[39;00m)\n\u001b[1;32m--> 107\u001b[0m event_list \u001b[38;5;241m=\u001b[39m \u001b[38;5;28;43mself\u001b[39;49m\u001b[38;5;241;43m.\u001b[39;49m\u001b[43m_selector\u001b[49m\u001b[38;5;241;43m.\u001b[39;49m\u001b[43mselect\u001b[49m\u001b[43m(\u001b[49m\u001b[43mtimeout\u001b[49m\u001b[43m)\u001b[49m\n\u001b[0;32m    108\u001b[0m \u001b[38;5;28mself\u001b[39m\u001b[38;5;241m.\u001b[39m_process_events(event_list)\n\u001b[0;32m    110\u001b[0m end_time \u001b[38;5;241m=\u001b[39m \u001b[38;5;28mself\u001b[39m\u001b[38;5;241m.\u001b[39mtime() \u001b[38;5;241m+\u001b[39m \u001b[38;5;28mself\u001b[39m\u001b[38;5;241m.\u001b[39m_clock_resolution\n",
      "File \u001b[1;32mC:\\ProgramData\\anaconda3\\lib\\selectors.py:324\u001b[0m, in \u001b[0;36mSelectSelector.select\u001b[1;34m(self, timeout)\u001b[0m\n\u001b[0;32m    322\u001b[0m ready \u001b[38;5;241m=\u001b[39m []\n\u001b[0;32m    323\u001b[0m \u001b[38;5;28;01mtry\u001b[39;00m:\n\u001b[1;32m--> 324\u001b[0m     r, w, _ \u001b[38;5;241m=\u001b[39m \u001b[38;5;28;43mself\u001b[39;49m\u001b[38;5;241;43m.\u001b[39;49m\u001b[43m_select\u001b[49m\u001b[43m(\u001b[49m\u001b[38;5;28;43mself\u001b[39;49m\u001b[38;5;241;43m.\u001b[39;49m\u001b[43m_readers\u001b[49m\u001b[43m,\u001b[49m\u001b[43m \u001b[49m\u001b[38;5;28;43mself\u001b[39;49m\u001b[38;5;241;43m.\u001b[39;49m\u001b[43m_writers\u001b[49m\u001b[43m,\u001b[49m\u001b[43m \u001b[49m\u001b[43m[\u001b[49m\u001b[43m]\u001b[49m\u001b[43m,\u001b[49m\u001b[43m \u001b[49m\u001b[43mtimeout\u001b[49m\u001b[43m)\u001b[49m\n\u001b[0;32m    325\u001b[0m \u001b[38;5;28;01mexcept\u001b[39;00m \u001b[38;5;167;01mInterruptedError\u001b[39;00m:\n\u001b[0;32m    326\u001b[0m     \u001b[38;5;28;01mreturn\u001b[39;00m ready\n",
      "File \u001b[1;32mC:\\ProgramData\\anaconda3\\lib\\selectors.py:315\u001b[0m, in \u001b[0;36mSelectSelector._select\u001b[1;34m(self, r, w, _, timeout)\u001b[0m\n\u001b[0;32m    314\u001b[0m \u001b[38;5;28;01mdef\u001b[39;00m \u001b[38;5;21m_select\u001b[39m(\u001b[38;5;28mself\u001b[39m, r, w, _, timeout\u001b[38;5;241m=\u001b[39m\u001b[38;5;28;01mNone\u001b[39;00m):\n\u001b[1;32m--> 315\u001b[0m     r, w, x \u001b[38;5;241m=\u001b[39m \u001b[43mselect\u001b[49m\u001b[38;5;241;43m.\u001b[39;49m\u001b[43mselect\u001b[49m\u001b[43m(\u001b[49m\u001b[43mr\u001b[49m\u001b[43m,\u001b[49m\u001b[43m \u001b[49m\u001b[43mw\u001b[49m\u001b[43m,\u001b[49m\u001b[43m \u001b[49m\u001b[43mw\u001b[49m\u001b[43m,\u001b[49m\u001b[43m \u001b[49m\u001b[43mtimeout\u001b[49m\u001b[43m)\u001b[49m\n\u001b[0;32m    316\u001b[0m     \u001b[38;5;28;01mreturn\u001b[39;00m r, w \u001b[38;5;241m+\u001b[39m x, []\n",
      "\u001b[1;31mKeyboardInterrupt\u001b[0m: "
     ]
    }
   ],
   "source": [
    "import struct\n",
    "import datetime\n",
    "\n",
    "\n",
    "class MyScanner:\n",
    "    def __init__(self):\n",
    "        self._scanner = BleakScanner()\n",
    "        self._scanner.register_detection_callback(self.detection_callback)\n",
    "        self.scanning = asyncio.Event()\n",
    "        self.address = None\n",
    "        self.service_uuids = None\n",
    "        self.service_uuid = None\n",
    "\n",
    "    def detection_callback(self, device, advertisement_data):\n",
    "        if device.name is not None:\n",
    "            if device.name == NAME: # device.name.startswith('TD_'):\n",
    "                print(\"Device %s (%s), RSSI=%d dB\" % (device.address, device.name, device.rssi), device.metadata['uuids'], datetime.datetime.now())\n",
    "                self.address = device.address\n",
    "                self.service_uuids = device.metadata['uuids']\n",
    "                if self.service_uuids is not None:\n",
    "                    self.service_uuid = [uuid for uuid in self.service_uuids if uuid.startswith(SERVICE_UUID_PART)][0]\n",
    "                adv_decrypt(advertisement_data.manufacturer_data[3862])\n",
    "                \n",
    "                index = df.index[df['Device Name'] == device.name][0]\n",
    "                if df.at[index, 'Address'] is None:   \n",
    "                    df.at[index, 'Address'] = device.address\n",
    "                if df.at[index, 'RSSI'] is None:   \n",
    "                    df.at[index, 'RSSI'] = device.rssi\n",
    "                if df.at[index, 'UUIDs'] is None and self.service_uuid is not None:   \n",
    "                    df.at[index, 'UUIDs'] = self.service_uuid\n",
    "\n",
    "    async def run(self):\n",
    "        await self._scanner.start()\n",
    "        self.scanning.set()\n",
    "        end_time = loop.time() + timeout\n",
    "        while self.scanning.is_set():\n",
    "            if loop.time() > end_time:\n",
    "                self.scanning.clear()\n",
    "                print('\\t\\tScan has timed out so we terminate')\n",
    "            await asyncio.sleep(0.1)\n",
    "        await self._scanner.stop()\n",
    "\n",
    "    def get_address(self):\n",
    "        return self.address\n",
    "\n",
    "    def get_service_uuid(self):\n",
    "        return self.service_uuid\n",
    "\n",
    "\n",
    "if __name__ == '__main__':\n",
    "    my_scanner = MyScanner()\n",
    "    loop = asyncio.get_event_loop()\n",
    "    loop.run_until_complete(my_scanner.run())\n",
    "    address = my_scanner.get_address()\n",
    "    service_uuid = my_scanner.get_service_uuid()"
   ]
  },
  {
   "cell_type": "code",
   "execution_count": 14,
   "id": "80809b35",
   "metadata": {},
   "outputs": [
    {
     "data": {
      "text/html": [
       "<div>\n",
       "<style scoped>\n",
       "    .dataframe tbody tr th:only-of-type {\n",
       "        vertical-align: middle;\n",
       "    }\n",
       "\n",
       "    .dataframe tbody tr th {\n",
       "        vertical-align: top;\n",
       "    }\n",
       "\n",
       "    .dataframe thead th {\n",
       "        text-align: right;\n",
       "    }\n",
       "</style>\n",
       "<table border=\"1\" class=\"dataframe\">\n",
       "  <thead>\n",
       "    <tr style=\"text-align: right;\">\n",
       "      <th></th>\n",
       "      <th>Device Name</th>\n",
       "      <th>Address</th>\n",
       "      <th>RSSI</th>\n",
       "      <th>UUIDs</th>\n",
       "    </tr>\n",
       "  </thead>\n",
       "  <tbody>\n",
       "    <tr>\n",
       "      <th>0</th>\n",
       "      <td>TH_100001</td>\n",
       "      <td>D8:2D:BB:A0:8B:4C</td>\n",
       "      <td>-34</td>\n",
       "      <td>6e400001-b5a3-f393-e0a9-f5eeddc186a1</td>\n",
       "    </tr>\n",
       "    <tr>\n",
       "      <th>1</th>\n",
       "      <td>TH_100002</td>\n",
       "      <td>None</td>\n",
       "      <td>None</td>\n",
       "      <td>None</td>\n",
       "    </tr>\n",
       "  </tbody>\n",
       "</table>\n",
       "</div>"
      ],
      "text/plain": [
       "  Device Name            Address  RSSI                                 UUIDs\n",
       "0   TH_100001  D8:2D:BB:A0:8B:4C   -34  6e400001-b5a3-f393-e0a9-f5eeddc186a1\n",
       "1   TH_100002               None  None                                  None"
      ]
     },
     "execution_count": 14,
     "metadata": {},
     "output_type": "execute_result"
    }
   ],
   "source": [
    "df"
   ]
  },
  {
   "cell_type": "code",
   "execution_count": 15,
   "id": "a8d9f0c2",
   "metadata": {},
   "outputs": [
    {
     "data": {
      "text/plain": [
       "'D5:B9:D6:8F:85:6B'"
      ]
     },
     "execution_count": 15,
     "metadata": {},
     "output_type": "execute_result"
    }
   ],
   "source": [
    "address"
   ]
  },
  {
   "cell_type": "code",
   "execution_count": 21,
   "id": "31b7e211",
   "metadata": {},
   "outputs": [],
   "source": [
    "service_uuid = '6e400001-b5a3-f393-e0a9-f5eeddc186a1'"
   ]
  },
  {
   "cell_type": "code",
   "execution_count": 22,
   "id": "3da60704",
   "metadata": {},
   "outputs": [],
   "source": [
    "uniq_uuid_part = service_uuid.split('-')[-1]"
   ]
  },
  {
   "cell_type": "code",
   "execution_count": 23,
   "id": "41b0cb56",
   "metadata": {},
   "outputs": [
    {
     "data": {
      "text/plain": [
       "'f5eeddc186a1'"
      ]
     },
     "execution_count": 23,
     "metadata": {},
     "output_type": "execute_result"
    }
   ],
   "source": [
    "uniq_uuid_part"
   ]
  },
  {
   "cell_type": "code",
   "execution_count": 24,
   "id": "eea89a8b",
   "metadata": {},
   "outputs": [],
   "source": [
    "rx_uuid = RX_UUID_PART + uniq_uuid_part"
   ]
  },
  {
   "cell_type": "code",
   "execution_count": 25,
   "id": "33618998",
   "metadata": {},
   "outputs": [
    {
     "data": {
      "text/plain": [
       "'6e400003-b5a3-f393-e0a9-f5eeddc186a1'"
      ]
     },
     "execution_count": 25,
     "metadata": {},
     "output_type": "execute_result"
    }
   ],
   "source": [
    "rx_uuid"
   ]
  },
  {
   "cell_type": "code",
   "execution_count": 26,
   "id": "afc0ddb9",
   "metadata": {},
   "outputs": [],
   "source": [
    "tx_uuid = TX_UUID_PART + uniq_uuid_part"
   ]
  },
  {
   "cell_type": "code",
   "execution_count": 27,
   "id": "c99bf2b8",
   "metadata": {},
   "outputs": [
    {
     "data": {
      "text/plain": [
       "'6e400002-b5a3-f393-e0a9-f5eeddc186a1'"
      ]
     },
     "execution_count": 27,
     "metadata": {},
     "output_type": "execute_result"
    }
   ],
   "source": [
    "tx_uuid"
   ]
  },
  {
   "cell_type": "code",
   "execution_count": 30,
   "id": "3dabb298",
   "metadata": {},
   "outputs": [
    {
     "name": "stderr",
     "output_type": "stream",
     "text": [
      "C:\\Users\\Dukalis\\AppData\\Local\\Temp\\ipykernel_8652\\4150707179.py:9: FutureWarning: This method will be removed future version, use the services property instead.\n",
      "  services = await client.get_services()\n"
     ]
    },
    {
     "name": "stdout",
     "output_type": "stream",
     "text": [
      "00001800-0000-1000-8000-00805f9b34fb (Handle: 1): Generic Access Profile\n",
      "00001801-0000-1000-8000-00805f9b34fb (Handle: 10): Generic Attribute Profile\n",
      "6e400001-b5a3-f393-e0a9-f5eeddc186a1 (Handle: 11): Unknown\n",
      "WTIRE: b'GD\\r' on TX_char\n",
      "Received notification from RX_char: bytearray(b'AGD,UT:2:26.89,UP:1:0,LM:1:0,U')\n",
      "Received notification from RX_char: bytearray(b'H:2:36.11,HS:1:0,DI1:1:0,DI2:1')\n",
      "Received notification from RX_char: bytearray(b':0\\r')\n"
     ]
    }
   ],
   "source": [
    "import asyncio\n",
    "from bleak import BleakClient\n",
    "\n",
    "MESSAGE = b\"GD\\r\"\n",
    "\n",
    "async def client():\n",
    "    async with BleakClient(address, timeout=40) as client:\n",
    "        # Connect to the device and discover the services and characteristics\n",
    "        services = await client.get_services()\n",
    "        \n",
    "\n",
    "        # Find the RX and TX characteristics\n",
    "        rx_char, tx_char = None, None  # обнуляем переменные\n",
    "        for service in services:\n",
    "            print(service)\n",
    "            if service.uuid == service_uuid:\n",
    "                for characteristic in service.characteristics:\n",
    "\n",
    "                    if characteristic.uuid == rx_uuid:\n",
    "                        rx_char = characteristic\n",
    "\n",
    "                    elif characteristic.uuid == tx_uuid:\n",
    "                        tx_char = characteristic\n",
    "                        \n",
    "        # Subscribe to notifications for the RX characteristic\n",
    "        await client.start_notify(rx_char.handle, callback)\n",
    "                        \n",
    "        # Записываем сообщение в TX характеристику \n",
    "        await client.write_gatt_char(tx_char.handle, MESSAGE)\n",
    "        print(f'WTIRE: {MESSAGE} on TX_char')\n",
    "\n",
    "        # Stop receiving notifications\n",
    "        await client.stop_notify(rx_char.handle)\n",
    "\n",
    "async def callback(sender: int, data: bytearray):\n",
    "    print(f'Received notification from RX_char: {data}')\n",
    "\n",
    "loop = asyncio.get_event_loop()\n",
    "loop.run_until_complete(client())"
   ]
  },
  {
   "cell_type": "code",
   "execution_count": null,
   "id": "6e87f670",
   "metadata": {},
   "outputs": [],
   "source": []
  },
  {
   "cell_type": "code",
   "execution_count": null,
   "id": "98f9639c",
   "metadata": {},
   "outputs": [],
   "source": []
  },
  {
   "cell_type": "code",
   "execution_count": null,
   "id": "992ac8a9",
   "metadata": {},
   "outputs": [],
   "source": []
  },
  {
   "cell_type": "code",
   "execution_count": null,
   "id": "730ca3b8",
   "metadata": {},
   "outputs": [],
   "source": []
  },
  {
   "cell_type": "code",
   "execution_count": null,
   "id": "df968b6e",
   "metadata": {},
   "outputs": [],
   "source": []
  },
  {
   "cell_type": "code",
   "execution_count": null,
   "id": "ecce4293",
   "metadata": {},
   "outputs": [],
   "source": []
  },
  {
   "cell_type": "code",
   "execution_count": null,
   "id": "b487d47e",
   "metadata": {},
   "outputs": [],
   "source": []
  },
  {
   "cell_type": "code",
   "execution_count": null,
   "id": "c8f0d3a8",
   "metadata": {},
   "outputs": [],
   "source": []
  },
  {
   "cell_type": "code",
   "execution_count": null,
   "id": "501973fe",
   "metadata": {},
   "outputs": [],
   "source": []
  },
  {
   "cell_type": "code",
   "execution_count": null,
   "id": "bcd7e8f5",
   "metadata": {},
   "outputs": [],
   "source": []
  },
  {
   "cell_type": "code",
   "execution_count": null,
   "id": "00abcaff",
   "metadata": {},
   "outputs": [],
   "source": []
  },
  {
   "cell_type": "code",
   "execution_count": null,
   "id": "34ae8ac8",
   "metadata": {},
   "outputs": [],
   "source": []
  },
  {
   "cell_type": "code",
   "execution_count": 9,
   "id": "a4b76777",
   "metadata": {},
   "outputs": [],
   "source": [
    "async def main():\n",
    "\n",
    "    # TODO: add something that calls stop_event.set()\n",
    "\n",
    "    def callback(device, advertising_data):\n",
    "        if device.name is not None and device.name.startswith('TD_'):\n",
    "            print(datetime.datetime.now())\n",
    "            print(\"Device %s (%s), RSSI=%d dB\" % (device.address, device.name, device.rssi))\n",
    "            print('UUIDs', device.metadata['uuids'])\n",
    "            data = device.metadata['manufacturer_data'][3862]\n",
    "            advertising_data_decrypt(data)\n",
    "            index = df.index[df['Device Name'] == device.name][0]\n",
    "            if df.at[index, 'Address'] is None:   \n",
    "                df.at[index, 'Address'] = device.address\n",
    "            if df.at[index, 'RSSI'] is None:   \n",
    "                df.at[index, 'RSSI'] = device.rssi\n",
    "            if df.at[index, 'UUIDs'] is None:   \n",
    "                df.at[index, 'UUIDs'] = device.metadata['uuids']\n",
    "\n",
    "            \n",
    "            pass\n",
    "\n",
    "    async with BleakScanner(callback) as scanner:\n",
    "        ...\n",
    "        # Important! Wait for an event to trigger stop, otherwise scanner\n",
    "        # will stop immediately.\n",
    "\n",
    "    # scanner stops when block exits\n",
    "    ...\n",
    "\n",
    "asyncio.run(main())"
   ]
  },
  {
   "cell_type": "code",
   "execution_count": 10,
   "id": "90a454bd",
   "metadata": {},
   "outputs": [
    {
     "name": "stderr",
     "output_type": "stream",
     "text": [
      "C:\\Users\\IgorMitrofanov\\AppData\\Local\\Temp\\ipykernel_9380\\2969391970.py:20: FutureWarning: This method will be removed in a future version of Bleak. Use the detection_callback of the BleakScanner constructor instead.\n",
      "  scanner.register_detection_callback(detection_callback)\n"
     ]
    }
   ],
   "source": [
    "import asyncio\n",
    "import struct\n",
    "\n",
    "from bleak import BleakScanner\n",
    "\n",
    "timeout_seconds = 10\n",
    "address_to_look_for = 'masked'\n",
    "service_id_to_look_for = 'masked'\n",
    "\n",
    "def detection_callback(device, advertisement_data):\n",
    "    if device.address == address_to_look_for:\n",
    "        byte_data = advertisement_data.service_data.get(service_id_to_look_for)\n",
    "        num_to_test = struct.unpack_from('<I', byte_data, 0)\n",
    "        if num_to_test == 1:\n",
    "            print('here we want to terminate')\n",
    "        \n",
    "\n",
    "async def run():\n",
    "    scanner = BleakScanner()\n",
    "    scanner.register_detection_callback(detection_callback)\n",
    "    await scanner.start()\n",
    "    await asyncio.sleep(timeout_seconds)\n",
    "    await scanner.stop()\n",
    "\n",
    "if __name__=='__main__':    \n",
    "    loop = asyncio.get_event_loop()\n",
    "    loop.run_until_complete(run())"
   ]
  },
  {
   "cell_type": "code",
   "execution_count": 2,
   "id": "f2eaf33e",
   "metadata": {},
   "outputs": [],
   "source": [
    "timeout_seconds = 30"
   ]
  },
  {
   "cell_type": "code",
   "execution_count": 51,
   "id": "ab205815",
   "metadata": {},
   "outputs": [
    {
     "name": "stderr",
     "output_type": "stream",
     "text": [
      "C:\\Users\\IgorMitrofanov\\AppData\\Local\\Temp\\ipykernel_7660\\3069723581.py:9: FutureWarning: This method will be removed in a future version of Bleak. Use the detection_callback of the BleakScanner constructor instead.\n",
      "  self._scanner.register_detection_callback(self.detection_callback)\n",
      "C:\\Users\\IgorMitrofanov\\AppData\\Local\\Temp\\ipykernel_7660\\3069723581.py:13: FutureWarning: BLEDevice.rssi is deprecated and will be removed in a future version of Bleak, use AdvertisementData.rssi instead\n",
      "  print(\"Device %s (%s), RSSI=%d dB\" % (device.address, device.name, device.rssi), device.metadata['uuids'], datetime.datetime.now())\n",
      "C:\\Users\\IgorMitrofanov\\AppData\\Local\\Temp\\ipykernel_7660\\3069723581.py:13: FutureWarning: BLEDevice.metadata is deprecated and will be removed in a future version of Bleak, use AdvertisementData instead\n",
      "  print(\"Device %s (%s), RSSI=%d dB\" % (device.address, device.name, device.rssi), device.metadata['uuids'], datetime.datetime.now())\n"
     ]
    },
    {
     "name": "stdout",
     "output_type": "stream",
     "text": [
      "Device 5D:CD:C9:28:4B:77 (None), RSSI=-72 dB [] 2023-05-25 22:14:29.936859\n",
      "Device 5D:CD:C9:28:4B:77 (None), RSSI=-72 dB [] 2023-05-25 22:14:29.937860\n",
      "Device 5D:CD:C9:28:4B:77 (None), RSSI=-86 dB [] 2023-05-25 22:14:30.206863\n",
      "Device 5D:CD:C9:28:4B:77 (None), RSSI=-85 dB [] 2023-05-25 22:14:30.207863\n",
      "Device 75:09:28:38:2D:18 (None), RSSI=-89 dB [] 2023-05-25 22:14:31.243341\n",
      "Device 75:09:28:38:2D:18 (None), RSSI=-80 dB [] 2023-05-25 22:14:32.184342\n",
      "Device 5D:CD:C9:28:4B:77 (None), RSSI=-81 dB [] 2023-05-25 22:14:33.501842\n",
      "Device DA:08:6F:5D:87:40 (None), RSSI=-44 dB [] 2023-05-25 22:14:35.276840\n",
      "Device 75:09:28:38:2D:18 (None), RSSI=-84 dB [] 2023-05-25 22:14:36.454846\n",
      "Device 5D:CD:C9:28:4B:77 (None), RSSI=-83 dB [] 2023-05-25 22:14:37.029840\n",
      "Device 5D:CD:C9:28:4B:77 (None), RSSI=-83 dB [] 2023-05-25 22:14:37.031341\n",
      "Device 40:34:39:16:03:01 (None), RSSI=-85 dB [] 2023-05-25 22:14:38.328842\n",
      "Device 75:09:28:38:2D:18 (None), RSSI=-82 dB [] 2023-05-25 22:14:38.682342\n",
      "Device DA:08:6F:5D:87:40 (None), RSSI=-46 dB [] 2023-05-25 22:14:39.287166\n",
      "Device 54:48:E6:6E:78:FA (None), RSSI=-80 dB [] 2023-05-25 22:14:39.869342\n",
      "Device D8:2D:BB:A0:8B:4C (TH_100001), RSSI=-61 dB [] 2023-05-25 22:14:40.219340\n",
      "Температура: 31.1 градусов Цельсия\n",
      "Освещенность: 0 люкс\n",
      "Влажность: 32.4%\n",
      "Период опроса датчиков: 60 секунд\n",
      "Датчик атмосферного давления включен\n",
      "Датчик освещенности включен\n",
      "Напряжение батареи: 3.5 В\n",
      "Версия прошивки: 108\n",
      "Device D8:2D:BB:A0:8B:4C (TH_100001), RSSI=-61 dB ['6e400001-b5a3-f393-e0a9-f5eeddc186a1'] 2023-05-25 22:14:40.220841\n",
      "Температура: 31.1 градусов Цельсия\n",
      "Освещенность: 0 люкс\n",
      "Влажность: 32.4%\n",
      "Период опроса датчиков: 60 секунд\n",
      "Датчик атмосферного давления включен\n",
      "Датчик освещенности включен\n",
      "Напряжение батареи: 3.5 В\n",
      "Версия прошивки: 108\n",
      "Device 3E:03:EF:DD:49:2A (None), RSSI=-84 dB [] 2023-05-25 22:14:40.822343\n",
      "Device 75:09:28:38:2D:18 (None), RSSI=-85 dB [] 2023-05-25 22:14:40.937231\n",
      "Device DA:08:6F:5D:87:40 (None), RSSI=-46 dB [] 2023-05-25 22:14:45.292842\n",
      "Device D8:2D:BB:A0:8B:4C (TH_100001), RSSI=-60 dB ['6e400001-b5a3-f393-e0a9-f5eeddc186a1'] 2023-05-25 22:14:46.248944\n",
      "Температура: 31.1 градусов Цельсия\n",
      "Освещенность: 0 люкс\n",
      "Влажность: 32.4%\n",
      "Период опроса датчиков: 60 секунд\n",
      "Датчик атмосферного давления включен\n",
      "Датчик освещенности включен\n",
      "Напряжение батареи: 3.5 В\n",
      "Версия прошивки: 108\n",
      "Device D8:2D:BB:A0:8B:4C (TH_100001), RSSI=-60 dB ['6e400001-b5a3-f393-e0a9-f5eeddc186a1'] 2023-05-25 22:14:46.249945\n",
      "Температура: 31.1 градусов Цельсия\n",
      "Освещенность: 0 люкс\n",
      "Влажность: 32.4%\n",
      "Период опроса датчиков: 60 секунд\n",
      "Датчик атмосферного давления включен\n",
      "Датчик освещенности включен\n",
      "Напряжение батареи: 3.5 В\n",
      "Версия прошивки: 108\n",
      "Device 05:B5:8B:7A:77:15 (None), RSSI=-85 dB [] 2023-05-25 22:14:51.084342\n",
      "Device 7C:91:4D:BB:2F:D5 (None), RSSI=-85 dB [] 2023-05-25 22:14:55.347842\n",
      "\t\tScan has timed out so we terminate\n"
     ]
    }
   ],
   "source": [
    "import struct\n",
    "import datetime\n",
    "\n",
    "\n",
    "\n",
    "class MyScanner:\n",
    "    def __init__(self):\n",
    "        self._scanner = BleakScanner()\n",
    "        self._scanner.register_detection_callback(self.detection_callback)\n",
    "        self.scanning = asyncio.Event()\n",
    "\n",
    "    def detection_callback(self, device, advertisement_data):\n",
    "        print(\"Device %s (%s), RSSI=%d dB\" % (device.address, device.name, device.rssi), device.metadata['uuids'], datetime.datetime.now())\n",
    "        if device.name == 'TH_100001':\n",
    "            adv_decrypt(advertisement_data.manufacturer_data[3862])\n",
    "    async def run(self):\n",
    "        await self._scanner.start()\n",
    "        self.scanning.set()\n",
    "        end_time = loop.time() + timeout_seconds\n",
    "        while self.scanning.is_set():\n",
    "            if loop.time() > end_time:\n",
    "                self.scanning.clear()\n",
    "                print('\\t\\tScan has timed out so we terminate')\n",
    "            await asyncio.sleep(0.1)\n",
    "        await self._scanner.stop()\n",
    "\n",
    "\n",
    "if __name__ == '__main__':\n",
    "    my_scanner = MyScanner()\n",
    "    loop = asyncio.get_event_loop()\n",
    "    devices = loop.run_until_complete(my_scanner.run())"
   ]
  },
  {
   "cell_type": "code",
   "execution_count": 32,
   "id": "392943e0",
   "metadata": {},
   "outputs": [],
   "source": [
    "devices"
   ]
  },
  {
   "cell_type": "code",
   "execution_count": 20,
   "id": "a2e0109c",
   "metadata": {},
   "outputs": [],
   "source": [
    "ADDRESS = 'D8:2D:BB:A0:8B:4C'"
   ]
  },
  {
   "cell_type": "code",
   "execution_count": 21,
   "id": "95f7b467",
   "metadata": {},
   "outputs": [],
   "source": [
    "NAME = 'TH_100001'"
   ]
  },
  {
   "cell_type": "code",
   "execution_count": 22,
   "id": "523b20c7",
   "metadata": {},
   "outputs": [],
   "source": [
    "SERVICE_UUID = '6e400001-b5a3-f393-e0a9-f5eeddc186a1'"
   ]
  },
  {
   "cell_type": "code",
   "execution_count": 24,
   "id": "4dcbd866",
   "metadata": {},
   "outputs": [],
   "source": [
    "RX_UUID = '6e400002-b5a3-f393-e0a9-f5eeddc186a1'"
   ]
  },
  {
   "cell_type": "code",
   "execution_count": 25,
   "id": "132432ff",
   "metadata": {},
   "outputs": [],
   "source": [
    "TX_UUID = '6e400003-b5a3-f393-e0a9-f5eeddc186a1'"
   ]
  },
  {
   "cell_type": "code",
   "execution_count": 67,
   "id": "8abffb0e",
   "metadata": {},
   "outputs": [
    {
     "ename": "BleakError",
     "evalue": "Could not get GATT characteristics for <_bleak_winrt_Windows_Devices_Bluetooth_GenericAttributeProfile.GattDeviceService object at 0x000001705C9619D0>: Access Denied",
     "output_type": "error",
     "traceback": [
      "\u001b[1;31m---------------------------------------------------------------------------\u001b[0m",
      "\u001b[1;31mBleakError\u001b[0m                                Traceback (most recent call last)",
      "Cell \u001b[1;32mIn[67], line 35\u001b[0m\n\u001b[0;32m     33\u001b[0m \u001b[38;5;28;01mif\u001b[39;00m \u001b[38;5;18m__name__\u001b[39m \u001b[38;5;241m==\u001b[39m \u001b[38;5;124m\"\u001b[39m\u001b[38;5;124m__main__\u001b[39m\u001b[38;5;124m\"\u001b[39m:\n\u001b[0;32m     34\u001b[0m     loop \u001b[38;5;241m=\u001b[39m asyncio\u001b[38;5;241m.\u001b[39mget_event_loop()\n\u001b[1;32m---> 35\u001b[0m     \u001b[43mloop\u001b[49m\u001b[38;5;241;43m.\u001b[39;49m\u001b[43mrun_until_complete\u001b[49m\u001b[43m(\u001b[49m\u001b[43mrun\u001b[49m\u001b[43m(\u001b[49m\u001b[43m)\u001b[49m\u001b[43m)\u001b[49m\n",
      "File \u001b[1;32m~\\anaconda3\\lib\\site-packages\\nest_asyncio.py:90\u001b[0m, in \u001b[0;36m_patch_loop.<locals>.run_until_complete\u001b[1;34m(self, future)\u001b[0m\n\u001b[0;32m     87\u001b[0m \u001b[38;5;28;01mif\u001b[39;00m \u001b[38;5;129;01mnot\u001b[39;00m f\u001b[38;5;241m.\u001b[39mdone():\n\u001b[0;32m     88\u001b[0m     \u001b[38;5;28;01mraise\u001b[39;00m \u001b[38;5;167;01mRuntimeError\u001b[39;00m(\n\u001b[0;32m     89\u001b[0m         \u001b[38;5;124m'\u001b[39m\u001b[38;5;124mEvent loop stopped before Future completed.\u001b[39m\u001b[38;5;124m'\u001b[39m)\n\u001b[1;32m---> 90\u001b[0m \u001b[38;5;28;01mreturn\u001b[39;00m \u001b[43mf\u001b[49m\u001b[38;5;241;43m.\u001b[39;49m\u001b[43mresult\u001b[49m\u001b[43m(\u001b[49m\u001b[43m)\u001b[49m\n",
      "File \u001b[1;32m~\\anaconda3\\lib\\asyncio\\futures.py:201\u001b[0m, in \u001b[0;36mFuture.result\u001b[1;34m(self)\u001b[0m\n\u001b[0;32m    199\u001b[0m \u001b[38;5;28mself\u001b[39m\u001b[38;5;241m.\u001b[39m__log_traceback \u001b[38;5;241m=\u001b[39m \u001b[38;5;28;01mFalse\u001b[39;00m\n\u001b[0;32m    200\u001b[0m \u001b[38;5;28;01mif\u001b[39;00m \u001b[38;5;28mself\u001b[39m\u001b[38;5;241m.\u001b[39m_exception \u001b[38;5;129;01mis\u001b[39;00m \u001b[38;5;129;01mnot\u001b[39;00m \u001b[38;5;28;01mNone\u001b[39;00m:\n\u001b[1;32m--> 201\u001b[0m     \u001b[38;5;28;01mraise\u001b[39;00m \u001b[38;5;28mself\u001b[39m\u001b[38;5;241m.\u001b[39m_exception\u001b[38;5;241m.\u001b[39mwith_traceback(\u001b[38;5;28mself\u001b[39m\u001b[38;5;241m.\u001b[39m_exception_tb)\n\u001b[0;32m    202\u001b[0m \u001b[38;5;28;01mreturn\u001b[39;00m \u001b[38;5;28mself\u001b[39m\u001b[38;5;241m.\u001b[39m_result\n",
      "File \u001b[1;32m~\\anaconda3\\lib\\asyncio\\tasks.py:232\u001b[0m, in \u001b[0;36mTask.__step\u001b[1;34m(***failed resolving arguments***)\u001b[0m\n\u001b[0;32m    228\u001b[0m \u001b[38;5;28;01mtry\u001b[39;00m:\n\u001b[0;32m    229\u001b[0m     \u001b[38;5;28;01mif\u001b[39;00m exc \u001b[38;5;129;01mis\u001b[39;00m \u001b[38;5;28;01mNone\u001b[39;00m:\n\u001b[0;32m    230\u001b[0m         \u001b[38;5;66;03m# We use the `send` method directly, because coroutines\u001b[39;00m\n\u001b[0;32m    231\u001b[0m         \u001b[38;5;66;03m# don't have `__iter__` and `__next__` methods.\u001b[39;00m\n\u001b[1;32m--> 232\u001b[0m         result \u001b[38;5;241m=\u001b[39m \u001b[43mcoro\u001b[49m\u001b[38;5;241;43m.\u001b[39;49m\u001b[43msend\u001b[49m\u001b[43m(\u001b[49m\u001b[38;5;28;43;01mNone\u001b[39;49;00m\u001b[43m)\u001b[49m\n\u001b[0;32m    233\u001b[0m     \u001b[38;5;28;01melse\u001b[39;00m:\n\u001b[0;32m    234\u001b[0m         result \u001b[38;5;241m=\u001b[39m coro\u001b[38;5;241m.\u001b[39mthrow(exc)\n",
      "Cell \u001b[1;32mIn[67], line 7\u001b[0m, in \u001b[0;36mrun\u001b[1;34m()\u001b[0m\n\u001b[0;32m      6\u001b[0m \u001b[38;5;28;01masync\u001b[39;00m \u001b[38;5;28;01mdef\u001b[39;00m \u001b[38;5;21mrun\u001b[39m():\n\u001b[1;32m----> 7\u001b[0m     \u001b[38;5;28;01masync\u001b[39;00m \u001b[38;5;28;01mwith\u001b[39;00m BleakClient(ADDRESS, timeout\u001b[38;5;241m=\u001b[39m\u001b[38;5;241m40\u001b[39m) \u001b[38;5;28;01mas\u001b[39;00m client:\n\u001b[0;32m      8\u001b[0m         \u001b[38;5;66;03m# Connect to the device and discover the services and characteristics\u001b[39;00m\n\u001b[0;32m      9\u001b[0m         \u001b[38;5;28;01mawait\u001b[39;00m client\u001b[38;5;241m.\u001b[39mconnect()\n\u001b[0;32m     10\u001b[0m         services \u001b[38;5;241m=\u001b[39m \u001b[38;5;28;01mawait\u001b[39;00m client\u001b[38;5;241m.\u001b[39mget_services()\n",
      "File \u001b[1;32m~\\anaconda3\\lib\\site-packages\\bleak\\__init__.py:491\u001b[0m, in \u001b[0;36mBleakClient.__aenter__\u001b[1;34m(self)\u001b[0m\n\u001b[0;32m    490\u001b[0m \u001b[38;5;28;01masync\u001b[39;00m \u001b[38;5;28;01mdef\u001b[39;00m \u001b[38;5;21m__aenter__\u001b[39m(\u001b[38;5;28mself\u001b[39m):\n\u001b[1;32m--> 491\u001b[0m     \u001b[38;5;28;01mawait\u001b[39;00m \u001b[38;5;28mself\u001b[39m\u001b[38;5;241m.\u001b[39mconnect()\n\u001b[0;32m    492\u001b[0m     \u001b[38;5;28;01mreturn\u001b[39;00m \u001b[38;5;28mself\u001b[39m\n",
      "File \u001b[1;32m~\\anaconda3\\lib\\site-packages\\bleak\\__init__.py:531\u001b[0m, in \u001b[0;36mBleakClient.connect\u001b[1;34m(self, **kwargs)\u001b[0m\n\u001b[0;32m    521\u001b[0m \u001b[38;5;28;01masync\u001b[39;00m \u001b[38;5;28;01mdef\u001b[39;00m \u001b[38;5;21mconnect\u001b[39m(\u001b[38;5;28mself\u001b[39m, \u001b[38;5;241m*\u001b[39m\u001b[38;5;241m*\u001b[39mkwargs) \u001b[38;5;241m-\u001b[39m\u001b[38;5;241m>\u001b[39m \u001b[38;5;28mbool\u001b[39m:\n\u001b[0;32m    522\u001b[0m     \u001b[38;5;124;03m\"\"\"Connect to the specified GATT server.\u001b[39;00m\n\u001b[0;32m    523\u001b[0m \n\u001b[0;32m    524\u001b[0m \u001b[38;5;124;03m    Args:\u001b[39;00m\n\u001b[1;32m   (...)\u001b[0m\n\u001b[0;32m    529\u001b[0m \n\u001b[0;32m    530\u001b[0m \u001b[38;5;124;03m    \"\"\"\u001b[39;00m\n\u001b[1;32m--> 531\u001b[0m     \u001b[38;5;28;01mreturn\u001b[39;00m \u001b[38;5;28;01mawait\u001b[39;00m \u001b[38;5;28mself\u001b[39m\u001b[38;5;241m.\u001b[39m_backend\u001b[38;5;241m.\u001b[39mconnect(\u001b[38;5;241m*\u001b[39m\u001b[38;5;241m*\u001b[39mkwargs)\n",
      "File \u001b[1;32m~\\anaconda3\\lib\\site-packages\\bleak\\backends\\winrt\\client.py:440\u001b[0m, in \u001b[0;36mBleakClientWinRT.connect\u001b[1;34m(self, **kwargs)\u001b[0m\n\u001b[0;32m    438\u001b[0m                 \u001b[38;5;28;01mpass\u001b[39;00m\n\u001b[0;32m    439\u001b[0m     \u001b[38;5;28;01melse\u001b[39;00m:\n\u001b[1;32m--> 440\u001b[0m         \u001b[38;5;28mself\u001b[39m\u001b[38;5;241m.\u001b[39mservices \u001b[38;5;241m=\u001b[39m \u001b[38;5;28;01mawait\u001b[39;00m \u001b[38;5;28mself\u001b[39m\u001b[38;5;241m.\u001b[39mget_services(\n\u001b[0;32m    441\u001b[0m             service_cache_mode\u001b[38;5;241m=\u001b[39mservice_cache_mode,\n\u001b[0;32m    442\u001b[0m             cache_mode\u001b[38;5;241m=\u001b[39mcache_mode,\n\u001b[0;32m    443\u001b[0m         )\n\u001b[0;32m    445\u001b[0m \u001b[38;5;66;03m# a connection may not be made until we request info from the\u001b[39;00m\n\u001b[0;32m    446\u001b[0m \u001b[38;5;66;03m# device, so we have to get services before the GATT session\u001b[39;00m\n\u001b[0;32m    447\u001b[0m \u001b[38;5;66;03m# is set to active\u001b[39;00m\n\u001b[0;32m    448\u001b[0m \u001b[38;5;28;01mawait\u001b[39;00m event\u001b[38;5;241m.\u001b[39mwait()\n",
      "File \u001b[1;32m~\\anaconda3\\lib\\site-packages\\bleak\\backends\\winrt\\client.py:706\u001b[0m, in \u001b[0;36mBleakClientWinRT.get_services\u001b[1;34m(self, service_cache_mode, cache_mode, **kwargs)\u001b[0m\n\u001b[0;32m    702\u001b[0m new_services\u001b[38;5;241m.\u001b[39madd_service(BleakGATTServiceWinRT(service))\n\u001b[0;32m    704\u001b[0m logger\u001b[38;5;241m.\u001b[39mdebug(\u001b[38;5;124m\"\u001b[39m\u001b[38;5;124mcalling get_characteristics_async\u001b[39m\u001b[38;5;124m\"\u001b[39m)\n\u001b[1;32m--> 706\u001b[0m characteristics: Sequence[GattCharacteristic] \u001b[38;5;241m=\u001b[39m \u001b[43m_ensure_success\u001b[49m\u001b[43m(\u001b[49m\n\u001b[0;32m    707\u001b[0m \u001b[43m    \u001b[49m\u001b[38;5;28;43;01mawait\u001b[39;49;00m\u001b[43m \u001b[49m\u001b[43mFutureLike\u001b[49m\u001b[43m(\u001b[49m\u001b[43mservice\u001b[49m\u001b[38;5;241;43m.\u001b[39;49m\u001b[43mget_characteristics_async\u001b[49m\u001b[43m(\u001b[49m\u001b[38;5;241;43m*\u001b[39;49m\u001b[43margs\u001b[49m\u001b[43m)\u001b[49m\u001b[43m)\u001b[49m\u001b[43m,\u001b[49m\n\u001b[0;32m    708\u001b[0m \u001b[43m    \u001b[49m\u001b[38;5;124;43m\"\u001b[39;49m\u001b[38;5;124;43mcharacteristics\u001b[39;49m\u001b[38;5;124;43m\"\u001b[39;49m\u001b[43m,\u001b[49m\n\u001b[0;32m    709\u001b[0m \u001b[43m    \u001b[49m\u001b[38;5;124;43mf\u001b[39;49m\u001b[38;5;124;43m\"\u001b[39;49m\u001b[38;5;124;43mCould not get GATT characteristics for \u001b[39;49m\u001b[38;5;132;43;01m{\u001b[39;49;00m\u001b[43mservice\u001b[49m\u001b[38;5;132;43;01m}\u001b[39;49;00m\u001b[38;5;124;43m\"\u001b[39;49m\u001b[43m,\u001b[49m\n\u001b[0;32m    710\u001b[0m \u001b[43m\u001b[49m\u001b[43m)\u001b[49m\n\u001b[0;32m    712\u001b[0m logger\u001b[38;5;241m.\u001b[39mdebug(\u001b[38;5;124m\"\u001b[39m\u001b[38;5;124mreturned from get_characteristics_async\u001b[39m\u001b[38;5;124m\"\u001b[39m)\n\u001b[0;32m    714\u001b[0m \u001b[38;5;28;01mfor\u001b[39;00m characteristic \u001b[38;5;129;01min\u001b[39;00m characteristics:\n",
      "File \u001b[1;32m~\\anaconda3\\lib\\site-packages\\bleak\\backends\\winrt\\client.py:120\u001b[0m, in \u001b[0;36m_ensure_success\u001b[1;34m(result, attr, fail_msg)\u001b[0m\n\u001b[0;32m    115\u001b[0m     \u001b[38;5;28;01mraise\u001b[39;00m BleakError(\n\u001b[0;32m    116\u001b[0m         \u001b[38;5;124mf\u001b[39m\u001b[38;5;124m\"\u001b[39m\u001b[38;5;132;01m{\u001b[39;00mfail_msg\u001b[38;5;132;01m}\u001b[39;00m\u001b[38;5;124m: Protocol Error 0x\u001b[39m\u001b[38;5;132;01m{\u001b[39;00mresult\u001b[38;5;241m.\u001b[39mprotocol_error\u001b[38;5;132;01m:\u001b[39;00m\u001b[38;5;124m02X\u001b[39m\u001b[38;5;132;01m}\u001b[39;00m\u001b[38;5;124m: \u001b[39m\u001b[38;5;132;01m{\u001b[39;00merr\u001b[38;5;132;01m}\u001b[39;00m\u001b[38;5;124m\"\u001b[39m\n\u001b[0;32m    117\u001b[0m     )\n\u001b[0;32m    119\u001b[0m \u001b[38;5;28;01mif\u001b[39;00m status \u001b[38;5;241m==\u001b[39m GattCommunicationStatus\u001b[38;5;241m.\u001b[39mACCESS_DENIED:\n\u001b[1;32m--> 120\u001b[0m     \u001b[38;5;28;01mraise\u001b[39;00m BleakError(\u001b[38;5;124mf\u001b[39m\u001b[38;5;124m\"\u001b[39m\u001b[38;5;132;01m{\u001b[39;00mfail_msg\u001b[38;5;132;01m}\u001b[39;00m\u001b[38;5;124m: Access Denied\u001b[39m\u001b[38;5;124m\"\u001b[39m)\n\u001b[0;32m    122\u001b[0m \u001b[38;5;28;01mif\u001b[39;00m status \u001b[38;5;241m==\u001b[39m GattCommunicationStatus\u001b[38;5;241m.\u001b[39mUNREACHABLE:\n\u001b[0;32m    123\u001b[0m     \u001b[38;5;28;01mraise\u001b[39;00m BleakError(\u001b[38;5;124mf\u001b[39m\u001b[38;5;124m\"\u001b[39m\u001b[38;5;132;01m{\u001b[39;00mfail_msg\u001b[38;5;132;01m}\u001b[39;00m\u001b[38;5;124m: Unreachable\u001b[39m\u001b[38;5;124m\"\u001b[39m)\n",
      "\u001b[1;31mBleakError\u001b[0m: Could not get GATT characteristics for <_bleak_winrt_Windows_Devices_Bluetooth_GenericAttributeProfile.GattDeviceService object at 0x000001705C9619D0>: Access Denied"
     ]
    }
   ],
   "source": [
    "import asyncio\n",
    "from bleak import BleakClient\n",
    "\n",
    "MESSAGE = b\"Hello world! \\n\"\n",
    "\n",
    "async def run():\n",
    "    async with BleakClient(ADDRESS, timeout=40) as client:\n",
    "        # Connect to the device and discover the services and characteristics\n",
    "        await client.connect()\n",
    "        services = await client.get_services()\n",
    "        print(\"Services:\", services)\n",
    "\n",
    "        # Find the RX and TX characteristics\n",
    "        for service in services:\n",
    "            print(service)\n",
    "            if service.uuid == SERVICE_UUID:\n",
    "                for characteristic in service.characteristics:\n",
    "                    if characteristic.uuid == RX_UUID:\n",
    "                        rx_char = characteristic\n",
    "                    elif characteristic.uuid == TX_UUID:\n",
    "                        tx_char = characteristic\n",
    "\n",
    "        # Write the message to the RX characteristic\n",
    "        await client.write_gatt_char(tx_char.handle, MESSAGE)\n",
    "\n",
    "        # Read the response from the TX characteristic\n",
    "        response = await client.read_gatt_char(rx_char.handle)\n",
    "        print(\"Response:\", response)\n",
    "\n",
    "        # Disconnect from the device\n",
    "        await client.disconnect()\n",
    "\n",
    "if __name__ == \"__main__\":\n",
    "    loop = asyncio.get_event_loop()\n",
    "    loop.run_until_complete(run())"
   ]
  },
  {
   "cell_type": "code",
   "execution_count": null,
   "id": "6fde9185",
   "metadata": {},
   "outputs": [],
   "source": [
    "async def discover_services_and_handles(device_address):\n",
    "    async with BleakClient(device_address, timeout=40) as client:\n",
    "        services = await client.get_services()\n",
    "\n",
    "        for service in services:\n",
    "            print(f\"Service: {service}\")\n",
    "          #  for characteristic in service.characteristics:\n",
    "           #     print(f\"Could not get GATT characteristics for {service.uuid} ({service})\")\n",
    "\n",
    "\n",
    "asyncio.run(discover_services_and_handles(ADDRESS))"
   ]
  },
  {
   "cell_type": "code",
   "execution_count": null,
   "id": "06249ef5",
   "metadata": {},
   "outputs": [],
   "source": [
    "     if device.address == address_to_look_for:\n",
    "            byte_data = advertisement_data.service_data.get(service_id_to_look_for)\n",
    "            num_to_test, = struct.unpack_from('<I', byte_data, 0)\n",
    "            if num_to_test == 62976:\n",
    "                print('\\t\\tDevice found so we terminate')\n",
    "                self.scanning.clear()"
   ]
  }
 ],
 "metadata": {
  "kernelspec": {
   "display_name": "Python 3 (ipykernel)",
   "language": "python",
   "name": "python3"
  },
  "language_info": {
   "codemirror_mode": {
    "name": "ipython",
    "version": 3
   },
   "file_extension": ".py",
   "mimetype": "text/x-python",
   "name": "python",
   "nbconvert_exporter": "python",
   "pygments_lexer": "ipython3",
   "version": "3.10.9"
  }
 },
 "nbformat": 4,
 "nbformat_minor": 5
}
