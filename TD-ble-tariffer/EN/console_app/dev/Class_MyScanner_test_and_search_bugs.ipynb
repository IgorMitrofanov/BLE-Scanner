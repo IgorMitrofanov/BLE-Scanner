{
 "cells": [
  {
   "cell_type": "code",
   "execution_count": 2,
   "id": "cbdd935d",
   "metadata": {},
   "outputs": [],
   "source": [
    "import numpy as np\n",
    "import pandas as pd\n",
    "import asyncio\n",
    "import struct\n",
    "import nest_asyncio\n",
    "import bleak\n",
    "from bleak import BleakScanner, BleakClient\n",
    "from bleak.exc import BleakError\n",
    "nest_asyncio.apply()\n",
    "import re\n",
    "from tqdm import tqdm\n",
    "from queue import Queue"
   ]
  },
  {
   "cell_type": "code",
   "execution_count": 2,
   "id": "54aa1784",
   "metadata": {},
   "outputs": [],
   "source": [
    "class DataCollector:\n",
    "    def __init__(self, start_serial, end_serial):\n",
    "        self.start_serial = start_serial\n",
    "        self.end_serial = end_serial\n",
    "        self.device_names = [\"TD_\" + str(i) for i in range(start_serial, end_serial+1)]\n",
    "        self.start_len = len(self.device_names)\n",
    "        self.df = pd.DataFrame({'Name': self.device_names, \n",
    "                                'MAC': [None] * len(self.device_names),\n",
    "                                'RSSI': [None] * len(self.device_names),\n",
    "                                'Oil Level' : [None] * len(self.device_names),\n",
    "                                'Temperature': [None] * len(self.device_names),\n",
    "                                'Battery Voltage': [None] * len(self.device_names),\n",
    "                                'HK': [None] * len(self.device_names),\n",
    "                                'LK': [None] * len(self.device_names)})\n",
    "        \n",
    "    def update_MAC(self, name, address):\n",
    "        index = self.df.index[self.df['Name'] == name][0]\n",
    "       # if self.df.at[index, 'MAC'] is None:   \n",
    "        self.df.at[index, 'MAC'] = address\n",
    "            \n",
    "    def update_RSSI(self, name, RSSI):\n",
    "        index = self.df.index[self.df['Name'] == name][0]\n",
    "       # if self.df.at[index, 'RSSI'] is None:   \n",
    "        self.df.at[index, 'RSSI'] = RSSI\n",
    "            \n",
    "    def update_oil_level(self, name, oil_level_raw):\n",
    "        index = self.df.index[self.df['Name'] == name][0]\n",
    "       # if self.df.at[index, 'Oil Level'] is None:   \n",
    "        self.df.at[index, 'Oil Level'] = oil_level_raw\n",
    "            \n",
    "    def update_temp(self, name, TD_temp_raw):\n",
    "        index = self.df.index[self.df['Name'] == name][0]\n",
    "       # if self.df.at[index, 'Temperature'] is None:   \n",
    "        self.df.at[index, 'Temperature'] = TD_temp_raw\n",
    "            \n",
    "    def update_battery_voltage(self, name, battery_voltage):\n",
    "        index = self.df.index[self.df['Name'] == name][0]\n",
    "        # if self.df.at[index, 'Battery Voltage'] is None:   \n",
    "        self.df.at[index, 'Battery Voltage'] = battery_voltage\n",
    "            \n",
    "    def update_HK(self, name, hk):\n",
    "        index = self.df.index[self.df['Name'] == name][0]\n",
    "       # if self.df.at[index, 'HK'] is None:   \n",
    "        self.df.at[index, 'HK'] = hk\n",
    "            \n",
    "    def update_LK(self, name, lk):\n",
    "        index = self.df.index[self.df['Name'] == name][0]\n",
    "       # if self.df.at[index, 'LK'] is None:   \n",
    "        self.df.at[index, 'LK'] = lk\n",
    "            \n",
    "    def get_dataframe(self):\n",
    "        return self.df"
   ]
  },
  {
   "cell_type": "code",
   "execution_count": 3,
   "id": "7a86715b",
   "metadata": {},
   "outputs": [],
   "source": [
    "class MyScanner:\n",
    "    def __init__(self, timeout, start_serial, end_serial):\n",
    "        self._scanner = BleakScanner(detection_callback=self.detection_callback)\n",
    "        self.scanning = asyncio.Event()\n",
    "        self.timeout = timeout\n",
    "        self.dc = DataCollector(start_serial, end_serial)\n",
    "        self.queue_devices_to_connect = Queue()\n",
    "\n",
    "    def detection_callback(self, device, advertisement_data):\n",
    "        try:\n",
    "            if device.name in self.dc.device_names: \n",
    "                \n",
    "                \n",
    "                self.queue_devices_to_connect.put(device)\n",
    "            \n",
    "                self.dc.device_names.remove(device.name)\n",
    "            \n",
    "                print(f'found device with name: {device.name} {self.dc.start_len-len(self.dc.device_names)}/{self.dc.start_len}')\n",
    "                self.dc.update_MAC(device.name, device.address)\n",
    "                self.dc.update_RSSI(device.name, advertisement_data.rssi)\n",
    "            \n",
    "                oil_level_raw, battery_voltage, TD_temp_raw = adv_decrypt(advertisement_data.manufacturer_data[3862])\n",
    "                self.dc.update_oil_level(device.name, oil_level_raw)\n",
    "                self.dc.update_battery_voltage(device.name, battery_voltage)\n",
    "                self.dc.update_temp(device.name, TD_temp_raw)\n",
    "        except Exception as e:\n",
    "            print(f\"Error in callback (scanner): {e}\")\n",
    "            \n",
    "    async def run(self):\n",
    "        try:\n",
    "            print(f'\\t\\tStarted scanning with {self.timeout} seconds timeout...')\n",
    "            async with self._scanner:\n",
    "                await self._scanner.start()\n",
    "                self.scanning.set()\n",
    "                end_time = loop.time() + self.timeout\n",
    "            while self.scanning.is_set():\n",
    "                if loop.time() > end_time:\n",
    "                    self.scanning.clear()\n",
    "                    print(f\"\\t\\tScan has timed out so we terminate.\")\n",
    "                    if len(self.dc.device_names) == 0:\n",
    "                        print('All devices have been found.')\n",
    "                    else:\n",
    "                        print(f\"Can't founded devices ({len(self.dc.device_names)*100/self.dc.start_len:2f}%) : {self.dc.device_names}\")\n",
    "                        retry = input(\"Would you like to retry search? (y/n) \")\n",
    "                        if retry.lower() == \"y\":\n",
    "                            change_timeout = input('Would you like change timeout? (y/n) ')\n",
    "                            if change_timeout.lower() == \"y\":\n",
    "                                self.timeout = int(input('Timeout seconds (int): '))\n",
    "                                await self.run()\n",
    "                            else:\n",
    "                                await self.run()\n",
    "                        else:\n",
    "                            return\n",
    "                await asyncio.sleep(0.1)\n",
    "            await self._scanner.stop()\n",
    "        except Exception as e:\n",
    "            print(f\"Error in run (scanner): {e}\")\n",
    "            \n",
    "    def get_dataframe(self):\n",
    "        return self.dc.get_dataframe()\n",
    "    \n",
    "    def queue_connection(self):\n",
    "        print(f'\\t\\tStarted connecting and sending data for queue of devices...')\n",
    "        while not self.queue_devices_to_connect.empty():\n",
    "            print('Devices in queue:', self.queue_devices_to_connect.queue)\n",
    "            device = self.queue_devices_to_connect.get()\n",
    "            assistant = BleakClientAssistant(device)\n",
    "            hk, lk = assistant.run(b\"GA\\r\")\n",
    "            self.dc.update_HK(device.name, hk)\n",
    "            self.dc.update_LK(device.name, lk)"
   ]
  },
  {
   "cell_type": "code",
   "execution_count": 5,
   "id": "71e32720",
   "metadata": {},
   "outputs": [
    {
     "name": "stdout",
     "output_type": "stream",
     "text": [
      "\t\tStarted scanning with 10 seconds timeout...\n",
      "\t\tScan has timed out so we terminate.\n",
      "Can't founded devices (100.000000%) : ['TD_383448', 'TD_383449']\n",
      "Would you like to retry search? (y/n) n\n",
      "CPU times: total: 46.9 ms\n",
      "Wall time: 13 s\n"
     ]
    }
   ],
   "source": [
    "%%time\n",
    "my_scanner = MyScanner(timeout=10, start_serial=383448, end_serial=383449)\n",
    "loop = asyncio.get_event_loop()\n",
    "loop.run_until_complete(my_scanner.run())"
   ]
  },
  {
   "cell_type": "code",
   "execution_count": 7,
   "id": "0441e1c2",
   "metadata": {},
   "outputs": [
    {
     "name": "stdout",
     "output_type": "stream",
     "text": [
      "\t\tStarted scanning with 10 seconds timeout...\n",
      "\t\tScan has timed out so we terminate.\n",
      "Can't founded devices (100.000000%) : ['TD_383448', 'TD_383449']\n",
      "Would you like to retry search? (y/n) y\n",
      "Would you like change timeout? (y/n) n\n",
      "\t\tStarted scanning with 10 seconds timeout...\n",
      "\t\tScan has timed out so we terminate.\n",
      "Can't founded devices (100.000000%) : ['TD_383448', 'TD_383449']\n",
      "Would you like to retry search? (y/n) n\n",
      "Error in run (scanner): 'NoneType' object has no attribute 'stop'\n",
      "CPU times: total: 0 ns\n",
      "Wall time: 29.5 s\n"
     ]
    }
   ],
   "source": [
    "%%time\n",
    "my_scanner = MyScanner(timeout=10, start_serial=383448, end_serial=383449)\n",
    "loop = asyncio.get_event_loop()\n",
    "asyncio.run(my_scanner.run())"
   ]
  },
  {
   "cell_type": "code",
   "execution_count": 9,
   "id": "65f7490f",
   "metadata": {},
   "outputs": [
    {
     "data": {
      "text/plain": [
       "True"
      ]
     },
     "execution_count": 9,
     "metadata": {},
     "output_type": "execute_result"
    }
   ],
   "source": [
    "loop.is_running()"
   ]
  },
  {
   "cell_type": "code",
   "execution_count": 14,
   "id": "e03f78a7",
   "metadata": {},
   "outputs": [
    {
     "data": {
      "text/plain": [
       "False"
      ]
     },
     "execution_count": 14,
     "metadata": {},
     "output_type": "execute_result"
    }
   ],
   "source": [
    "my_scanner.scanning.is_set()"
   ]
  },
  {
   "cell_type": "code",
   "execution_count": null,
   "id": "ba697f35",
   "metadata": {},
   "outputs": [],
   "source": []
  }
 ],
 "metadata": {
  "kernelspec": {
   "display_name": "Python 3 (ipykernel)",
   "language": "python",
   "name": "python3"
  },
  "language_info": {
   "codemirror_mode": {
    "name": "ipython",
    "version": 3
   },
   "file_extension": ".py",
   "mimetype": "text/x-python",
   "name": "python",
   "nbconvert_exporter": "python",
   "pygments_lexer": "ipython3",
   "version": "3.10.9"
  }
 },
 "nbformat": 4,
 "nbformat_minor": 5
}
