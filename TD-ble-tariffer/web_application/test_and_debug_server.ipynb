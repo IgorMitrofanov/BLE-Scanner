{
 "cells": [
  {
   "cell_type": "code",
   "execution_count": 1,
   "id": "31da0b97",
   "metadata": {},
   "outputs": [],
   "source": [
    "from flask import Flask, render_template, request, redirect, url_for\n",
    "import pandas as pd\n",
    "import time\n",
    "import numpy \n",
    "import asyncio\n",
    "import struct\n",
    "import datetime\n",
    "import nest_asyncio\n",
    "import bleak\n",
    "from bleak import BleakScanner, BleakClient"
   ]
  },
  {
   "cell_type": "code",
   "execution_count": 2,
   "id": "49c04e23",
   "metadata": {},
   "outputs": [],
   "source": [
    "app = Flask(__name__)"
   ]
  },
  {
   "cell_type": "code",
   "execution_count": 3,
   "id": "6f8f09b7",
   "metadata": {},
   "outputs": [],
   "source": [
    "def adv_decrypt(data):\n",
    "    # Расшифровка уровня топлива\n",
    "    oil_level_raw = int.from_bytes(data[1:3], byteorder='little', signed=False)\n",
    "    print(f\"Уровень топлива: {oil_level_raw}\")\n",
    "\n",
    "    # Расшифровка напряжения встроенной батареи\n",
    "    battery_voltage_raw = int.from_bytes(data[3:4], byteorder='little', signed=False)\n",
    "    battery_voltage = battery_voltage_raw / 10.0\n",
    "    print(f\"Напряжение встроенной батареи: {battery_voltage} В\")\n",
    "\n",
    "    # Расшифровка температуры\n",
    "    TD_temp_raw = int.from_bytes(data[4:5], byteorder='little', signed=True)\n",
    "    print(f\"Температура: {TD_temp_raw} Градус Цельсия\")\n",
    "\n",
    "    return oil_level_raw, battery_voltage, TD_temp_raw"
   ]
  },
  {
   "cell_type": "code",
   "execution_count": 4,
   "id": "2e8e4a17",
   "metadata": {},
   "outputs": [],
   "source": [
    "class MyScanner:\n",
    "    def __init__(self, timeout, start_serial, end_serial):\n",
    "        self._scanner = BleakScanner(detection_callback=self.detection_callback)\n",
    "        self.scanning = asyncio.Event()\n",
    "        self.address = None\n",
    "        self.timeout = timeout\n",
    "        self.start_serial = start_serial\n",
    "        self.end_serial = end_serial\n",
    "        self.device_names = [\"TD_\" + str(i) for i in range(start_serial, end_serial+1)]\n",
    "        self.df = pd.DataFrame({'Name': self.device_names, \n",
    "                                'MAC': [None] * len(self.device_names),\n",
    "                                'RSSI': [None] * len(self.device_names),\n",
    "                                'O-L' : [None] * len(self.device_names),\n",
    "                                'T': [None] * len(self.device_names),\n",
    "                                'B-W': [None] * len(self.device_names),\n",
    "                                'HK': [None] * len(self.device_names),\n",
    "                                'LK': [None] * len(self.device_names)})\n",
    "\n",
    "        \n",
    "\n",
    "    def detection_callback(self, device, advertisement_data):\n",
    "        if device.name in self.device_names: \n",
    "            index = self.df.index[df['Name'] == device.name][0]\n",
    "            if self.df.at[index, 'MAC'] is None:   \n",
    "                self.df.at[index, 'MAC'] = device.address\n",
    "            if self. df.at[index, 'RSSI'] is None:   \n",
    "                self.df.at[index, 'RSSI'] = advertisement_data.rssi\n",
    "            oil_level_raw, battery_voltage, TD_temp_raw = adv_decrypt(advertisement_data.manufacturer_data[3862])\n",
    "            if self. df.at[index, 'O-L'] is None:   \n",
    "                self.df.at[index, 'O-L'] = oil_level_raw\n",
    "            if self. df.at[index, 'B-W'] is None:   \n",
    "                self.df.at[index, 'B-W'] = battery_voltage   \n",
    "            if self. df.at[index, 'T'] is None:   \n",
    "                self.df.at[index, 'T'] = TD_temp_raw   \n",
    "            \n",
    "    async def run(self):\n",
    "        await self._scanner.start()\n",
    "        self.scanning.set()\n",
    "        end_time = loop.time() + self.timeout\n",
    "        while self.scanning.is_set():\n",
    "            if loop.time() > end_time:\n",
    "                self.scanning.clear()\n",
    "                print('\\t\\tScan has timed out so we terminate')\n",
    "            await asyncio.sleep(0.1)\n",
    "        await self._scanner.stop()\n",
    "\n",
    "    def get_address(self):\n",
    "        return self.address\n",
    "    def get_df(self):\n",
    "        return self.df"
   ]
  },
  {
   "cell_type": "code",
   "execution_count": 5,
   "id": "b6317ad1",
   "metadata": {},
   "outputs": [
    {
     "name": "stdout",
     "output_type": "stream",
     "text": [
      " * Serving Flask app '__main__'\n",
      " * Debug mode: off\n"
     ]
    },
    {
     "name": "stderr",
     "output_type": "stream",
     "text": [
      "WARNING: This is a development server. Do not use it in a production deployment. Use a production WSGI server instead.\n",
      " * Running on http://127.0.0.1:5000\n",
      "Press CTRL+C to quit\n",
      "127.0.0.1 - - [29/May/2023 15:56:48] \"GET / HTTP/1.1\" 200 -\n"
     ]
    }
   ],
   "source": [
    "@app.route('/')\n",
    "def index():\n",
    "    return render_template('index.html')\n",
    "\n",
    "@app.route('/scan', methods=['POST'])\n",
    "def scan():\n",
    "    my_scanner = MyScanner()\n",
    "    loop = asyncio.get_event_loop()\n",
    "    timeout = int(request.form['timeout'])\n",
    "    start_serial = int(request.form['start_serial'])\n",
    "    end_serial = int(request.form['end_serial'])\n",
    "    loop.run_until_complete(my_scanner.run(timeout, start_serial, end_serial))\n",
    "    address = my_scanner.get_address()\n",
    "    df = my_scanner.get_df()\n",
    "\n",
    "    return render_template('scan.html', df=df)\n",
    "\n",
    "@app.route('/report', methods=['POST'])\n",
    "def report():\n",
    "    df = pd.read_json(request.form['data'])\n",
    "    filename = 'report.xlsx'\n",
    "    df.to_excel(filename, index=False)\n",
    "    return redirect(url_for('index'))\n",
    "\n",
    "if __name__ == '__main__':\n",
    "    app.run(debug=False)"
   ]
  },
  {
   "cell_type": "code",
   "execution_count": null,
   "id": "250cd72d",
   "metadata": {},
   "outputs": [],
   "source": [
    "my_scanner = MyScanner()\n",
    "loop = asyncio.get_event_loop()\n",
    "loop.run_until_complete(my_scanner.run())\n",
    "address = my_scanner.get_address()"
   ]
  }
 ],
 "metadata": {
  "kernelspec": {
   "display_name": "Python 3 (ipykernel)",
   "language": "python",
   "name": "python3"
  },
  "language_info": {
   "codemirror_mode": {
    "name": "ipython",
    "version": 3
   },
   "file_extension": ".py",
   "mimetype": "text/x-python",
   "name": "python",
   "nbconvert_exporter": "python",
   "pygments_lexer": "ipython3",
   "version": "3.10.9"
  }
 },
 "nbformat": 4,
 "nbformat_minor": 5
}
