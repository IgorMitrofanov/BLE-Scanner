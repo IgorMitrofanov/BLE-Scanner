{
 "cells": [
  {
   "cell_type": "code",
   "execution_count": 1,
   "id": "88eda71b",
   "metadata": {},
   "outputs": [],
   "source": [
    "import numpy \n",
    "import pandas\n",
    "\n",
    "import nest_asyncio\n",
    "import asyncio\n",
    "\n",
    "import bleak\n",
    "from bleak import BleakScanner, BleakClient\n",
    "\n",
    "nest_asyncio.apply()"
   ]
  },
  {
   "cell_type": "code",
   "execution_count": 2,
   "id": "215fce1d",
   "metadata": {},
   "outputs": [],
   "source": [
    "def adv_decrypt(data):\n",
    "    # Расшифровка уровня топлива\n",
    "    oil_level_raw = int.from_bytes(data[1:3], byteorder='little', signed=False)\n",
    "    print(f\"Уровень топлива: {oil_level_raw}\")\n",
    "\n",
    "    # Расшифровка напряжения встроенной батареи\n",
    "    battery_voltage_raw = int.from_bytes(data[3:4], byteorder='little', signed=False)\n",
    "    battery_voltage = battery_voltage_raw / 10.0\n",
    "    print(f\"Напряжение встроенной батареи: {battery_voltage} В\")\n",
    "\n",
    "    # Расшифровка температуры\n",
    "    TD_temp_raw = int.from_bytes(data[4:5], byteorder='little', signed=True)\n",
    "    print(f\"Температура: {TD_temp_raw} Градус Цельсия\")\n",
    "\n",
    "    # Расшифровка версии прошивки\n",
    "    TD_version_raw = int.from_bytes(data[5:6], byteorder='little', signed=False)\n",
    "    print(f\"Версия прошивки: {TD_version_raw}\")\n",
    "                    \n",
    "    # Расшифровка периода (непосредственно измеренный параметр)\n",
    "    TD_period_param = int.from_bytes(data[6:10], byteorder='little', signed=False)\n",
    "    print(f\"Период: {TD_period_param} \")\n",
    "\n",
    "    # Расшифровка режима работы\n",
    "    TD_mode_raw = int.from_bytes(data[10:11], byteorder='little', signed=False)\n",
    "    TD_range = (TD_mode_raw & 0b11110000)\n",
    "    if TD_range & 0x80:\n",
    "        print(\"Диапазон датчика 4095\")\n",
    "    if TD_range & 0b00000000:\n",
    "         print(\"Диапазон датчика 1024\")\n",
    "\n",
    "    TD_flags = (TD_mode_raw & 0b00001111)\n",
    "    if TD_flags & 0b00000000:\n",
    "        print(\"Обычный алгоритм расчета\")\n",
    "    if TD_flags & 0b00000001:\n",
    "        print(\"Алгоритм расчета с тарировочной таблицей\")\n",
    "\n",
    "      # Расшифровка сглаживания и термокомпенсации\n",
    "    TD_smoth_and_copm_raw = int.from_bytes(data[11:12], byteorder='little', signed=False)\n",
    "    TD_therm_compensation = (TD_smoth_and_copm_raw & 0b11110000)\n",
    "    if TD_therm_compensation & 0x80:\n",
    "         print(\"Термокомпенсация выключена\")\n",
    "    if TD_therm_compensation & 0b00000000:\n",
    "          print(\"Термокомпенсация включена\")\n",
    "\n",
    "    TD_smoothing = TD_smoth_and_copm_raw & 0x0F\n",
    "    print(f'Сглаживание: {TD_smoothing}')"
   ]
  },
  {
   "cell_type": "code",
   "execution_count": 3,
   "id": "f2eaf33e",
   "metadata": {},
   "outputs": [],
   "source": [
    "timeout_seconds = 60"
   ]
  },
  {
   "cell_type": "code",
   "execution_count": 4,
   "id": "95f7b467",
   "metadata": {},
   "outputs": [],
   "source": [
    "NAME = 'TD_383449'"
   ]
  },
  {
   "cell_type": "code",
   "execution_count": 5,
   "id": "ab205815",
   "metadata": {
    "scrolled": false
   },
   "outputs": [
    {
     "name": "stderr",
     "output_type": "stream",
     "text": [
      "C:\\Users\\Dukalis\\AppData\\Local\\Temp\\ipykernel_8944\\1427519126.py:9: FutureWarning: This method will be removed in a future version of Bleak. Use the detection_callback of the BleakScanner constructor instead.\n",
      "  self._scanner.register_detection_callback(self.detection_callback)\n",
      "C:\\Users\\Dukalis\\AppData\\Local\\Temp\\ipykernel_8944\\1427519126.py:15: FutureWarning: BLEDevice.rssi is deprecated and will be removed in a future version of Bleak, use AdvertisementData.rssi instead\n",
      "  print(\"Device %s (%s), RSSI=%d dB\" % (device.address, device.name, device.rssi), device.metadata['uuids'], datetime.datetime.now())\n",
      "C:\\Users\\Dukalis\\AppData\\Local\\Temp\\ipykernel_8944\\1427519126.py:15: FutureWarning: BLEDevice.metadata is deprecated and will be removed in a future version of Bleak, use AdvertisementData instead\n",
      "  print(\"Device %s (%s), RSSI=%d dB\" % (device.address, device.name, device.rssi), device.metadata['uuids'], datetime.datetime.now())\n"
     ]
    },
    {
     "name": "stdout",
     "output_type": "stream",
     "text": [
      "Device E2:F1:F3:8C:E1:45 (TD_383449), RSSI=-40 dB [] 2023-05-26 15:02:12.169303\n",
      "Уровень топлива: 1\n",
      "Напряжение встроенной батареи: 3.7 В\n",
      "Температура: 23 Градус Цельсия\n",
      "Версия прошивки: 141\n",
      "Период: 30511 \n",
      "Термокомпенсация выключена\n",
      "Сглаживание: 0\n",
      "Device E2:F1:F3:8C:E1:45 (TD_383449), RSSI=-36 dB [] 2023-05-26 15:03:00.224145\n",
      "Уровень топлива: 1\n",
      "Напряжение встроенной батареи: 3.7 В\n",
      "Температура: 23 Градус Цельсия\n",
      "Версия прошивки: 141\n",
      "Период: 30511 \n",
      "Термокомпенсация выключена\n",
      "Сглаживание: 0\n",
      "\t\tScan has timed out so we terminate\n"
     ]
    }
   ],
   "source": [
    "import struct\n",
    "import datetime\n",
    "\n",
    "\n",
    "\n",
    "class MyScanner:\n",
    "    def __init__(self):\n",
    "        self._scanner = BleakScanner()\n",
    "        self._scanner.register_detection_callback(self.detection_callback)\n",
    "        self.scanning = asyncio.Event()\n",
    "\n",
    "    def detection_callback(self, device, advertisement_data):\n",
    "        if device.name is not None:\n",
    "            if device.name == NAME: # device.name.startswith('TD_'):\n",
    "                print(\"Device %s (%s), RSSI=%d dB\" % (device.address, device.name, device.rssi), device.metadata['uuids'], datetime.datetime.now())\n",
    "                adv_decrypt(advertisement_data.manufacturer_data[3862])\n",
    "    async def run(self):\n",
    "        await self._scanner.start()\n",
    "        self.scanning.set()\n",
    "        end_time = loop.time() + timeout_seconds\n",
    "        while self.scanning.is_set():\n",
    "            if loop.time() > end_time:\n",
    "                self.scanning.clear()\n",
    "                print('\\t\\tScan has timed out so we terminate')\n",
    "            await asyncio.sleep(0.1)\n",
    "        await self._scanner.stop()\n",
    "\n",
    "\n",
    "if __name__ == '__main__':\n",
    "    my_scanner = MyScanner()\n",
    "    loop = asyncio.get_event_loop()\n",
    "    loop.run_until_complete(my_scanner.run())"
   ]
  },
  {
   "cell_type": "code",
   "execution_count": 6,
   "id": "a2e0109c",
   "metadata": {},
   "outputs": [],
   "source": [
    "ADDRESS = 'E2:F1:F3:8C:E1:45'"
   ]
  },
  {
   "cell_type": "code",
   "execution_count": 7,
   "id": "523b20c7",
   "metadata": {},
   "outputs": [],
   "source": [
    "SERVICE_UUID = '6e400001-b5a3-f393-e0a9-ffeeddc5d9d9'"
   ]
  },
  {
   "cell_type": "code",
   "execution_count": 8,
   "id": "3da60704",
   "metadata": {},
   "outputs": [],
   "source": [
    "uniq_uuid_part = SERVICE_UUID.split('-')[-1]"
   ]
  },
  {
   "cell_type": "code",
   "execution_count": 9,
   "id": "132432ff",
   "metadata": {},
   "outputs": [],
   "source": [
    "RX_UUID_part = '6e400003-b5a3-f393-e0a9-'"
   ]
  },
  {
   "cell_type": "code",
   "execution_count": 10,
   "id": "4dcbd866",
   "metadata": {},
   "outputs": [],
   "source": [
    "TX_UUID_part = '6e400002-b5a3-f393-e0a9-'"
   ]
  },
  {
   "cell_type": "code",
   "execution_count": 11,
   "id": "84a8151a",
   "metadata": {},
   "outputs": [],
   "source": [
    "RX_UUID = RX_UUID_part + uniq_uuid_part"
   ]
  },
  {
   "cell_type": "code",
   "execution_count": 12,
   "id": "65cf4872",
   "metadata": {},
   "outputs": [
    {
     "data": {
      "text/plain": [
       "'6e400003-b5a3-f393-e0a9-ffeeddc5d9d9'"
      ]
     },
     "execution_count": 12,
     "metadata": {},
     "output_type": "execute_result"
    }
   ],
   "source": [
    "RX_UUID"
   ]
  },
  {
   "cell_type": "code",
   "execution_count": 13,
   "id": "92edf970",
   "metadata": {},
   "outputs": [],
   "source": [
    "TX_UUID = TX_UUID_part + uniq_uuid_part"
   ]
  },
  {
   "cell_type": "code",
   "execution_count": 14,
   "id": "723d33c0",
   "metadata": {},
   "outputs": [
    {
     "data": {
      "text/plain": [
       "'6e400002-b5a3-f393-e0a9-ffeeddc5d9d9'"
      ]
     },
     "execution_count": 14,
     "metadata": {},
     "output_type": "execute_result"
    }
   ],
   "source": [
    "TX_UUID"
   ]
  },
  {
   "cell_type": "code",
   "execution_count": 21,
   "id": "8abffb0e",
   "metadata": {},
   "outputs": [
    {
     "ename": "BleakError",
     "evalue": "Could not get GATT services: Unreachable",
     "output_type": "error",
     "traceback": [
      "\u001b[1;31m---------------------------------------------------------------------------\u001b[0m",
      "\u001b[1;31mBleakError\u001b[0m                                Traceback (most recent call last)",
      "Cell \u001b[1;32mIn[21], line 41\u001b[0m\n\u001b[0;32m     38\u001b[0m     \u001b[38;5;28mprint\u001b[39m(\u001b[38;5;124mf\u001b[39m\u001b[38;5;124m'\u001b[39m\u001b[38;5;124mReceived notification from RX_char: \u001b[39m\u001b[38;5;132;01m{\u001b[39;00mdata\u001b[38;5;132;01m}\u001b[39;00m\u001b[38;5;124m'\u001b[39m)\n\u001b[0;32m     40\u001b[0m loop \u001b[38;5;241m=\u001b[39m asyncio\u001b[38;5;241m.\u001b[39mget_event_loop()\n\u001b[1;32m---> 41\u001b[0m \u001b[43mloop\u001b[49m\u001b[38;5;241;43m.\u001b[39;49m\u001b[43mrun_until_complete\u001b[49m\u001b[43m(\u001b[49m\u001b[43mclient\u001b[49m\u001b[43m(\u001b[49m\u001b[43m)\u001b[49m\u001b[43m)\u001b[49m\n",
      "File \u001b[1;32m~\\AppData\\Local\\Programs\\Python\\Python311\\Lib\\site-packages\\nest_asyncio.py:90\u001b[0m, in \u001b[0;36m_patch_loop.<locals>.run_until_complete\u001b[1;34m(self, future)\u001b[0m\n\u001b[0;32m     87\u001b[0m \u001b[38;5;28;01mif\u001b[39;00m \u001b[38;5;129;01mnot\u001b[39;00m f\u001b[38;5;241m.\u001b[39mdone():\n\u001b[0;32m     88\u001b[0m     \u001b[38;5;28;01mraise\u001b[39;00m \u001b[38;5;167;01mRuntimeError\u001b[39;00m(\n\u001b[0;32m     89\u001b[0m         \u001b[38;5;124m'\u001b[39m\u001b[38;5;124mEvent loop stopped before Future completed.\u001b[39m\u001b[38;5;124m'\u001b[39m)\n\u001b[1;32m---> 90\u001b[0m \u001b[38;5;28;01mreturn\u001b[39;00m \u001b[43mf\u001b[49m\u001b[38;5;241;43m.\u001b[39;49m\u001b[43mresult\u001b[49m\u001b[43m(\u001b[49m\u001b[43m)\u001b[49m\n",
      "File \u001b[1;32m~\\AppData\\Local\\Programs\\Python\\Python311\\Lib\\asyncio\\futures.py:203\u001b[0m, in \u001b[0;36mFuture.result\u001b[1;34m(self)\u001b[0m\n\u001b[0;32m    201\u001b[0m \u001b[38;5;28mself\u001b[39m\u001b[38;5;241m.\u001b[39m__log_traceback \u001b[38;5;241m=\u001b[39m \u001b[38;5;28;01mFalse\u001b[39;00m\n\u001b[0;32m    202\u001b[0m \u001b[38;5;28;01mif\u001b[39;00m \u001b[38;5;28mself\u001b[39m\u001b[38;5;241m.\u001b[39m_exception \u001b[38;5;129;01mis\u001b[39;00m \u001b[38;5;129;01mnot\u001b[39;00m \u001b[38;5;28;01mNone\u001b[39;00m:\n\u001b[1;32m--> 203\u001b[0m     \u001b[38;5;28;01mraise\u001b[39;00m \u001b[38;5;28mself\u001b[39m\u001b[38;5;241m.\u001b[39m_exception\u001b[38;5;241m.\u001b[39mwith_traceback(\u001b[38;5;28mself\u001b[39m\u001b[38;5;241m.\u001b[39m_exception_tb)\n\u001b[0;32m    204\u001b[0m \u001b[38;5;28;01mreturn\u001b[39;00m \u001b[38;5;28mself\u001b[39m\u001b[38;5;241m.\u001b[39m_result\n",
      "File \u001b[1;32m~\\AppData\\Local\\Programs\\Python\\Python311\\Lib\\asyncio\\tasks.py:267\u001b[0m, in \u001b[0;36mTask.__step\u001b[1;34m(***failed resolving arguments***)\u001b[0m\n\u001b[0;32m    263\u001b[0m \u001b[38;5;28;01mtry\u001b[39;00m:\n\u001b[0;32m    264\u001b[0m     \u001b[38;5;28;01mif\u001b[39;00m exc \u001b[38;5;129;01mis\u001b[39;00m \u001b[38;5;28;01mNone\u001b[39;00m:\n\u001b[0;32m    265\u001b[0m         \u001b[38;5;66;03m# We use the `send` method directly, because coroutines\u001b[39;00m\n\u001b[0;32m    266\u001b[0m         \u001b[38;5;66;03m# don't have `__iter__` and `__next__` methods.\u001b[39;00m\n\u001b[1;32m--> 267\u001b[0m         result \u001b[38;5;241m=\u001b[39m coro\u001b[38;5;241m.\u001b[39msend(\u001b[38;5;28;01mNone\u001b[39;00m)\n\u001b[0;32m    268\u001b[0m     \u001b[38;5;28;01melse\u001b[39;00m:\n\u001b[0;32m    269\u001b[0m         result \u001b[38;5;241m=\u001b[39m coro\u001b[38;5;241m.\u001b[39mthrow(exc)\n",
      "Cell \u001b[1;32mIn[21], line 7\u001b[0m, in \u001b[0;36mclient\u001b[1;34m()\u001b[0m\n\u001b[0;32m      6\u001b[0m \u001b[38;5;28;01masync\u001b[39;00m \u001b[38;5;28;01mdef\u001b[39;00m \u001b[38;5;21mclient\u001b[39m():\n\u001b[1;32m----> 7\u001b[0m     \u001b[38;5;28;01masync\u001b[39;00m \u001b[38;5;28;01mwith\u001b[39;00m BleakClient(ADDRESS, timeout\u001b[38;5;241m=\u001b[39m\u001b[38;5;241m40\u001b[39m, is_secured\u001b[38;5;241m=\u001b[39m\u001b[38;5;28;01mTrue\u001b[39;00m) \u001b[38;5;28;01mas\u001b[39;00m client:\n\u001b[0;32m      8\u001b[0m         \u001b[38;5;66;03m# Connect to the device and discover the services and characteristics\u001b[39;00m\n\u001b[0;32m      9\u001b[0m         services \u001b[38;5;241m=\u001b[39m \u001b[38;5;28;01mawait\u001b[39;00m client\u001b[38;5;241m.\u001b[39mget_services()\n\u001b[0;32m     12\u001b[0m         \u001b[38;5;66;03m# Find the RX and TX characteristics\u001b[39;00m\n",
      "File \u001b[1;32m~\\AppData\\Local\\Programs\\Python\\Python311\\Lib\\site-packages\\bleak\\__init__.py:491\u001b[0m, in \u001b[0;36mBleakClient.__aenter__\u001b[1;34m(self)\u001b[0m\n\u001b[0;32m    490\u001b[0m \u001b[38;5;28;01masync\u001b[39;00m \u001b[38;5;28;01mdef\u001b[39;00m \u001b[38;5;21m__aenter__\u001b[39m(\u001b[38;5;28mself\u001b[39m):\n\u001b[1;32m--> 491\u001b[0m     \u001b[38;5;28;01mawait\u001b[39;00m \u001b[38;5;28mself\u001b[39m\u001b[38;5;241m.\u001b[39mconnect()\n\u001b[0;32m    492\u001b[0m     \u001b[38;5;28;01mreturn\u001b[39;00m \u001b[38;5;28mself\u001b[39m\n",
      "File \u001b[1;32m~\\AppData\\Local\\Programs\\Python\\Python311\\Lib\\site-packages\\bleak\\__init__.py:531\u001b[0m, in \u001b[0;36mBleakClient.connect\u001b[1;34m(self, **kwargs)\u001b[0m\n\u001b[0;32m    521\u001b[0m \u001b[38;5;28;01masync\u001b[39;00m \u001b[38;5;28;01mdef\u001b[39;00m \u001b[38;5;21mconnect\u001b[39m(\u001b[38;5;28mself\u001b[39m, \u001b[38;5;241m*\u001b[39m\u001b[38;5;241m*\u001b[39mkwargs) \u001b[38;5;241m-\u001b[39m\u001b[38;5;241m>\u001b[39m \u001b[38;5;28mbool\u001b[39m:\n\u001b[0;32m    522\u001b[0m \u001b[38;5;250m    \u001b[39m\u001b[38;5;124;03m\"\"\"Connect to the specified GATT server.\u001b[39;00m\n\u001b[0;32m    523\u001b[0m \n\u001b[0;32m    524\u001b[0m \u001b[38;5;124;03m    Args:\u001b[39;00m\n\u001b[1;32m   (...)\u001b[0m\n\u001b[0;32m    529\u001b[0m \n\u001b[0;32m    530\u001b[0m \u001b[38;5;124;03m    \"\"\"\u001b[39;00m\n\u001b[1;32m--> 531\u001b[0m     \u001b[38;5;28;01mreturn\u001b[39;00m \u001b[38;5;28;01mawait\u001b[39;00m \u001b[38;5;28mself\u001b[39m\u001b[38;5;241m.\u001b[39m_backend\u001b[38;5;241m.\u001b[39mconnect(\u001b[38;5;241m*\u001b[39m\u001b[38;5;241m*\u001b[39mkwargs)\n",
      "File \u001b[1;32m~\\AppData\\Local\\Programs\\Python\\Python311\\Lib\\site-packages\\bleak\\backends\\winrt\\client.py:440\u001b[0m, in \u001b[0;36mBleakClientWinRT.connect\u001b[1;34m(self, **kwargs)\u001b[0m\n\u001b[0;32m    438\u001b[0m                 \u001b[38;5;28;01mpass\u001b[39;00m\n\u001b[0;32m    439\u001b[0m     \u001b[38;5;28;01melse\u001b[39;00m:\n\u001b[1;32m--> 440\u001b[0m         \u001b[38;5;28mself\u001b[39m\u001b[38;5;241m.\u001b[39mservices \u001b[38;5;241m=\u001b[39m \u001b[38;5;28;01mawait\u001b[39;00m \u001b[38;5;28mself\u001b[39m\u001b[38;5;241m.\u001b[39mget_services(\n\u001b[0;32m    441\u001b[0m             service_cache_mode\u001b[38;5;241m=\u001b[39mservice_cache_mode,\n\u001b[0;32m    442\u001b[0m             cache_mode\u001b[38;5;241m=\u001b[39mcache_mode,\n\u001b[0;32m    443\u001b[0m         )\n\u001b[0;32m    445\u001b[0m \u001b[38;5;66;03m# a connection may not be made until we request info from the\u001b[39;00m\n\u001b[0;32m    446\u001b[0m \u001b[38;5;66;03m# device, so we have to get services before the GATT session\u001b[39;00m\n\u001b[0;32m    447\u001b[0m \u001b[38;5;66;03m# is set to active\u001b[39;00m\n\u001b[0;32m    448\u001b[0m \u001b[38;5;28;01mawait\u001b[39;00m event\u001b[38;5;241m.\u001b[39mwait()\n",
      "File \u001b[1;32m~\\AppData\\Local\\Programs\\Python\\Python311\\Lib\\site-packages\\bleak\\backends\\winrt\\client.py:670\u001b[0m, in \u001b[0;36mBleakClientWinRT.get_services\u001b[1;34m(self, service_cache_mode, cache_mode, **kwargs)\u001b[0m\n\u001b[0;32m    667\u001b[0m     future \u001b[38;5;241m=\u001b[39m FutureLike(\u001b[38;5;28mself\u001b[39m\u001b[38;5;241m.\u001b[39m_requester\u001b[38;5;241m.\u001b[39mget_gatt_services_async(\u001b[38;5;241m*\u001b[39msrv_args))\n\u001b[0;32m    668\u001b[0m     future\u001b[38;5;241m.\u001b[39madd_done_callback(dispose_on_cancel)\n\u001b[1;32m--> 670\u001b[0m     services \u001b[38;5;241m=\u001b[39m \u001b[43m_ensure_success\u001b[49m\u001b[43m(\u001b[49m\n\u001b[0;32m    671\u001b[0m \u001b[43m        \u001b[49m\u001b[38;5;28;43;01mawait\u001b[39;49;00m\u001b[43m \u001b[49m\u001b[43mFutureLike\u001b[49m\u001b[43m(\u001b[49m\u001b[38;5;28;43mself\u001b[39;49m\u001b[38;5;241;43m.\u001b[39;49m\u001b[43m_requester\u001b[49m\u001b[38;5;241;43m.\u001b[39;49m\u001b[43mget_gatt_services_async\u001b[49m\u001b[43m(\u001b[49m\u001b[38;5;241;43m*\u001b[39;49m\u001b[43msrv_args\u001b[49m\u001b[43m)\u001b[49m\u001b[43m)\u001b[49m\u001b[43m,\u001b[49m\n\u001b[0;32m    672\u001b[0m \u001b[43m        \u001b[49m\u001b[38;5;124;43m\"\u001b[39;49m\u001b[38;5;124;43mservices\u001b[39;49m\u001b[38;5;124;43m\"\u001b[39;49m\u001b[43m,\u001b[49m\n\u001b[0;32m    673\u001b[0m \u001b[43m        \u001b[49m\u001b[38;5;124;43m\"\u001b[39;49m\u001b[38;5;124;43mCould not get GATT services\u001b[39;49m\u001b[38;5;124;43m\"\u001b[39;49m\u001b[43m,\u001b[49m\n\u001b[0;32m    674\u001b[0m \u001b[43m    \u001b[49m\u001b[43m)\u001b[49m\n\u001b[0;32m    675\u001b[0m \u001b[38;5;28;01melse\u001b[39;00m:\n\u001b[0;32m    676\u001b[0m     services \u001b[38;5;241m=\u001b[39m []\n",
      "File \u001b[1;32m~\\AppData\\Local\\Programs\\Python\\Python311\\Lib\\site-packages\\bleak\\backends\\winrt\\client.py:123\u001b[0m, in \u001b[0;36m_ensure_success\u001b[1;34m(result, attr, fail_msg)\u001b[0m\n\u001b[0;32m    120\u001b[0m     \u001b[38;5;28;01mraise\u001b[39;00m BleakError(\u001b[38;5;124mf\u001b[39m\u001b[38;5;124m\"\u001b[39m\u001b[38;5;132;01m{\u001b[39;00mfail_msg\u001b[38;5;132;01m}\u001b[39;00m\u001b[38;5;124m: Access Denied\u001b[39m\u001b[38;5;124m\"\u001b[39m)\n\u001b[0;32m    122\u001b[0m \u001b[38;5;28;01mif\u001b[39;00m status \u001b[38;5;241m==\u001b[39m GattCommunicationStatus\u001b[38;5;241m.\u001b[39mUNREACHABLE:\n\u001b[1;32m--> 123\u001b[0m     \u001b[38;5;28;01mraise\u001b[39;00m BleakError(\u001b[38;5;124mf\u001b[39m\u001b[38;5;124m\"\u001b[39m\u001b[38;5;132;01m{\u001b[39;00mfail_msg\u001b[38;5;132;01m}\u001b[39;00m\u001b[38;5;124m: Unreachable\u001b[39m\u001b[38;5;124m\"\u001b[39m)\n\u001b[0;32m    125\u001b[0m \u001b[38;5;28;01mraise\u001b[39;00m BleakError(\u001b[38;5;124mf\u001b[39m\u001b[38;5;124m\"\u001b[39m\u001b[38;5;132;01m{\u001b[39;00mfail_msg\u001b[38;5;132;01m}\u001b[39;00m\u001b[38;5;124m: Unexpected status code 0x\u001b[39m\u001b[38;5;132;01m{\u001b[39;00mstatus\u001b[38;5;132;01m:\u001b[39;00m\u001b[38;5;124m02X\u001b[39m\u001b[38;5;132;01m}\u001b[39;00m\u001b[38;5;124m\"\u001b[39m)\n",
      "\u001b[1;31mBleakError\u001b[0m: Could not get GATT services: Unreachable"
     ]
    }
   ],
   "source": [
    "import asyncio\n",
    "from bleak import BleakClient\n",
    "\n",
    "MESSAGE = b\"HK:1:100\\r\"\n",
    "\n",
    "async def client():\n",
    "    async with BleakClient(ADDRESS, timeout=40, is_secured=True) as client:\n",
    "        # Connect to the device and discover the services and characteristics\n",
    "        services = await client.get_services()\n",
    "\n",
    "\n",
    "        # Find the RX and TX characteristics\n",
    "        rx_char, tx_char = None, None  # обнуляем переменные\n",
    "        for service in services:\n",
    "            if service.uuid == SERVICE_UUID:\n",
    "                for characteristic in service.characteristics:\n",
    "\n",
    "                    if characteristic.uuid == RX_UUID:\n",
    "                        rx_char = characteristic\n",
    "\n",
    "                    elif characteristic.uuid == TX_UUID:\n",
    "                        tx_char = characteristic\n",
    "                        \n",
    "        # Subscribe to notifications for the RX characteristic\n",
    "        await client.start_notify(rx_char.handle, callback)\n",
    "                        \n",
    "        # Записываем сообщение в TX характеристику \n",
    "        await client.write_gatt_char(tx_char.handle, MESSAGE)\n",
    "        print(f'WTIRE: {MESSAGE} on TX_char')\n",
    "\n",
    "       # # Wait for notifications\n",
    "        #await asyncio.sleep(10)\n",
    "\n",
    "        # Stop receiving notifications\n",
    "        #await client.stop_notify(rx_char.handle)\n",
    "\n",
    "async def callback(sender: int, data: bytearray):\n",
    "    print(f'Received notification from RX_char: {data}')\n",
    "\n",
    "loop = asyncio.get_event_loop()\n",
    "loop.run_until_complete(client())"
   ]
  },
  {
   "cell_type": "code",
   "execution_count": 53,
   "id": "06249ef5",
   "metadata": {},
   "outputs": [
    {
     "data": {
      "text/plain": [
       "\"     if device.address == address_to_look_for:\\n            byte_data = advertisement_data.service_data.get(service_id_to_look_for)\\n            num_to_test, = struct.unpack_from('<I', byte_data, 0)\\n            if num_to_test == 62976:\\n                print('\\t\\tDevice found so we terminate')\\n                self.scanning.clear()\\n                \\n\""
      ]
     },
     "execution_count": 53,
     "metadata": {},
     "output_type": "execute_result"
    }
   ],
   "source": [
    "'''     if device.address == address_to_look_for:\n",
    "            byte_data = advertisement_data.service_data.get(service_id_to_look_for)\n",
    "            num_to_test, = struct.unpack_from('<I', byte_data, 0)\n",
    "            if num_to_test == 62976:\n",
    "                print('\\t\\tDevice found so we terminate')\n",
    "                self.scanning.clear()\n",
    "                \n",
    "'''"
   ]
  },
  {
   "cell_type": "code",
   "execution_count": null,
   "id": "88c36338",
   "metadata": {},
   "outputs": [],
   "source": []
  }
 ],
 "metadata": {
  "kernelspec": {
   "display_name": "Python 3 (ipykernel)",
   "language": "python",
   "name": "python3"
  },
  "language_info": {
   "codemirror_mode": {
    "name": "ipython",
    "version": 3
   },
   "file_extension": ".py",
   "mimetype": "text/x-python",
   "name": "python",
   "nbconvert_exporter": "python",
   "pygments_lexer": "ipython3",
   "version": "3.11.3"
  }
 },
 "nbformat": 4,
 "nbformat_minor": 5
}
