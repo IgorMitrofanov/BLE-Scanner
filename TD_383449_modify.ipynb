{
 "cells": [
  {
   "cell_type": "code",
   "execution_count": 16,
   "id": "88eda71b",
   "metadata": {},
   "outputs": [],
   "source": [
    "import numpy \n",
    "import pandas as pd\n",
    "import asyncio\n",
    "import struct\n",
    "import datetime\n",
    "import nest_asyncio\n",
    "import bleak\n",
    "from bleak import BleakScanner, BleakClient\n",
    "\n",
    "nest_asyncio.apply()"
   ]
  },
  {
   "cell_type": "markdown",
   "id": "33a0cd4c",
   "metadata": {},
   "source": [
    "Функция расшифровки адверсайзмент данных:"
   ]
  },
  {
   "cell_type": "code",
   "execution_count": 12,
   "id": "215fce1d",
   "metadata": {},
   "outputs": [],
   "source": [
    "def adv_decrypt(data):\n",
    "    # Расшифровка уровня топлива\n",
    "    oil_level_raw = int.from_bytes(data[1:3], byteorder='little', signed=False)\n",
    "    print(f\"Уровень топлива: {oil_level_raw}\")\n",
    "\n",
    "    # Расшифровка напряжения встроенной батареи\n",
    "    battery_voltage_raw = int.from_bytes(data[3:4], byteorder='little', signed=False)\n",
    "    battery_voltage = battery_voltage_raw / 10.0\n",
    "    print(f\"Напряжение встроенной батареи: {battery_voltage} В\")\n",
    "\n",
    "    # Расшифровка температуры\n",
    "    TD_temp_raw = int.from_bytes(data[4:5], byteorder='little', signed=True)\n",
    "    print(f\"Температура: {TD_temp_raw} Градус Цельсия\")\n",
    "\n",
    "    # Расшифровка версии прошивки\n",
    "    TD_version_raw = int.from_bytes(data[5:6], byteorder='little', signed=False)\n",
    "    print(f\"Версия прошивки: {TD_version_raw}\")\n",
    "                    \n",
    "    # Расшифровка периода (непосредственно измеренный параметр)\n",
    "    TD_period_param = int.from_bytes(data[6:10], byteorder='little', signed=False)\n",
    "    print(f\"Период: {TD_period_param} \")\n",
    "\n",
    "    # Расшифровка режима работы\n",
    "    TD_mode_raw = int.from_bytes(data[10:11], byteorder='little', signed=False)\n",
    "    TD_range = (TD_mode_raw & 0b11110000)\n",
    "    if TD_range & 0x80:\n",
    "        print(\"Диапазон датчика 4095\")\n",
    "    if TD_range & 0b00000000:\n",
    "         print(\"Диапазон датчика 1024\")\n",
    "\n",
    "    TD_flags = (TD_mode_raw & 0b00001111)\n",
    "    if TD_flags & 0b00000000:\n",
    "        print(\"Обычный алгоритм расчета\")\n",
    "    if TD_flags & 0b00000001:\n",
    "        print(\"Алгоритм расчета с тарировочной таблицей\")\n",
    "\n",
    "      # Расшифровка сглаживания и термокомпенсации\n",
    "    TD_smoth_and_copm_raw = int.from_bytes(data[11:12], byteorder='little', signed=False)\n",
    "    TD_therm_compensation = (TD_smoth_and_copm_raw & 0b11110000)\n",
    "    if TD_therm_compensation & 0x80:\n",
    "         print(\"Термокомпенсация выключена\")\n",
    "    if TD_therm_compensation & 0b00000000:\n",
    "          print(\"Термокомпенсация включена\")\n",
    "\n",
    "    TD_smoothing = TD_smoth_and_copm_raw & 0x0F\n",
    "    print(f'Сглаживание: {TD_smoothing}')"
   ]
  },
  {
   "cell_type": "code",
   "execution_count": 13,
   "id": "f2eaf33e",
   "metadata": {},
   "outputs": [],
   "source": [
    "timeout = 60"
   ]
  },
  {
   "cell_type": "code",
   "execution_count": 14,
   "id": "95f7b467",
   "metadata": {},
   "outputs": [],
   "source": [
    "NAME = 'TD_383448'"
   ]
  },
  {
   "cell_type": "code",
   "execution_count": 15,
   "id": "ab205815",
   "metadata": {
    "scrolled": false
   },
   "outputs": [
    {
     "name": "stdout",
     "output_type": "stream",
     "text": [
      "Device CA:17:37:73:61:98 (TD_383448), RSSI=-54 dB {} 2023-05-29 14:53:48.472742\n",
      "Уровень топлива: 4095\n",
      "Напряжение встроенной батареи: 3.7 В\n",
      "Температура: 23 Градус Цельсия\n",
      "Версия прошивки: 141\n",
      "Период: 30684 \n",
      "Термокомпенсация выключена\n",
      "Сглаживание: 0\n",
      "Device CA:17:37:73:61:98 (TD_383448), RSSI=-54 dB {} 2023-05-29 14:53:54.484297\n",
      "Уровень топлива: 4095\n",
      "Напряжение встроенной батареи: 3.7 В\n",
      "Температура: 23 Градус Цельсия\n",
      "Версия прошивки: 141\n",
      "Период: 30684 \n",
      "Термокомпенсация выключена\n",
      "Сглаживание: 0\n",
      "Device CA:17:37:73:61:98 (TD_383448), RSSI=-54 dB {} 2023-05-29 14:53:54.486296\n",
      "Уровень топлива: 4095\n",
      "Напряжение встроенной батареи: 3.7 В\n",
      "Температура: 23 Градус Цельсия\n",
      "Версия прошивки: 141\n",
      "Период: 30684 \n",
      "Термокомпенсация выключена\n",
      "Сглаживание: 0\n",
      "Device CA:17:37:73:61:98 (TD_383448), RSSI=-52 dB {} 2023-05-29 14:54:21.541888\n",
      "Уровень топлива: 4095\n",
      "Напряжение встроенной батареи: 3.7 В\n",
      "Температура: 23 Градус Цельсия\n",
      "Версия прошивки: 141\n",
      "Период: 30684 \n",
      "Термокомпенсация выключена\n",
      "Сглаживание: 0\n",
      "Device CA:17:37:73:61:98 (TD_383448), RSSI=-52 dB {} 2023-05-29 14:54:21.543885\n",
      "Уровень топлива: 4095\n",
      "Напряжение встроенной батареи: 3.7 В\n",
      "Температура: 23 Градус Цельсия\n",
      "Версия прошивки: 141\n",
      "Период: 30684 \n",
      "Термокомпенсация выключена\n",
      "Сглаживание: 0\n",
      "Device CA:17:37:73:61:98 (TD_383448), RSSI=-52 dB {} 2023-05-29 14:54:27.555886\n",
      "Уровень топлива: 4095\n",
      "Напряжение встроенной батареи: 3.7 В\n",
      "Температура: 23 Градус Цельсия\n",
      "Версия прошивки: 141\n",
      "Период: 30686 \n",
      "Термокомпенсация выключена\n",
      "Сглаживание: 0\n",
      "\t\tScan has timed out so we terminate\n"
     ]
    }
   ],
   "source": [
    "class MyScanner:\n",
    "    def __init__(self, timeout):\n",
    "        self._scanner = BleakScanner(detection_callback=self.detection_callback)\n",
    "        self.scanning = asyncio.Event()\n",
    "        self.address = None\n",
    "        self.timeout = timeout\n",
    "\n",
    "    def detection_callback(self, device, advertisement_data):\n",
    "        if device.name == NAME: \n",
    "            print(\"Device %s (%s), RSSI=%d dB\" % (device.address, device.name, advertisement_data.rssi))\n",
    "            adv_decrypt(advertisement_data.manufacturer_data[3862])\n",
    "\n",
    "    async def run(self):\n",
    "        await self._scanner.start()\n",
    "        self.scanning.set()\n",
    "        end_time = loop.time() + self.timeout\n",
    "        while self.scanning.is_set():\n",
    "            if loop.time() > end_time:\n",
    "                self.scanning.clear()\n",
    "                print('\\t\\tScan has timed out so we terminate')\n",
    "            await asyncio.sleep(0.1)\n",
    "        await self._scanner.stop()\n",
    "\n",
    "    def get_address(self):\n",
    "        return self.address\n",
    "\n",
    "\n",
    "if __name__ == '__main__':\n",
    "    my_scanner = MyScanner()\n",
    "    loop = asyncio.get_event_loop()\n",
    "    loop.run_until_complete(my_scanner.run(timeout=timeout))\n",
    "    address = my_scanner.get_address()"
   ]
  },
  {
   "cell_type": "code",
   "execution_count": 9,
   "id": "c07e0b7f",
   "metadata": {},
   "outputs": [
    {
     "data": {
      "text/plain": [
       "'CA:17:37:73:61:98'"
      ]
     },
     "execution_count": 9,
     "metadata": {},
     "output_type": "execute_result"
    }
   ],
   "source": [
    "address"
   ]
  },
  {
   "cell_type": "code",
   "execution_count": 10,
   "id": "8abffb0e",
   "metadata": {},
   "outputs": [
    {
     "name": "stdout",
     "output_type": "stream",
     "text": [
      "WTIRE: b'GA\\r' on TX_char\n",
      "Received notification from RX_char: bytearray(b'AGA,UT:1:23,UL:1:4095,HK:1:30000,LK:1:10000,US:1:30684,SE:1:383448,VB:2:3.7,WM:1:32768,TS:1:2101499,')\n",
      "Received notification from RX_char: bytearray(b'EM:1:0,TT:1:0,TM:1:10,UD:0:D8D9C5DDEEFF,VD:1:1,VV:1:141\\r')\n"
     ]
    }
   ],
   "source": [
    "#MESSAGE = b\"SD,HK:1:30000,LK:1:10000\\r\"\n",
    "MESSAGE = b\"GA\\r\"\n",
    "\n",
    "async def client(MESSAGE, timeout=60):\n",
    "    async with BleakClient(address, timeout=timeout) as client:\n",
    "        # Connect to the device and discover the services and characteristics\n",
    "                        \n",
    "        # Subscribe to notifications for the RX characteristic\n",
    "        await client.start_notify(14, callback)\n",
    "        \n",
    "                        \n",
    "        # Записываем сообщение в TX характеристику \n",
    "        await client.write_gatt_char(12, MESSAGE)\n",
    "        print(f'WTIRE: {MESSAGE} on TX_char')\n",
    "\n",
    "        await asyncio.sleep(1)\n",
    "        \n",
    "        # Stop receiving notifications\n",
    "        await client.stop_notify(14)\n",
    "\n",
    "async def callback(sender: int, data: bytearray):\n",
    "    print(f'Received notification from RX_char: {data}')\n",
    "\n",
    "loop = asyncio.get_event_loop()\n",
    "loop.run_until_complete(client(MESSAGE))"
   ]
  },
  {
   "cell_type": "code",
   "execution_count": null,
   "id": "e8630870",
   "metadata": {},
   "outputs": [],
   "source": []
  }
 ],
 "metadata": {
  "kernelspec": {
   "display_name": "Python 3 (ipykernel)",
   "language": "python",
   "name": "python3"
  },
  "language_info": {
   "codemirror_mode": {
    "name": "ipython",
    "version": 3
   },
   "file_extension": ".py",
   "mimetype": "text/x-python",
   "name": "python",
   "nbconvert_exporter": "python",
   "pygments_lexer": "ipython3",
   "version": "3.10.9"
  }
 },
 "nbformat": 4,
 "nbformat_minor": 5
}
