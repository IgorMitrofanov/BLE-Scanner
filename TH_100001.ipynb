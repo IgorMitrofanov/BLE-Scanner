{
 "cells": [
  {
   "cell_type": "code",
   "execution_count": 1,
   "id": "4a6e2b80",
   "metadata": {},
   "outputs": [],
   "source": [
    "import numpy \n",
    "import pandas\n",
    "\n",
    "import nest_asyncio\n",
    "import asyncio\n",
    "\n",
    "import bleak\n",
    "from bleak import BleakScanner, BleakClient\n",
    "\n",
    "nest_asyncio.apply()"
   ]
  },
  {
   "cell_type": "code",
   "execution_count": 5,
   "id": "700479b0",
   "metadata": {},
   "outputs": [],
   "source": [
    "def adv_decrypt(data):\n",
    "     # Расшифровка температуры\n",
    "    TH09_temp_raw = int.from_bytes(data[1:3], byteorder='little', signed=True)\n",
    "    TH09_temp = TH09_temp_raw / 10.0\n",
    "    print(f\"Температура: {TH09_temp} градусов Цельсия\")\n",
    "\n",
    "    # Расшифровка освещенности\n",
    "    TH09_light_raw = int.from_bytes(data[3:5], byteorder='little', signed=False)\n",
    "    print(f\"Освещенность: {TH09_light_raw} люкс\")\n",
    "\n",
    "    # Расшифровка влажности\n",
    "    TH09_humidity_raw = int.from_bytes(data[5:7], byteorder='little', signed=False)\n",
    "    TH09_humidity = TH09_humidity_raw / 10.0\n",
    "    print(f\"Влажность: {TH09_humidity}%\")\n",
    "                    \n",
    "    # Расшифровка состояния дискретных входов\n",
    "    #  Надеюсь сюда тоже идет один байт (не знаю)\n",
    "    #discrete_row = int.from_bytes(data[7:8], byteorder='big', signed=False)\n",
    "                    \n",
    "    # Резерв\n",
    "    #reserve_row = int.from_bytes(data[8:9], byteorder='big', signed=False)\n",
    "    #print('Резерв: не применимо')\n",
    "    \n",
    "    # Расшифровка режима работы\n",
    "    TH09_mode_raw = int.from_bytes(data[9:10], byteorder='big', signed=False)\n",
    "    TH09_period = (TH09_mode_raw & 0b00000111) * 20\n",
    "    print(f\"Период опроса датчиков: {TH09_period} секунд\")\n",
    "    TH09_flags = TH09_mode_raw & 0b11111000\n",
    "    if TH09_flags & 0b10000000:\n",
    "        print(\"Датчик температуры включен\")\n",
    "    if TH09_flags & 0b01000000:\n",
    "        print(\"Датчик влажности включен\")\n",
    "    if TH09_flags & 0b00100000:\n",
    "        print(\"Датчик атмосферного давления включен\")\n",
    "    if TH09_flags & 0b00010000:\n",
    "        print(\"Датчик освещенности включен\")\n",
    "    if TH09_flags & 0b00001000:\n",
    "        print(\"Датчик холла сработал\")\n",
    "\n",
    "    # Расшифровка напряжения батареи\n",
    "    TH09_battery_raw = int.from_bytes(data[10:11], byteorder='big', signed=False)\n",
    "    TH09_battery = TH09_battery_raw / 10.0\n",
    "    print(f\"Напряжение батареи: {TH09_battery} В\")\n",
    "\n",
    "    # Расшифровка версии прошивки\n",
    "    TH09_version_raw = int.from_bytes(data[11:12], byteorder='big', signed=False)\n",
    "    print(f\"Версия прошивки: {TH09_version_raw}\")"
   ]
  },
  {
   "cell_type": "code",
   "execution_count": 9,
   "id": "4dfd9aa9",
   "metadata": {},
   "outputs": [],
   "source": [
    "async def main():\n",
    "\n",
    "    # TODO: add something that calls stop_event.set()\n",
    "\n",
    "    def callback(device, advertising_data):\n",
    "        if device.name is not None and device.name.startswith('TD_'):\n",
    "            print(datetime.datetime.now())\n",
    "            print(\"Device %s (%s), RSSI=%d dB\" % (device.address, device.name, device.rssi))\n",
    "            print('UUIDs', device.metadata['uuids'])\n",
    "            data = device.metadata['manufacturer_data'][3862]\n",
    "            advertising_data_decrypt(data)\n",
    "            index = df.index[df['Device Name'] == device.name][0]\n",
    "            if df.at[index, 'Address'] is None:   \n",
    "                df.at[index, 'Address'] = device.address\n",
    "            if df.at[index, 'RSSI'] is None:   \n",
    "                df.at[index, 'RSSI'] = device.rssi\n",
    "            if df.at[index, 'UUIDs'] is None:   \n",
    "                df.at[index, 'UUIDs'] = device.metadata['uuids']\n",
    "\n",
    "            \n",
    "            pass\n",
    "\n",
    "    async with BleakScanner(callback) as scanner:\n",
    "        ...\n",
    "        # Important! Wait for an event to trigger stop, otherwise scanner\n",
    "        # will stop immediately.\n",
    "\n",
    "    # scanner stops when block exits\n",
    "    ...\n",
    "\n",
    "asyncio.run(main())"
   ]
  },
  {
   "cell_type": "code",
   "execution_count": 10,
   "id": "a727d80c",
   "metadata": {},
   "outputs": [
    {
     "name": "stderr",
     "output_type": "stream",
     "text": [
      "C:\\Users\\IgorMitrofanov\\AppData\\Local\\Temp\\ipykernel_9380\\2969391970.py:20: FutureWarning: This method will be removed in a future version of Bleak. Use the detection_callback of the BleakScanner constructor instead.\n",
      "  scanner.register_detection_callback(detection_callback)\n"
     ]
    }
   ],
   "source": [
    "import asyncio\n",
    "import struct\n",
    "\n",
    "from bleak import BleakScanner\n",
    "\n",
    "timeout_seconds = 10\n",
    "address_to_look_for = 'masked'\n",
    "service_id_to_look_for = 'masked'\n",
    "\n",
    "def detection_callback(device, advertisement_data):\n",
    "    if device.address == address_to_look_for:\n",
    "        byte_data = advertisement_data.service_data.get(service_id_to_look_for)\n",
    "        num_to_test = struct.unpack_from('<I', byte_data, 0)\n",
    "        if num_to_test == 1:\n",
    "            print('here we want to terminate')\n",
    "        \n",
    "\n",
    "async def run():\n",
    "    scanner = BleakScanner()\n",
    "    scanner.register_detection_callback(detection_callback)\n",
    "    await scanner.start()\n",
    "    await asyncio.sleep(timeout_seconds)\n",
    "    await scanner.stop()\n",
    "\n",
    "if __name__=='__main__':    \n",
    "    loop = asyncio.get_event_loop()\n",
    "    loop.run_until_complete(run())"
   ]
  },
  {
   "cell_type": "code",
   "execution_count": 2,
   "id": "b03ce22e",
   "metadata": {},
   "outputs": [],
   "source": [
    "timeout_seconds = 30"
   ]
  },
  {
   "cell_type": "code",
   "execution_count": 18,
   "id": "c901f80d",
   "metadata": {},
   "outputs": [
    {
     "name": "stderr",
     "output_type": "stream",
     "text": [
      "C:\\Users\\IgorMitrofanov\\AppData\\Local\\Temp\\ipykernel_7660\\3069723581.py:9: FutureWarning: This method will be removed in a future version of Bleak. Use the detection_callback of the BleakScanner constructor instead.\n",
      "  self._scanner.register_detection_callback(self.detection_callback)\n",
      "C:\\Users\\IgorMitrofanov\\AppData\\Local\\Temp\\ipykernel_7660\\3069723581.py:13: FutureWarning: BLEDevice.rssi is deprecated and will be removed in a future version of Bleak, use AdvertisementData.rssi instead\n",
      "  print(\"Device %s (%s), RSSI=%d dB\" % (device.address, device.name, device.rssi), device.metadata['uuids'], datetime.datetime.now())\n",
      "C:\\Users\\IgorMitrofanov\\AppData\\Local\\Temp\\ipykernel_7660\\3069723581.py:13: FutureWarning: BLEDevice.metadata is deprecated and will be removed in a future version of Bleak, use AdvertisementData instead\n",
      "  print(\"Device %s (%s), RSSI=%d dB\" % (device.address, device.name, device.rssi), device.metadata['uuids'], datetime.datetime.now())\n"
     ]
    },
    {
     "name": "stdout",
     "output_type": "stream",
     "text": [
      "Device D0:B4:7E:12:2A:CA (None), RSSI=-66 dB [] 2023-05-25 21:27:47.695231\n",
      "Device 54:48:E6:6E:78:FA (None), RSSI=-82 dB [] 2023-05-25 21:27:48.902419\n",
      "Device D0:B4:7E:12:2A:CA (None), RSSI=-61 dB [] 2023-05-25 21:27:49.697735\n",
      "Device D0:B4:7E:12:2A:CA (None), RSSI=-66 dB [] 2023-05-25 21:27:51.697685\n",
      "Device 54:48:E6:6E:78:FA (None), RSSI=-81 dB [] 2023-05-25 21:27:54.533234\n",
      "Device 54:48:E6:6E:78:FA (None), RSSI=-81 dB [] 2023-05-25 21:27:54.534235\n",
      "Device 46:E9:CB:A5:9A:8E (None), RSSI=-88 dB [] 2023-05-25 21:28:00.211419\n",
      "Device D8:2D:BB:A0:8B:4C (TH_100001), RSSI=-42 dB [] 2023-05-25 21:28:01.512420\n",
      "Температура: 31.4 градусов Цельсия\n",
      "Освещенность: 0 люкс\n",
      "Влажность: 31.8%\n",
      "Период опроса датчиков: 60 секунд\n",
      "Датчик атмосферного давления включен\n",
      "Датчик освещенности включен\n",
      "Напряжение батареи: 3.5 В\n",
      "Версия прошивки: 108\n",
      "Device D8:2D:BB:A0:8B:4C (TH_100001), RSSI=-42 dB ['6e400001-b5a3-f393-e0a9-f5eeddc186a1'] 2023-05-25 21:28:01.513421\n",
      "Температура: 31.4 градусов Цельсия\n",
      "Освещенность: 0 люкс\n",
      "Влажность: 31.8%\n",
      "Период опроса датчиков: 60 секунд\n",
      "Датчик атмосферного давления включен\n",
      "Датчик освещенности включен\n",
      "Напряжение батареи: 3.5 В\n",
      "Версия прошивки: 108\n",
      "Device 54:48:E6:6E:78:FA (None), RSSI=-82 dB [] 2023-05-25 21:28:01.633224\n",
      "Device 2E:7C:AD:C3:F9:39 (None), RSSI=-87 dB [] 2023-05-25 21:28:06.478419\n",
      "Device D8:2D:BB:A0:8B:4C (TH_100001), RSSI=-42 dB ['6e400001-b5a3-f393-e0a9-f5eeddc186a1'] 2023-05-25 21:28:07.547418\n",
      "Температура: 31.4 градусов Цельсия\n",
      "Освещенность: 0 люкс\n",
      "Влажность: 31.8%\n",
      "Период опроса датчиков: 60 секунд\n",
      "Датчик атмосферного давления включен\n",
      "Датчик освещенности включен\n",
      "Напряжение батареи: 3.5 В\n",
      "Версия прошивки: 108\n",
      "Device D8:2D:BB:A0:8B:4C (TH_100001), RSSI=-42 dB ['6e400001-b5a3-f393-e0a9-f5eeddc186a1'] 2023-05-25 21:28:07.548418\n",
      "Температура: 31.4 градусов Цельсия\n",
      "Освещенность: 0 люкс\n",
      "Влажность: 31.8%\n",
      "Период опроса датчиков: 60 секунд\n",
      "Датчик атмосферного давления включен\n",
      "Датчик освещенности включен\n",
      "Напряжение батареи: 3.5 В\n",
      "Версия прошивки: 108\n",
      "Device 54:48:E6:6E:78:FA (None), RSSI=-82 dB [] 2023-05-25 21:28:08.015233\n",
      "Device 54:48:E6:6E:78:FA (None), RSSI=-82 dB [] 2023-05-25 21:28:08.016234\n",
      "Device 2E:7C:AD:C3:F9:39 (None), RSSI=-86 dB [] 2023-05-25 21:28:09.658420\n",
      "Device 5A:17:50:F4:06:87 (None), RSSI=-85 dB [] 2023-05-25 21:28:11.073725\n",
      "Device D8:2D:BB:A0:8B:4C (TH_100001), RSSI=-42 dB ['6e400001-b5a3-f393-e0a9-f5eeddc186a1'] 2023-05-25 21:28:13.553222\n",
      "Температура: 31.4 градусов Цельсия\n",
      "Освещенность: 0 люкс\n",
      "Влажность: 31.8%\n",
      "Период опроса датчиков: 60 секунд\n",
      "Датчик атмосферного давления включен\n",
      "Датчик освещенности включен\n",
      "Напряжение батареи: 3.5 В\n",
      "Версия прошивки: 108\n",
      "Device 5A:17:50:F4:06:87 (None), RSSI=-86 dB [] 2023-05-25 21:28:14.980919\n",
      "Device 5A:17:50:F4:06:87 (None), RSSI=-87 dB [] 2023-05-25 21:28:15.345889\n",
      "Device 5A:17:50:F4:06:87 (None), RSSI=-85 dB [] 2023-05-25 21:28:15.346890\n",
      "\t\tScan has timed out so we terminate\n"
     ]
    }
   ],
   "source": [
    "import struct\n",
    "import datetime\n",
    "\n",
    "\n",
    "\n",
    "class MyScanner:\n",
    "    def __init__(self):\n",
    "        self._scanner = BleakScanner()\n",
    "        self._scanner.register_detection_callback(self.detection_callback)\n",
    "        self.scanning = asyncio.Event()\n",
    "\n",
    "    def detection_callback(self, device, advertisement_data):\n",
    "        print(\"Device %s (%s), RSSI=%d dB\" % (device.address, device.name, device.rssi), device.metadata['uuids'], datetime.datetime.now())\n",
    "        if device.name == 'TH_100001':\n",
    "            adv_decrypt(advertisement_data.manufacturer_data[3862])\n",
    "    async def run(self):\n",
    "        await self._scanner.start()\n",
    "        self.scanning.set()\n",
    "        end_time = loop.time() + timeout_seconds\n",
    "        while self.scanning.is_set():\n",
    "            if loop.time() > end_time:\n",
    "                self.scanning.clear()\n",
    "                print('\\t\\tScan has timed out so we terminate')\n",
    "            await asyncio.sleep(0.1)\n",
    "        await self._scanner.stop()\n",
    "\n",
    "\n",
    "if __name__ == '__main__':\n",
    "    my_scanner = MyScanner()\n",
    "    loop = asyncio.get_event_loop()\n",
    "    devices = loop.run_until_complete(my_scanner.run())"
   ]
  },
  {
   "cell_type": "code",
   "execution_count": 32,
   "id": "3f9dc970",
   "metadata": {},
   "outputs": [],
   "source": [
    "devices"
   ]
  },
  {
   "cell_type": "code",
   "execution_count": 20,
   "id": "df6fd70a",
   "metadata": {},
   "outputs": [],
   "source": [
    "ADDRESS = 'D8:2D:BB:A0:8B:4C'"
   ]
  },
  {
   "cell_type": "code",
   "execution_count": 21,
   "id": "6cd1bfa9",
   "metadata": {},
   "outputs": [],
   "source": [
    "NAME = 'TH_100001'"
   ]
  },
  {
   "cell_type": "code",
   "execution_count": 22,
   "id": "32916518",
   "metadata": {},
   "outputs": [],
   "source": [
    "SERVICE_UUID = '6e400001-b5a3-f393-e0a9-f5eeddc186a1'"
   ]
  },
  {
   "cell_type": "code",
   "execution_count": 23,
   "id": "3503dc51",
   "metadata": {},
   "outputs": [],
   "source": [
    "uniq_uuid_part = SERVICE_UUID.split('-')[-1]"
   ]
  },
  {
   "cell_type": "code",
   "execution_count": 24,
   "id": "39508611",
   "metadata": {},
   "outputs": [],
   "source": [
    "RX_UUID = '6e400002-b5a3-f393-e0a9-f5eeddc186a1'"
   ]
  },
  {
   "cell_type": "code",
   "execution_count": 25,
   "id": "2e8d8326",
   "metadata": {},
   "outputs": [],
   "source": [
    "TX_UUID = '6e400003-b5a3-f393-e0a9-f5eeddc186a1'"
   ]
  },
  {
   "cell_type": "code",
   "execution_count": 36,
   "id": "4150617a",
   "metadata": {},
   "outputs": [
    {
     "ename": "BleakError",
     "evalue": "Could not get GATT characteristics for <_bleak_winrt_Windows_Devices_Bluetooth_GenericAttributeProfile.GattDeviceService object at 0x000001705B32E7D0>: Access Denied",
     "output_type": "error",
     "traceback": [
      "\u001b[1;31m---------------------------------------------------------------------------\u001b[0m",
      "\u001b[1;31mBleakError\u001b[0m                                Traceback (most recent call last)",
      "Cell \u001b[1;32mIn[36], line 35\u001b[0m\n\u001b[0;32m     33\u001b[0m \u001b[38;5;28;01mif\u001b[39;00m \u001b[38;5;18m__name__\u001b[39m \u001b[38;5;241m==\u001b[39m \u001b[38;5;124m\"\u001b[39m\u001b[38;5;124m__main__\u001b[39m\u001b[38;5;124m\"\u001b[39m:\n\u001b[0;32m     34\u001b[0m     loop \u001b[38;5;241m=\u001b[39m asyncio\u001b[38;5;241m.\u001b[39mget_event_loop()\n\u001b[1;32m---> 35\u001b[0m     \u001b[43mloop\u001b[49m\u001b[38;5;241;43m.\u001b[39;49m\u001b[43mrun_until_complete\u001b[49m\u001b[43m(\u001b[49m\u001b[43mrun\u001b[49m\u001b[43m(\u001b[49m\u001b[43m)\u001b[49m\u001b[43m)\u001b[49m\n",
      "File \u001b[1;32m~\\anaconda3\\lib\\site-packages\\nest_asyncio.py:90\u001b[0m, in \u001b[0;36m_patch_loop.<locals>.run_until_complete\u001b[1;34m(self, future)\u001b[0m\n\u001b[0;32m     87\u001b[0m \u001b[38;5;28;01mif\u001b[39;00m \u001b[38;5;129;01mnot\u001b[39;00m f\u001b[38;5;241m.\u001b[39mdone():\n\u001b[0;32m     88\u001b[0m     \u001b[38;5;28;01mraise\u001b[39;00m \u001b[38;5;167;01mRuntimeError\u001b[39;00m(\n\u001b[0;32m     89\u001b[0m         \u001b[38;5;124m'\u001b[39m\u001b[38;5;124mEvent loop stopped before Future completed.\u001b[39m\u001b[38;5;124m'\u001b[39m)\n\u001b[1;32m---> 90\u001b[0m \u001b[38;5;28;01mreturn\u001b[39;00m \u001b[43mf\u001b[49m\u001b[38;5;241;43m.\u001b[39;49m\u001b[43mresult\u001b[49m\u001b[43m(\u001b[49m\u001b[43m)\u001b[49m\n",
      "File \u001b[1;32m~\\anaconda3\\lib\\asyncio\\futures.py:201\u001b[0m, in \u001b[0;36mFuture.result\u001b[1;34m(self)\u001b[0m\n\u001b[0;32m    199\u001b[0m \u001b[38;5;28mself\u001b[39m\u001b[38;5;241m.\u001b[39m__log_traceback \u001b[38;5;241m=\u001b[39m \u001b[38;5;28;01mFalse\u001b[39;00m\n\u001b[0;32m    200\u001b[0m \u001b[38;5;28;01mif\u001b[39;00m \u001b[38;5;28mself\u001b[39m\u001b[38;5;241m.\u001b[39m_exception \u001b[38;5;129;01mis\u001b[39;00m \u001b[38;5;129;01mnot\u001b[39;00m \u001b[38;5;28;01mNone\u001b[39;00m:\n\u001b[1;32m--> 201\u001b[0m     \u001b[38;5;28;01mraise\u001b[39;00m \u001b[38;5;28mself\u001b[39m\u001b[38;5;241m.\u001b[39m_exception\u001b[38;5;241m.\u001b[39mwith_traceback(\u001b[38;5;28mself\u001b[39m\u001b[38;5;241m.\u001b[39m_exception_tb)\n\u001b[0;32m    202\u001b[0m \u001b[38;5;28;01mreturn\u001b[39;00m \u001b[38;5;28mself\u001b[39m\u001b[38;5;241m.\u001b[39m_result\n",
      "File \u001b[1;32m~\\anaconda3\\lib\\asyncio\\tasks.py:232\u001b[0m, in \u001b[0;36mTask.__step\u001b[1;34m(***failed resolving arguments***)\u001b[0m\n\u001b[0;32m    228\u001b[0m \u001b[38;5;28;01mtry\u001b[39;00m:\n\u001b[0;32m    229\u001b[0m     \u001b[38;5;28;01mif\u001b[39;00m exc \u001b[38;5;129;01mis\u001b[39;00m \u001b[38;5;28;01mNone\u001b[39;00m:\n\u001b[0;32m    230\u001b[0m         \u001b[38;5;66;03m# We use the `send` method directly, because coroutines\u001b[39;00m\n\u001b[0;32m    231\u001b[0m         \u001b[38;5;66;03m# don't have `__iter__` and `__next__` methods.\u001b[39;00m\n\u001b[1;32m--> 232\u001b[0m         result \u001b[38;5;241m=\u001b[39m \u001b[43mcoro\u001b[49m\u001b[38;5;241;43m.\u001b[39;49m\u001b[43msend\u001b[49m\u001b[43m(\u001b[49m\u001b[38;5;28;43;01mNone\u001b[39;49;00m\u001b[43m)\u001b[49m\n\u001b[0;32m    233\u001b[0m     \u001b[38;5;28;01melse\u001b[39;00m:\n\u001b[0;32m    234\u001b[0m         result \u001b[38;5;241m=\u001b[39m coro\u001b[38;5;241m.\u001b[39mthrow(exc)\n",
      "Cell \u001b[1;32mIn[36], line 7\u001b[0m, in \u001b[0;36mrun\u001b[1;34m()\u001b[0m\n\u001b[0;32m      6\u001b[0m \u001b[38;5;28;01masync\u001b[39;00m \u001b[38;5;28;01mdef\u001b[39;00m \u001b[38;5;21mrun\u001b[39m():\n\u001b[1;32m----> 7\u001b[0m     \u001b[38;5;28;01masync\u001b[39;00m \u001b[38;5;28;01mwith\u001b[39;00m BleakClient(ADDRESS, timeout\u001b[38;5;241m=\u001b[39m\u001b[38;5;241m40\u001b[39m) \u001b[38;5;28;01mas\u001b[39;00m client:\n\u001b[0;32m      8\u001b[0m         \u001b[38;5;66;03m# Connect to the device and discover the services and characteristics\u001b[39;00m\n\u001b[0;32m      9\u001b[0m         \u001b[38;5;28;01mawait\u001b[39;00m client\u001b[38;5;241m.\u001b[39mconnect()\n\u001b[0;32m     10\u001b[0m         services \u001b[38;5;241m=\u001b[39m \u001b[38;5;28;01mawait\u001b[39;00m client\u001b[38;5;241m.\u001b[39mget_services()\n",
      "File \u001b[1;32m~\\anaconda3\\lib\\site-packages\\bleak\\__init__.py:491\u001b[0m, in \u001b[0;36mBleakClient.__aenter__\u001b[1;34m(self)\u001b[0m\n\u001b[0;32m    490\u001b[0m \u001b[38;5;28;01masync\u001b[39;00m \u001b[38;5;28;01mdef\u001b[39;00m \u001b[38;5;21m__aenter__\u001b[39m(\u001b[38;5;28mself\u001b[39m):\n\u001b[1;32m--> 491\u001b[0m     \u001b[38;5;28;01mawait\u001b[39;00m \u001b[38;5;28mself\u001b[39m\u001b[38;5;241m.\u001b[39mconnect()\n\u001b[0;32m    492\u001b[0m     \u001b[38;5;28;01mreturn\u001b[39;00m \u001b[38;5;28mself\u001b[39m\n",
      "File \u001b[1;32m~\\anaconda3\\lib\\site-packages\\bleak\\__init__.py:531\u001b[0m, in \u001b[0;36mBleakClient.connect\u001b[1;34m(self, **kwargs)\u001b[0m\n\u001b[0;32m    521\u001b[0m \u001b[38;5;28;01masync\u001b[39;00m \u001b[38;5;28;01mdef\u001b[39;00m \u001b[38;5;21mconnect\u001b[39m(\u001b[38;5;28mself\u001b[39m, \u001b[38;5;241m*\u001b[39m\u001b[38;5;241m*\u001b[39mkwargs) \u001b[38;5;241m-\u001b[39m\u001b[38;5;241m>\u001b[39m \u001b[38;5;28mbool\u001b[39m:\n\u001b[0;32m    522\u001b[0m     \u001b[38;5;124;03m\"\"\"Connect to the specified GATT server.\u001b[39;00m\n\u001b[0;32m    523\u001b[0m \n\u001b[0;32m    524\u001b[0m \u001b[38;5;124;03m    Args:\u001b[39;00m\n\u001b[1;32m   (...)\u001b[0m\n\u001b[0;32m    529\u001b[0m \n\u001b[0;32m    530\u001b[0m \u001b[38;5;124;03m    \"\"\"\u001b[39;00m\n\u001b[1;32m--> 531\u001b[0m     \u001b[38;5;28;01mreturn\u001b[39;00m \u001b[38;5;28;01mawait\u001b[39;00m \u001b[38;5;28mself\u001b[39m\u001b[38;5;241m.\u001b[39m_backend\u001b[38;5;241m.\u001b[39mconnect(\u001b[38;5;241m*\u001b[39m\u001b[38;5;241m*\u001b[39mkwargs)\n",
      "File \u001b[1;32m~\\anaconda3\\lib\\site-packages\\bleak\\backends\\winrt\\client.py:440\u001b[0m, in \u001b[0;36mBleakClientWinRT.connect\u001b[1;34m(self, **kwargs)\u001b[0m\n\u001b[0;32m    438\u001b[0m                 \u001b[38;5;28;01mpass\u001b[39;00m\n\u001b[0;32m    439\u001b[0m     \u001b[38;5;28;01melse\u001b[39;00m:\n\u001b[1;32m--> 440\u001b[0m         \u001b[38;5;28mself\u001b[39m\u001b[38;5;241m.\u001b[39mservices \u001b[38;5;241m=\u001b[39m \u001b[38;5;28;01mawait\u001b[39;00m \u001b[38;5;28mself\u001b[39m\u001b[38;5;241m.\u001b[39mget_services(\n\u001b[0;32m    441\u001b[0m             service_cache_mode\u001b[38;5;241m=\u001b[39mservice_cache_mode,\n\u001b[0;32m    442\u001b[0m             cache_mode\u001b[38;5;241m=\u001b[39mcache_mode,\n\u001b[0;32m    443\u001b[0m         )\n\u001b[0;32m    445\u001b[0m \u001b[38;5;66;03m# a connection may not be made until we request info from the\u001b[39;00m\n\u001b[0;32m    446\u001b[0m \u001b[38;5;66;03m# device, so we have to get services before the GATT session\u001b[39;00m\n\u001b[0;32m    447\u001b[0m \u001b[38;5;66;03m# is set to active\u001b[39;00m\n\u001b[0;32m    448\u001b[0m \u001b[38;5;28;01mawait\u001b[39;00m event\u001b[38;5;241m.\u001b[39mwait()\n",
      "File \u001b[1;32m~\\anaconda3\\lib\\site-packages\\bleak\\backends\\winrt\\client.py:706\u001b[0m, in \u001b[0;36mBleakClientWinRT.get_services\u001b[1;34m(self, service_cache_mode, cache_mode, **kwargs)\u001b[0m\n\u001b[0;32m    702\u001b[0m new_services\u001b[38;5;241m.\u001b[39madd_service(BleakGATTServiceWinRT(service))\n\u001b[0;32m    704\u001b[0m logger\u001b[38;5;241m.\u001b[39mdebug(\u001b[38;5;124m\"\u001b[39m\u001b[38;5;124mcalling get_characteristics_async\u001b[39m\u001b[38;5;124m\"\u001b[39m)\n\u001b[1;32m--> 706\u001b[0m characteristics: Sequence[GattCharacteristic] \u001b[38;5;241m=\u001b[39m \u001b[43m_ensure_success\u001b[49m\u001b[43m(\u001b[49m\n\u001b[0;32m    707\u001b[0m \u001b[43m    \u001b[49m\u001b[38;5;28;43;01mawait\u001b[39;49;00m\u001b[43m \u001b[49m\u001b[43mFutureLike\u001b[49m\u001b[43m(\u001b[49m\u001b[43mservice\u001b[49m\u001b[38;5;241;43m.\u001b[39;49m\u001b[43mget_characteristics_async\u001b[49m\u001b[43m(\u001b[49m\u001b[38;5;241;43m*\u001b[39;49m\u001b[43margs\u001b[49m\u001b[43m)\u001b[49m\u001b[43m)\u001b[49m\u001b[43m,\u001b[49m\n\u001b[0;32m    708\u001b[0m \u001b[43m    \u001b[49m\u001b[38;5;124;43m\"\u001b[39;49m\u001b[38;5;124;43mcharacteristics\u001b[39;49m\u001b[38;5;124;43m\"\u001b[39;49m\u001b[43m,\u001b[49m\n\u001b[0;32m    709\u001b[0m \u001b[43m    \u001b[49m\u001b[38;5;124;43mf\u001b[39;49m\u001b[38;5;124;43m\"\u001b[39;49m\u001b[38;5;124;43mCould not get GATT characteristics for \u001b[39;49m\u001b[38;5;132;43;01m{\u001b[39;49;00m\u001b[43mservice\u001b[49m\u001b[38;5;132;43;01m}\u001b[39;49;00m\u001b[38;5;124;43m\"\u001b[39;49m\u001b[43m,\u001b[49m\n\u001b[0;32m    710\u001b[0m \u001b[43m\u001b[49m\u001b[43m)\u001b[49m\n\u001b[0;32m    712\u001b[0m logger\u001b[38;5;241m.\u001b[39mdebug(\u001b[38;5;124m\"\u001b[39m\u001b[38;5;124mreturned from get_characteristics_async\u001b[39m\u001b[38;5;124m\"\u001b[39m)\n\u001b[0;32m    714\u001b[0m \u001b[38;5;28;01mfor\u001b[39;00m characteristic \u001b[38;5;129;01min\u001b[39;00m characteristics:\n",
      "File \u001b[1;32m~\\anaconda3\\lib\\site-packages\\bleak\\backends\\winrt\\client.py:120\u001b[0m, in \u001b[0;36m_ensure_success\u001b[1;34m(result, attr, fail_msg)\u001b[0m\n\u001b[0;32m    115\u001b[0m     \u001b[38;5;28;01mraise\u001b[39;00m BleakError(\n\u001b[0;32m    116\u001b[0m         \u001b[38;5;124mf\u001b[39m\u001b[38;5;124m\"\u001b[39m\u001b[38;5;132;01m{\u001b[39;00mfail_msg\u001b[38;5;132;01m}\u001b[39;00m\u001b[38;5;124m: Protocol Error 0x\u001b[39m\u001b[38;5;132;01m{\u001b[39;00mresult\u001b[38;5;241m.\u001b[39mprotocol_error\u001b[38;5;132;01m:\u001b[39;00m\u001b[38;5;124m02X\u001b[39m\u001b[38;5;132;01m}\u001b[39;00m\u001b[38;5;124m: \u001b[39m\u001b[38;5;132;01m{\u001b[39;00merr\u001b[38;5;132;01m}\u001b[39;00m\u001b[38;5;124m\"\u001b[39m\n\u001b[0;32m    117\u001b[0m     )\n\u001b[0;32m    119\u001b[0m \u001b[38;5;28;01mif\u001b[39;00m status \u001b[38;5;241m==\u001b[39m GattCommunicationStatus\u001b[38;5;241m.\u001b[39mACCESS_DENIED:\n\u001b[1;32m--> 120\u001b[0m     \u001b[38;5;28;01mraise\u001b[39;00m BleakError(\u001b[38;5;124mf\u001b[39m\u001b[38;5;124m\"\u001b[39m\u001b[38;5;132;01m{\u001b[39;00mfail_msg\u001b[38;5;132;01m}\u001b[39;00m\u001b[38;5;124m: Access Denied\u001b[39m\u001b[38;5;124m\"\u001b[39m)\n\u001b[0;32m    122\u001b[0m \u001b[38;5;28;01mif\u001b[39;00m status \u001b[38;5;241m==\u001b[39m GattCommunicationStatus\u001b[38;5;241m.\u001b[39mUNREACHABLE:\n\u001b[0;32m    123\u001b[0m     \u001b[38;5;28;01mraise\u001b[39;00m BleakError(\u001b[38;5;124mf\u001b[39m\u001b[38;5;124m\"\u001b[39m\u001b[38;5;132;01m{\u001b[39;00mfail_msg\u001b[38;5;132;01m}\u001b[39;00m\u001b[38;5;124m: Unreachable\u001b[39m\u001b[38;5;124m\"\u001b[39m)\n",
      "\u001b[1;31mBleakError\u001b[0m: Could not get GATT characteristics for <_bleak_winrt_Windows_Devices_Bluetooth_GenericAttributeProfile.GattDeviceService object at 0x000001705B32E7D0>: Access Denied"
     ]
    }
   ],
   "source": [
    "import asyncio\n",
    "from bleak import BleakClient\n",
    "\n",
    "MESSAGE = b\"Hello world! \\n\"\n",
    "\n",
    "async def run():\n",
    "    async with BleakClient(ADDRESS, timeout=40) as client:\n",
    "        # Connect to the device and discover the services and characteristics\n",
    "        await client.connect()\n",
    "        services = await client.get_services()\n",
    "        print(\"Services:\", services)\n",
    "\n",
    "        # Find the RX and TX characteristics\n",
    "        for service in services:\n",
    "            print(service)\n",
    "            if service.uuid == SERVICE_UUID:\n",
    "                for characteristic in service.characteristics:\n",
    "                    if characteristic.uuid == RX_UUID:\n",
    "                        rx_char = characteristic\n",
    "                    elif characteristic.uuid == TX_UUID:\n",
    "                        tx_char = characteristic\n",
    "\n",
    "        # Write the message to the RX characteristic\n",
    "        await client.write_gatt_char(tx_char.handle, MESSAGE)\n",
    "\n",
    "        # Read the response from the TX characteristic\n",
    "        response = await client.read_gatt_char(rx_char.handle)\n",
    "        print(\"Response:\", response)\n",
    "\n",
    "        # Disconnect from the device\n",
    "        await client.disconnect()\n",
    "\n",
    "if __name__ == \"__main__\":\n",
    "    loop = asyncio.get_event_loop()\n",
    "    loop.run_until_complete(run())"
   ]
  },
  {
   "cell_type": "code",
   "execution_count": 41,
   "id": "97fa661e",
   "metadata": {},
   "outputs": [
    {
     "ename": "BleakError",
     "evalue": "Could not get GATT characteristics for <_bleak_winrt_Windows_Devices_Bluetooth_GenericAttributeProfile.GattDeviceService object at 0x000001705B6094D0>: Access Denied",
     "output_type": "error",
     "traceback": [
      "\u001b[1;31m---------------------------------------------------------------------------\u001b[0m",
      "\u001b[1;31mBleakError\u001b[0m                                Traceback (most recent call last)",
      "Cell \u001b[1;32mIn[41], line 11\u001b[0m\n\u001b[0;32m      7\u001b[0m             \u001b[38;5;28;01mfor\u001b[39;00m characteristic \u001b[38;5;129;01min\u001b[39;00m service\u001b[38;5;241m.\u001b[39mcharacteristics:\n\u001b[0;32m      8\u001b[0m                 \u001b[38;5;28mprint\u001b[39m(\u001b[38;5;124mf\u001b[39m\u001b[38;5;124m\"\u001b[39m\u001b[38;5;124mCould not get GATT characteristics for \u001b[39m\u001b[38;5;132;01m{\u001b[39;00mservice\u001b[38;5;241m.\u001b[39muuid\u001b[38;5;132;01m}\u001b[39;00m\u001b[38;5;124m (\u001b[39m\u001b[38;5;132;01m{\u001b[39;00mservice\u001b[38;5;241m.\u001b[39mattribute_handle\u001b[38;5;132;01m}\u001b[39;00m\u001b[38;5;124m)\u001b[39m\u001b[38;5;124m\"\u001b[39m)\n\u001b[1;32m---> 11\u001b[0m \u001b[43masyncio\u001b[49m\u001b[38;5;241;43m.\u001b[39;49m\u001b[43mrun\u001b[49m\u001b[43m(\u001b[49m\u001b[43mdiscover_services_and_handles\u001b[49m\u001b[43m(\u001b[49m\u001b[43mADDRESS\u001b[49m\u001b[43m)\u001b[49m\u001b[43m)\u001b[49m\n",
      "File \u001b[1;32m~\\anaconda3\\lib\\site-packages\\nest_asyncio.py:35\u001b[0m, in \u001b[0;36m_patch_asyncio.<locals>.run\u001b[1;34m(main, debug)\u001b[0m\n\u001b[0;32m     33\u001b[0m task \u001b[38;5;241m=\u001b[39m asyncio\u001b[38;5;241m.\u001b[39mensure_future(main)\n\u001b[0;32m     34\u001b[0m \u001b[38;5;28;01mtry\u001b[39;00m:\n\u001b[1;32m---> 35\u001b[0m     \u001b[38;5;28;01mreturn\u001b[39;00m \u001b[43mloop\u001b[49m\u001b[38;5;241;43m.\u001b[39;49m\u001b[43mrun_until_complete\u001b[49m\u001b[43m(\u001b[49m\u001b[43mtask\u001b[49m\u001b[43m)\u001b[49m\n\u001b[0;32m     36\u001b[0m \u001b[38;5;28;01mfinally\u001b[39;00m:\n\u001b[0;32m     37\u001b[0m     \u001b[38;5;28;01mif\u001b[39;00m \u001b[38;5;129;01mnot\u001b[39;00m task\u001b[38;5;241m.\u001b[39mdone():\n",
      "File \u001b[1;32m~\\anaconda3\\lib\\site-packages\\nest_asyncio.py:90\u001b[0m, in \u001b[0;36m_patch_loop.<locals>.run_until_complete\u001b[1;34m(self, future)\u001b[0m\n\u001b[0;32m     87\u001b[0m \u001b[38;5;28;01mif\u001b[39;00m \u001b[38;5;129;01mnot\u001b[39;00m f\u001b[38;5;241m.\u001b[39mdone():\n\u001b[0;32m     88\u001b[0m     \u001b[38;5;28;01mraise\u001b[39;00m \u001b[38;5;167;01mRuntimeError\u001b[39;00m(\n\u001b[0;32m     89\u001b[0m         \u001b[38;5;124m'\u001b[39m\u001b[38;5;124mEvent loop stopped before Future completed.\u001b[39m\u001b[38;5;124m'\u001b[39m)\n\u001b[1;32m---> 90\u001b[0m \u001b[38;5;28;01mreturn\u001b[39;00m \u001b[43mf\u001b[49m\u001b[38;5;241;43m.\u001b[39;49m\u001b[43mresult\u001b[49m\u001b[43m(\u001b[49m\u001b[43m)\u001b[49m\n",
      "File \u001b[1;32m~\\anaconda3\\lib\\asyncio\\futures.py:201\u001b[0m, in \u001b[0;36mFuture.result\u001b[1;34m(self)\u001b[0m\n\u001b[0;32m    199\u001b[0m \u001b[38;5;28mself\u001b[39m\u001b[38;5;241m.\u001b[39m__log_traceback \u001b[38;5;241m=\u001b[39m \u001b[38;5;28;01mFalse\u001b[39;00m\n\u001b[0;32m    200\u001b[0m \u001b[38;5;28;01mif\u001b[39;00m \u001b[38;5;28mself\u001b[39m\u001b[38;5;241m.\u001b[39m_exception \u001b[38;5;129;01mis\u001b[39;00m \u001b[38;5;129;01mnot\u001b[39;00m \u001b[38;5;28;01mNone\u001b[39;00m:\n\u001b[1;32m--> 201\u001b[0m     \u001b[38;5;28;01mraise\u001b[39;00m \u001b[38;5;28mself\u001b[39m\u001b[38;5;241m.\u001b[39m_exception\u001b[38;5;241m.\u001b[39mwith_traceback(\u001b[38;5;28mself\u001b[39m\u001b[38;5;241m.\u001b[39m_exception_tb)\n\u001b[0;32m    202\u001b[0m \u001b[38;5;28;01mreturn\u001b[39;00m \u001b[38;5;28mself\u001b[39m\u001b[38;5;241m.\u001b[39m_result\n",
      "File \u001b[1;32m~\\anaconda3\\lib\\asyncio\\tasks.py:232\u001b[0m, in \u001b[0;36mTask.__step\u001b[1;34m(***failed resolving arguments***)\u001b[0m\n\u001b[0;32m    228\u001b[0m \u001b[38;5;28;01mtry\u001b[39;00m:\n\u001b[0;32m    229\u001b[0m     \u001b[38;5;28;01mif\u001b[39;00m exc \u001b[38;5;129;01mis\u001b[39;00m \u001b[38;5;28;01mNone\u001b[39;00m:\n\u001b[0;32m    230\u001b[0m         \u001b[38;5;66;03m# We use the `send` method directly, because coroutines\u001b[39;00m\n\u001b[0;32m    231\u001b[0m         \u001b[38;5;66;03m# don't have `__iter__` and `__next__` methods.\u001b[39;00m\n\u001b[1;32m--> 232\u001b[0m         result \u001b[38;5;241m=\u001b[39m \u001b[43mcoro\u001b[49m\u001b[38;5;241;43m.\u001b[39;49m\u001b[43msend\u001b[49m\u001b[43m(\u001b[49m\u001b[38;5;28;43;01mNone\u001b[39;49;00m\u001b[43m)\u001b[49m\n\u001b[0;32m    233\u001b[0m     \u001b[38;5;28;01melse\u001b[39;00m:\n\u001b[0;32m    234\u001b[0m         result \u001b[38;5;241m=\u001b[39m coro\u001b[38;5;241m.\u001b[39mthrow(exc)\n",
      "Cell \u001b[1;32mIn[41], line 2\u001b[0m, in \u001b[0;36mdiscover_services_and_handles\u001b[1;34m(device_address)\u001b[0m\n\u001b[0;32m      1\u001b[0m \u001b[38;5;28;01masync\u001b[39;00m \u001b[38;5;28;01mdef\u001b[39;00m \u001b[38;5;21mdiscover_services_and_handles\u001b[39m(device_address):\n\u001b[1;32m----> 2\u001b[0m     \u001b[38;5;28;01masync\u001b[39;00m \u001b[38;5;28;01mwith\u001b[39;00m BleakClient(device_address, timeout\u001b[38;5;241m=\u001b[39m\u001b[38;5;241m40\u001b[39m) \u001b[38;5;28;01mas\u001b[39;00m client:\n\u001b[0;32m      3\u001b[0m         services \u001b[38;5;241m=\u001b[39m \u001b[38;5;28;01mawait\u001b[39;00m client\u001b[38;5;241m.\u001b[39mget_services()\n\u001b[0;32m      5\u001b[0m         \u001b[38;5;28;01mfor\u001b[39;00m service \u001b[38;5;129;01min\u001b[39;00m services:\n",
      "File \u001b[1;32m~\\anaconda3\\lib\\site-packages\\bleak\\__init__.py:491\u001b[0m, in \u001b[0;36mBleakClient.__aenter__\u001b[1;34m(self)\u001b[0m\n\u001b[0;32m    490\u001b[0m \u001b[38;5;28;01masync\u001b[39;00m \u001b[38;5;28;01mdef\u001b[39;00m \u001b[38;5;21m__aenter__\u001b[39m(\u001b[38;5;28mself\u001b[39m):\n\u001b[1;32m--> 491\u001b[0m     \u001b[38;5;28;01mawait\u001b[39;00m \u001b[38;5;28mself\u001b[39m\u001b[38;5;241m.\u001b[39mconnect()\n\u001b[0;32m    492\u001b[0m     \u001b[38;5;28;01mreturn\u001b[39;00m \u001b[38;5;28mself\u001b[39m\n",
      "File \u001b[1;32m~\\anaconda3\\lib\\site-packages\\bleak\\__init__.py:531\u001b[0m, in \u001b[0;36mBleakClient.connect\u001b[1;34m(self, **kwargs)\u001b[0m\n\u001b[0;32m    521\u001b[0m \u001b[38;5;28;01masync\u001b[39;00m \u001b[38;5;28;01mdef\u001b[39;00m \u001b[38;5;21mconnect\u001b[39m(\u001b[38;5;28mself\u001b[39m, \u001b[38;5;241m*\u001b[39m\u001b[38;5;241m*\u001b[39mkwargs) \u001b[38;5;241m-\u001b[39m\u001b[38;5;241m>\u001b[39m \u001b[38;5;28mbool\u001b[39m:\n\u001b[0;32m    522\u001b[0m     \u001b[38;5;124;03m\"\"\"Connect to the specified GATT server.\u001b[39;00m\n\u001b[0;32m    523\u001b[0m \n\u001b[0;32m    524\u001b[0m \u001b[38;5;124;03m    Args:\u001b[39;00m\n\u001b[1;32m   (...)\u001b[0m\n\u001b[0;32m    529\u001b[0m \n\u001b[0;32m    530\u001b[0m \u001b[38;5;124;03m    \"\"\"\u001b[39;00m\n\u001b[1;32m--> 531\u001b[0m     \u001b[38;5;28;01mreturn\u001b[39;00m \u001b[38;5;28;01mawait\u001b[39;00m \u001b[38;5;28mself\u001b[39m\u001b[38;5;241m.\u001b[39m_backend\u001b[38;5;241m.\u001b[39mconnect(\u001b[38;5;241m*\u001b[39m\u001b[38;5;241m*\u001b[39mkwargs)\n",
      "File \u001b[1;32m~\\anaconda3\\lib\\site-packages\\bleak\\backends\\winrt\\client.py:440\u001b[0m, in \u001b[0;36mBleakClientWinRT.connect\u001b[1;34m(self, **kwargs)\u001b[0m\n\u001b[0;32m    438\u001b[0m                 \u001b[38;5;28;01mpass\u001b[39;00m\n\u001b[0;32m    439\u001b[0m     \u001b[38;5;28;01melse\u001b[39;00m:\n\u001b[1;32m--> 440\u001b[0m         \u001b[38;5;28mself\u001b[39m\u001b[38;5;241m.\u001b[39mservices \u001b[38;5;241m=\u001b[39m \u001b[38;5;28;01mawait\u001b[39;00m \u001b[38;5;28mself\u001b[39m\u001b[38;5;241m.\u001b[39mget_services(\n\u001b[0;32m    441\u001b[0m             service_cache_mode\u001b[38;5;241m=\u001b[39mservice_cache_mode,\n\u001b[0;32m    442\u001b[0m             cache_mode\u001b[38;5;241m=\u001b[39mcache_mode,\n\u001b[0;32m    443\u001b[0m         )\n\u001b[0;32m    445\u001b[0m \u001b[38;5;66;03m# a connection may not be made until we request info from the\u001b[39;00m\n\u001b[0;32m    446\u001b[0m \u001b[38;5;66;03m# device, so we have to get services before the GATT session\u001b[39;00m\n\u001b[0;32m    447\u001b[0m \u001b[38;5;66;03m# is set to active\u001b[39;00m\n\u001b[0;32m    448\u001b[0m \u001b[38;5;28;01mawait\u001b[39;00m event\u001b[38;5;241m.\u001b[39mwait()\n",
      "File \u001b[1;32m~\\anaconda3\\lib\\site-packages\\bleak\\backends\\winrt\\client.py:706\u001b[0m, in \u001b[0;36mBleakClientWinRT.get_services\u001b[1;34m(self, service_cache_mode, cache_mode, **kwargs)\u001b[0m\n\u001b[0;32m    702\u001b[0m new_services\u001b[38;5;241m.\u001b[39madd_service(BleakGATTServiceWinRT(service))\n\u001b[0;32m    704\u001b[0m logger\u001b[38;5;241m.\u001b[39mdebug(\u001b[38;5;124m\"\u001b[39m\u001b[38;5;124mcalling get_characteristics_async\u001b[39m\u001b[38;5;124m\"\u001b[39m)\n\u001b[1;32m--> 706\u001b[0m characteristics: Sequence[GattCharacteristic] \u001b[38;5;241m=\u001b[39m \u001b[43m_ensure_success\u001b[49m\u001b[43m(\u001b[49m\n\u001b[0;32m    707\u001b[0m \u001b[43m    \u001b[49m\u001b[38;5;28;43;01mawait\u001b[39;49;00m\u001b[43m \u001b[49m\u001b[43mFutureLike\u001b[49m\u001b[43m(\u001b[49m\u001b[43mservice\u001b[49m\u001b[38;5;241;43m.\u001b[39;49m\u001b[43mget_characteristics_async\u001b[49m\u001b[43m(\u001b[49m\u001b[38;5;241;43m*\u001b[39;49m\u001b[43margs\u001b[49m\u001b[43m)\u001b[49m\u001b[43m)\u001b[49m\u001b[43m,\u001b[49m\n\u001b[0;32m    708\u001b[0m \u001b[43m    \u001b[49m\u001b[38;5;124;43m\"\u001b[39;49m\u001b[38;5;124;43mcharacteristics\u001b[39;49m\u001b[38;5;124;43m\"\u001b[39;49m\u001b[43m,\u001b[49m\n\u001b[0;32m    709\u001b[0m \u001b[43m    \u001b[49m\u001b[38;5;124;43mf\u001b[39;49m\u001b[38;5;124;43m\"\u001b[39;49m\u001b[38;5;124;43mCould not get GATT characteristics for \u001b[39;49m\u001b[38;5;132;43;01m{\u001b[39;49;00m\u001b[43mservice\u001b[49m\u001b[38;5;132;43;01m}\u001b[39;49;00m\u001b[38;5;124;43m\"\u001b[39;49m\u001b[43m,\u001b[49m\n\u001b[0;32m    710\u001b[0m \u001b[43m\u001b[49m\u001b[43m)\u001b[49m\n\u001b[0;32m    712\u001b[0m logger\u001b[38;5;241m.\u001b[39mdebug(\u001b[38;5;124m\"\u001b[39m\u001b[38;5;124mreturned from get_characteristics_async\u001b[39m\u001b[38;5;124m\"\u001b[39m)\n\u001b[0;32m    714\u001b[0m \u001b[38;5;28;01mfor\u001b[39;00m characteristic \u001b[38;5;129;01min\u001b[39;00m characteristics:\n",
      "File \u001b[1;32m~\\anaconda3\\lib\\site-packages\\bleak\\backends\\winrt\\client.py:120\u001b[0m, in \u001b[0;36m_ensure_success\u001b[1;34m(result, attr, fail_msg)\u001b[0m\n\u001b[0;32m    115\u001b[0m     \u001b[38;5;28;01mraise\u001b[39;00m BleakError(\n\u001b[0;32m    116\u001b[0m         \u001b[38;5;124mf\u001b[39m\u001b[38;5;124m\"\u001b[39m\u001b[38;5;132;01m{\u001b[39;00mfail_msg\u001b[38;5;132;01m}\u001b[39;00m\u001b[38;5;124m: Protocol Error 0x\u001b[39m\u001b[38;5;132;01m{\u001b[39;00mresult\u001b[38;5;241m.\u001b[39mprotocol_error\u001b[38;5;132;01m:\u001b[39;00m\u001b[38;5;124m02X\u001b[39m\u001b[38;5;132;01m}\u001b[39;00m\u001b[38;5;124m: \u001b[39m\u001b[38;5;132;01m{\u001b[39;00merr\u001b[38;5;132;01m}\u001b[39;00m\u001b[38;5;124m\"\u001b[39m\n\u001b[0;32m    117\u001b[0m     )\n\u001b[0;32m    119\u001b[0m \u001b[38;5;28;01mif\u001b[39;00m status \u001b[38;5;241m==\u001b[39m GattCommunicationStatus\u001b[38;5;241m.\u001b[39mACCESS_DENIED:\n\u001b[1;32m--> 120\u001b[0m     \u001b[38;5;28;01mraise\u001b[39;00m BleakError(\u001b[38;5;124mf\u001b[39m\u001b[38;5;124m\"\u001b[39m\u001b[38;5;132;01m{\u001b[39;00mfail_msg\u001b[38;5;132;01m}\u001b[39;00m\u001b[38;5;124m: Access Denied\u001b[39m\u001b[38;5;124m\"\u001b[39m)\n\u001b[0;32m    122\u001b[0m \u001b[38;5;28;01mif\u001b[39;00m status \u001b[38;5;241m==\u001b[39m GattCommunicationStatus\u001b[38;5;241m.\u001b[39mUNREACHABLE:\n\u001b[0;32m    123\u001b[0m     \u001b[38;5;28;01mraise\u001b[39;00m BleakError(\u001b[38;5;124mf\u001b[39m\u001b[38;5;124m\"\u001b[39m\u001b[38;5;132;01m{\u001b[39;00mfail_msg\u001b[38;5;132;01m}\u001b[39;00m\u001b[38;5;124m: Unreachable\u001b[39m\u001b[38;5;124m\"\u001b[39m)\n",
      "\u001b[1;31mBleakError\u001b[0m: Could not get GATT characteristics for <_bleak_winrt_Windows_Devices_Bluetooth_GenericAttributeProfile.GattDeviceService object at 0x000001705B6094D0>: Access Denied"
     ]
    }
   ],
   "source": [
    "async def discover_services_and_handles(device_address):\n",
    "    async with BleakClient(device_address, timeout=40) as client:\n",
    "        services = await client.get_services()\n",
    "\n",
    "        for service in services:\n",
    "            print(f\"Service: {service.uuid}\")\n",
    "            for characteristic in service.characteristics:\n",
    "                print(f\"Could not get GATT characteristics for {service.uuid} ({service.attribute_handle})\")\n",
    "\n",
    "\n",
    "asyncio.run(discover_services_and_handles(ADDRESS))"
   ]
  },
  {
   "cell_type": "code",
   "execution_count": null,
   "id": "1252233e",
   "metadata": {},
   "outputs": [],
   "source": [
    "     if device.address == address_to_look_for:\n",
    "            byte_data = advertisement_data.service_data.get(service_id_to_look_for)\n",
    "            num_to_test, = struct.unpack_from('<I', byte_data, 0)\n",
    "            if num_to_test == 62976:\n",
    "                print('\\t\\tDevice found so we terminate')\n",
    "                self.scanning.clear()"
   ]
  }
 ],
 "metadata": {
  "kernelspec": {
   "display_name": "Python 3 (ipykernel)",
   "language": "python",
   "name": "python3"
  },
  "language_info": {
   "codemirror_mode": {
    "name": "ipython",
    "version": 3
   },
   "file_extension": ".py",
   "mimetype": "text/x-python",
   "name": "python",
   "nbconvert_exporter": "python",
   "pygments_lexer": "ipython3",
   "version": "3.10.9"
  }
 },
 "nbformat": 4,
 "nbformat_minor": 5
}
