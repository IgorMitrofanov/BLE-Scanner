{
 "cells": [
  {
   "cell_type": "code",
   "execution_count": 2,
   "id": "9099f259",
   "metadata": {},
   "outputs": [],
   "source": [
    "import nest_asyncio\n",
    "nest_asyncio.apply()"
   ]
  },
  {
   "cell_type": "code",
   "execution_count": 12,
   "id": "53255336",
   "metadata": {},
   "outputs": [
    {
     "ename": "BleakDeviceNotFoundError",
     "evalue": "Device with address DD:53:A5:1A:65:28 was not found.",
     "output_type": "error",
     "traceback": [
      "\u001b[1;31m---------------------------------------------------------------------------\u001b[0m",
      "\u001b[1;31mBleakDeviceNotFoundError\u001b[0m                  Traceback (most recent call last)",
      "Cell \u001b[1;32mIn[12], line 34\u001b[0m\n\u001b[0;32m     31\u001b[0m                 \u001b[38;5;28;01mbreak\u001b[39;00m\n\u001b[0;32m     33\u001b[0m loop \u001b[38;5;241m=\u001b[39m asyncio\u001b[38;5;241m.\u001b[39mget_event_loop()\n\u001b[1;32m---> 34\u001b[0m \u001b[43mloop\u001b[49m\u001b[38;5;241;43m.\u001b[39;49m\u001b[43mrun_until_complete\u001b[49m\u001b[43m(\u001b[49m\u001b[43mrun\u001b[49m\u001b[43m(\u001b[49m\u001b[43m)\u001b[49m\u001b[43m)\u001b[49m\n",
      "File \u001b[1;32mC:\\ProgramData\\anaconda3\\lib\\site-packages\\nest_asyncio.py:90\u001b[0m, in \u001b[0;36m_patch_loop.<locals>.run_until_complete\u001b[1;34m(self, future)\u001b[0m\n\u001b[0;32m     87\u001b[0m \u001b[38;5;28;01mif\u001b[39;00m \u001b[38;5;129;01mnot\u001b[39;00m f\u001b[38;5;241m.\u001b[39mdone():\n\u001b[0;32m     88\u001b[0m     \u001b[38;5;28;01mraise\u001b[39;00m \u001b[38;5;167;01mRuntimeError\u001b[39;00m(\n\u001b[0;32m     89\u001b[0m         \u001b[38;5;124m'\u001b[39m\u001b[38;5;124mEvent loop stopped before Future completed.\u001b[39m\u001b[38;5;124m'\u001b[39m)\n\u001b[1;32m---> 90\u001b[0m \u001b[38;5;28;01mreturn\u001b[39;00m \u001b[43mf\u001b[49m\u001b[38;5;241;43m.\u001b[39;49m\u001b[43mresult\u001b[49m\u001b[43m(\u001b[49m\u001b[43m)\u001b[49m\n",
      "File \u001b[1;32mC:\\ProgramData\\anaconda3\\lib\\asyncio\\futures.py:201\u001b[0m, in \u001b[0;36mFuture.result\u001b[1;34m(self)\u001b[0m\n\u001b[0;32m    199\u001b[0m \u001b[38;5;28mself\u001b[39m\u001b[38;5;241m.\u001b[39m__log_traceback \u001b[38;5;241m=\u001b[39m \u001b[38;5;28;01mFalse\u001b[39;00m\n\u001b[0;32m    200\u001b[0m \u001b[38;5;28;01mif\u001b[39;00m \u001b[38;5;28mself\u001b[39m\u001b[38;5;241m.\u001b[39m_exception \u001b[38;5;129;01mis\u001b[39;00m \u001b[38;5;129;01mnot\u001b[39;00m \u001b[38;5;28;01mNone\u001b[39;00m:\n\u001b[1;32m--> 201\u001b[0m     \u001b[38;5;28;01mraise\u001b[39;00m \u001b[38;5;28mself\u001b[39m\u001b[38;5;241m.\u001b[39m_exception\u001b[38;5;241m.\u001b[39mwith_traceback(\u001b[38;5;28mself\u001b[39m\u001b[38;5;241m.\u001b[39m_exception_tb)\n\u001b[0;32m    202\u001b[0m \u001b[38;5;28;01mreturn\u001b[39;00m \u001b[38;5;28mself\u001b[39m\u001b[38;5;241m.\u001b[39m_result\n",
      "File \u001b[1;32mC:\\ProgramData\\anaconda3\\lib\\asyncio\\tasks.py:232\u001b[0m, in \u001b[0;36mTask.__step\u001b[1;34m(***failed resolving arguments***)\u001b[0m\n\u001b[0;32m    228\u001b[0m \u001b[38;5;28;01mtry\u001b[39;00m:\n\u001b[0;32m    229\u001b[0m     \u001b[38;5;28;01mif\u001b[39;00m exc \u001b[38;5;129;01mis\u001b[39;00m \u001b[38;5;28;01mNone\u001b[39;00m:\n\u001b[0;32m    230\u001b[0m         \u001b[38;5;66;03m# We use the `send` method directly, because coroutines\u001b[39;00m\n\u001b[0;32m    231\u001b[0m         \u001b[38;5;66;03m# don't have `__iter__` and `__next__` methods.\u001b[39;00m\n\u001b[1;32m--> 232\u001b[0m         result \u001b[38;5;241m=\u001b[39m \u001b[43mcoro\u001b[49m\u001b[38;5;241;43m.\u001b[39;49m\u001b[43msend\u001b[49m\u001b[43m(\u001b[49m\u001b[38;5;28;43;01mNone\u001b[39;49;00m\u001b[43m)\u001b[49m\n\u001b[0;32m    233\u001b[0m     \u001b[38;5;28;01melse\u001b[39;00m:\n\u001b[0;32m    234\u001b[0m         result \u001b[38;5;241m=\u001b[39m coro\u001b[38;5;241m.\u001b[39mthrow(exc)\n",
      "Cell \u001b[1;32mIn[12], line 12\u001b[0m, in \u001b[0;36mrun\u001b[1;34m()\u001b[0m\n\u001b[0;32m     11\u001b[0m \u001b[38;5;28;01masync\u001b[39;00m \u001b[38;5;28;01mdef\u001b[39;00m \u001b[38;5;21mrun\u001b[39m():\n\u001b[1;32m---> 12\u001b[0m     \u001b[38;5;28;01masync\u001b[39;00m \u001b[38;5;28;01mwith\u001b[39;00m BleakClient(device_mac_address) \u001b[38;5;28;01mas\u001b[39;00m client:\n\u001b[0;32m     13\u001b[0m         \u001b[38;5;66;03m# Поиск сервисов и дескрипторов\u001b[39;00m\n\u001b[0;32m     14\u001b[0m         services \u001b[38;5;241m=\u001b[39m \u001b[38;5;28;01mawait\u001b[39;00m client\u001b[38;5;241m.\u001b[39mget_services()\n\u001b[0;32m     15\u001b[0m         \u001b[38;5;28;01mfor\u001b[39;00m service \u001b[38;5;129;01min\u001b[39;00m services:\n",
      "File \u001b[1;32m~\\AppData\\Roaming\\Python\\Python310\\site-packages\\bleak\\__init__.py:491\u001b[0m, in \u001b[0;36mBleakClient.__aenter__\u001b[1;34m(self)\u001b[0m\n\u001b[0;32m    490\u001b[0m \u001b[38;5;28;01masync\u001b[39;00m \u001b[38;5;28;01mdef\u001b[39;00m \u001b[38;5;21m__aenter__\u001b[39m(\u001b[38;5;28mself\u001b[39m):\n\u001b[1;32m--> 491\u001b[0m     \u001b[38;5;28;01mawait\u001b[39;00m \u001b[38;5;28mself\u001b[39m\u001b[38;5;241m.\u001b[39mconnect()\n\u001b[0;32m    492\u001b[0m     \u001b[38;5;28;01mreturn\u001b[39;00m \u001b[38;5;28mself\u001b[39m\n",
      "File \u001b[1;32m~\\AppData\\Roaming\\Python\\Python310\\site-packages\\bleak\\__init__.py:531\u001b[0m, in \u001b[0;36mBleakClient.connect\u001b[1;34m(self, **kwargs)\u001b[0m\n\u001b[0;32m    521\u001b[0m \u001b[38;5;28;01masync\u001b[39;00m \u001b[38;5;28;01mdef\u001b[39;00m \u001b[38;5;21mconnect\u001b[39m(\u001b[38;5;28mself\u001b[39m, \u001b[38;5;241m*\u001b[39m\u001b[38;5;241m*\u001b[39mkwargs) \u001b[38;5;241m-\u001b[39m\u001b[38;5;241m>\u001b[39m \u001b[38;5;28mbool\u001b[39m:\n\u001b[0;32m    522\u001b[0m     \u001b[38;5;124;03m\"\"\"Connect to the specified GATT server.\u001b[39;00m\n\u001b[0;32m    523\u001b[0m \n\u001b[0;32m    524\u001b[0m \u001b[38;5;124;03m    Args:\u001b[39;00m\n\u001b[1;32m   (...)\u001b[0m\n\u001b[0;32m    529\u001b[0m \n\u001b[0;32m    530\u001b[0m \u001b[38;5;124;03m    \"\"\"\u001b[39;00m\n\u001b[1;32m--> 531\u001b[0m     \u001b[38;5;28;01mreturn\u001b[39;00m \u001b[38;5;28;01mawait\u001b[39;00m \u001b[38;5;28mself\u001b[39m\u001b[38;5;241m.\u001b[39m_backend\u001b[38;5;241m.\u001b[39mconnect(\u001b[38;5;241m*\u001b[39m\u001b[38;5;241m*\u001b[39mkwargs)\n",
      "File \u001b[1;32m~\\AppData\\Roaming\\Python\\Python310\\site-packages\\bleak\\backends\\winrt\\client.py:247\u001b[0m, in \u001b[0;36mBleakClientWinRT.connect\u001b[1;34m(self, **kwargs)\u001b[0m\n\u001b[0;32m    242\u001b[0m     device \u001b[38;5;241m=\u001b[39m \u001b[38;5;28;01mawait\u001b[39;00m BleakScanner\u001b[38;5;241m.\u001b[39mfind_device_by_address(\n\u001b[0;32m    243\u001b[0m         \u001b[38;5;28mself\u001b[39m\u001b[38;5;241m.\u001b[39maddress, timeout\u001b[38;5;241m=\u001b[39mtimeout, backend\u001b[38;5;241m=\u001b[39mBleakScannerWinRT\n\u001b[0;32m    244\u001b[0m     )\n\u001b[0;32m    246\u001b[0m     \u001b[38;5;28;01mif\u001b[39;00m device \u001b[38;5;129;01mis\u001b[39;00m \u001b[38;5;28;01mNone\u001b[39;00m:\n\u001b[1;32m--> 247\u001b[0m         \u001b[38;5;28;01mraise\u001b[39;00m BleakDeviceNotFoundError(\n\u001b[0;32m    248\u001b[0m             \u001b[38;5;28mself\u001b[39m\u001b[38;5;241m.\u001b[39maddress, \u001b[38;5;124mf\u001b[39m\u001b[38;5;124m\"\u001b[39m\u001b[38;5;124mDevice with address \u001b[39m\u001b[38;5;132;01m{\u001b[39;00m\u001b[38;5;28mself\u001b[39m\u001b[38;5;241m.\u001b[39maddress\u001b[38;5;132;01m}\u001b[39;00m\u001b[38;5;124m was not found.\u001b[39m\u001b[38;5;124m\"\u001b[39m\n\u001b[0;32m    249\u001b[0m         )\n\u001b[0;32m    251\u001b[0m     \u001b[38;5;28mself\u001b[39m\u001b[38;5;241m.\u001b[39m_device_info \u001b[38;5;241m=\u001b[39m device\u001b[38;5;241m.\u001b[39mdetails\u001b[38;5;241m.\u001b[39madv\u001b[38;5;241m.\u001b[39mbluetooth_address\n\u001b[0;32m    253\u001b[0m logger\u001b[38;5;241m.\u001b[39mdebug(\u001b[38;5;124m\"\u001b[39m\u001b[38;5;124mConnecting to BLE device @ \u001b[39m\u001b[38;5;132;01m%s\u001b[39;00m\u001b[38;5;124m\"\u001b[39m, \u001b[38;5;28mself\u001b[39m\u001b[38;5;241m.\u001b[39maddress)\n",
      "\u001b[1;31mBleakDeviceNotFoundError\u001b[0m: Device with address DD:53:A5:1A:65:28 was not found."
     ]
    }
   ],
   "source": [
    "import asyncio\n",
    "from bleak import BleakClient\n",
    "\n",
    "# MAC-адрес BLE устройства\n",
    "device_mac_address = 'DD:53:A5:1A:65:28'\n",
    "\n",
    "# UUID сервиса и дескриптора\n",
    "service_uuid = '6e400001-b5a3-f393-30a9-ffeeddc5e727'\n",
    "descriptor_uuid = '6e400003-b5a3-f393-30a9-ffeeddc5e727'\n",
    "\n",
    "async def run():\n",
    "    async with BleakClient(device_mac_address) as client:\n",
    "        # Поиск сервисов и дескрипторов\n",
    "        services = await client.get_services()\n",
    "        for service in services:\n",
    "            if service.uuid == service_uuid:\n",
    "                descriptors = await service.get_characteristics()\n",
    "                for descriptor in descriptors:\n",
    "                    print(descriptor)\n",
    "                    print(descriptor.uuid)\n",
    "                    if descriptor.uuid == descriptor_uuid:\n",
    "                        \n",
    "                        new_value = b'GD\\r'\n",
    "                        await client.write_gatt_descriptor(descriptor.handle, new_value)\n",
    "                        print(\"Value written.\")\n",
    "                                                # Чтение значения дескриптора\n",
    "                        value = await client.read_gatt_descriptor(descriptor.handle)\n",
    "                        print(f\"Value: {value}\")\n",
    "                        \n",
    "                        break\n",
    "                break\n",
    "\n",
    "loop = asyncio.get_event_loop()\n",
    "loop.run_until_complete(run())"
   ]
  },
  {
   "cell_type": "code",
   "execution_count": null,
   "id": "02b0abfb",
   "metadata": {},
   "outputs": [],
   "source": []
  },
  {
   "cell_type": "code",
   "execution_count": null,
   "id": "ac0e1a59",
   "metadata": {},
   "outputs": [],
   "source": []
  },
  {
   "cell_type": "code",
   "execution_count": 1,
   "id": "e5257346",
   "metadata": {
    "scrolled": false
   },
   "outputs": [
    {
     "name": "stderr",
     "output_type": "stream",
     "text": [
      "C:\\Users\\Dukalis\\AppData\\Local\\Temp\\ipykernel_10336\\2608258331.py:21: FutureWarning: BLEDevice.rssi is deprecated and will be removed in a future version of Bleak, use AdvertisementData.rssi instead\n",
      "  \"rssi\": device.rssi,\n",
      "C:\\Users\\Dukalis\\AppData\\Local\\Temp\\ipykernel_10336\\2608258331.py:22: FutureWarning: BLEDevice.metadata is deprecated and will be removed in a future version of Bleak, use AdvertisementData instead\n",
      "  \"metadata\": device.metadata,\n",
      "C:\\Users\\Dukalis\\AppData\\Local\\Temp\\ipykernel_10336\\2608258331.py:31: SettingWithCopyWarning: \n",
      "A value is trying to be set on a copy of a slice from a DataFrame.\n",
      "Try using .loc[row_indexer,col_indexer] = value instead\n",
      "\n",
      "See the caveats in the documentation: https://pandas.pydata.org/pandas-docs/stable/user_guide/indexing.html#returning-a-view-versus-a-copy\n",
      "  filtered_df[\"number\"] = filtered_df[\"name\"].str.extract(pattern, expand=False).astype(int)\n"
     ]
    }
   ],
   "source": [
    "import nest_asyncio\n",
    "nest_asyncio.apply()\n",
    "\n",
    "import asyncio\n",
    "from bleak import BleakScanner\n",
    "import pandas as pd\n",
    "\n",
    "async def run():\n",
    "    devices = await BleakScanner.discover(timeout=30) \n",
    "    return devices\n",
    "\n",
    "loop = asyncio.get_event_loop()\n",
    "result = loop.run_until_complete(run())\n",
    "\n",
    "if result is not None:\n",
    "    data = []\n",
    "    for device in result:\n",
    "        if device.name is not None:\n",
    "            data.append({\n",
    "                \"name\": device.name,\n",
    "                \"rssi\": device.rssi,\n",
    "                \"metadata\": device.metadata,\n",
    "                \"address\": device.address,\n",
    "                \"device\": device\n",
    "            })\n",
    "    if len(data) > 0:\n",
    "        df = pd.DataFrame(data)\n",
    "        sorted_df = df.sort_values(by=[\"rssi\"], ascending=False)\n",
    "        filtered_df = sorted_df[sorted_df[\"name\"].str.startswith(\"TD_\")]\n",
    "        pattern = r\"TD_(\\d+)\"\n",
    "        filtered_df[\"number\"] = filtered_df[\"name\"].str.extract(pattern, expand=False).astype(int)\n",
    "    else:\n",
    "        print(\"No TD devices found.\")\n",
    "else:\n",
    "    print(\"No devices found.\")"
   ]
  },
  {
   "cell_type": "code",
   "execution_count": 1,
   "id": "ef338914",
   "metadata": {},
   "outputs": [],
   "source": [
    "import nest_asyncio\n",
    "nest_asyncio.apply()"
   ]
  },
  {
   "cell_type": "code",
   "execution_count": 2,
   "id": "d8a2b407",
   "metadata": {},
   "outputs": [
    {
     "ename": "BleakError",
     "evalue": "Characteristic 6e400003-b5a3-f393-30a9-ffeeddc5e727 was not found!",
     "output_type": "error",
     "traceback": [
      "\u001b[1;31m---------------------------------------------------------------------------\u001b[0m",
      "\u001b[1;31mBleakError\u001b[0m                                Traceback (most recent call last)",
      "Cell \u001b[1;32mIn[2], line 12\u001b[0m\n\u001b[0;32m      9\u001b[0m         model_number \u001b[38;5;241m=\u001b[39m \u001b[38;5;28;01mawait\u001b[39;00m client\u001b[38;5;241m.\u001b[39mread_gatt_char(MODEL_NBR_UUID)\n\u001b[0;32m     10\u001b[0m         \u001b[38;5;28mprint\u001b[39m(\u001b[38;5;124m\"\u001b[39m\u001b[38;5;124mModel Number: \u001b[39m\u001b[38;5;132;01m{0}\u001b[39;00m\u001b[38;5;124m\"\u001b[39m\u001b[38;5;241m.\u001b[39mformat(\u001b[38;5;124m\"\u001b[39m\u001b[38;5;124m\"\u001b[39m\u001b[38;5;241m.\u001b[39mjoin(\u001b[38;5;28mmap\u001b[39m(\u001b[38;5;28mchr\u001b[39m, model_number))))\n\u001b[1;32m---> 12\u001b[0m \u001b[43masyncio\u001b[49m\u001b[38;5;241;43m.\u001b[39;49m\u001b[43mrun\u001b[49m\u001b[43m(\u001b[49m\u001b[43mmain\u001b[49m\u001b[43m(\u001b[49m\u001b[43maddress\u001b[49m\u001b[43m)\u001b[49m\u001b[43m)\u001b[49m\n",
      "File \u001b[1;32mC:\\ProgramData\\anaconda3\\lib\\site-packages\\nest_asyncio.py:35\u001b[0m, in \u001b[0;36m_patch_asyncio.<locals>.run\u001b[1;34m(main, debug)\u001b[0m\n\u001b[0;32m     33\u001b[0m task \u001b[38;5;241m=\u001b[39m asyncio\u001b[38;5;241m.\u001b[39mensure_future(main)\n\u001b[0;32m     34\u001b[0m \u001b[38;5;28;01mtry\u001b[39;00m:\n\u001b[1;32m---> 35\u001b[0m     \u001b[38;5;28;01mreturn\u001b[39;00m \u001b[43mloop\u001b[49m\u001b[38;5;241;43m.\u001b[39;49m\u001b[43mrun_until_complete\u001b[49m\u001b[43m(\u001b[49m\u001b[43mtask\u001b[49m\u001b[43m)\u001b[49m\n\u001b[0;32m     36\u001b[0m \u001b[38;5;28;01mfinally\u001b[39;00m:\n\u001b[0;32m     37\u001b[0m     \u001b[38;5;28;01mif\u001b[39;00m \u001b[38;5;129;01mnot\u001b[39;00m task\u001b[38;5;241m.\u001b[39mdone():\n",
      "File \u001b[1;32mC:\\ProgramData\\anaconda3\\lib\\site-packages\\nest_asyncio.py:90\u001b[0m, in \u001b[0;36m_patch_loop.<locals>.run_until_complete\u001b[1;34m(self, future)\u001b[0m\n\u001b[0;32m     87\u001b[0m \u001b[38;5;28;01mif\u001b[39;00m \u001b[38;5;129;01mnot\u001b[39;00m f\u001b[38;5;241m.\u001b[39mdone():\n\u001b[0;32m     88\u001b[0m     \u001b[38;5;28;01mraise\u001b[39;00m \u001b[38;5;167;01mRuntimeError\u001b[39;00m(\n\u001b[0;32m     89\u001b[0m         \u001b[38;5;124m'\u001b[39m\u001b[38;5;124mEvent loop stopped before Future completed.\u001b[39m\u001b[38;5;124m'\u001b[39m)\n\u001b[1;32m---> 90\u001b[0m \u001b[38;5;28;01mreturn\u001b[39;00m \u001b[43mf\u001b[49m\u001b[38;5;241;43m.\u001b[39;49m\u001b[43mresult\u001b[49m\u001b[43m(\u001b[49m\u001b[43m)\u001b[49m\n",
      "File \u001b[1;32mC:\\ProgramData\\anaconda3\\lib\\asyncio\\futures.py:201\u001b[0m, in \u001b[0;36mFuture.result\u001b[1;34m(self)\u001b[0m\n\u001b[0;32m    199\u001b[0m \u001b[38;5;28mself\u001b[39m\u001b[38;5;241m.\u001b[39m__log_traceback \u001b[38;5;241m=\u001b[39m \u001b[38;5;28;01mFalse\u001b[39;00m\n\u001b[0;32m    200\u001b[0m \u001b[38;5;28;01mif\u001b[39;00m \u001b[38;5;28mself\u001b[39m\u001b[38;5;241m.\u001b[39m_exception \u001b[38;5;129;01mis\u001b[39;00m \u001b[38;5;129;01mnot\u001b[39;00m \u001b[38;5;28;01mNone\u001b[39;00m:\n\u001b[1;32m--> 201\u001b[0m     \u001b[38;5;28;01mraise\u001b[39;00m \u001b[38;5;28mself\u001b[39m\u001b[38;5;241m.\u001b[39m_exception\u001b[38;5;241m.\u001b[39mwith_traceback(\u001b[38;5;28mself\u001b[39m\u001b[38;5;241m.\u001b[39m_exception_tb)\n\u001b[0;32m    202\u001b[0m \u001b[38;5;28;01mreturn\u001b[39;00m \u001b[38;5;28mself\u001b[39m\u001b[38;5;241m.\u001b[39m_result\n",
      "File \u001b[1;32mC:\\ProgramData\\anaconda3\\lib\\asyncio\\tasks.py:232\u001b[0m, in \u001b[0;36mTask.__step\u001b[1;34m(***failed resolving arguments***)\u001b[0m\n\u001b[0;32m    228\u001b[0m \u001b[38;5;28;01mtry\u001b[39;00m:\n\u001b[0;32m    229\u001b[0m     \u001b[38;5;28;01mif\u001b[39;00m exc \u001b[38;5;129;01mis\u001b[39;00m \u001b[38;5;28;01mNone\u001b[39;00m:\n\u001b[0;32m    230\u001b[0m         \u001b[38;5;66;03m# We use the `send` method directly, because coroutines\u001b[39;00m\n\u001b[0;32m    231\u001b[0m         \u001b[38;5;66;03m# don't have `__iter__` and `__next__` methods.\u001b[39;00m\n\u001b[1;32m--> 232\u001b[0m         result \u001b[38;5;241m=\u001b[39m \u001b[43mcoro\u001b[49m\u001b[38;5;241;43m.\u001b[39;49m\u001b[43msend\u001b[49m\u001b[43m(\u001b[49m\u001b[38;5;28;43;01mNone\u001b[39;49;00m\u001b[43m)\u001b[49m\n\u001b[0;32m    233\u001b[0m     \u001b[38;5;28;01melse\u001b[39;00m:\n\u001b[0;32m    234\u001b[0m         result \u001b[38;5;241m=\u001b[39m coro\u001b[38;5;241m.\u001b[39mthrow(exc)\n",
      "Cell \u001b[1;32mIn[2], line 9\u001b[0m, in \u001b[0;36mmain\u001b[1;34m(address)\u001b[0m\n\u001b[0;32m      7\u001b[0m \u001b[38;5;28;01masync\u001b[39;00m \u001b[38;5;28;01mdef\u001b[39;00m \u001b[38;5;21mmain\u001b[39m(address):\n\u001b[0;32m      8\u001b[0m     \u001b[38;5;28;01masync\u001b[39;00m \u001b[38;5;28;01mwith\u001b[39;00m BleakClient(address) \u001b[38;5;28;01mas\u001b[39;00m client:\n\u001b[1;32m----> 9\u001b[0m         model_number \u001b[38;5;241m=\u001b[39m \u001b[38;5;28;01mawait\u001b[39;00m client\u001b[38;5;241m.\u001b[39mread_gatt_char(MODEL_NBR_UUID)\n\u001b[0;32m     10\u001b[0m         \u001b[38;5;28mprint\u001b[39m(\u001b[38;5;124m\"\u001b[39m\u001b[38;5;124mModel Number: \u001b[39m\u001b[38;5;132;01m{0}\u001b[39;00m\u001b[38;5;124m\"\u001b[39m\u001b[38;5;241m.\u001b[39mformat(\u001b[38;5;124m\"\u001b[39m\u001b[38;5;124m\"\u001b[39m\u001b[38;5;241m.\u001b[39mjoin(\u001b[38;5;28mmap\u001b[39m(\u001b[38;5;28mchr\u001b[39m, model_number))))\n",
      "File \u001b[1;32m~\\AppData\\Roaming\\Python\\Python310\\site-packages\\bleak\\__init__.py:637\u001b[0m, in \u001b[0;36mBleakClient.read_gatt_char\u001b[1;34m(self, char_specifier, **kwargs)\u001b[0m\n\u001b[0;32m    619\u001b[0m \u001b[38;5;28;01masync\u001b[39;00m \u001b[38;5;28;01mdef\u001b[39;00m \u001b[38;5;21mread_gatt_char\u001b[39m(\n\u001b[0;32m    620\u001b[0m     \u001b[38;5;28mself\u001b[39m,\n\u001b[0;32m    621\u001b[0m     char_specifier: Union[BleakGATTCharacteristic, \u001b[38;5;28mint\u001b[39m, \u001b[38;5;28mstr\u001b[39m, uuid\u001b[38;5;241m.\u001b[39mUUID],\n\u001b[0;32m    622\u001b[0m     \u001b[38;5;241m*\u001b[39m\u001b[38;5;241m*\u001b[39mkwargs,\n\u001b[0;32m    623\u001b[0m ) \u001b[38;5;241m-\u001b[39m\u001b[38;5;241m>\u001b[39m \u001b[38;5;28mbytearray\u001b[39m:\n\u001b[0;32m    624\u001b[0m     \u001b[38;5;124;03m\"\"\"\u001b[39;00m\n\u001b[0;32m    625\u001b[0m \u001b[38;5;124;03m    Perform read operation on the specified GATT characteristic.\u001b[39;00m\n\u001b[0;32m    626\u001b[0m \n\u001b[1;32m   (...)\u001b[0m\n\u001b[0;32m    635\u001b[0m \n\u001b[0;32m    636\u001b[0m \u001b[38;5;124;03m    \"\"\"\u001b[39;00m\n\u001b[1;32m--> 637\u001b[0m     \u001b[38;5;28;01mreturn\u001b[39;00m \u001b[38;5;28;01mawait\u001b[39;00m \u001b[38;5;28mself\u001b[39m\u001b[38;5;241m.\u001b[39m_backend\u001b[38;5;241m.\u001b[39mread_gatt_char(char_specifier, \u001b[38;5;241m*\u001b[39m\u001b[38;5;241m*\u001b[39mkwargs)\n",
      "File \u001b[1;32m~\\AppData\\Roaming\\Python\\Python310\\site-packages\\bleak\\backends\\winrt\\client.py:781\u001b[0m, in \u001b[0;36mBleakClientWinRT.read_gatt_char\u001b[1;34m(self, char_specifier, **kwargs)\u001b[0m\n\u001b[0;32m    779\u001b[0m     characteristic \u001b[38;5;241m=\u001b[39m char_specifier\n\u001b[0;32m    780\u001b[0m \u001b[38;5;28;01mif\u001b[39;00m \u001b[38;5;129;01mnot\u001b[39;00m characteristic:\n\u001b[1;32m--> 781\u001b[0m     \u001b[38;5;28;01mraise\u001b[39;00m BleakError(\u001b[38;5;124mf\u001b[39m\u001b[38;5;124m\"\u001b[39m\u001b[38;5;124mCharacteristic \u001b[39m\u001b[38;5;132;01m{\u001b[39;00mchar_specifier\u001b[38;5;132;01m}\u001b[39;00m\u001b[38;5;124m was not found!\u001b[39m\u001b[38;5;124m\"\u001b[39m)\n\u001b[0;32m    783\u001b[0m value \u001b[38;5;241m=\u001b[39m \u001b[38;5;28mbytearray\u001b[39m(\n\u001b[0;32m    784\u001b[0m     _ensure_success(\n\u001b[0;32m    785\u001b[0m         \u001b[38;5;28;01mawait\u001b[39;00m characteristic\u001b[38;5;241m.\u001b[39mobj\u001b[38;5;241m.\u001b[39mread_value_async(\n\u001b[1;32m   (...)\u001b[0m\n\u001b[0;32m    792\u001b[0m     )\n\u001b[0;32m    793\u001b[0m )\n\u001b[0;32m    795\u001b[0m logger\u001b[38;5;241m.\u001b[39mdebug(\u001b[38;5;124m\"\u001b[39m\u001b[38;5;124mRead Characteristic \u001b[39m\u001b[38;5;132;01m%04X\u001b[39;00m\u001b[38;5;124m : \u001b[39m\u001b[38;5;132;01m%s\u001b[39;00m\u001b[38;5;124m\"\u001b[39m, characteristic\u001b[38;5;241m.\u001b[39mhandle, value)\n",
      "\u001b[1;31mBleakError\u001b[0m: Characteristic 6e400003-b5a3-f393-30a9-ffeeddc5e727 was not found!"
     ]
    }
   ],
   "source": [
    "import asyncio\n",
    "from bleak import BleakClient\n",
    "\n",
    "address = 'DD:53:A5:1A:65:28'\n",
    "MODEL_NBR_UUID = \"6e400003-b5a3-f393-30a9-ffeeddc5e727\"\n",
    "\n",
    "async def main(address):\n",
    "    async with BleakClient(address) as client:\n",
    "        model_number = await client.read_gatt_char(MODEL_NBR_UUID)\n",
    "        print(\"Model Number: {0}\".format(\"\".join(map(chr, model_number))))\n",
    "\n",
    "asyncio.run(main(address))"
   ]
  },
  {
   "cell_type": "code",
   "execution_count": 2,
   "id": "c93a65b2",
   "metadata": {},
   "outputs": [],
   "source": [
    "def create_device_list(start, end):\n",
    "    device_list = []\n",
    "    for i in range(start, end+1):\n",
    "        device_name = \"TD_\" + str(i)\n",
    "        device_list.append(device_name)\n",
    "    return device_list"
   ]
  },
  {
   "cell_type": "code",
   "execution_count": 3,
   "id": "b104d9e0",
   "metadata": {},
   "outputs": [],
   "source": [
    "req_device_list = create_device_list(383448, 387440)"
   ]
  },
  {
   "cell_type": "code",
   "execution_count": 4,
   "id": "39603c63",
   "metadata": {},
   "outputs": [
    {
     "name": "stdout",
     "output_type": "stream",
     "text": [
      "Отфильтрованный датафрейм:\n",
      "          name  rssi                                           metadata  \\\n",
      "41   TD_386855   -62  {'uuids': ['6e400001-b5a3-f393-e0a9-ffeeddc5e7...   \n",
      "227  TD_387440   -60  {'uuids': [], 'manufacturer_data': {3862: b'\\x...   \n",
      "252  TD_383449   -56  {'uuids': [], 'manufacturer_data': {3862: b'\\x...   \n",
      "\n",
      "               address                        device  \n",
      "41   DD:53:A5:1A:65:28  DD:53:A5:1A:65:28: TD_386855  \n",
      "227  C7:B3:53:CE:54:E9  C7:B3:53:CE:54:E9: TD_387440  \n",
      "252  E2:F1:F3:8C:E1:45  E2:F1:F3:8C:E1:45: TD_383449  \n",
      "Отсутствующие устройства:\n",
      "{'TD_385485', 'TD_385817', 'TD_385681', 'TD_385875', 'TD_384134', 'TD_386888', 'TD_387303', 'TD_387218', 'TD_384733', 'TD_385409', 'TD_385735', 'TD_386893', 'TD_386953', 'TD_385387', 'TD_384149', 'TD_385717', 'TD_386266', 'TD_387401', 'TD_383842', 'TD_386529', 'TD_387413', 'TD_384839', 'TD_386296', 'TD_385426', 'TD_386713', 'TD_387322', 'TD_384591', 'TD_385342', 'TD_387171', 'TD_385115', 'TD_384622', 'TD_387133', 'TD_386814', 'TD_384195', 'TD_384605', 'TD_385234', 'TD_385858', 'TD_385934', 'TD_387105', 'TD_386100', 'TD_384284', 'TD_386096', 'TD_384598', 'TD_386531', 'TD_385527', 'TD_385839', 'TD_387274', 'TD_385084', 'TD_385833', 'TD_387385', 'TD_383685', 'TD_384090', 'TD_386969', 'TD_384030', 'TD_383494', 'TD_383606', 'TD_385783', 'TD_386923', 'TD_384597', 'TD_383607', 'TD_383801', 'TD_383921', 'TD_384212', 'TD_387263', 'TD_385508', 'TD_385411', 'TD_387374', 'TD_386624', 'TD_387412', 'TD_385386', 'TD_386909', 'TD_385772', 'TD_386538', 'TD_384946', 'TD_387006', 'TD_386992', 'TD_385792', 'TD_384017', 'TD_386676', 'TD_386056', 'TD_384175', 'TD_385620', 'TD_386098', 'TD_387215', 'TD_385445', 'TD_385042', 'TD_384279', 'TD_383861', 'TD_383488', 'TD_385321', 'TD_384999', 'TD_386977', 'TD_383622', 'TD_386747', 'TD_385356', 'TD_384604', 'TD_384796', 'TD_386399', 'TD_387172', 'TD_385670', 'TD_384140', 'TD_384215', 'TD_383716', 'TD_386165', 'TD_387107', 'TD_384428', 'TD_386658', 'TD_385524', 'TD_383671', 'TD_386077', 'TD_386255', 'TD_385650', 'TD_384435', 'TD_383646', 'TD_385208', 'TD_383649', 'TD_383672', 'TD_384365', 'TD_385302', 'TD_386095', 'TD_385440', 'TD_385456', 'TD_387126', 'TD_387003', 'TD_384831', 'TD_387209', 'TD_385198', 'TD_386325', 'TD_383652', 'TD_384706', 'TD_384971', 'TD_386645', 'TD_386655', 'TD_386652', 'TD_385159', 'TD_387353', 'TD_385064', 'TD_384778', 'TD_386248', 'TD_386018', 'TD_386125', 'TD_386690', 'TD_383612', 'TD_385690', 'TD_386745', 'TD_385905', 'TD_384650', 'TD_384160', 'TD_386632', 'TD_387225', 'TD_383634', 'TD_387051', 'TD_383520', 'TD_383521', 'TD_383783', 'TD_384133', 'TD_385890', 'TD_386341', 'TD_386876', 'TD_384164', 'TD_384538', 'TD_384726', 'TD_386584', 'TD_386072', 'TD_386557', 'TD_387420', 'TD_385036', 'TD_385550', 'TD_385060', 'TD_383534', 'TD_384835', 'TD_385498', 'TD_386805', 'TD_385180', 'TD_383760', 'TD_385149', 'TD_385680', 'TD_385962', 'TD_383776', 'TD_384981', 'TD_385100', 'TD_384785', 'TD_383697', 'TD_383819', 'TD_385496', 'TD_386493', 'TD_386788', 'TD_385466', 'TD_386617', 'TD_386301', 'TD_385316', 'TD_386184', 'TD_385982', 'TD_385226', 'TD_385137', 'TD_387236', 'TD_385691', 'TD_386183', 'TD_384319', 'TD_384536', 'TD_384537', 'TD_386649', 'TD_384557', 'TD_386160', 'TD_385765', 'TD_384084', 'TD_386731', 'TD_383597', 'TD_385045', 'TD_383497', 'TD_384767', 'TD_384033', 'TD_384770', 'TD_385632', 'TD_386486', 'TD_387355', 'TD_386899', 'TD_384478', 'TD_387220', 'TD_384190', 'TD_384945', 'TD_384362', 'TD_384649', 'TD_383479', 'TD_386949', 'TD_387239', 'TD_383522', 'TD_386407', 'TD_387161', 'TD_384049', 'TD_384444', 'TD_386679', 'TD_384451', 'TD_386556', 'TD_384758', 'TD_384348', 'TD_387147', 'TD_385844', 'TD_386146', 'TD_386411', 'TD_383588', 'TD_385602', 'TD_386476', 'TD_387140', 'TD_384296', 'TD_386179', 'TD_383605', 'TD_383558', 'TD_384709', 'TD_386241', 'TD_385578', 'TD_386928', 'TD_385140', 'TD_385615', 'TD_386630', 'TD_386103', 'TD_384000', 'TD_383694', 'TD_383613', 'TD_386419', 'TD_385264', 'TD_387024', 'TD_385899', 'TD_385339', 'TD_384704', 'TD_385863', 'TD_387288', 'TD_385401', 'TD_386616', 'TD_383977', 'TD_385043', 'TD_383775', 'TD_383987', 'TD_386258', 'TD_386681', 'TD_385933', 'TD_385991', 'TD_383865', 'TD_384060', 'TD_384529', 'TD_384481', 'TD_387339', 'TD_384100', 'TD_383616', 'TD_384834', 'TD_386718', 'TD_386908', 'TD_383664', 'TD_385275', 'TD_384665', 'TD_385443', 'TD_386699', 'TD_386518', 'TD_384234', 'TD_386698', 'TD_387056', 'TD_387337', 'TD_384673', 'TD_386521', 'TD_385349', 'TD_383992', 'TD_384825', 'TD_386463', 'TD_384821', 'TD_383455', 'TD_386496', 'TD_385271', 'TD_386137', 'TD_386594', 'TD_387437', 'TD_386080', 'TD_385767', 'TD_385225', 'TD_386703', 'TD_384398', 'TD_383837', 'TD_384325', 'TD_383498', 'TD_383731', 'TD_385564', 'TD_386689', 'TD_387253', 'TD_385111', 'TD_386453', 'TD_387383', 'TD_387338', 'TD_384388', 'TD_383492', 'TD_383635', 'TD_386170', 'TD_384641', 'TD_384342', 'TD_385313', 'TD_384179', 'TD_384752', 'TD_386107', 'TD_386208', 'TD_387166', 'TD_386413', 'TD_384187', 'TD_384476', 'TD_384280', 'TD_384312', 'TD_386173', 'TD_387002', 'TD_387035', 'TD_385688', 'TD_385460', 'TD_386889', 'TD_385052', 'TD_386759', 'TD_384984', 'TD_385795', 'TD_384807', 'TD_384229', 'TD_386340', 'TD_383910', 'TD_384201', 'TD_386460', 'TD_387168', 'TD_384402', 'TD_384251', 'TD_386477', 'TD_384379', 'TD_385587', 'TD_387014', 'TD_387079', 'TD_386884', 'TD_385268', 'TD_385824', 'TD_387200', 'TD_387018', 'TD_387324', 'TD_386602', 'TD_383889', 'TD_384232', 'TD_384749', 'TD_384901', 'TD_384158', 'TD_386195', 'TD_384886', 'TD_384780', 'TD_387313', 'TD_383651', 'TD_383931', 'TD_385539', 'TD_387386', 'TD_386315', 'TD_385723', 'TD_386041', 'TD_387429', 'TD_384809', 'TD_385776', 'TD_385672', 'TD_386595', 'TD_386792', 'TD_384921', 'TD_383576', 'TD_385614', 'TD_386371', 'TD_384359', 'TD_385766', 'TD_386939', 'TD_383656', 'TD_384769', 'TD_385635', 'TD_387026', 'TD_386575', 'TD_386743', 'TD_383947', 'TD_384602', 'TD_386691', 'TD_383883', 'TD_386562', 'TD_387319', 'TD_384167', 'TD_385546', 'TD_385851', 'TD_386898', 'TD_387308', 'TD_384191', 'TD_384389', 'TD_385913', 'TD_384161', 'TD_386588', 'TD_385656', 'TD_386256', 'TD_383998', 'TD_383897', 'TD_385182', 'TD_385312', 'TD_385967', 'TD_385331', 'TD_386378', 'TD_386912', 'TD_386843', 'TD_387380', 'TD_384206', 'TD_386618', 'TD_384249', 'TD_386734', 'TD_384723', 'TD_384644', 'TD_385204', 'TD_386381', 'TD_387299', 'TD_387348', 'TD_384495', 'TD_383762', 'TD_383933', 'TD_387164', 'TD_385535', 'TD_386108', 'TD_385279', 'TD_385611', 'TD_385884', 'TD_386342', 'TD_386481', 'TD_386615', 'TD_383528', 'TD_387227', 'TD_383481', 'TD_387120', 'TD_386421', 'TD_385568', 'TD_385437', 'TD_385829', 'TD_385848', 'TD_386947', 'TD_384304', 'TD_387155', 'TD_384188', 'TD_385973', 'TD_383518', 'TD_386143', 'TD_386563', 'TD_384122', 'TD_384411', 'TD_385078', 'TD_386931', 'TD_386294', 'TD_386997', 'TD_386259', 'TD_383532', 'TD_384156', 'TD_386329', 'TD_385210', 'TD_384216', 'TD_386749', 'TD_385018', 'TD_387325', 'TD_386238', 'TD_386203', 'TD_385939', 'TD_386488', 'TD_387361', 'TD_387186', 'TD_386942', 'TD_383867', 'TD_385160', 'TD_385430', 'TD_386387', 'TD_385922', 'TD_384295', 'TD_387124', 'TD_384615', 'TD_387004', 'TD_384332', 'TD_387250', 'TD_387254', 'TD_384496', 'TD_385959', 'TD_386700', 'TD_384375', 'TD_387230', 'TD_385287', 'TD_383828', 'TD_385293', 'TD_385222', 'TD_386541', 'TD_387100', 'TD_386373', 'TD_386995', 'TD_385820', 'TD_384488', 'TD_386391', 'TD_384940', 'TD_386021', 'TD_386335', 'TD_385794', 'TD_384675', 'TD_384543', 'TD_385433', 'TD_384305', 'TD_385066', 'TD_385989', 'TD_387127', 'TD_383830', 'TD_383604', 'TD_384869', 'TD_383924', 'TD_384425', 'TD_384399', 'TD_384754', 'TD_383665', 'TD_383962', 'TD_384063', 'TD_384694', 'TD_384784', 'TD_383811', 'TD_383877', 'TD_384241', 'TD_384642', 'TD_384808', 'TD_386251', 'TD_387027', 'TD_384058', 'TD_384573', 'TD_386047', 'TD_384686', 'TD_383596', 'TD_384276', 'TD_387030', 'TD_386871', 'TD_387349', 'TD_385025', 'TD_384357', 'TD_385038', 'TD_386581', 'TD_386795', 'TD_386613', 'TD_383852', 'TD_383507', 'TD_385629', 'TD_387095', 'TD_387340', 'TD_385398', 'TD_385986', 'TD_384766', 'TD_386028', 'TD_385278', 'TD_383896', 'TD_384682', 'TD_386131', 'TD_385147', 'TD_385610', 'TD_386423', 'TD_385954', 'TD_384093', 'TD_383791', 'TD_386503', 'TD_384330', 'TD_384364', 'TD_385185', 'TD_384668', 'TD_383825', 'TD_386846', 'TD_383904', 'TD_387008', 'TD_385713', 'TD_385046', 'TD_385068', 'TD_385332', 'TD_386545', 'TD_384051', 'TD_386590', 'TD_384683', 'TD_386558', 'TD_386996', 'TD_385710', 'TD_384029', 'TD_387149', 'TD_384105', 'TD_383803', 'TD_383859', 'TD_386404', 'TD_384248', 'TD_385584', 'TD_383523', 'TD_386121', 'TD_385354', 'TD_386547', 'TD_385163', 'TD_387261', 'TD_384458', 'TD_383698', 'TD_386454', 'TD_386998', 'TD_386327', 'TD_385910', 'TD_384269', 'TD_385525', 'TD_386660', 'TD_386343', 'TD_383691', 'TD_385633', 'TD_385392', 'TD_384479', 'TD_384288', 'TD_383857', 'TD_385402', 'TD_385642', 'TD_386394', 'TD_383982', 'TD_384242', 'TD_384996', 'TD_385978', 'TD_383575', 'TD_383750', 'TD_384619', 'TD_385345', 'TD_385770', 'TD_383981', 'TD_384867', 'TD_385555', 'TD_387404', 'TD_383654', 'TD_385645', 'TD_384016', 'TD_384267', 'TD_384337', 'TD_385894', 'TD_385298', 'TD_387019', 'TD_386869', 'TD_385041', 'TD_387411', 'TD_387188', 'TD_384504', 'TD_384742', 'TD_386768', 'TD_384356', 'TD_384227', 'TD_385092', 'TD_386228', 'TD_384894', 'TD_384788', 'TD_386139', 'TD_386401', 'TD_385114', 'TD_384687', 'TD_383546', 'TD_386964', 'TD_387025', 'TD_385090', 'TD_385679', 'TD_387086', 'TD_384436', 'TD_385906', 'TD_386862', 'TD_385942', 'TD_385214', 'TD_386175', 'TD_386346', 'TD_384927', 'TD_387207', 'TD_384900', 'TD_386002', 'TD_383906', 'TD_387198', 'TD_385990', 'TD_384363', 'TD_385001', 'TD_386932', 'TD_383915', 'TD_387285', 'TD_385203', 'TD_384521', 'TD_384891', 'TD_386240', 'TD_386804', 'TD_385775', 'TD_385768', 'TD_383538', 'TD_386519', 'TD_385705', 'TD_385617', 'TD_385009', 'TD_383602', 'TD_385807', 'TD_384349', 'TD_384446', 'TD_384098', 'TD_384554', 'TD_384434', 'TD_383673', 'TD_383876', 'TD_385558', 'TD_387223', 'TD_383873', 'TD_386936', 'TD_385569', 'TD_386781', 'TD_386464', 'TD_386473', 'TD_385606', 'TD_386827', 'TD_387371', 'TD_384873', 'TD_384027', 'TD_384350', 'TD_383790', 'TD_384627', 'TD_384745', 'TD_385194', 'TD_385326', 'TD_384243', 'TD_384404', 'TD_384219', 'TD_384271', 'TD_385481', 'TD_385634', 'TD_384935', 'TD_386638', 'TD_385408', 'TD_384291', 'TD_386117', 'TD_386383', 'TD_385532', 'TD_383678', 'TD_384500', 'TD_386253', 'TD_384848', 'TD_386132', 'TD_383817', 'TD_385926', 'TD_386736', 'TD_384071', 'TD_387046', 'TD_385751', 'TD_384548', 'TD_384209', 'TD_383696', 'TD_383878', 'TD_384075', 'TD_386129', 'TD_384826', 'TD_386210', 'TD_384508', 'TD_387122', 'TD_387083', 'TD_383887', 'TD_387169', 'TD_383537', 'TD_386973', 'TD_385103', 'TD_386840', 'TD_384293', 'TD_385998', 'TD_387410', 'TD_385075', 'TD_385337', 'TD_383717', 'TD_385477', 'TD_383700', 'TD_386948', 'TD_385117', 'TD_384387', 'TD_384408', 'TD_386937', 'TD_384645', 'TD_386249', 'TD_387013', 'TD_385370', 'TD_385870', 'TD_384507', 'TD_386911', 'TD_385032', 'TD_386717', 'TD_385509', 'TD_387064', 'TD_385074', 'TD_384626', 'TD_385083', 'TD_385124', 'TD_385484', 'TD_385604', 'TD_386896', 'TD_384380', 'TD_384876', 'TD_385021', 'TD_383900', 'TD_384148', 'TD_384850', 'TD_384109', 'TD_384410', 'TD_385048', 'TD_385216', 'TD_385759', 'TD_384688', 'TD_386230', 'TD_387078', 'TD_387346', 'TD_386252', 'TD_386480', 'TD_385169', 'TD_383478', 'TD_385375', 'TD_386656', 'TD_384041', 'TD_384647', 'TD_385687', 'TD_384617', 'TD_386763', 'TD_387203', 'TD_385748', 'TD_386989', 'TD_383533', 'TD_385637', 'TD_385938', 'TD_385093', 'TD_385557', 'TD_386091', 'TD_386746', 'TD_386921', 'TD_387417', 'TD_383752', 'TD_385011', 'TD_386829', 'TD_383450', 'TD_386236', 'TD_386790', 'TD_387097', 'TD_385947', 'TD_385167', 'TD_384811', 'TD_387284', 'TD_385618', 'TD_384523', 'TD_386730', 'TD_384465', 'TD_386199', 'TD_384484', 'TD_384272', 'TD_384412', 'TD_386189', 'TD_387202', 'TD_385893', 'TD_386549', 'TD_387038', 'TD_386430', 'TD_386543', 'TD_387066', 'TD_386894', 'TD_384124', 'TD_385907', 'TD_385196', 'TD_383913', 'TD_385053', 'TD_383618', 'TD_384896', 'TD_386959', 'TD_385158', 'TD_385621', 'TD_384567', 'TD_385653', 'TD_385273', 'TD_386906', 'TD_384517', 'TD_386268', 'TD_386623', 'TD_386573', 'TD_385202', 'TD_385741', 'TD_387058', 'TD_385560', 'TD_385726', 'TD_385960', 'TD_384631', 'TD_386677', 'TD_386528', 'TD_385241', 'TD_384039', 'TD_383661', 'TD_385223', 'TD_385918', 'TD_385244', 'TD_386539', 'TD_386926', 'TD_386586', 'TD_385791', 'TD_385136', 'TD_384664', 'TD_386847', 'TD_387421', 'TD_385778', 'TD_385975', 'TD_386222', 'TD_384531', 'TD_386841', 'TD_386993', 'TD_384859', 'TD_385502', 'TD_385118', 'TD_385269', 'TD_383869', 'TD_385575', 'TD_386418', 'TD_384568', 'TD_385176', 'TD_383847', 'TD_387350', 'TD_385940', 'TD_386505', 'TD_384616', 'TD_385413', 'TD_384911', 'TD_386965', 'TD_386816', 'TD_387328', 'TD_383688', 'TD_384817', 'TD_384936', 'TD_386620', 'TD_387129', 'TD_386544', 'TD_386940', 'TD_383718', 'TD_383477', 'TD_385405', 'TD_387063', 'TD_383751', 'TD_384764', 'TD_387178', 'TD_386815', 'TD_384264', 'TD_383545', 'TD_387243', 'TD_385425', 'TD_384168', 'TD_387210', 'TD_387266', 'TD_384023', 'TD_383787', 'TD_385129', 'TD_386697', 'TD_383711', 'TD_384692', 'TD_384309', 'TD_383482', 'TD_383639', 'TD_385878', 'TD_386026', 'TD_384024', 'TD_386298', 'TD_383516', 'TD_384487', 'TD_384696', 'TD_384103', 'TD_384728', 'TD_385671', 'TD_384323', 'TD_387382', 'TD_385290', 'TD_385916', 'TD_384153', 'TD_385790', 'TD_386735', 'TD_385793', 'TD_386451', 'TD_385667', 'TD_386185', 'TD_383893', 'TD_385397', 'TD_383712', 'TD_383535', 'TD_384578', 'TD_386809', 'TD_385243', 'TD_387187', 'TD_384172', 'TD_385283', 'TD_385886', 'TD_384975', 'TD_384369', 'TD_383729', 'TD_386510', 'TD_384623', 'TD_386987', 'TD_386452', 'TD_384610', 'TD_384830', 'TD_385552', 'TD_384762', 'TD_385924', 'TD_385869', 'TD_387377', 'TD_385191', 'TD_385972', 'TD_386292', 'TD_386553', 'TD_383916', 'TD_385980', 'TD_385534', 'TD_386154', 'TD_386015', 'TD_385616', 'TD_384053', 'TD_386081', 'TD_384283', 'TD_386627', 'TD_383720', 'TD_384208', 'TD_384590', 'TD_387059', 'TD_383736', 'TD_383881', 'TD_386785', 'TD_385400', 'TD_383582', 'TD_386489', 'TD_387067', 'TD_386159', 'TD_386726', 'TD_386034', 'TD_383940', 'TD_386798', 'TD_384569', 'TD_386796', 'TD_387365', 'TD_386314', 'TD_383457', 'TD_385497', 'TD_386237', 'TD_384670', 'TD_384863', 'TD_386737', 'TD_385299', 'TD_387037', 'TD_384957', 'TD_383899', 'TD_384680', 'TD_385200', 'TD_383821', 'TD_386839', 'TD_387125', 'TD_386351', 'TD_386684', 'TD_385404', 'TD_384794', 'TD_385372', 'TD_386000', 'TD_384651', 'TD_384416', 'TD_386633', 'TD_384499', 'TD_385464', 'TD_386501', 'TD_385854', 'TD_386416', 'TD_386720', 'TD_384746', 'TD_386445', 'TD_386704', 'TD_384898', 'TD_385270', 'TD_385810', 'TD_386150', 'TD_386712', 'TD_384154', 'TD_385832', 'TD_383547', 'TD_386858', 'TD_387016', 'TD_387042', 'TD_387248', 'TD_385317', 'TD_384145', 'TD_383870', 'TD_384977', 'TD_384226', 'TD_384415', 'TD_385240', 'TD_386180', 'TD_387115', 'TD_384477', 'TD_383882', 'TD_385448', 'TD_386123', 'TD_383611', 'TD_384265', 'TD_385707', 'TD_386437', 'TD_385359', 'TD_384883', 'TD_385236', 'TD_383950', 'TD_386109', 'TD_384832', 'TD_384466', 'TD_385069', 'TD_385050', 'TD_385838', 'TD_386729', 'TD_384074', 'TD_384037', 'TD_386778', 'TD_386982', 'TD_386903', 'TD_387343', 'TD_385867', 'TD_384320', 'TD_384123', 'TD_387422', 'TD_385380', 'TD_386044', 'TD_386536', 'TD_384005', 'TD_383850', 'TD_384895', 'TD_386770', 'TD_385164', 'TD_386348', 'TD_386850', 'TD_384942', 'TD_386031', 'TD_386076', 'TD_384126', 'TD_386878', 'TD_383721', 'TD_385039', 'TD_386671', 'TD_383572', 'TD_384472', 'TD_385958', 'TD_385221', 'TD_386918', 'TD_383901', 'TD_384068', 'TD_384259', 'TD_385935', 'TD_384218', 'TD_385480', 'TD_386012', 'TD_385809', 'TD_383453', 'TD_384662', 'TD_386302', 'TD_385311', 'TD_384705', 'TD_386344', 'TD_387077', 'TD_385786', 'TD_385593', 'TD_384879', 'TD_383579', 'TD_386622', 'TD_385895', 'TD_385318', 'TD_384490', 'TD_386861', 'TD_386367', 'TD_383782', 'TD_387000', 'TD_384052', 'TD_383772', 'TD_384526', 'TD_383458', 'TD_383580', 'TD_384118', 'TD_384002', 'TD_385955', 'TD_385280', 'TD_383995', 'TD_385487', 'TD_384881', 'TD_383953', 'TD_383701', 'TD_384849', 'TD_386115', 'TD_384003', 'TD_384625', 'TD_386365', 'TD_386151', 'TD_386032', 'TD_386138', 'TD_385054', 'TD_386104', 'TD_383600', 'TD_384639', 'TD_386494', 'TD_386897', 'TD_383462', 'TD_384960', 'TD_384313', 'TD_385432', 'TD_384217', 'TD_385683', 'TD_383448', 'TD_386577', 'TD_386639', 'TD_384331', 'TD_385179', 'TD_385969', 'TD_385010', 'TD_383980', 'TD_386484', 'TD_383854', 'TD_384551', 'TD_384860', 'TD_386920', 'TD_387062', 'TD_387177', 'TD_385144', 'TD_384382', 'TD_385483', 'TD_383529', 'TD_384061', 'TD_385199', 'TD_384368', 'TD_384294', 'TD_386388', 'TD_384789', 'TD_383763', 'TD_384483', 'TD_387316', 'TD_385700', 'TD_383465', 'TD_384943', 'TD_385309', 'TD_384593', 'TD_384667', 'TD_385197', 'TD_387007', 'TD_384755', 'TD_385647', 'TD_385668', 'TD_384432', 'TD_385233', 'TD_386761', 'TD_386626', 'TD_383463', 'TD_387415', 'TD_386308', 'TD_386580', 'TD_386887', 'TD_383985', 'TD_386133', 'TD_385044', 'TD_385500', 'TD_383963', 'TD_385883', 'TD_385543', 'TD_385551', 'TD_385945', 'TD_386984', 'TD_385626', 'TD_386218', 'TD_384455', 'TD_385859', 'TD_387356', 'TD_385674', 'TD_385995', 'TD_384676', 'TD_386309', 'TD_387085', 'TD_384004', 'TD_384801', 'TD_384961', 'TD_385740', 'TD_383761', 'TD_385787', 'TD_385406', 'TD_385119', 'TD_383675', 'TD_384236', 'TD_384678', 'TD_384599', 'TD_385323', 'TD_385588', 'TD_385814', 'TD_384222', 'TD_386933', 'TD_385949', 'TD_386760', 'TD_387256', 'TD_386582', 'TD_384823', 'TD_385785', 'TD_384308', 'TD_383637', 'TD_383715', 'TD_384874', 'TD_385082', 'TD_384546', 'TD_385669', 'TD_385756', 'TD_386600', 'TD_386307', 'TD_386410', 'TD_386863', 'TD_387291', 'TD_383456', 'TD_386742', 'TD_386994', 'TD_383895', 'TD_384200', 'TD_386324', 'TD_384897', 'TD_383525', 'TD_385819', 'TD_384674', 'TD_383846', 'TD_385217', 'TD_385035', 'TD_385362', 'TD_387098', 'TD_387275', 'TD_385608', 'TD_385324', 'TD_387400', 'TD_387342', 'TD_385503', 'TD_387391', 'TD_384339', 'TD_384065', 'TD_384917', 'TD_386350', 'TD_383524', 'TD_384824', 'TD_383626', 'TD_387084', 'TD_386516', 'TD_384774', 'TD_387104', 'TD_386380', 'TD_387331', 'TD_385029', 'TD_385520', 'TD_386951', 'TD_384366', 'TD_386174', 'TD_385804', 'TD_387398', 'TD_383944', 'TD_385936', 'TD_383586', 'TD_383531', 'TD_384904', 'TD_386432', 'TD_384045', 'TD_384716', 'TD_386122', 'TD_385698', 'TD_387167', 'TD_385393', 'TD_386956', 'TD_385341', 'TD_386224', 'TD_385207', 'TD_387145', 'TD_385718', 'TD_386211', 'TD_386337', 'TD_385073', 'TD_385697', 'TD_386651', 'TD_384577', 'TD_384542', 'TD_384095', 'TD_384932', 'TD_386389', 'TD_387260', 'TD_386402', 'TD_386641', 'TD_385427', 'TD_384976', 'TD_384772', 'TD_387050', 'TD_385801', 'TD_386062', 'TD_383735', 'TD_384370', 'TD_385872', 'TD_385984', 'TD_385482', 'TD_383959', 'TD_385640', 'TD_386147', 'TD_386448', 'TD_383614', 'TD_385684', 'TD_384186', 'TD_384606', 'TD_383648', 'TD_385470', 'TD_385272', 'TD_387048', 'TD_384183', 'TD_384575', 'TD_384459', 'TD_385518', 'TD_385139', 'TD_385360', 'TD_385712', 'TD_383942', 'TD_384013', 'TD_387434', 'TD_384916', 'TD_384603', 'TD_383746', 'TD_386119', 'TD_387283', 'TD_383875', 'TD_383937', 'TD_386643', 'TD_384524', 'TD_386374', 'TD_384666', 'TD_384101', 'TD_386300', 'TD_384926', 'TD_384740', 'TD_385720', 'TD_383994', 'TD_386005', 'TD_386277', 'TD_387363', 'TD_387138', 'TD_384194', 'TD_387108', 'TD_383483', 'TD_385966', 'TD_383487', 'TD_385379', 'TD_384197', 'TD_385622', 'TD_384982', 'TD_386919', 'TD_383979', 'TD_386038', 'TD_383506', 'TD_386952', 'TD_386011', 'TD_385055', 'TD_386527', 'TD_385170', 'TD_383627', 'TD_387419', 'TD_383789', 'TD_386368', 'TD_385424', 'TD_384443', 'TD_384252', 'TD_384756', 'TD_384261', 'TD_384725', 'TD_384333', 'TD_383936', 'TD_385896', 'TD_387216', 'TD_386818', 'TD_384657', 'TD_384954', 'TD_385057', 'TD_387323', 'TD_384373', 'TD_383808', 'TD_385914', 'TD_385696', 'TD_385536', 'TD_387121', 'TD_385866', 'TD_383710', 'TD_383638', 'TD_383918', 'TD_385187', 'TD_384505', 'TD_383849', 'TD_383988', 'TD_387329', 'TD_387111', 'TD_384934', 'TD_383784', 'TD_383813', 'TD_385873', 'TD_385381', 'TD_383571', 'TD_384983', 'TD_385447', 'TD_384566', 'TD_385350', 'TD_383508', 'TD_384371', 'TD_387112', 'TD_384345', 'TD_383657', 'TD_386673', 'TD_386784', 'TD_386124', 'TD_384113', 'TD_384297', 'TD_386509', 'TD_385396', 'TD_383641', 'TD_386913', 'TD_384684', 'TD_387143', 'TD_383914', 'TD_386710', 'TD_384880', 'TD_384744', 'TD_384986', 'TD_385567', 'TD_386052', 'TD_383863', 'TD_386457', 'TD_383527', 'TD_383935', 'TD_385704', 'TD_385659', 'TD_386640', 'TD_386885', 'TD_386636', 'TD_387306', 'TD_386664', 'TD_387360', 'TD_385478', 'TD_385308', 'TD_384114', 'TD_385439', 'TD_383749', 'TD_386359', 'TD_384021', 'TD_384522', 'TD_385613', 'TD_386089', 'TD_386901', 'TD_386766', 'TD_386303', 'TD_384386', 'TD_386950', 'TD_387314', 'TD_387369', 'TD_383990', 'TD_385347', 'TD_384336', 'TD_385131', 'TD_385976', 'TD_387301', 'TD_386820', 'TD_386188', 'TD_385529', 'TD_386974', 'TD_385845', 'TD_385909', 'TD_387426', 'TD_386552', 'TD_386097', 'TD_384047', 'TD_384677', 'TD_384718', 'TD_385538', 'TD_387229', 'TD_383555', 'TD_386295', 'TD_387212', 'TD_385306', 'TD_384450', 'TD_384493', 'TD_384833', 'TD_385472', 'TD_384937', 'TD_385507', 'TD_386895', 'TD_384547', 'TD_386395', 'TD_383802', 'TD_387214', 'TD_386086', 'TD_384771', 'TD_383898', 'TD_386611', 'TD_385572', 'TD_386930', 'TD_385724', 'TD_386665', 'TD_386564', 'TD_387282', 'TD_384928', 'TD_385153', 'TD_384966', 'TD_384317', 'TD_384489', 'TD_386235', 'TD_386714', 'TD_387082', 'TD_386751', 'TD_385102', 'TD_384010', 'TD_387286', 'TD_383723', 'TD_384014', 'TD_385744', 'TD_386716', 'TD_386345', 'TD_383934', 'TD_384735', 'TD_386313', 'TD_386382', 'TD_387378', 'TD_383848', 'TD_384905', 'TD_383843', 'TD_383699', 'TD_386603', 'TD_384031', 'TD_383583', 'TD_383788', 'TD_383517', 'TD_383885', 'TD_384262', 'TD_383807', 'TD_385542', 'TD_387072', 'TD_384485', 'TD_386773', 'TD_383706', 'TD_385391', 'TD_386260', 'TD_386842', 'TD_384170', 'TD_386369', 'TD_383841', 'TD_385166', 'TD_386339', 'TD_386826', 'TD_387134', 'TD_385805', 'TD_385457', 'TD_386110', 'TD_383684', 'TD_385235', 'TD_384512', 'TD_386060', 'TD_384621', 'TD_387219', 'TD_387240', 'TD_386762', 'TD_386981', 'TD_385065', 'TD_386135', 'TD_383884', 'TD_384073', 'TD_385968', 'TD_386892', 'TD_385847', 'TD_385282', 'TD_383740', 'TD_386219', 'TD_383822', 'TD_383930', 'TD_384727', 'TD_384913', 'TD_386732', 'TD_385188', 'TD_385151', 'TD_385265', 'TD_385493', 'TD_386512', 'TD_385711', 'TD_383617', 'TD_385395', 'TD_384864', 'TD_384560', 'TD_383911', 'TD_383892', 'TD_387071', 'TD_385781', 'TD_385389', 'TD_386284', 'TD_384078', 'TD_384655', 'TD_385070', 'TD_385755', 'TD_384321', 'TD_385853', 'TD_384498', 'TD_387065', 'TD_385486', 'TD_385944', 'TD_384174', 'TD_385133', 'TD_384461', 'TD_387044', 'TD_384390', 'TD_386065', 'TD_385003', 'TD_384653', 'TD_383888', 'TD_383834', 'TD_385925', 'TD_386672', 'TD_386354', 'TD_383754', 'TD_384509', 'TD_386526', 'TD_383739', 'TD_383965', 'TD_384997', 'TD_384494', 'TD_383468', 'TD_386396', 'TD_386825', 'TD_386523', 'TD_387034', 'TD_386250', 'TD_384178', 'TD_383642', 'TD_384091', 'TD_386585', 'TD_386851', 'TD_385577', 'TD_386023', 'TD_385420', 'TD_385646', 'TD_386922', 'TD_384991', 'TD_386016', 'TD_383689', 'TD_384611', 'TD_384853', 'TD_383753', 'TD_384562', 'TD_385682', 'TD_387073', 'TD_385211', 'TD_385008', 'TD_386355', 'TD_383598', 'TD_383643', 'TD_385063', 'TD_386988', 'TD_386118', 'TD_387226', 'TD_387345', 'TD_383794', 'TD_386415', 'TD_384920', 'TD_387397', 'TD_384799', 'TD_386004', 'TD_385080', 'TD_386043', 'TD_386229', 'TD_386604', 'TD_385892', 'TD_384028', 'TD_385663', 'TD_383912', 'TD_385624', 'TD_385220', 'TD_386502', 'TD_386511', 'TD_386487', 'TD_385583', 'TD_385661', 'TD_386447', 'TD_383798', 'TD_385383', 'TD_385773', 'TD_383599', 'TD_384787', 'TD_386924', 'TD_386824', 'TD_387362', 'TD_384475', 'TD_386873', 'TD_383902', 'TD_387366', 'TD_386945', 'TD_387354', 'TD_383747', 'TD_384176', 'TD_385952', 'TD_386400', 'TD_385284', 'TD_386774', 'TD_386579', 'TD_386247', 'TD_386176', 'TD_386029', 'TD_386943', 'TD_384245', 'TD_384515', 'TD_386542', 'TD_384405', 'TD_384152', 'TD_383485', 'TD_386905', 'TD_387153', 'TD_383569', 'TD_387252', 'TD_383970', 'TD_385004', 'TD_387357', 'TD_385352', 'TD_386297', 'TD_385725', 'TD_385261', 'TD_383460', 'TD_385695', 'TD_386213', 'TD_384453', 'TD_386644', 'TD_383799', 'TD_386561', 'TD_385368', 'TD_387392', 'TD_385590', 'TD_385912', 'TD_383676', 'TD_384138', 'TD_385322', 'TD_386361', 'TD_386715', 'TD_387141', 'TD_386064', 'TD_384816', 'TD_385094', 'TD_386506', 'TD_385257', 'TD_386403', 'TD_384360', 'TD_387103', 'TD_383818', 'TD_384866', 'TD_384563', 'TD_384600', 'TD_383702', 'TD_385510', 'TD_385956', 'TD_383868', 'TD_385941', 'TD_384056', 'TD_384643', 'TD_384115', 'TD_385950', 'TD_387102', 'TD_386771', 'TD_384163', 'TD_383624', 'TD_383855', 'TD_384018', 'TD_385016', 'TD_387081', 'TD_385673', 'TD_384972', 'TD_387432', 'TD_384427', 'TD_385467', 'TD_385761', 'TD_383594', 'TD_384119', 'TD_385769', 'TD_385889', 'TD_384214', 'TD_386054', 'TD_386164', 'TD_383645', 'TD_386597', 'TD_384298', 'TD_386444', 'TD_383730', 'TD_386546', 'TD_385474', 'TD_384929', 'TD_385489', 'TD_385742', 'TD_384741', 'TD_383679', 'TD_384661', 'TD_386377', 'TD_385504', 'TD_384846', 'TD_387021', 'TD_384731', 'TD_384230', 'TD_383894', 'TD_386106', 'TD_384198', 'TD_384979', 'TD_384837', 'TD_385231', 'TD_386155', 'TD_386663', 'TD_384792', 'TD_386215', 'TD_385897', 'TD_386435', 'TD_386433', 'TD_385361', 'TD_384865', 'TD_385291', 'TD_384545', 'TD_383674', 'TD_384654', 'TD_384592', 'TD_387246', 'TD_387277', 'TD_385462', 'TD_384970', 'TD_386425', 'TD_385951', 'TD_386661', 'TD_384793', 'TD_387270', 'TD_387189', 'TD_387407', 'TD_385105', 'TD_384111', 'TD_386868', 'TD_385931', 'TD_383741', 'TD_385305', 'TD_386051', 'TD_385107', 'TD_387159', 'TD_385573', 'TD_387335', 'TD_385994', 'TD_387433', 'TD_384441', 'TD_385364', 'TD_385595', 'TD_387043', 'TD_383853', 'TD_383469', 'TD_385880', 'TD_386456', 'TD_385366', 'TD_386522', 'TD_387428', 'TD_385266', 'TD_385865', 'TD_386280', 'TD_384638', 'TD_386517', 'TD_386653', 'TD_387262', 'TD_385815', 'TD_383592', 'TD_386276', 'TD_383890', 'TD_385693', 'TD_385979', 'TD_385334', 'TD_386967', 'TD_387204', 'TD_386968', 'TD_384697', 'TD_384713', 'TD_386202', 'TD_387278', 'TD_385027', 'TD_385749', 'TD_386050', 'TD_384695', 'TD_385644', 'TD_385297', 'TD_386338', 'TD_383473', 'TD_385722', 'TD_386099', 'TD_384974', 'TD_383556', 'TD_385494', 'TD_386075', 'TD_384391', 'TD_384690', 'TD_386317', 'TD_385134', 'TD_384776', 'TD_386482', 'TD_386702', 'TD_385730', 'TD_386835', 'TD_385548', 'TD_383764', 'TD_384607', 'TD_385655', 'TD_386471', 'TD_386966', 'TD_386059', 'TD_383595', 'TD_384423', 'TD_386946', 'TD_387317', 'TD_386986', 'TD_383708', 'TD_383619', 'TD_386619', 'TD_387160', 'TD_385173', 'TD_384417', 'TD_383745', 'TD_385677', 'TD_384142', 'TD_384887', 'TD_385098', 'TD_384104', 'TD_385262', 'TD_385553', 'TD_386321', 'TD_384580', 'TD_385110', 'TD_387235', 'TD_387302', 'TD_385059', 'TD_383650', 'TD_385095', 'TD_385800', 'TD_387396', 'TD_384584', 'TD_384715', 'TD_383856', 'TD_386438', 'TD_384693', 'TD_387017', 'TD_384576', 'TD_384430', 'TD_383973', 'TD_384511', 'TD_385882', 'TD_385013', 'TD_385417', 'TD_383805', 'TD_386757', 'TD_384406', 'TD_384355', 'TD_384008', 'TD_387327', 'TD_386397', 'TD_384712', 'TD_385205', 'TD_386589', 'TD_385964', 'TD_384852', 'TD_385516', 'TD_386265', 'TD_386668', 'TD_383542', 'TD_387070', 'TD_384525', 'TD_385374', 'TD_387265', 'TD_384223', 'TD_386540', 'TD_384520', 'TD_384556', 'TD_384299', 'TD_386917', 'TD_385320', 'TD_386134', 'TD_383778', 'TD_383756', 'TD_384454', 'TD_386149', 'TD_385901', 'TD_384761', 'TD_386357', 'TD_386513', 'TD_385589', 'TD_387242', 'TD_384343', 'TD_384812', 'TD_386813', 'TD_386166', 'TD_384089', 'TD_386162', 'TD_385017', 'TD_384902', 'TD_386565', 'TD_385747', 'TD_384420', 'TD_385666', 'TD_386263', 'TD_384652', 'TD_385721', 'TD_384813', 'TD_386566', 'TD_387234', 'TD_384137', 'TD_383919', 'TD_385763', 'TD_383530', 'TD_384822', 'TD_384165', 'TD_383767', 'TD_383872', 'TD_384541', 'TD_384614', 'TD_384620', 'TD_385104', 'TD_384841', 'TD_384990', 'TD_386598', 'TD_384671', 'TD_386499', 'TD_386646', 'TD_387312', 'TD_385559', 'TD_383954', 'TD_386299', 'TD_385957', 'TD_385636', 'TD_386958', 'TD_383471', 'TD_386786', 'TD_387309', 'TD_386271', 'TD_384327', 'TD_386093', 'TD_386372', 'TD_384987', 'TD_386567', 'TD_384352', 'TD_385600', 'TD_386136', 'TD_386783', 'TD_384096', 'TD_386767', 'TD_385047', 'TD_384066', 'TD_384087', 'TD_384691', 'TD_383938', 'TD_386991', 'TD_385113', 'TD_384757', 'TD_386929', 'TD_385414', 'TD_387344', 'TD_385495', 'TD_384302', 'TD_384268', 'TD_384595', 'TD_385410', 'TD_383986', 'TD_384445', 'TD_385116', 'TD_386227', 'TD_386424', 'TD_387181', 'TD_386834', 'TD_387040', 'TD_384270', 'TD_384311', 'TD_385469', 'TD_386242', 'TD_384081', 'TD_386390', 'TD_385728', 'TD_385267', 'TD_386331', 'TD_387206', 'TD_386880', 'TD_385353', 'TD_385874', 'TD_384855', 'TD_385367', 'TD_384518', 'TD_385049', 'TD_385248', 'TD_386030', 'TD_386458', 'TD_387179', 'TD_383941', 'TD_384396', 'TD_384613', 'TD_386349', 'TD_386803', 'TD_386963', 'TD_386696', 'TD_385727', 'TD_385625', 'TD_386752', 'TD_383836', 'TD_383997', 'TD_385471', 'TD_385591', 'TD_384806', 'TD_386634', 'TD_386685', 'TD_386819', 'TD_384146', 'TD_385985', 'TD_387222', 'TD_383820', 'TD_384057', 'TD_384550', 'TD_384700', 'TD_386006', 'TD_386748', 'TD_383773', 'TD_385255', 'TD_384959', 'TD_385086', 'TD_386352', 'TD_386667', 'TD_384225', 'TD_384383', 'TD_386033', 'TD_384528', 'TD_384192', 'TD_384438', 'TD_386631', 'TD_387010', 'TD_387091', 'TD_383515', 'TD_385651', 'TD_386264', 'TD_385087', 'TD_386572', 'TD_384907', 'TD_385746', 'TD_386628', 'TD_387279', 'TD_384931', 'TD_383976', 'TD_385252', 'TD_386849', 'TD_383541', 'TD_384431', 'TD_385452', 'TD_386500', 'TD_385846', 'TD_387367', 'TD_383768', 'TD_383464', 'TD_386810', 'TD_384533', 'TD_386642', 'TD_386865', 'TD_384263', 'TD_385537', 'TD_387241', 'TD_384719', 'TD_387249', 'TD_385130', 'TD_383562', 'TD_385224', 'TD_387394', 'TD_387174', 'TD_384421', 'TD_386775', 'TD_386972', 'TD_385152', 'TD_384038', 'TD_383692', 'TD_386316', 'TD_386049', 'TD_383486', 'TD_386356', 'TD_384847', 'TD_385106', 'TD_385377', 'TD_387351', 'TD_385373', 'TD_386275', 'TD_386214', 'TD_386384', 'TD_386980', 'TD_383509', 'TD_386068', 'TD_385330', 'TD_387416', 'TD_385554', 'TD_383655', 'TD_385314', 'TD_385928', 'TD_386744', 'TD_386817', 'TD_384922', 'TD_383589', 'TD_385121', 'TD_385855', 'TD_387132', 'TD_383886', 'TD_383833', 'TD_387119', 'TD_385415', 'TD_385513', 'TD_383713', 'TD_384012', 'TD_385056', 'TD_383742', 'TD_385419', 'TD_385333', 'TD_387276', 'TD_384258', 'TD_383566', 'TD_385438', 'TD_385511', 'TD_386385', 'TD_383552', 'TD_385228', 'TD_385601', 'TD_384274', 'TD_385030', 'TD_385189', 'TD_385451', 'TD_384424', 'TD_387330', 'TD_383722', 'TD_387074', 'TD_384857', 'TD_384043', 'TD_385346', 'TD_384392', 'TD_386014', 'TD_386392', 'TD_387364', 'TD_384724', 'TD_386693', 'TD_385678', 'TD_384909', 'TD_386048', 'TD_386027', 'TD_384059', 'TD_384184', 'TD_384376', 'TD_386492', 'TD_385351', 'TD_384906', 'TD_385862', 'TD_385253', 'TD_385444', 'TD_383780', 'TD_385808', 'TD_383496', 'TD_384736', 'TD_385777', 'TD_386201', 'TD_386267', 'TD_387183', 'TD_387045', 'TD_387201', 'TD_385701', 'TD_385811', 'TD_383984', 'TD_387431', 'TD_386207', 'TD_386794', 'TD_385521', 'TD_387116', 'TD_384608', 'TD_383668', 'TD_385215', 'TD_385385', 'TD_384993', 'TD_384870', 'TD_386375', 'TD_386695', 'TD_385096', 'TD_384099', 'TD_385826', 'TD_385813', 'TD_386169', 'TD_386022', 'TD_386450', 'TD_383770', 'TD_385459', 'TD_384035', 'TD_385034', 'TD_384564', 'TD_387251', 'TD_385033', 'TD_384506', 'TD_387438', 'TD_383495', 'TD_385162', 'TD_383851', 'TD_386569', 'TD_383879', 'TD_386198', 'TD_386128', 'TD_386867', 'TD_383707', 'TD_384555', 'TD_385881', 'TD_386273', 'TD_383860', 'TD_386466', 'TD_386721', 'TD_384570', 'TD_385378', 'TD_385412', 'TD_387405', 'TD_383609', 'TD_386756', 'TD_387307', 'TD_383862', 'TD_387190', 'TD_386571', 'TD_385827', 'TD_385040', 'TD_384328', 'TD_386914', 'TD_385091', 'TD_384750', 'TD_384516', 'TD_385760', 'TD_387372', 'TD_384150', 'TD_384963', 'TD_385961', 'TD_386938', 'TD_385289', 'TD_387297', 'TD_386417', 'TD_387311', 'TD_383905', 'TD_384965', 'TD_384967', 'TD_384738', 'TD_385142', 'TD_385292', 'TD_385319', 'TD_385418', 'TD_385754', 'TD_385919', 'TD_383454', 'TD_383568', 'TD_383625', 'TD_384440', 'TD_385900', 'TD_386675', 'TD_384467', 'TD_386837', 'TD_384795', 'TD_385689', 'TD_384303', 'TD_385852', 'TD_385729', 'TD_386469', 'TD_385658', 'TD_385745', 'TD_385871', 'TD_384439', 'TD_386409', 'TD_383880', 'TD_386234', 'TD_384393', 'TD_383660', 'TD_384135', 'TD_384765', 'TD_384585', 'TD_385062', 'TD_384843', 'TD_385562', 'TD_385079', 'TD_385218', 'TD_385835', 'TD_386420', 'TD_383500', 'TD_386739', 'TD_384842', 'TD_386753', 'TD_384224', 'TD_384108', 'TD_384660', 'TD_386807', 'TD_385058', 'TD_386319', 'TD_387347', 'TD_383779', 'TD_383467', 'TD_384244', 'TD_383514', 'TD_384403', 'TD_385641', 'TD_385630', 'TD_386474', 'TD_386854', 'TD_386692', 'TD_386999', 'TD_383510', 'TD_384530', 'TD_387208', 'TD_384468', 'TD_385579', 'TD_383705', 'TD_386102', 'TD_383785', 'TD_383512', 'TD_383993', 'TD_385996', 'TD_383812', 'TD_383928', 'TD_384246', 'TD_384973', 'TD_384397', 'TD_385254', 'TD_383683', 'TD_385732', 'TD_386822', 'TD_385694', 'TD_387334', 'TD_385343', 'TD_385247', 'TD_385841', 'TD_384711', 'TD_386941', 'TD_384006', 'TD_386599', 'TD_385929', 'TD_384818', 'TD_385736', 'TD_384413', 'TD_384180', 'TD_384282', 'TD_386079', 'TD_387384', 'TD_385737', 'TD_386163', 'TD_384125', 'TD_386776', 'TD_384452', 'TD_386570', 'TD_387257', 'TD_385229', 'TD_385473', 'TD_383840', 'TD_385123', 'TD_384968', 'TD_386090', 'TD_385983', 'TD_384924', 'TD_386074', 'TD_384462', 'TD_387352', 'TD_384732', 'TD_384783', 'TD_383737', 'TD_384079', 'TD_384457', 'TD_387041', 'TD_385328', 'TD_386537', 'TD_385580', 'TD_386859', 'TD_385908', 'TD_386070', 'TD_384656', 'TD_385971', 'TD_387439', 'TD_383755', 'TD_385300', 'TD_384721', 'TD_384893', 'TD_385468', 'TD_384800', 'TD_387259', 'TD_383829', 'TD_383505', 'TD_386962', 'TD_387060', 'TD_384247', 'TD_385171', 'TD_384514', 'TD_386828', 'TD_386244', 'TD_387197', 'TD_384070', 'TD_384998', 'TD_386780', 'TD_385857', 'TD_387109', 'TD_386724', 'TD_384085', 'TD_386429', 'TD_384862', 'TD_384324', 'TD_384290', 'TD_383810', 'TD_384892', 'TD_384729', 'TD_386838', 'TD_386872', 'TD_386525', 'TD_383719', 'TD_384338', 'TD_384159', 'TD_383964', 'TD_385657', 'TD_383551', 'TD_384204', 'TD_383629', 'TD_386915', 'TD_384310', 'TD_386193', 'TD_386870', 'TD_386209', 'TD_383824', 'TD_386954', 'TD_386126', 'TD_385458', 'TD_383470', 'TD_387304', 'TD_383493', 'TD_386178', 'TD_384519', 'TD_384748', 'TD_383704', 'TD_384102', 'TD_383955', 'TD_383581', 'TD_386728', 'TD_387373', 'TD_386891', 'TD_383640', 'TD_387281', 'TD_383513', 'TD_386479', 'TD_386583', 'TD_384281', 'TD_386686', 'TD_386789', 'TD_387022', 'TD_386020', 'TD_384285', 'TD_385992', 'TD_384779', 'TD_384166', 'TD_383845', 'TD_386261', 'TD_386462', 'TD_384377', 'TD_385828', 'TD_386116', 'TD_384083', 'TD_386013', 'TD_383677', 'TD_386141', 'TD_387244', 'TD_383743', 'TD_386606', 'TD_386902', 'TD_386061', 'TD_386358', 'TD_386262', 'TD_386621', 'TD_386960', 'TD_384120', 'TD_384539', 'TD_385915', 'TD_385165', 'TD_385891', 'TD_385028', 'TD_385812', 'TD_385132', 'TD_384714', 'TD_385592', 'TD_387418', 'TD_385492', 'TD_385932', 'TD_383816', 'TD_384858', 'TD_385281', 'TD_386055', 'TD_383578', 'TD_384930', 'TD_385965', 'TD_386833', 'TD_384722', 'TD_385005', 'TD_383644', 'TD_387403', 'TD_384535', 'TD_384753', 'TD_386975', 'TD_385435', 'TD_387069', 'TD_384022', 'TD_384552', 'TD_386709', 'TD_383903', 'TD_387170', 'TD_385582', 'TD_386310', 'TD_386688', 'TD_385329', 'TD_384341', 'TD_386812', 'TD_383844', 'TD_384844', 'TD_384385', 'TD_385816', 'TD_383975', 'TD_386120', 'TD_387414', 'TD_384955', 'TD_385156', 'TD_387341', 'TD_383690', 'TD_386088', 'TD_386441', 'TD_383687', 'TD_386231', 'TD_384851', 'TD_383491', 'TD_385499', 'TD_385699', 'TD_384624', 'TD_383499', 'TD_384803', 'TD_385390', 'TD_384273', 'TD_385638', 'TD_385797', 'TD_386094', 'TD_386360', 'TD_383636', 'TD_385603', 'TD_385643', 'TD_386797', 'TD_386970', 'TD_386856', 'TD_386907', 'TD_384155', 'TD_384549', 'TD_387011', 'TD_385703', 'TD_383946', 'TD_387388', 'TD_383682', 'TD_384044', 'TD_384199', 'TD_383628', 'TD_385148', 'TD_387435', 'TD_386596', 'TD_387196', 'TD_387255', 'TD_384734', 'TD_384418', 'TD_383695', 'TD_383553', 'TD_386017', 'TD_386243', 'TD_384130', 'TD_387023', 'TD_383587', 'TD_383504', 'TD_383573', 'TD_383815', 'TD_386515', 'TD_387114', 'TD_385627', 'TD_386741', 'TD_383999', 'TD_386882', 'TD_383567', 'TD_385358', 'TD_385586', 'TD_387089', 'TD_384361', 'TD_386274', 'TD_385002', 'TD_386285', 'TD_384171', 'TD_386192', 'TD_386318', 'TD_387199', 'TD_385382', 'TD_387320', 'TD_384151', 'TD_385232', 'TD_385999', 'TD_387137', 'TD_385099', 'TD_383570', 'TD_386944', 'TD_384629', 'TD_386190', 'TD_386291', 'TD_384213', 'TD_386364', 'TD_387049', 'TD_383806', 'TD_385840', 'TD_385172', 'TD_387106', 'TD_387075', 'TD_386347', 'TD_385145', 'TD_386114', 'TD_385184', 'TD_386398', 'TD_386961', 'TD_384944', 'TD_383519', 'TD_383891', 'TD_384969', 'TD_387009', 'TD_385394', 'TD_384527', 'TD_385597', 'TD_384628', 'TD_385076', 'TD_385779', 'TD_386852', 'TD_386657', 'TD_386408', 'TD_385072', 'TD_387321', 'TD_384699', 'TD_386145', 'TD_386574', 'TD_383732', 'TD_384289', 'TD_385596', 'TD_386101', 'TD_383662', 'TD_383766', 'TD_383858', 'TD_384828', 'TD_385528', 'TD_385195', 'TD_385461', 'TD_385563', 'TD_384064', 'TD_386694', 'TD_385429', 'TD_386288', 'TD_385355', 'TD_386637', 'TD_386142', 'TD_385692', 'TD_384136', 'TD_386370', 'TD_387175', 'TD_387205', 'TD_387033', 'TD_385757', 'TD_385806', 'TD_386422', 'TD_387144', 'TD_384329', 'TD_386727', 'TD_387087', 'TD_385175', 'TD_383476', 'TD_384422', 'TD_385183', 'TD_385051', 'TD_383724', 'TD_385206', 'TD_386755', 'TD_383574', 'TD_386239', 'TD_384131', 'TD_384672', 'TD_385085', 'TD_385937', 'TD_384995', 'TD_383733', 'TD_386740', 'TD_384001', 'TD_384871', 'TD_386530', 'TD_383632', 'TD_386287', 'TD_384260', 'TD_386832', 'TD_387118', 'TD_386216', 'TD_384072', 'TD_386554', 'TD_385336', 'TD_385340', 'TD_384203', 'TD_385733', 'TD_383777', 'TD_384587', 'TD_384553', 'TD_384581', 'TD_385449', 'TD_385523', 'TD_384169', 'TD_386158', 'TD_384889', 'TD_387032', 'TD_383795', 'TD_385970', 'TD_387088', 'TD_386483', 'TD_386836', 'TD_383971', 'TD_385138', 'TD_387092', 'TD_384559', 'TD_386806', 'TD_384513', 'TD_386405', 'TD_387163', 'TD_386434', 'TD_385325', 'TD_384233', 'TD_383978', 'TD_386708', 'TD_383757', 'TD_385150', 'TD_385274', 'TD_384460', 'TD_384141', 'TD_383621', 'TD_384679', 'TD_386808', 'TD_386883', 'TD_387191', 'TD_386927', 'TD_387157', 'TD_385798', 'TD_385037', 'TD_383608', 'TD_383827', 'TD_384374', 'TD_384964', 'TD_384463', 'TD_383866', 'TD_384908', 'TD_385463', 'TD_384032', 'TD_385623', 'TD_385731', 'TD_386533', 'TD_386555', 'TD_384344', 'TD_386955', 'TD_386654', 'TD_386706', 'TD_383466', 'TD_385987', 'TD_384710', 'TD_385475', 'TD_384429', 'TD_387287', 'TD_383792', 'TD_384933', 'TD_383967', 'TD_384648', 'TD_386010', 'TD_386306', 'TD_384941', 'TD_383577', 'TD_385089', 'TD_384221', 'TD_385190', 'TD_386320', 'TD_384409', 'TD_383826', 'TD_385263', 'TD_387390', 'TD_384143', 'TD_384326', 'TD_384640', 'TD_385856', 'TD_383591', 'TD_387184', 'TD_387333', 'TD_384121', 'TD_386490', 'TD_384763', 'TD_385000', 'TD_385407', 'TD_386848', 'TD_384571', 'TD_385077', 'TD_385239', 'TD_386063', 'TD_386625', 'TD_384470', 'TD_386548', 'TD_384231', 'TD_387233', 'TD_383809', 'TD_383459', 'TD_384486', 'TD_384253', 'TD_386461', 'TD_386793', 'TD_386957', 'TD_387080', 'TD_387387', 'TD_386881', 'TD_386084', 'TD_385024', 'TD_385977', 'TD_386092', 'TD_387368', 'TD_383929', 'TD_385556', 'TD_387101', 'TD_386042', 'TD_386629', 'TD_387298', 'TD_385545', 'TD_385771', 'TD_385454', 'TD_383972', 'TD_386386', 'TD_385898', 'TD_386412', 'TD_385988', 'TD_386085', 'TD_386078', 'TD_386196', 'TD_384173', 'TD_386225', 'TD_383620', 'TD_386934', 'TD_385609', 'TD_383969', 'TD_385260', 'TD_385860', 'TD_386670', 'TD_385022', 'TD_384791', 'TD_383603', 'TD_386246', 'TD_383554', 'TD_384703', 'TD_386286', 'TD_386161', 'TD_384739', 'TD_383585', 'TD_386971', 'TD_385788', 'TD_384314', 'TD_383939', 'TD_384437', 'TD_386440', 'TD_387381', 'TD_386799', 'TD_386864', 'TD_387292', 'TD_383738', 'TD_384899', 'TD_384132', 'TD_383734', 'TD_384353', 'TD_384292', 'TD_385843', 'TD_385193', 'TD_385488', 'TD_384278', 'TD_385128', 'TD_386459', 'TD_385155', 'TD_384888', 'TD_385154', 'TD_385296', 'TD_387057', 'TD_384347', 'TD_384307', 'TD_387264', 'TD_387055', 'TD_383823', 'TD_387318', 'TD_384162', 'TD_383601', 'TD_384609', 'TD_386082', 'TD_384007', 'TD_384464', 'TD_385565', 'TD_385930', 'TD_384877', 'TD_385685', 'TD_385549', 'TD_386144', 'TD_386647', 'TD_386576', 'TD_384503', 'TD_386283', 'TD_383871', 'TD_385465', 'TD_387173', 'TD_384082', 'TD_386723', 'TD_383943', 'TD_386414', 'TD_386738', 'TD_383727', 'TD_383957', 'TD_383584', 'TD_384720', 'TD_386157', 'TD_384884', 'TD_385450', 'TD_385927', 'TD_383804', 'TD_383983', 'TD_385997', 'TD_384646', 'TD_385421', 'TD_386754', 'TD_384958', 'TD_385125', 'TD_387232', 'TD_383490', 'TD_386336', 'TD_387395', 'TD_384426', 'TD_386725', 'TD_386071', 'TD_386470', 'TD_384586', 'TD_383728', 'TD_386066', 'TD_386711', 'TD_385541', 'TD_385948', 'TD_387005', 'TD_387272', 'TD_385506', 'TD_387238', 'TD_387113', 'TD_384565', 'TD_386455', 'TD_386910', 'TD_385015', 'TD_384112', 'TD_387315', 'TD_385348', 'TD_385501', 'TD_385237', 'TD_387052', 'TD_386279', 'TD_384689', 'TD_384433', 'TD_386935', 'TD_385764', 'TD_385307', 'TD_387076', 'TD_384340', 'TD_387142', 'TD_383925', 'TD_384106', 'TD_385109', 'TD_385455', 'TD_383991', 'TD_384062', 'TD_384316', 'TD_384193', 'TD_384322', 'TD_384903', 'TD_384782', 'TD_387031', 'TD_386587', 'TD_383669', 'TD_384334', 'TD_386682', 'TD_386985', 'TD_384775', 'TD_383593', 'TD_384797', 'TD_383667', 'TD_384055', 'TD_385531', 'TD_386053', 'TD_386140', 'TD_385014', 'TD_386152', 'TD_386609', 'TD_384878', 'TD_385122', 'TD_386680', 'TD_386507', 'TD_385371', 'TD_386666', 'TD_386495', 'TD_384367', 'TD_385112', 'TD_385920', 'TD_386293', 'TD_387162', 'TD_383543', 'TD_385304', 'TD_383670', 'TD_384235', 'TD_386181', 'TD_385676', 'TD_383864', 'TD_385702', 'TD_385315', 'TD_387393', 'TD_386087', 'TD_387165', 'TD_385836', 'TD_383923', 'TD_386900', 'TD_387332', 'TD_384836', 'TD_386311', 'TD_384354', 'TD_384953', 'TD_384228', 'TD_383797', 'TD_387370', 'TD_383693', 'TD_385213', 'TD_385127', 'TD_384885', 'TD_387294', 'TD_385719', 'TD_383974', 'TD_387271', 'TD_385186', 'TD_383502', 'TD_386187', 'TD_387151', 'TD_383653', 'TD_384237', 'TD_385384', 'TD_387300', 'TD_384046', 'TD_387195', 'TD_385530', 'TD_385876', 'TD_383945', 'TD_383960', 'TD_385277', 'TD_386535', 'TD_383951', 'TD_384419', 'TD_386366', 'TD_384407', 'TD_385660', 'TD_386363', 'TD_387293', 'TD_385490', 'TD_386904', 'TD_383564', 'TD_384185', 'TD_385285', 'TD_385574', 'TD_385665', 'TD_385706', 'TD_385888', 'TD_386111', 'TD_386791', 'TD_387213', 'TD_387305', 'TD_384067', 'TD_385479', 'TD_387376', 'TD_385743', 'TD_385849', 'TD_384938', 'TD_384050', 'TD_385581', 'TD_385877', 'TD_385715', 'TD_383949', 'TD_386534', 'TD_387090', 'TD_384220', 'TD_383781', 'TD_387156', 'TD_384532', 'TD_384978', 'TD_387228', 'TD_384097', 'TD_383996', 'TD_385903', 'TD_385599', 'TD_387358', 'TD_383989', 'TD_384015', 'TD_385258', 'TD_384768', 'TD_384918', 'TD_385526', 'TD_384196', 'TD_385662', 'TD_387423', 'TD_384266', 'TD_383748', 'TD_384601', 'TD_384077', 'TD_383544', 'TD_384707', 'TD_386979', 'TD_384989', 'TD_384442', 'TD_383539', 'TD_386009', 'TD_383550', 'TD_386591', 'TD_384751', 'TD_387436', 'TD_385431', 'TD_384401', 'TD_384558', 'TD_387425', 'TD_385519', 'TD_385605', 'TD_384583', 'TD_385675', 'TD_385177', 'TD_383452', 'TD_386406', 'TD_384790', 'TD_384786', 'TD_386593', 'TD_387296', 'TD_384952', 'TD_385388', 'TD_384181', 'TD_386472', 'TD_384277', 'TD_384497', 'TD_385061', 'TD_383725', 'TD_386610', 'TD_384240', 'TD_383472', 'TD_385612', 'TD_384544', 'TD_384474', 'TD_384306', 'TD_385251', 'TD_384256', 'TD_387273', 'TD_383814', 'TD_384854', 'TD_387193', 'TD_384471', 'TD_384840', 'TD_384948', 'TD_385822', 'TD_386305', 'TD_385842', 'TD_384315', 'TD_384810', 'TD_386289', 'TD_386332', 'TD_387154', 'TD_384381', 'TD_386568', 'TD_383968', 'TD_386701', 'TD_384250', 'TD_384456', 'TD_385126', 'TD_385491', 'TD_384827', 'TD_384482', 'TD_385716', 'TD_385288', 'TD_385295', 'TD_386504', 'TD_386442', 'TD_384048', 'TD_385020', 'TD_387224', 'TD_386428', 'TD_386877', 'TD_386612', 'TD_384618', 'TD_384804', 'TD_384076', 'TD_385303', 'TD_386182', 'TD_387130', 'TD_385517', 'TD_386844', 'TD_383952', 'TD_384861', 'TD_385344', 'TD_387068', 'TD_384588', 'TD_385428', 'TD_387012', 'TD_384572', 'TD_383966', 'TD_383686', 'TD_384026', 'TD_386916', 'TD_384414', 'TD_383559', 'TD_383800', 'TD_383561', 'TD_385201', 'TD_385019', 'TD_386614', 'TD_386705', 'TD_384318', 'TD_385753', 'TD_384798', 'TD_385081', 'TD_385879', 'TD_385399', 'TD_385031', 'TD_386467', 'TD_385505', 'TD_386497', 'TD_387039', 'TD_387389', 'TD_386330', 'TD_386431', 'TD_386177', 'TD_385631', 'TD_385416', 'TD_386272', 'TD_384589', 'TD_386304', 'TD_386067', 'TD_385533', 'TD_383503', 'TD_385594', 'TD_386578', 'TD_386750', 'TD_385831', 'TD_386008', 'TD_386514', 'TD_384875', 'TD_384480', 'TD_386194', 'TD_385135', 'TD_385181', 'TD_386186', 'TD_386039', 'TD_387258', 'TD_384820', 'TD_385868', 'TD_384708', 'TD_385796', 'TD_384009', 'TD_384182', 'TD_384257', 'TD_384335', 'TD_387099', 'TD_383709', 'TD_383703', 'TD_386439', 'TD_385168', 'TD_386046', 'TD_385758', 'TD_385522', 'TD_384202', 'TD_384254', 'TD_386765', 'TD_384205', 'TD_384351', 'TD_385834', 'TD_384781', 'TD_385561', 'TD_386777', 'TD_383926', 'TD_386860', 'TD_383774', 'TD_387185', 'TD_387176', 'TD_387408', 'TD_385981', 'TD_383536', 'TD_386113', 'TD_385403', 'TD_384238', 'TD_386379', 'TD_385441', 'TD_386648', 'TD_383758', 'TD_383874', 'TD_385993', 'TD_383451', 'TD_387150', 'TD_383540', 'TD_387375', 'TD_383565', 'TD_385338', 'TD_385686', 'TD_386069', 'TD_386322', 'TD_386886', 'TD_387053', 'TD_387094', 'TD_386105', 'TD_384139', 'TD_383590', 'TD_384510', 'TD_386220', 'TD_386976', 'TD_386772', 'TD_384633', 'TD_384747', 'TD_383917', 'TD_386508', 'TD_387029', 'TD_386608', 'TD_383484', 'TD_384054', 'TD_383838', 'TD_384635', 'TD_386800', 'TD_384469', 'TD_386362', 'TD_384286', 'TD_387231', 'TD_385178', 'TD_385245', 'TD_385821', 'TD_385802', 'TD_386427', 'TD_384025', 'TD_387128', 'TD_386683', 'TD_384384', 'TD_385830', 'TD_386802', 'TD_384612', 'TD_386205', 'TD_386532', 'TD_387336', 'TD_386334', 'TD_383557', 'TD_385664', 'TD_385750', 'TD_386206', 'TD_384594', 'TD_385943', 'TD_386200', 'TD_387267', 'TD_384092', 'TD_386223', 'TD_384636', 'TD_384540', 'TD_385249', 'TD_384698', 'TD_386831', 'TD_387402', 'TD_386025', 'TD_387110', 'TD_383907', 'TD_386127', 'TD_385902', 'TD_386662', 'TD_384914', 'TD_384300', 'TD_387152', 'TD_387269', 'TD_385161', 'TD_386035', 'TD_384802', 'TD_387028', 'TD_386083', 'TD_385904', 'TD_384561', 'TD_385598', 'TD_385953', 'TD_386278', 'TD_385752', 'TD_384925', 'TD_383680', 'TD_386001', 'TD_385762', 'TD_385012', 'TD_386290', 'TD_386764', 'TD_384189', 'TD_384988', 'TD_385256', 'TD_384147', 'TD_383909', 'TD_385861', 'TD_383615', 'TD_383771', 'TD_385708', 'TD_384951', 'TD_385219', 'TD_383461', 'TD_384036', 'TD_386073', 'TD_386167', 'TD_384042', 'TD_384287', 'TD_384956', 'TD_386156', 'TD_387268', 'TD_384448', 'TD_383475', 'TD_385423', 'TD_385570', 'TD_386465', 'TD_384759', 'TD_384630', 'TD_383932', 'TD_386443', 'TD_384579', 'TD_384950', 'TD_385238', 'TD_385652', 'TD_385963', 'TD_386635', 'TD_387245', 'TD_385230', 'TD_385974', 'TD_384992', 'TD_384658', 'TD_384856', 'TD_383659', 'TD_387406', 'TD_386733', 'TD_385088', 'TD_385212', 'TD_385476', 'TD_385649', 'TD_386045', 'TD_385143', 'TD_386281', 'TD_386446', 'TD_384819', 'TD_384211', 'TD_383681', 'TD_383726', 'TD_385799', 'TD_386172', 'TD_385514', 'TD_384110', 'TD_384449', 'TD_384947', 'TD_385442', 'TD_385803', 'TD_384939', 'TD_387211', 'TD_384701', 'TD_384730', 'TD_385864', 'TD_384301', 'TD_385276', 'TD_384845', 'TD_386269', 'TD_383511', 'TD_384910', 'TD_387359', 'TD_385108', 'TD_387146', 'TD_386719', 'TD_387139', 'TD_386787', 'TD_386245', 'TD_387409', 'TD_385120', 'TD_387295', 'TD_384882', 'TD_385576', 'TD_384011', 'TD_384962', 'TD_383961', 'TD_384069', 'TD_385101', 'TD_386024', 'TD_384210', 'TD_385209', 'TD_383956', 'TD_385294', 'TD_386204', 'TD_383623', 'TD_387096', 'TD_384117', 'TD_386830', 'TD_386821', 'TD_384773', 'TD_385818', 'TD_384157', 'TD_385365', 'TD_383658', 'TD_387135', 'TD_385286', 'TD_383786', 'TD_385923', 'TD_386475', 'TD_384502', 'TD_384868', 'TD_385453', 'TD_386436', 'TD_386607', 'TD_387247', 'TD_386601', 'TD_386040', 'TD_386468', 'TD_386019', 'TD_386524', 'TD_384020', 'TD_385327', 'TD_384872', 'TD_387001', 'TD_384838', 'TD_385571', 'TD_386823', 'TD_384346', 'TD_384040', 'TD_384574', 'TD_386197', 'TD_387280', 'TD_384681', 'TD_384663', 'TD_385146', 'TD_386191', 'TD_386650', 'TD_387047', 'TD_385547', 'TD_384596', 'TD_386782', 'TD_386853', 'TD_386559', 'TD_386217', 'TD_386866', 'TD_385921', 'TD_385310', 'TD_385369', 'TD_385885', 'TD_386003', 'TD_384632', 'TD_384129', 'TD_384144', 'TD_387399', 'TD_385242', 'TD_386326', 'TD_383630', 'TD_385774', 'TD_384890', 'TD_387237', 'TD_386257', 'TD_386232', 'TD_385097', 'TD_384207', 'TD_386312', 'TD_384923', 'TD_386037', 'TD_385917', 'TD_385946', 'TD_385436', 'TD_384447', 'TD_384912', 'TD_386890', 'TD_385607', 'TD_383744', 'TD_384094', 'TD_385734', 'TD_386801', 'TD_386353', 'TD_384080', 'TD_386758', 'TD_385023', 'TD_386811', 'TD_386498', 'TD_387036', 'TD_386874', 'TD_384177', 'TD_384949', 'TD_383501', 'TD_387093', 'TD_384372', 'TD_384814', 'TD_385301', 'TD_384034', 'TD_384086', 'TD_383765', 'TD_386168', 'TD_385709', 'TD_386550', 'TD_385246', 'TD_385619', 'TD_385071', 'TD_386478', 'TD_387194', 'TD_385823', 'TD_384737', 'TD_386845', 'TD_386130', 'TD_385566', 'TD_384275', 'TD_386376', 'TD_387148', 'TD_386687', 'TD_385007', 'TD_384717', 'TD_383560', 'TD_385174', 'TD_385789', 'TD_384492', 'TD_386270', 'TD_383920', 'TD_385335', 'TD_385376', 'TD_383526', 'TD_383610', 'TD_384659', 'TD_386171', 'TD_386779', 'TD_386036', 'TD_383663', 'TD_384378', 'TD_387061', 'TD_383839', 'TD_387015', 'TD_387158', 'TD_383927', 'TD_383647', 'TD_385714', 'TD_385739', 'TD_386659', 'TD_383549', 'TD_384358', 'TD_384634', 'TD_385434', 'TD_383631', 'TD_384985', 'TD_385227', 'TD_384777', 'TD_385850', 'TD_384394', 'TD_384473', 'TD_386393', 'TD_383489', 'TD_386879', 'TD_387180', 'TD_386148', 'TD_384743', 'TD_384127', 'TD_386669', 'TD_383633', 'TD_383793', 'TD_386925', 'TD_386212', 'TD_385446', 'TD_386674', 'TD_385887', 'TD_386990', 'TD_385628', 'TD_385780', 'TD_384128', 'TD_386678', 'TD_386857', 'TD_387221', 'TD_383835', 'TD_387131', 'TD_386983', 'TD_384637', 'TD_384829', 'TD_386233', 'TD_384491', 'TD_383796', 'TD_384805', 'TD_385654', 'TD_385639', 'TD_385157', 'TD_387182', 'TD_384019', 'TD_386058', 'TD_386153', 'TD_386112', 'TD_386221', 'TD_387136', 'TD_384815', 'TD_387326', 'TD_385540', 'TD_384107', 'TD_387379', 'TD_386592', 'TD_384669', 'TD_383908', 'TD_383948', 'TD_383666', 'TD_385067', 'TD_385026', 'TD_386007', 'TD_386323', 'TD_385911', 'TD_384534', 'TD_386722', 'TD_385648', 'TD_384088', 'TD_383548', 'TD_386426', 'TD_387217', 'TD_387123', 'TD_387290', 'TD_383769', 'TD_385192', 'TD_387192', 'TD_385512', 'TD_386226', 'TD_384685', 'TD_387020', 'TD_383831', 'TD_383832', 'TD_383714', 'TD_386333', 'TD_386978', 'TD_384760', 'TD_383474', 'TD_386491', 'TD_384501', 'TD_384239', 'TD_384702', 'TD_385738', 'TD_386485', 'TD_385782', 'TD_385357', 'TD_384116', 'TD_385837', 'TD_386707', 'TD_384255', 'TD_386057', 'TD_384919', 'TD_384395', 'TD_386769', 'TD_387430', 'TD_384582', 'TD_385259', 'TD_386605', 'TD_387117', 'TD_383480', 'TD_386254', 'TD_385363', 'TD_387054', 'TD_383563', 'TD_385250', 'TD_385006', 'TD_384915', 'TD_386560', 'TD_383759', 'TD_383958', 'TD_385422', 'TD_385825', 'TD_386328', 'TD_387427', 'TD_386449', 'TD_384400', 'TD_385515', 'TD_386875', 'TD_386551', 'TD_384994', 'TD_386282', 'TD_387310', 'TD_383922', 'TD_384980', 'TD_386520', 'TD_387289', 'TD_385784', 'TD_387424', 'TD_385544', 'TD_385585', 'TD_385141'}\n"
     ]
    }
   ],
   "source": [
    "# фильтруем датафрейм по списку имен устройств\n",
    "filtered_df = df[df[\"name\"].isin(req_device_list)]\n",
    "\n",
    "# получаем устройства, которые есть в списке, но отсутствуют в датафрейме\n",
    "missing_devices = set(req_device_list).difference(set(filtered_df[\"name\"]))\n",
    "\n",
    "# выводим результаты\n",
    "print(\"Отфильтрованный датафрейм:\")\n",
    "print(filtered_df)\n",
    "print(\"Отсутствующие устройства:\")\n",
    "print(missing_devices)"
   ]
  },
  {
   "cell_type": "markdown",
   "id": "57df1e2a",
   "metadata": {},
   "source": [
    "TD_383449,  TD_383448, TD_387440, 386855"
   ]
  },
  {
   "cell_type": "code",
   "execution_count": 8,
   "id": "ef73b231",
   "metadata": {},
   "outputs": [
    {
     "data": {
      "text/html": [
       "<div>\n",
       "<style scoped>\n",
       "    .dataframe tbody tr th:only-of-type {\n",
       "        vertical-align: middle;\n",
       "    }\n",
       "\n",
       "    .dataframe tbody tr th {\n",
       "        vertical-align: top;\n",
       "    }\n",
       "\n",
       "    .dataframe thead th {\n",
       "        text-align: right;\n",
       "    }\n",
       "</style>\n",
       "<table border=\"1\" class=\"dataframe\">\n",
       "  <thead>\n",
       "    <tr style=\"text-align: right;\">\n",
       "      <th></th>\n",
       "      <th>name</th>\n",
       "      <th>rssi</th>\n",
       "      <th>metadata</th>\n",
       "      <th>address</th>\n",
       "      <th>device</th>\n",
       "    </tr>\n",
       "  </thead>\n",
       "  <tbody>\n",
       "    <tr>\n",
       "      <th>41</th>\n",
       "      <td>TD_386855</td>\n",
       "      <td>-62</td>\n",
       "      <td>{'uuids': ['6e400001-b5a3-f393-e0a9-ffeeddc5e7...</td>\n",
       "      <td>DD:53:A5:1A:65:28</td>\n",
       "      <td>DD:53:A5:1A:65:28: TD_386855</td>\n",
       "    </tr>\n",
       "    <tr>\n",
       "      <th>227</th>\n",
       "      <td>TD_387440</td>\n",
       "      <td>-60</td>\n",
       "      <td>{'uuids': [], 'manufacturer_data': {3862: b'\\x...</td>\n",
       "      <td>C7:B3:53:CE:54:E9</td>\n",
       "      <td>C7:B3:53:CE:54:E9: TD_387440</td>\n",
       "    </tr>\n",
       "    <tr>\n",
       "      <th>252</th>\n",
       "      <td>TD_383449</td>\n",
       "      <td>-56</td>\n",
       "      <td>{'uuids': [], 'manufacturer_data': {3862: b'\\x...</td>\n",
       "      <td>E2:F1:F3:8C:E1:45</td>\n",
       "      <td>E2:F1:F3:8C:E1:45: TD_383449</td>\n",
       "    </tr>\n",
       "  </tbody>\n",
       "</table>\n",
       "</div>"
      ],
      "text/plain": [
       "          name  rssi                                           metadata  \\\n",
       "41   TD_386855   -62  {'uuids': ['6e400001-b5a3-f393-e0a9-ffeeddc5e7...   \n",
       "227  TD_387440   -60  {'uuids': [], 'manufacturer_data': {3862: b'\\x...   \n",
       "252  TD_383449   -56  {'uuids': [], 'manufacturer_data': {3862: b'\\x...   \n",
       "\n",
       "               address                        device  \n",
       "41   DD:53:A5:1A:65:28  DD:53:A5:1A:65:28: TD_386855  \n",
       "227  C7:B3:53:CE:54:E9  C7:B3:53:CE:54:E9: TD_387440  \n",
       "252  E2:F1:F3:8C:E1:45  E2:F1:F3:8C:E1:45: TD_383449  "
      ]
     },
     "execution_count": 8,
     "metadata": {},
     "output_type": "execute_result"
    }
   ],
   "source": [
    "filtered_df"
   ]
  },
  {
   "cell_type": "code",
   "execution_count": 10,
   "id": "219cf66a",
   "metadata": {},
   "outputs": [
    {
     "data": {
      "text/plain": [
       "'6e400001-b5a3-f393-e0a9-ffeeddc5e727'"
      ]
     },
     "execution_count": 10,
     "metadata": {},
     "output_type": "execute_result"
    }
   ],
   "source": [
    "filtered_df.loc[41].metadata['uuids'][0]"
   ]
  },
  {
   "cell_type": "code",
   "execution_count": 13,
   "id": "d768ac55",
   "metadata": {},
   "outputs": [],
   "source": [
    "uuids = filtered_df.loc[146].metadata['uuids'][0].split('-')"
   ]
  },
  {
   "cell_type": "code",
   "execution_count": 14,
   "id": "d69f6c71",
   "metadata": {},
   "outputs": [
    {
     "data": {
      "text/plain": [
       "'ffeeddc5e727'"
      ]
     },
     "execution_count": 14,
     "metadata": {},
     "output_type": "execute_result"
    }
   ],
   "source": [
    "uuids[-1]"
   ]
  },
  {
   "cell_type": "code",
   "execution_count": 27,
   "id": "3f5ddead",
   "metadata": {},
   "outputs": [],
   "source": [
    "uuid_uniq_part = uuids[-1]"
   ]
  },
  {
   "cell_type": "code",
   "execution_count": 12,
   "id": "fed8063f",
   "metadata": {},
   "outputs": [
    {
     "data": {
      "text/plain": [
       "'DD:53:A5:1A:65:28'"
      ]
     },
     "execution_count": 12,
     "metadata": {},
     "output_type": "execute_result"
    }
   ],
   "source": [
    "filtered_df.loc[41].address"
   ]
  },
  {
   "cell_type": "code",
   "execution_count": 30,
   "id": "9c1fb802",
   "metadata": {},
   "outputs": [],
   "source": [
    "DEVICE_ADDRESS = filtered_df.loc[110].address"
   ]
  },
  {
   "cell_type": "code",
   "execution_count": 35,
   "id": "bf225b7b",
   "metadata": {},
   "outputs": [
    {
     "ename": "BleakError",
     "evalue": "Could not get GATT services: Unreachable",
     "output_type": "error",
     "traceback": [
      "\u001b[1;31m---------------------------------------------------------------------------\u001b[0m",
      "\u001b[1;31mBleakError\u001b[0m                                Traceback (most recent call last)",
      "Cell \u001b[1;32mIn[35], line 21\u001b[0m\n\u001b[0;32m     18\u001b[0m         data \u001b[38;5;241m=\u001b[39m \u001b[38;5;28;01mawait\u001b[39;00m client\u001b[38;5;241m.\u001b[39mread_gatt_char(RX_UUID)\n\u001b[0;32m     20\u001b[0m loop \u001b[38;5;241m=\u001b[39m asyncio\u001b[38;5;241m.\u001b[39mget_event_loop()\n\u001b[1;32m---> 21\u001b[0m \u001b[43mloop\u001b[49m\u001b[38;5;241;43m.\u001b[39;49m\u001b[43mrun_until_complete\u001b[49m\u001b[43m(\u001b[49m\u001b[43mrun\u001b[49m\u001b[43m(\u001b[49m\u001b[43m)\u001b[49m\u001b[43m)\u001b[49m\n",
      "File \u001b[1;32mC:\\ProgramData\\anaconda3\\lib\\site-packages\\nest_asyncio.py:90\u001b[0m, in \u001b[0;36m_patch_loop.<locals>.run_until_complete\u001b[1;34m(self, future)\u001b[0m\n\u001b[0;32m     87\u001b[0m \u001b[38;5;28;01mif\u001b[39;00m \u001b[38;5;129;01mnot\u001b[39;00m f\u001b[38;5;241m.\u001b[39mdone():\n\u001b[0;32m     88\u001b[0m     \u001b[38;5;28;01mraise\u001b[39;00m \u001b[38;5;167;01mRuntimeError\u001b[39;00m(\n\u001b[0;32m     89\u001b[0m         \u001b[38;5;124m'\u001b[39m\u001b[38;5;124mEvent loop stopped before Future completed.\u001b[39m\u001b[38;5;124m'\u001b[39m)\n\u001b[1;32m---> 90\u001b[0m \u001b[38;5;28;01mreturn\u001b[39;00m \u001b[43mf\u001b[49m\u001b[38;5;241;43m.\u001b[39;49m\u001b[43mresult\u001b[49m\u001b[43m(\u001b[49m\u001b[43m)\u001b[49m\n",
      "File \u001b[1;32mC:\\ProgramData\\anaconda3\\lib\\asyncio\\futures.py:201\u001b[0m, in \u001b[0;36mFuture.result\u001b[1;34m(self)\u001b[0m\n\u001b[0;32m    199\u001b[0m \u001b[38;5;28mself\u001b[39m\u001b[38;5;241m.\u001b[39m__log_traceback \u001b[38;5;241m=\u001b[39m \u001b[38;5;28;01mFalse\u001b[39;00m\n\u001b[0;32m    200\u001b[0m \u001b[38;5;28;01mif\u001b[39;00m \u001b[38;5;28mself\u001b[39m\u001b[38;5;241m.\u001b[39m_exception \u001b[38;5;129;01mis\u001b[39;00m \u001b[38;5;129;01mnot\u001b[39;00m \u001b[38;5;28;01mNone\u001b[39;00m:\n\u001b[1;32m--> 201\u001b[0m     \u001b[38;5;28;01mraise\u001b[39;00m \u001b[38;5;28mself\u001b[39m\u001b[38;5;241m.\u001b[39m_exception\u001b[38;5;241m.\u001b[39mwith_traceback(\u001b[38;5;28mself\u001b[39m\u001b[38;5;241m.\u001b[39m_exception_tb)\n\u001b[0;32m    202\u001b[0m \u001b[38;5;28;01mreturn\u001b[39;00m \u001b[38;5;28mself\u001b[39m\u001b[38;5;241m.\u001b[39m_result\n",
      "File \u001b[1;32mC:\\ProgramData\\anaconda3\\lib\\asyncio\\tasks.py:232\u001b[0m, in \u001b[0;36mTask.__step\u001b[1;34m(***failed resolving arguments***)\u001b[0m\n\u001b[0;32m    228\u001b[0m \u001b[38;5;28;01mtry\u001b[39;00m:\n\u001b[0;32m    229\u001b[0m     \u001b[38;5;28;01mif\u001b[39;00m exc \u001b[38;5;129;01mis\u001b[39;00m \u001b[38;5;28;01mNone\u001b[39;00m:\n\u001b[0;32m    230\u001b[0m         \u001b[38;5;66;03m# We use the `send` method directly, because coroutines\u001b[39;00m\n\u001b[0;32m    231\u001b[0m         \u001b[38;5;66;03m# don't have `__iter__` and `__next__` methods.\u001b[39;00m\n\u001b[1;32m--> 232\u001b[0m         result \u001b[38;5;241m=\u001b[39m \u001b[43mcoro\u001b[49m\u001b[38;5;241;43m.\u001b[39;49m\u001b[43msend\u001b[49m\u001b[43m(\u001b[49m\u001b[38;5;28;43;01mNone\u001b[39;49;00m\u001b[43m)\u001b[49m\n\u001b[0;32m    233\u001b[0m     \u001b[38;5;28;01melse\u001b[39;00m:\n\u001b[0;32m    234\u001b[0m         result \u001b[38;5;241m=\u001b[39m coro\u001b[38;5;241m.\u001b[39mthrow(exc)\n",
      "Cell \u001b[1;32mIn[35], line 12\u001b[0m, in \u001b[0;36mrun\u001b[1;34m()\u001b[0m\n\u001b[0;32m     10\u001b[0m \u001b[38;5;28;01masync\u001b[39;00m \u001b[38;5;28;01mdef\u001b[39;00m \u001b[38;5;21mrun\u001b[39m():\n\u001b[0;32m     11\u001b[0m     \u001b[38;5;66;03m# Подключение к устройству\u001b[39;00m\n\u001b[1;32m---> 12\u001b[0m     \u001b[38;5;28;01masync\u001b[39;00m \u001b[38;5;28;01mwith\u001b[39;00m BleakClient(DEVICE_ADDRESS, timeout\u001b[38;5;241m=\u001b[39m\u001b[38;5;241m60\u001b[39m) \u001b[38;5;28;01mas\u001b[39;00m client:\n\u001b[0;32m     13\u001b[0m         \u001b[38;5;66;03m# Получение характеристик\u001b[39;00m\n\u001b[0;32m     14\u001b[0m         rx_char \u001b[38;5;241m=\u001b[39m \u001b[38;5;28;01mawait\u001b[39;00m client\u001b[38;5;241m.\u001b[39mread_gatt_char(RX_UUID)\n\u001b[0;32m     15\u001b[0m         tx_char \u001b[38;5;241m=\u001b[39m \u001b[38;5;28;01mawait\u001b[39;00m client\u001b[38;5;241m.\u001b[39mwrite_gatt_char(TX_UUID, \u001b[38;5;124mb\u001b[39m\u001b[38;5;124m\"\u001b[39m\u001b[38;5;124mHello, World!\u001b[39m\u001b[38;5;124m\"\u001b[39m)\n",
      "File \u001b[1;32m~\\AppData\\Roaming\\Python\\Python310\\site-packages\\bleak\\__init__.py:491\u001b[0m, in \u001b[0;36mBleakClient.__aenter__\u001b[1;34m(self)\u001b[0m\n\u001b[0;32m    490\u001b[0m \u001b[38;5;28;01masync\u001b[39;00m \u001b[38;5;28;01mdef\u001b[39;00m \u001b[38;5;21m__aenter__\u001b[39m(\u001b[38;5;28mself\u001b[39m):\n\u001b[1;32m--> 491\u001b[0m     \u001b[38;5;28;01mawait\u001b[39;00m \u001b[38;5;28mself\u001b[39m\u001b[38;5;241m.\u001b[39mconnect()\n\u001b[0;32m    492\u001b[0m     \u001b[38;5;28;01mreturn\u001b[39;00m \u001b[38;5;28mself\u001b[39m\n",
      "File \u001b[1;32m~\\AppData\\Roaming\\Python\\Python310\\site-packages\\bleak\\__init__.py:531\u001b[0m, in \u001b[0;36mBleakClient.connect\u001b[1;34m(self, **kwargs)\u001b[0m\n\u001b[0;32m    521\u001b[0m \u001b[38;5;28;01masync\u001b[39;00m \u001b[38;5;28;01mdef\u001b[39;00m \u001b[38;5;21mconnect\u001b[39m(\u001b[38;5;28mself\u001b[39m, \u001b[38;5;241m*\u001b[39m\u001b[38;5;241m*\u001b[39mkwargs) \u001b[38;5;241m-\u001b[39m\u001b[38;5;241m>\u001b[39m \u001b[38;5;28mbool\u001b[39m:\n\u001b[0;32m    522\u001b[0m     \u001b[38;5;124;03m\"\"\"Connect to the specified GATT server.\u001b[39;00m\n\u001b[0;32m    523\u001b[0m \n\u001b[0;32m    524\u001b[0m \u001b[38;5;124;03m    Args:\u001b[39;00m\n\u001b[1;32m   (...)\u001b[0m\n\u001b[0;32m    529\u001b[0m \n\u001b[0;32m    530\u001b[0m \u001b[38;5;124;03m    \"\"\"\u001b[39;00m\n\u001b[1;32m--> 531\u001b[0m     \u001b[38;5;28;01mreturn\u001b[39;00m \u001b[38;5;28;01mawait\u001b[39;00m \u001b[38;5;28mself\u001b[39m\u001b[38;5;241m.\u001b[39m_backend\u001b[38;5;241m.\u001b[39mconnect(\u001b[38;5;241m*\u001b[39m\u001b[38;5;241m*\u001b[39mkwargs)\n",
      "File \u001b[1;32m~\\AppData\\Roaming\\Python\\Python310\\site-packages\\bleak\\backends\\winrt\\client.py:440\u001b[0m, in \u001b[0;36mBleakClientWinRT.connect\u001b[1;34m(self, **kwargs)\u001b[0m\n\u001b[0;32m    438\u001b[0m                 \u001b[38;5;28;01mpass\u001b[39;00m\n\u001b[0;32m    439\u001b[0m     \u001b[38;5;28;01melse\u001b[39;00m:\n\u001b[1;32m--> 440\u001b[0m         \u001b[38;5;28mself\u001b[39m\u001b[38;5;241m.\u001b[39mservices \u001b[38;5;241m=\u001b[39m \u001b[38;5;28;01mawait\u001b[39;00m \u001b[38;5;28mself\u001b[39m\u001b[38;5;241m.\u001b[39mget_services(\n\u001b[0;32m    441\u001b[0m             service_cache_mode\u001b[38;5;241m=\u001b[39mservice_cache_mode,\n\u001b[0;32m    442\u001b[0m             cache_mode\u001b[38;5;241m=\u001b[39mcache_mode,\n\u001b[0;32m    443\u001b[0m         )\n\u001b[0;32m    445\u001b[0m \u001b[38;5;66;03m# a connection may not be made until we request info from the\u001b[39;00m\n\u001b[0;32m    446\u001b[0m \u001b[38;5;66;03m# device, so we have to get services before the GATT session\u001b[39;00m\n\u001b[0;32m    447\u001b[0m \u001b[38;5;66;03m# is set to active\u001b[39;00m\n\u001b[0;32m    448\u001b[0m \u001b[38;5;28;01mawait\u001b[39;00m event\u001b[38;5;241m.\u001b[39mwait()\n",
      "File \u001b[1;32m~\\AppData\\Roaming\\Python\\Python310\\site-packages\\bleak\\backends\\winrt\\client.py:670\u001b[0m, in \u001b[0;36mBleakClientWinRT.get_services\u001b[1;34m(self, service_cache_mode, cache_mode, **kwargs)\u001b[0m\n\u001b[0;32m    667\u001b[0m     future \u001b[38;5;241m=\u001b[39m FutureLike(\u001b[38;5;28mself\u001b[39m\u001b[38;5;241m.\u001b[39m_requester\u001b[38;5;241m.\u001b[39mget_gatt_services_async(\u001b[38;5;241m*\u001b[39msrv_args))\n\u001b[0;32m    668\u001b[0m     future\u001b[38;5;241m.\u001b[39madd_done_callback(dispose_on_cancel)\n\u001b[1;32m--> 670\u001b[0m     services \u001b[38;5;241m=\u001b[39m \u001b[43m_ensure_success\u001b[49m\u001b[43m(\u001b[49m\n\u001b[0;32m    671\u001b[0m \u001b[43m        \u001b[49m\u001b[38;5;28;43;01mawait\u001b[39;49;00m\u001b[43m \u001b[49m\u001b[43mFutureLike\u001b[49m\u001b[43m(\u001b[49m\u001b[38;5;28;43mself\u001b[39;49m\u001b[38;5;241;43m.\u001b[39;49m\u001b[43m_requester\u001b[49m\u001b[38;5;241;43m.\u001b[39;49m\u001b[43mget_gatt_services_async\u001b[49m\u001b[43m(\u001b[49m\u001b[38;5;241;43m*\u001b[39;49m\u001b[43msrv_args\u001b[49m\u001b[43m)\u001b[49m\u001b[43m)\u001b[49m\u001b[43m,\u001b[49m\n\u001b[0;32m    672\u001b[0m \u001b[43m        \u001b[49m\u001b[38;5;124;43m\"\u001b[39;49m\u001b[38;5;124;43mservices\u001b[39;49m\u001b[38;5;124;43m\"\u001b[39;49m\u001b[43m,\u001b[49m\n\u001b[0;32m    673\u001b[0m \u001b[43m        \u001b[49m\u001b[38;5;124;43m\"\u001b[39;49m\u001b[38;5;124;43mCould not get GATT services\u001b[39;49m\u001b[38;5;124;43m\"\u001b[39;49m\u001b[43m,\u001b[49m\n\u001b[0;32m    674\u001b[0m \u001b[43m    \u001b[49m\u001b[43m)\u001b[49m\n\u001b[0;32m    675\u001b[0m \u001b[38;5;28;01melse\u001b[39;00m:\n\u001b[0;32m    676\u001b[0m     services \u001b[38;5;241m=\u001b[39m []\n",
      "File \u001b[1;32m~\\AppData\\Roaming\\Python\\Python310\\site-packages\\bleak\\backends\\winrt\\client.py:123\u001b[0m, in \u001b[0;36m_ensure_success\u001b[1;34m(result, attr, fail_msg)\u001b[0m\n\u001b[0;32m    120\u001b[0m     \u001b[38;5;28;01mraise\u001b[39;00m BleakError(\u001b[38;5;124mf\u001b[39m\u001b[38;5;124m\"\u001b[39m\u001b[38;5;132;01m{\u001b[39;00mfail_msg\u001b[38;5;132;01m}\u001b[39;00m\u001b[38;5;124m: Access Denied\u001b[39m\u001b[38;5;124m\"\u001b[39m)\n\u001b[0;32m    122\u001b[0m \u001b[38;5;28;01mif\u001b[39;00m status \u001b[38;5;241m==\u001b[39m GattCommunicationStatus\u001b[38;5;241m.\u001b[39mUNREACHABLE:\n\u001b[1;32m--> 123\u001b[0m     \u001b[38;5;28;01mraise\u001b[39;00m BleakError(\u001b[38;5;124mf\u001b[39m\u001b[38;5;124m\"\u001b[39m\u001b[38;5;132;01m{\u001b[39;00mfail_msg\u001b[38;5;132;01m}\u001b[39;00m\u001b[38;5;124m: Unreachable\u001b[39m\u001b[38;5;124m\"\u001b[39m)\n\u001b[0;32m    125\u001b[0m \u001b[38;5;28;01mraise\u001b[39;00m BleakError(\u001b[38;5;124mf\u001b[39m\u001b[38;5;124m\"\u001b[39m\u001b[38;5;132;01m{\u001b[39;00mfail_msg\u001b[38;5;132;01m}\u001b[39;00m\u001b[38;5;124m: Unexpected status code 0x\u001b[39m\u001b[38;5;132;01m{\u001b[39;00mstatus\u001b[38;5;132;01m:\u001b[39;00m\u001b[38;5;124m02X\u001b[39m\u001b[38;5;132;01m}\u001b[39;00m\u001b[38;5;124m\"\u001b[39m)\n",
      "\u001b[1;31mBleakError\u001b[0m: Could not get GATT services: Unreachable"
     ]
    }
   ],
   "source": [
    "import asyncio\n",
    "from bleak import BleakClient\n",
    "\n",
    "# UUID характеристик\n",
    "RX_UUID = \"6e400003-b5a3-f393-30a9-\" + uuid_uniq_part\n",
    "TX_UUID = \"6e400002-b5a3-f393-30a9-\" + uuid_uniq_part\n",
    "\n",
    "# Адрес устройства\n",
    "\n",
    "async def run():\n",
    "    # Подключение к устройству\n",
    "    async with BleakClient(DEVICE_ADDRESS, timeout=60) as client:\n",
    "        # Получение характеристик\n",
    "        rx_char = await client.read_gatt_char(RX_UUID)\n",
    "        tx_char = await client.write_gatt_char(TX_UUID, b\"Hello, World!\")\n",
    "\n",
    "        # Чтение данных\n",
    "        data = await client.read_gatt_char(RX_UUID)\n",
    "\n",
    "loop = asyncio.get_event_loop()\n",
    "loop.run_until_complete(run())"
   ]
  },
  {
   "cell_type": "code",
   "execution_count": null,
   "id": "ed29fffb",
   "metadata": {},
   "outputs": [],
   "source": []
  },
  {
   "cell_type": "code",
   "execution_count": 8,
   "id": "2590b748",
   "metadata": {},
   "outputs": [],
   "source": [
    "# замените здесь на адрес МАС-устройства, которое вы хотите подключить\n",
    "device = filtered_df.loc[0].device"
   ]
  },
  {
   "cell_type": "code",
   "execution_count": 9,
   "id": "3b3ecab5",
   "metadata": {},
   "outputs": [
    {
     "data": {
      "text/plain": [
       "BLEDevice(CA:17:37:73:61:98, TD_383448)"
      ]
     },
     "execution_count": 9,
     "metadata": {},
     "output_type": "execute_result"
    }
   ],
   "source": [
    "device"
   ]
  },
  {
   "cell_type": "code",
   "execution_count": 2,
   "id": "923714bf",
   "metadata": {},
   "outputs": [
    {
     "ename": "TimeoutError",
     "evalue": "",
     "output_type": "error",
     "traceback": [
      "\u001b[1;31m---------------------------------------------------------------------------\u001b[0m",
      "\u001b[1;31mCancelledError\u001b[0m                            Traceback (most recent call last)",
      "File \u001b[1;32m~\\AppData\\Roaming\\Python\\Python310\\site-packages\\bleak\\backends\\winrt\\client.py:440\u001b[0m, in \u001b[0;36mBleakClientWinRT.connect\u001b[1;34m(self, **kwargs)\u001b[0m\n\u001b[0;32m    439\u001b[0m     \u001b[38;5;28;01melse\u001b[39;00m:\n\u001b[1;32m--> 440\u001b[0m         \u001b[38;5;28mself\u001b[39m\u001b[38;5;241m.\u001b[39mservices \u001b[38;5;241m=\u001b[39m \u001b[38;5;28;01mawait\u001b[39;00m \u001b[38;5;28mself\u001b[39m\u001b[38;5;241m.\u001b[39mget_services(\n\u001b[0;32m    441\u001b[0m             service_cache_mode\u001b[38;5;241m=\u001b[39mservice_cache_mode,\n\u001b[0;32m    442\u001b[0m             cache_mode\u001b[38;5;241m=\u001b[39mcache_mode,\n\u001b[0;32m    443\u001b[0m         )\n\u001b[0;32m    445\u001b[0m \u001b[38;5;66;03m# a connection may not be made until we request info from the\u001b[39;00m\n\u001b[0;32m    446\u001b[0m \u001b[38;5;66;03m# device, so we have to get services before the GATT session\u001b[39;00m\n\u001b[0;32m    447\u001b[0m \u001b[38;5;66;03m# is set to active\u001b[39;00m\n",
      "File \u001b[1;32m~\\AppData\\Roaming\\Python\\Python310\\site-packages\\bleak\\backends\\winrt\\client.py:671\u001b[0m, in \u001b[0;36mBleakClientWinRT.get_services\u001b[1;34m(self, service_cache_mode, cache_mode, **kwargs)\u001b[0m\n\u001b[0;32m    668\u001b[0m     future\u001b[38;5;241m.\u001b[39madd_done_callback(dispose_on_cancel)\n\u001b[0;32m    670\u001b[0m     services \u001b[38;5;241m=\u001b[39m _ensure_success(\n\u001b[1;32m--> 671\u001b[0m         \u001b[38;5;28;01mawait\u001b[39;00m FutureLike(\u001b[38;5;28mself\u001b[39m\u001b[38;5;241m.\u001b[39m_requester\u001b[38;5;241m.\u001b[39mget_gatt_services_async(\u001b[38;5;241m*\u001b[39msrv_args)),\n\u001b[0;32m    672\u001b[0m         \u001b[38;5;124m\"\u001b[39m\u001b[38;5;124mservices\u001b[39m\u001b[38;5;124m\"\u001b[39m,\n\u001b[0;32m    673\u001b[0m         \u001b[38;5;124m\"\u001b[39m\u001b[38;5;124mCould not get GATT services\u001b[39m\u001b[38;5;124m\"\u001b[39m,\n\u001b[0;32m    674\u001b[0m     )\n\u001b[0;32m    675\u001b[0m \u001b[38;5;28;01melse\u001b[39;00m:\n",
      "File \u001b[1;32m~\\AppData\\Roaming\\Python\\Python310\\site-packages\\bleak\\backends\\winrt\\client.py:1102\u001b[0m, in \u001b[0;36mFutureLike.__await__\u001b[1;34m(self)\u001b[0m\n\u001b[0;32m   1101\u001b[0m     \u001b[38;5;28mself\u001b[39m\u001b[38;5;241m.\u001b[39m_asyncio_future_blocking \u001b[38;5;241m=\u001b[39m \u001b[38;5;28;01mTrue\u001b[39;00m\n\u001b[1;32m-> 1102\u001b[0m     \u001b[38;5;28;01myield\u001b[39;00m \u001b[38;5;28mself\u001b[39m  \u001b[38;5;66;03m# This tells Task to wait for completion.\u001b[39;00m\n\u001b[0;32m   1104\u001b[0m \u001b[38;5;28;01mif\u001b[39;00m \u001b[38;5;129;01mnot\u001b[39;00m \u001b[38;5;28mself\u001b[39m\u001b[38;5;241m.\u001b[39mdone():\n",
      "File \u001b[1;32mC:\\ProgramData\\anaconda3\\lib\\asyncio\\tasks.py:304\u001b[0m, in \u001b[0;36mTask.__wakeup\u001b[1;34m(self, future)\u001b[0m\n\u001b[0;32m    303\u001b[0m \u001b[38;5;28;01mtry\u001b[39;00m:\n\u001b[1;32m--> 304\u001b[0m     \u001b[43mfuture\u001b[49m\u001b[38;5;241;43m.\u001b[39;49m\u001b[43mresult\u001b[49m\u001b[43m(\u001b[49m\u001b[43m)\u001b[49m\n\u001b[0;32m    305\u001b[0m \u001b[38;5;28;01mexcept\u001b[39;00m \u001b[38;5;167;01mBaseException\u001b[39;00m \u001b[38;5;28;01mas\u001b[39;00m exc:\n\u001b[0;32m    306\u001b[0m     \u001b[38;5;66;03m# This may also be a cancellation.\u001b[39;00m\n",
      "File \u001b[1;32m~\\AppData\\Roaming\\Python\\Python310\\site-packages\\bleak\\backends\\winrt\\client.py:1037\u001b[0m, in \u001b[0;36mFutureLike.result\u001b[1;34m(self)\u001b[0m\n\u001b[0;32m   1036\u001b[0m \u001b[38;5;28;01mif\u001b[39;00m \u001b[38;5;28mself\u001b[39m\u001b[38;5;241m.\u001b[39m_cancel_requested:\n\u001b[1;32m-> 1037\u001b[0m     \u001b[38;5;28;01mraise\u001b[39;00m asyncio\u001b[38;5;241m.\u001b[39mCancelledError\n\u001b[0;32m   1039\u001b[0m \u001b[38;5;28;01mreturn\u001b[39;00m \u001b[38;5;28mself\u001b[39m\u001b[38;5;241m.\u001b[39m_result\n",
      "\u001b[1;31mCancelledError\u001b[0m: ",
      "\nDuring handling of the above exception, another exception occurred:\n",
      "\u001b[1;31mTimeoutError\u001b[0m                              Traceback (most recent call last)",
      "Cell \u001b[1;32mIn[2], line 9\u001b[0m\n\u001b[0;32m      7\u001b[0m         BleakClient\u001b[38;5;241m.\u001b[39mpair(\u001b[38;5;241m*\u001b[39margs, \u001b[38;5;241m*\u001b[39m\u001b[38;5;241m*\u001b[39mkwargs)\n\u001b[0;32m      8\u001b[0m loop \u001b[38;5;241m=\u001b[39m asyncio\u001b[38;5;241m.\u001b[39mget_event_loop()\n\u001b[1;32m----> 9\u001b[0m \u001b[43mloop\u001b[49m\u001b[38;5;241;43m.\u001b[39;49m\u001b[43mrun_until_complete\u001b[49m\u001b[43m(\u001b[49m\u001b[43mrun\u001b[49m\u001b[43m(\u001b[49m\u001b[43m)\u001b[49m\u001b[43m)\u001b[49m\n",
      "File \u001b[1;32mC:\\ProgramData\\anaconda3\\lib\\site-packages\\nest_asyncio.py:90\u001b[0m, in \u001b[0;36m_patch_loop.<locals>.run_until_complete\u001b[1;34m(self, future)\u001b[0m\n\u001b[0;32m     87\u001b[0m \u001b[38;5;28;01mif\u001b[39;00m \u001b[38;5;129;01mnot\u001b[39;00m f\u001b[38;5;241m.\u001b[39mdone():\n\u001b[0;32m     88\u001b[0m     \u001b[38;5;28;01mraise\u001b[39;00m \u001b[38;5;167;01mRuntimeError\u001b[39;00m(\n\u001b[0;32m     89\u001b[0m         \u001b[38;5;124m'\u001b[39m\u001b[38;5;124mEvent loop stopped before Future completed.\u001b[39m\u001b[38;5;124m'\u001b[39m)\n\u001b[1;32m---> 90\u001b[0m \u001b[38;5;28;01mreturn\u001b[39;00m \u001b[43mf\u001b[49m\u001b[38;5;241;43m.\u001b[39;49m\u001b[43mresult\u001b[49m\u001b[43m(\u001b[49m\u001b[43m)\u001b[49m\n",
      "File \u001b[1;32mC:\\ProgramData\\anaconda3\\lib\\asyncio\\futures.py:201\u001b[0m, in \u001b[0;36mFuture.result\u001b[1;34m(self)\u001b[0m\n\u001b[0;32m    199\u001b[0m \u001b[38;5;28mself\u001b[39m\u001b[38;5;241m.\u001b[39m__log_traceback \u001b[38;5;241m=\u001b[39m \u001b[38;5;28;01mFalse\u001b[39;00m\n\u001b[0;32m    200\u001b[0m \u001b[38;5;28;01mif\u001b[39;00m \u001b[38;5;28mself\u001b[39m\u001b[38;5;241m.\u001b[39m_exception \u001b[38;5;129;01mis\u001b[39;00m \u001b[38;5;129;01mnot\u001b[39;00m \u001b[38;5;28;01mNone\u001b[39;00m:\n\u001b[1;32m--> 201\u001b[0m     \u001b[38;5;28;01mraise\u001b[39;00m \u001b[38;5;28mself\u001b[39m\u001b[38;5;241m.\u001b[39m_exception\u001b[38;5;241m.\u001b[39mwith_traceback(\u001b[38;5;28mself\u001b[39m\u001b[38;5;241m.\u001b[39m_exception_tb)\n\u001b[0;32m    202\u001b[0m \u001b[38;5;28;01mreturn\u001b[39;00m \u001b[38;5;28mself\u001b[39m\u001b[38;5;241m.\u001b[39m_result\n",
      "File \u001b[1;32mC:\\ProgramData\\anaconda3\\lib\\asyncio\\tasks.py:234\u001b[0m, in \u001b[0;36mTask.__step\u001b[1;34m(***failed resolving arguments***)\u001b[0m\n\u001b[0;32m    232\u001b[0m         result \u001b[38;5;241m=\u001b[39m coro\u001b[38;5;241m.\u001b[39msend(\u001b[38;5;28;01mNone\u001b[39;00m)\n\u001b[0;32m    233\u001b[0m     \u001b[38;5;28;01melse\u001b[39;00m:\n\u001b[1;32m--> 234\u001b[0m         result \u001b[38;5;241m=\u001b[39m \u001b[43mcoro\u001b[49m\u001b[38;5;241;43m.\u001b[39;49m\u001b[43mthrow\u001b[49m\u001b[43m(\u001b[49m\u001b[43mexc\u001b[49m\u001b[43m)\u001b[49m\n\u001b[0;32m    235\u001b[0m \u001b[38;5;28;01mexcept\u001b[39;00m \u001b[38;5;167;01mStopIteration\u001b[39;00m \u001b[38;5;28;01mas\u001b[39;00m exc:\n\u001b[0;32m    236\u001b[0m     \u001b[38;5;28;01mif\u001b[39;00m \u001b[38;5;28mself\u001b[39m\u001b[38;5;241m.\u001b[39m_must_cancel:\n\u001b[0;32m    237\u001b[0m         \u001b[38;5;66;03m# Task is cancelled right before coro stops.\u001b[39;00m\n",
      "Cell \u001b[1;32mIn[2], line 6\u001b[0m, in \u001b[0;36mrun\u001b[1;34m()\u001b[0m\n\u001b[0;32m      5\u001b[0m \u001b[38;5;28;01masync\u001b[39;00m \u001b[38;5;28;01mdef\u001b[39;00m \u001b[38;5;21mrun\u001b[39m():\n\u001b[1;32m----> 6\u001b[0m     \u001b[38;5;28;01masync\u001b[39;00m \u001b[38;5;28;01mwith\u001b[39;00m BleakClient(device) \u001b[38;5;28;01mas\u001b[39;00m client:\n\u001b[0;32m      7\u001b[0m         BleakClient\u001b[38;5;241m.\u001b[39mpair(\u001b[38;5;241m*\u001b[39margs, \u001b[38;5;241m*\u001b[39m\u001b[38;5;241m*\u001b[39mkwargs)\n",
      "File \u001b[1;32m~\\AppData\\Roaming\\Python\\Python310\\site-packages\\bleak\\__init__.py:491\u001b[0m, in \u001b[0;36mBleakClient.__aenter__\u001b[1;34m(self)\u001b[0m\n\u001b[0;32m    490\u001b[0m \u001b[38;5;28;01masync\u001b[39;00m \u001b[38;5;28;01mdef\u001b[39;00m \u001b[38;5;21m__aenter__\u001b[39m(\u001b[38;5;28mself\u001b[39m):\n\u001b[1;32m--> 491\u001b[0m     \u001b[38;5;28;01mawait\u001b[39;00m \u001b[38;5;28mself\u001b[39m\u001b[38;5;241m.\u001b[39mconnect()\n\u001b[0;32m    492\u001b[0m     \u001b[38;5;28;01mreturn\u001b[39;00m \u001b[38;5;28mself\u001b[39m\n",
      "File \u001b[1;32m~\\AppData\\Roaming\\Python\\Python310\\site-packages\\bleak\\__init__.py:531\u001b[0m, in \u001b[0;36mBleakClient.connect\u001b[1;34m(self, **kwargs)\u001b[0m\n\u001b[0;32m    521\u001b[0m \u001b[38;5;28;01masync\u001b[39;00m \u001b[38;5;28;01mdef\u001b[39;00m \u001b[38;5;21mconnect\u001b[39m(\u001b[38;5;28mself\u001b[39m, \u001b[38;5;241m*\u001b[39m\u001b[38;5;241m*\u001b[39mkwargs) \u001b[38;5;241m-\u001b[39m\u001b[38;5;241m>\u001b[39m \u001b[38;5;28mbool\u001b[39m:\n\u001b[0;32m    522\u001b[0m     \u001b[38;5;124;03m\"\"\"Connect to the specified GATT server.\u001b[39;00m\n\u001b[0;32m    523\u001b[0m \n\u001b[0;32m    524\u001b[0m \u001b[38;5;124;03m    Args:\u001b[39;00m\n\u001b[1;32m   (...)\u001b[0m\n\u001b[0;32m    529\u001b[0m \n\u001b[0;32m    530\u001b[0m \u001b[38;5;124;03m    \"\"\"\u001b[39;00m\n\u001b[1;32m--> 531\u001b[0m     \u001b[38;5;28;01mreturn\u001b[39;00m \u001b[38;5;28;01mawait\u001b[39;00m \u001b[38;5;28mself\u001b[39m\u001b[38;5;241m.\u001b[39m_backend\u001b[38;5;241m.\u001b[39mconnect(\u001b[38;5;241m*\u001b[39m\u001b[38;5;241m*\u001b[39mkwargs)\n",
      "File \u001b[1;32m~\\AppData\\Roaming\\Python\\Python310\\site-packages\\bleak\\backends\\winrt\\client.py:396\u001b[0m, in \u001b[0;36mBleakClientWinRT.connect\u001b[1;34m(self, **kwargs)\u001b[0m\n\u001b[0;32m    390\u001b[0m \u001b[38;5;66;03m# if we receive a services changed event before get_gatt_services_async()\u001b[39;00m\n\u001b[0;32m    391\u001b[0m \u001b[38;5;66;03m# finishes, we need to call it again with BluetoothCacheMode.CACHED\u001b[39;00m\n\u001b[0;32m    392\u001b[0m \u001b[38;5;66;03m# to ensure we have the correct services as described in\u001b[39;00m\n\u001b[0;32m    393\u001b[0m \u001b[38;5;66;03m# https://learn.microsoft.com/en-us/uwp/api/windows.devices.bluetooth.bluetoothledevice.gattserviceschanged\u001b[39;00m\n\u001b[0;32m    394\u001b[0m service_cache_mode \u001b[38;5;241m=\u001b[39m cache_mode\n\u001b[1;32m--> 396\u001b[0m \u001b[38;5;28;01masync\u001b[39;00m \u001b[38;5;28;01mwith\u001b[39;00m async_timeout(timeout):\n\u001b[0;32m    397\u001b[0m     \u001b[38;5;28;01mif\u001b[39;00m \u001b[38;5;28mself\u001b[39m\u001b[38;5;241m.\u001b[39m_retry_on_services_changed:\n\u001b[0;32m    398\u001b[0m         \u001b[38;5;28;01mwhile\u001b[39;00m \u001b[38;5;28;01mTrue\u001b[39;00m:\n",
      "File \u001b[1;32m~\\AppData\\Roaming\\Python\\Python310\\site-packages\\async_timeout\\__init__.py:129\u001b[0m, in \u001b[0;36mTimeout.__aexit__\u001b[1;34m(self, exc_type, exc_val, exc_tb)\u001b[0m\n\u001b[0;32m    123\u001b[0m \u001b[38;5;28;01masync\u001b[39;00m \u001b[38;5;28;01mdef\u001b[39;00m \u001b[38;5;21m__aexit__\u001b[39m(\n\u001b[0;32m    124\u001b[0m     \u001b[38;5;28mself\u001b[39m,\n\u001b[0;32m    125\u001b[0m     exc_type: Optional[Type[\u001b[38;5;167;01mBaseException\u001b[39;00m]],\n\u001b[0;32m    126\u001b[0m     exc_val: Optional[\u001b[38;5;167;01mBaseException\u001b[39;00m],\n\u001b[0;32m    127\u001b[0m     exc_tb: Optional[TracebackType],\n\u001b[0;32m    128\u001b[0m ) \u001b[38;5;241m-\u001b[39m\u001b[38;5;241m>\u001b[39m Optional[\u001b[38;5;28mbool\u001b[39m]:\n\u001b[1;32m--> 129\u001b[0m     \u001b[38;5;28;43mself\u001b[39;49m\u001b[38;5;241;43m.\u001b[39;49m\u001b[43m_do_exit\u001b[49m\u001b[43m(\u001b[49m\u001b[43mexc_type\u001b[49m\u001b[43m)\u001b[49m\n\u001b[0;32m    130\u001b[0m     \u001b[38;5;28;01mreturn\u001b[39;00m \u001b[38;5;28;01mNone\u001b[39;00m\n",
      "File \u001b[1;32m~\\AppData\\Roaming\\Python\\Python310\\site-packages\\async_timeout\\__init__.py:212\u001b[0m, in \u001b[0;36mTimeout._do_exit\u001b[1;34m(self, exc_type)\u001b[0m\n\u001b[0;32m    210\u001b[0m \u001b[38;5;28;01mif\u001b[39;00m exc_type \u001b[38;5;129;01mis\u001b[39;00m asyncio\u001b[38;5;241m.\u001b[39mCancelledError \u001b[38;5;129;01mand\u001b[39;00m \u001b[38;5;28mself\u001b[39m\u001b[38;5;241m.\u001b[39m_state \u001b[38;5;241m==\u001b[39m _State\u001b[38;5;241m.\u001b[39mTIMEOUT:\n\u001b[0;32m    211\u001b[0m     \u001b[38;5;28mself\u001b[39m\u001b[38;5;241m.\u001b[39m_timeout_handler \u001b[38;5;241m=\u001b[39m \u001b[38;5;28;01mNone\u001b[39;00m\n\u001b[1;32m--> 212\u001b[0m     \u001b[38;5;28;01mraise\u001b[39;00m asyncio\u001b[38;5;241m.\u001b[39mTimeoutError\n\u001b[0;32m    213\u001b[0m \u001b[38;5;66;03m# timeout has not expired\u001b[39;00m\n\u001b[0;32m    214\u001b[0m \u001b[38;5;28mself\u001b[39m\u001b[38;5;241m.\u001b[39m_state \u001b[38;5;241m=\u001b[39m _State\u001b[38;5;241m.\u001b[39mEXIT\n",
      "\u001b[1;31mTimeoutError\u001b[0m: "
     ]
    }
   ],
   "source": [
    "import asyncio\n",
    "from bleak import BleakClient\n",
    "\n",
    "\n",
    "async def run():\n",
    "    async with BleakClient(device) as client:\n",
    "        BleakClient.pair(*args, **kwargs)\n",
    "loop = asyncio.get_event_loop()\n",
    "loop.run_until_complete(run())"
   ]
  },
  {
   "cell_type": "code",
   "execution_count": 12,
   "id": "84de9303",
   "metadata": {},
   "outputs": [
    {
     "ename": "BleakError",
     "evalue": "Could not get GATT services: Unreachable",
     "output_type": "error",
     "traceback": [
      "\u001b[1;31m---------------------------------------------------------------------------\u001b[0m",
      "\u001b[1;31mBleakError\u001b[0m                                Traceback (most recent call last)",
      "Cell \u001b[1;32mIn[12], line 19\u001b[0m\n\u001b[0;32m     15\u001b[0m         \u001b[38;5;28mprint\u001b[39m(\u001b[38;5;124m\"\u001b[39m\u001b[38;5;124mDisconnected\u001b[39m\u001b[38;5;124m\"\u001b[39m)\n\u001b[0;32m     18\u001b[0m \u001b[38;5;66;03m# запустите выполнение функции подключения к устройству\u001b[39;00m\n\u001b[1;32m---> 19\u001b[0m \u001b[43masyncio\u001b[49m\u001b[38;5;241;43m.\u001b[39;49m\u001b[43mrun\u001b[49m\u001b[43m(\u001b[49m\u001b[43mconnect_to_device\u001b[49m\u001b[43m(\u001b[49m\u001b[43mdevice\u001b[49m\u001b[43m)\u001b[49m\u001b[43m)\u001b[49m\n",
      "File \u001b[1;32mC:\\ProgramData\\anaconda3\\lib\\site-packages\\nest_asyncio.py:35\u001b[0m, in \u001b[0;36m_patch_asyncio.<locals>.run\u001b[1;34m(main, debug)\u001b[0m\n\u001b[0;32m     33\u001b[0m task \u001b[38;5;241m=\u001b[39m asyncio\u001b[38;5;241m.\u001b[39mensure_future(main)\n\u001b[0;32m     34\u001b[0m \u001b[38;5;28;01mtry\u001b[39;00m:\n\u001b[1;32m---> 35\u001b[0m     \u001b[38;5;28;01mreturn\u001b[39;00m \u001b[43mloop\u001b[49m\u001b[38;5;241;43m.\u001b[39;49m\u001b[43mrun_until_complete\u001b[49m\u001b[43m(\u001b[49m\u001b[43mtask\u001b[49m\u001b[43m)\u001b[49m\n\u001b[0;32m     36\u001b[0m \u001b[38;5;28;01mfinally\u001b[39;00m:\n\u001b[0;32m     37\u001b[0m     \u001b[38;5;28;01mif\u001b[39;00m \u001b[38;5;129;01mnot\u001b[39;00m task\u001b[38;5;241m.\u001b[39mdone():\n",
      "File \u001b[1;32mC:\\ProgramData\\anaconda3\\lib\\site-packages\\nest_asyncio.py:90\u001b[0m, in \u001b[0;36m_patch_loop.<locals>.run_until_complete\u001b[1;34m(self, future)\u001b[0m\n\u001b[0;32m     87\u001b[0m \u001b[38;5;28;01mif\u001b[39;00m \u001b[38;5;129;01mnot\u001b[39;00m f\u001b[38;5;241m.\u001b[39mdone():\n\u001b[0;32m     88\u001b[0m     \u001b[38;5;28;01mraise\u001b[39;00m \u001b[38;5;167;01mRuntimeError\u001b[39;00m(\n\u001b[0;32m     89\u001b[0m         \u001b[38;5;124m'\u001b[39m\u001b[38;5;124mEvent loop stopped before Future completed.\u001b[39m\u001b[38;5;124m'\u001b[39m)\n\u001b[1;32m---> 90\u001b[0m \u001b[38;5;28;01mreturn\u001b[39;00m \u001b[43mf\u001b[49m\u001b[38;5;241;43m.\u001b[39;49m\u001b[43mresult\u001b[49m\u001b[43m(\u001b[49m\u001b[43m)\u001b[49m\n",
      "File \u001b[1;32mC:\\ProgramData\\anaconda3\\lib\\asyncio\\futures.py:201\u001b[0m, in \u001b[0;36mFuture.result\u001b[1;34m(self)\u001b[0m\n\u001b[0;32m    199\u001b[0m \u001b[38;5;28mself\u001b[39m\u001b[38;5;241m.\u001b[39m__log_traceback \u001b[38;5;241m=\u001b[39m \u001b[38;5;28;01mFalse\u001b[39;00m\n\u001b[0;32m    200\u001b[0m \u001b[38;5;28;01mif\u001b[39;00m \u001b[38;5;28mself\u001b[39m\u001b[38;5;241m.\u001b[39m_exception \u001b[38;5;129;01mis\u001b[39;00m \u001b[38;5;129;01mnot\u001b[39;00m \u001b[38;5;28;01mNone\u001b[39;00m:\n\u001b[1;32m--> 201\u001b[0m     \u001b[38;5;28;01mraise\u001b[39;00m \u001b[38;5;28mself\u001b[39m\u001b[38;5;241m.\u001b[39m_exception\u001b[38;5;241m.\u001b[39mwith_traceback(\u001b[38;5;28mself\u001b[39m\u001b[38;5;241m.\u001b[39m_exception_tb)\n\u001b[0;32m    202\u001b[0m \u001b[38;5;28;01mreturn\u001b[39;00m \u001b[38;5;28mself\u001b[39m\u001b[38;5;241m.\u001b[39m_result\n",
      "File \u001b[1;32mC:\\ProgramData\\anaconda3\\lib\\asyncio\\tasks.py:232\u001b[0m, in \u001b[0;36mTask.__step\u001b[1;34m(***failed resolving arguments***)\u001b[0m\n\u001b[0;32m    228\u001b[0m \u001b[38;5;28;01mtry\u001b[39;00m:\n\u001b[0;32m    229\u001b[0m     \u001b[38;5;28;01mif\u001b[39;00m exc \u001b[38;5;129;01mis\u001b[39;00m \u001b[38;5;28;01mNone\u001b[39;00m:\n\u001b[0;32m    230\u001b[0m         \u001b[38;5;66;03m# We use the `send` method directly, because coroutines\u001b[39;00m\n\u001b[0;32m    231\u001b[0m         \u001b[38;5;66;03m# don't have `__iter__` and `__next__` methods.\u001b[39;00m\n\u001b[1;32m--> 232\u001b[0m         result \u001b[38;5;241m=\u001b[39m \u001b[43mcoro\u001b[49m\u001b[38;5;241;43m.\u001b[39;49m\u001b[43msend\u001b[49m\u001b[43m(\u001b[49m\u001b[38;5;28;43;01mNone\u001b[39;49;00m\u001b[43m)\u001b[49m\n\u001b[0;32m    233\u001b[0m     \u001b[38;5;28;01melse\u001b[39;00m:\n\u001b[0;32m    234\u001b[0m         result \u001b[38;5;241m=\u001b[39m coro\u001b[38;5;241m.\u001b[39mthrow(exc)\n",
      "Cell \u001b[1;32mIn[12], line 5\u001b[0m, in \u001b[0;36mconnect_to_device\u001b[1;34m(mac_address)\u001b[0m\n\u001b[0;32m      4\u001b[0m \u001b[38;5;28;01masync\u001b[39;00m \u001b[38;5;28;01mdef\u001b[39;00m \u001b[38;5;21mconnect_to_device\u001b[39m(mac_address):\n\u001b[1;32m----> 5\u001b[0m     \u001b[38;5;28;01masync\u001b[39;00m \u001b[38;5;28;01mwith\u001b[39;00m BleakClient(mac_address) \u001b[38;5;28;01mas\u001b[39;00m client:\n\u001b[0;32m      6\u001b[0m         connected_device_info \u001b[38;5;241m=\u001b[39m \u001b[38;5;28;01mawait\u001b[39;00m client\u001b[38;5;241m.\u001b[39mconnect(timeout\u001b[38;5;241m=\u001b[39m\u001b[38;5;241m10\u001b[39m)\n\u001b[0;32m      7\u001b[0m         \u001b[38;5;28mprint\u001b[39m(\u001b[38;5;124mf\u001b[39m\u001b[38;5;124m\"\u001b[39m\u001b[38;5;124mConnected to: \u001b[39m\u001b[38;5;132;01m{\u001b[39;00mconnected_device_info\u001b[38;5;132;01m}\u001b[39;00m\u001b[38;5;124m\"\u001b[39m)\n",
      "File \u001b[1;32m~\\AppData\\Roaming\\Python\\Python310\\site-packages\\bleak\\__init__.py:491\u001b[0m, in \u001b[0;36mBleakClient.__aenter__\u001b[1;34m(self)\u001b[0m\n\u001b[0;32m    490\u001b[0m \u001b[38;5;28;01masync\u001b[39;00m \u001b[38;5;28;01mdef\u001b[39;00m \u001b[38;5;21m__aenter__\u001b[39m(\u001b[38;5;28mself\u001b[39m):\n\u001b[1;32m--> 491\u001b[0m     \u001b[38;5;28;01mawait\u001b[39;00m \u001b[38;5;28mself\u001b[39m\u001b[38;5;241m.\u001b[39mconnect()\n\u001b[0;32m    492\u001b[0m     \u001b[38;5;28;01mreturn\u001b[39;00m \u001b[38;5;28mself\u001b[39m\n",
      "File \u001b[1;32m~\\AppData\\Roaming\\Python\\Python310\\site-packages\\bleak\\__init__.py:531\u001b[0m, in \u001b[0;36mBleakClient.connect\u001b[1;34m(self, **kwargs)\u001b[0m\n\u001b[0;32m    521\u001b[0m \u001b[38;5;28;01masync\u001b[39;00m \u001b[38;5;28;01mdef\u001b[39;00m \u001b[38;5;21mconnect\u001b[39m(\u001b[38;5;28mself\u001b[39m, \u001b[38;5;241m*\u001b[39m\u001b[38;5;241m*\u001b[39mkwargs) \u001b[38;5;241m-\u001b[39m\u001b[38;5;241m>\u001b[39m \u001b[38;5;28mbool\u001b[39m:\n\u001b[0;32m    522\u001b[0m     \u001b[38;5;124;03m\"\"\"Connect to the specified GATT server.\u001b[39;00m\n\u001b[0;32m    523\u001b[0m \n\u001b[0;32m    524\u001b[0m \u001b[38;5;124;03m    Args:\u001b[39;00m\n\u001b[1;32m   (...)\u001b[0m\n\u001b[0;32m    529\u001b[0m \n\u001b[0;32m    530\u001b[0m \u001b[38;5;124;03m    \"\"\"\u001b[39;00m\n\u001b[1;32m--> 531\u001b[0m     \u001b[38;5;28;01mreturn\u001b[39;00m \u001b[38;5;28;01mawait\u001b[39;00m \u001b[38;5;28mself\u001b[39m\u001b[38;5;241m.\u001b[39m_backend\u001b[38;5;241m.\u001b[39mconnect(\u001b[38;5;241m*\u001b[39m\u001b[38;5;241m*\u001b[39mkwargs)\n",
      "File \u001b[1;32m~\\AppData\\Roaming\\Python\\Python310\\site-packages\\bleak\\backends\\winrt\\client.py:440\u001b[0m, in \u001b[0;36mBleakClientWinRT.connect\u001b[1;34m(self, **kwargs)\u001b[0m\n\u001b[0;32m    438\u001b[0m                 \u001b[38;5;28;01mpass\u001b[39;00m\n\u001b[0;32m    439\u001b[0m     \u001b[38;5;28;01melse\u001b[39;00m:\n\u001b[1;32m--> 440\u001b[0m         \u001b[38;5;28mself\u001b[39m\u001b[38;5;241m.\u001b[39mservices \u001b[38;5;241m=\u001b[39m \u001b[38;5;28;01mawait\u001b[39;00m \u001b[38;5;28mself\u001b[39m\u001b[38;5;241m.\u001b[39mget_services(\n\u001b[0;32m    441\u001b[0m             service_cache_mode\u001b[38;5;241m=\u001b[39mservice_cache_mode,\n\u001b[0;32m    442\u001b[0m             cache_mode\u001b[38;5;241m=\u001b[39mcache_mode,\n\u001b[0;32m    443\u001b[0m         )\n\u001b[0;32m    445\u001b[0m \u001b[38;5;66;03m# a connection may not be made until we request info from the\u001b[39;00m\n\u001b[0;32m    446\u001b[0m \u001b[38;5;66;03m# device, so we have to get services before the GATT session\u001b[39;00m\n\u001b[0;32m    447\u001b[0m \u001b[38;5;66;03m# is set to active\u001b[39;00m\n\u001b[0;32m    448\u001b[0m \u001b[38;5;28;01mawait\u001b[39;00m event\u001b[38;5;241m.\u001b[39mwait()\n",
      "File \u001b[1;32m~\\AppData\\Roaming\\Python\\Python310\\site-packages\\bleak\\backends\\winrt\\client.py:670\u001b[0m, in \u001b[0;36mBleakClientWinRT.get_services\u001b[1;34m(self, service_cache_mode, cache_mode, **kwargs)\u001b[0m\n\u001b[0;32m    667\u001b[0m     future \u001b[38;5;241m=\u001b[39m FutureLike(\u001b[38;5;28mself\u001b[39m\u001b[38;5;241m.\u001b[39m_requester\u001b[38;5;241m.\u001b[39mget_gatt_services_async(\u001b[38;5;241m*\u001b[39msrv_args))\n\u001b[0;32m    668\u001b[0m     future\u001b[38;5;241m.\u001b[39madd_done_callback(dispose_on_cancel)\n\u001b[1;32m--> 670\u001b[0m     services \u001b[38;5;241m=\u001b[39m \u001b[43m_ensure_success\u001b[49m\u001b[43m(\u001b[49m\n\u001b[0;32m    671\u001b[0m \u001b[43m        \u001b[49m\u001b[38;5;28;43;01mawait\u001b[39;49;00m\u001b[43m \u001b[49m\u001b[43mFutureLike\u001b[49m\u001b[43m(\u001b[49m\u001b[38;5;28;43mself\u001b[39;49m\u001b[38;5;241;43m.\u001b[39;49m\u001b[43m_requester\u001b[49m\u001b[38;5;241;43m.\u001b[39;49m\u001b[43mget_gatt_services_async\u001b[49m\u001b[43m(\u001b[49m\u001b[38;5;241;43m*\u001b[39;49m\u001b[43msrv_args\u001b[49m\u001b[43m)\u001b[49m\u001b[43m)\u001b[49m\u001b[43m,\u001b[49m\n\u001b[0;32m    672\u001b[0m \u001b[43m        \u001b[49m\u001b[38;5;124;43m\"\u001b[39;49m\u001b[38;5;124;43mservices\u001b[39;49m\u001b[38;5;124;43m\"\u001b[39;49m\u001b[43m,\u001b[49m\n\u001b[0;32m    673\u001b[0m \u001b[43m        \u001b[49m\u001b[38;5;124;43m\"\u001b[39;49m\u001b[38;5;124;43mCould not get GATT services\u001b[39;49m\u001b[38;5;124;43m\"\u001b[39;49m\u001b[43m,\u001b[49m\n\u001b[0;32m    674\u001b[0m \u001b[43m    \u001b[49m\u001b[43m)\u001b[49m\n\u001b[0;32m    675\u001b[0m \u001b[38;5;28;01melse\u001b[39;00m:\n\u001b[0;32m    676\u001b[0m     services \u001b[38;5;241m=\u001b[39m []\n",
      "File \u001b[1;32m~\\AppData\\Roaming\\Python\\Python310\\site-packages\\bleak\\backends\\winrt\\client.py:123\u001b[0m, in \u001b[0;36m_ensure_success\u001b[1;34m(result, attr, fail_msg)\u001b[0m\n\u001b[0;32m    120\u001b[0m     \u001b[38;5;28;01mraise\u001b[39;00m BleakError(\u001b[38;5;124mf\u001b[39m\u001b[38;5;124m\"\u001b[39m\u001b[38;5;132;01m{\u001b[39;00mfail_msg\u001b[38;5;132;01m}\u001b[39;00m\u001b[38;5;124m: Access Denied\u001b[39m\u001b[38;5;124m\"\u001b[39m)\n\u001b[0;32m    122\u001b[0m \u001b[38;5;28;01mif\u001b[39;00m status \u001b[38;5;241m==\u001b[39m GattCommunicationStatus\u001b[38;5;241m.\u001b[39mUNREACHABLE:\n\u001b[1;32m--> 123\u001b[0m     \u001b[38;5;28;01mraise\u001b[39;00m BleakError(\u001b[38;5;124mf\u001b[39m\u001b[38;5;124m\"\u001b[39m\u001b[38;5;132;01m{\u001b[39;00mfail_msg\u001b[38;5;132;01m}\u001b[39;00m\u001b[38;5;124m: Unreachable\u001b[39m\u001b[38;5;124m\"\u001b[39m)\n\u001b[0;32m    125\u001b[0m \u001b[38;5;28;01mraise\u001b[39;00m BleakError(\u001b[38;5;124mf\u001b[39m\u001b[38;5;124m\"\u001b[39m\u001b[38;5;132;01m{\u001b[39;00mfail_msg\u001b[38;5;132;01m}\u001b[39;00m\u001b[38;5;124m: Unexpected status code 0x\u001b[39m\u001b[38;5;132;01m{\u001b[39;00mstatus\u001b[38;5;132;01m:\u001b[39;00m\u001b[38;5;124m02X\u001b[39m\u001b[38;5;132;01m}\u001b[39;00m\u001b[38;5;124m\"\u001b[39m)\n",
      "\u001b[1;31mBleakError\u001b[0m: Could not get GATT services: Unreachable"
     ]
    }
   ],
   "source": [
    "import asyncio\n",
    "from bleak import BleakClient\n",
    "\n",
    "async def connect_to_device(mac_address):\n",
    "    async with BleakClient(mac_address) as client:\n",
    "        connected_device_info = await client.connect(timeout=10)\n",
    "        print(f\"Connected to: {connected_device_info}\")\n",
    "\n",
    "        # запись значения в характеристику\n",
    "        value = b\"HK:1:\"+ str(20) + '\\r'\n",
    "        await client.write_gatt_char(\"6e400002-b5a3-f393-e0a9-\" + 'ffeeddc5d9d8', value)\n",
    "        await print(client.read_gatt_char(\"6e400003-b5a3-f393-e0a9-\" + 'ffeeddc5d9d8'))\n",
    "\n",
    "        await client.disconnect()\n",
    "        print(\"Disconnected\")\n",
    "\n",
    "\n",
    "# запустите выполнение функции подключения к устройству\n",
    "asyncio.run(connect_to_device(device))"
   ]
  },
  {
   "cell_type": "code",
   "execution_count": 48,
   "id": "3e0eb6bb",
   "metadata": {},
   "outputs": [
    {
     "data": {
      "text/plain": [
       "['6e400001-b5a3-f393-e0a9-ffeeddc5d9d8']"
      ]
     },
     "execution_count": 48,
     "metadata": {},
     "output_type": "execute_result"
    }
   ],
   "source": [
    "filtered_df.loc[33].metadata['uuids']"
   ]
  },
  {
   "cell_type": "code",
   "execution_count": 13,
   "id": "b29cab77",
   "metadata": {},
   "outputs": [
    {
     "data": {
      "text/html": [
       "<div>\n",
       "<style scoped>\n",
       "    .dataframe tbody tr th:only-of-type {\n",
       "        vertical-align: middle;\n",
       "    }\n",
       "\n",
       "    .dataframe tbody tr th {\n",
       "        vertical-align: top;\n",
       "    }\n",
       "\n",
       "    .dataframe thead th {\n",
       "        text-align: right;\n",
       "    }\n",
       "</style>\n",
       "<table border=\"1\" class=\"dataframe\">\n",
       "  <thead>\n",
       "    <tr style=\"text-align: right;\">\n",
       "      <th></th>\n",
       "      <th>name</th>\n",
       "      <th>rssi</th>\n",
       "      <th>metadata</th>\n",
       "      <th>address</th>\n",
       "      <th>device</th>\n",
       "    </tr>\n",
       "  </thead>\n",
       "  <tbody>\n",
       "    <tr>\n",
       "      <th>77</th>\n",
       "      <td>TD_383448</td>\n",
       "      <td>-62</td>\n",
       "      <td>{'uuids': ['6e400001-b5a3-f393-e0a9-ffeeddc5d9...</td>\n",
       "      <td>CA:17:37:73:61:98</td>\n",
       "      <td>CA:17:37:73:61:98: TD_383448</td>\n",
       "    </tr>\n",
       "    <tr>\n",
       "      <th>149</th>\n",
       "      <td>TD_383449</td>\n",
       "      <td>-60</td>\n",
       "      <td>{'uuids': [], 'manufacturer_data': {3862: b'\\x...</td>\n",
       "      <td>E2:F1:F3:8C:E1:45</td>\n",
       "      <td>E2:F1:F3:8C:E1:45: TD_383449</td>\n",
       "    </tr>\n",
       "    <tr>\n",
       "      <th>60</th>\n",
       "      <td>TD_386855</td>\n",
       "      <td>-70</td>\n",
       "      <td>{'uuids': [], 'manufacturer_data': {3862: b'\\x...</td>\n",
       "      <td>DD:53:A5:1A:65:28</td>\n",
       "      <td>DD:53:A5:1A:65:28: TD_386855</td>\n",
       "    </tr>\n",
       "    <tr>\n",
       "      <th>5</th>\n",
       "      <td>TD_387440</td>\n",
       "      <td>-54</td>\n",
       "      <td>{'uuids': ['6e400001-b5a3-f393-e0a9-ffeeddc5e9...</td>\n",
       "      <td>C7:B3:53:CE:54:E9</td>\n",
       "      <td>C7:B3:53:CE:54:E9: TD_387440</td>\n",
       "    </tr>\n",
       "  </tbody>\n",
       "</table>\n",
       "</div>"
      ],
      "text/plain": [
       "          name  rssi                                           metadata  \\\n",
       "77   TD_383448   -62  {'uuids': ['6e400001-b5a3-f393-e0a9-ffeeddc5d9...   \n",
       "149  TD_383449   -60  {'uuids': [], 'manufacturer_data': {3862: b'\\x...   \n",
       "60   TD_386855   -70  {'uuids': [], 'manufacturer_data': {3862: b'\\x...   \n",
       "5    TD_387440   -54  {'uuids': ['6e400001-b5a3-f393-e0a9-ffeeddc5e9...   \n",
       "\n",
       "               address                        device  \n",
       "77   CA:17:37:73:61:98  CA:17:37:73:61:98: TD_383448  \n",
       "149  E2:F1:F3:8C:E1:45  E2:F1:F3:8C:E1:45: TD_383449  \n",
       "60   DD:53:A5:1A:65:28  DD:53:A5:1A:65:28: TD_386855  \n",
       "5    C7:B3:53:CE:54:E9  C7:B3:53:CE:54:E9: TD_387440  "
      ]
     },
     "execution_count": 13,
     "metadata": {},
     "output_type": "execute_result"
    }
   ],
   "source": [
    "filtered_df.sort_values(by='name')"
   ]
  },
  {
   "cell_type": "code",
   "execution_count": 31,
   "id": "5623ccbf",
   "metadata": {},
   "outputs": [
    {
     "data": {
      "text/plain": [
       "BLEDevice(C1:90:05:44:E7:1A, TD_390506)"
      ]
     },
     "execution_count": 31,
     "metadata": {},
     "output_type": "execute_result"
    }
   ],
   "source": [
    "filtered_df.device[19]"
   ]
  },
  {
   "cell_type": "code",
   "execution_count": 41,
   "id": "5af46e12",
   "metadata": {},
   "outputs": [
    {
     "name": "stdout",
     "output_type": "stream",
     "text": [
      "Device:TD_390506, RSSI: -44, address: C1:90:05:44:E7:1A, uuid: {'uuids': ['6e400001-b5a3-f393-e0a9-ffeeddc5f56a'], 'manufacturer_data': {3862: b'\\x01\\x01\\x00$\\x15\\x8d\\x9b\\\\\\x00\\x00\\x00\\x80'}}\n",
      "Уровень топлива: 1\n",
      "Напряжение встроенной батареи: 3.6 В\n",
      "Температура: 21 Градус Цельсия\n",
      "Версия прошивки: 141\n",
      "Период: 23707 \n",
      "Термокомпенсация выключена\n",
      "Сглаживание: 0\n",
      "Device:TD_390519, RSSI: -42, address: F8:56:9C:C0:3D:71, uuid: {'uuids': ['6e400001-b5a3-f393-e0a9-ffeeddc5f577'], 'manufacturer_data': {3862: b'\\x01\\x01\\x00$\\x16\\x8d\\xb0\\\\\\x00\\x00\\x00\\x80'}}\n",
      "Уровень топлива: 1\n",
      "Напряжение встроенной батареи: 3.6 В\n",
      "Температура: 22 Градус Цельсия\n",
      "Версия прошивки: 141\n",
      "Период: 23728 \n",
      "Термокомпенсация выключена\n",
      "Сглаживание: 0\n",
      "Device:TD_390513, RSSI: -24, address: F1:F6:A1:2E:67:0C, uuid: {'uuids': ['6e400001-b5a3-f393-e0a9-ffeeddc5f571'], 'manufacturer_data': {3862: b'\\x01\\x01\\x00$\\x16\\x8d\\xf7[\\x00\\x00\\x00\\x80'}}\n",
      "Уровень топлива: 1\n",
      "Напряжение встроенной батареи: 3.6 В\n",
      "Температура: 22 Градус Цельсия\n",
      "Версия прошивки: 141\n",
      "Период: 23543 \n",
      "Термокомпенсация выключена\n",
      "Сглаживание: 0\n",
      "Device:TD_390512, RSSI: -26, address: F9:79:70:E8:F2:33, uuid: {'uuids': ['6e400001-b5a3-f393-e0a9-ffeeddc5f570'], 'manufacturer_data': {3862: b'\\x01\\x01\\x00$\\x16\\x8dd[\\x00\\x00\\x00\\x80'}}\n",
      "Уровень топлива: 1\n",
      "Напряжение встроенной батареи: 3.6 В\n",
      "Температура: 22 Градус Цельсия\n",
      "Версия прошивки: 141\n",
      "Период: 23396 \n",
      "Термокомпенсация выключена\n",
      "Сглаживание: 0\n",
      "Device:TD_390510, RSSI: -34, address: EE:3B:55:56:21:AF, uuid: {'uuids': ['6e400001-b5a3-f393-e0a9-ffeeddc5f56e'], 'manufacturer_data': {3862: b'\\x01\\x01\\x00$\\x14\\x8d\\x18\\\\\\x00\\x00\\x00\\x80'}}\n",
      "Уровень топлива: 1\n",
      "Напряжение встроенной батареи: 3.6 В\n",
      "Температура: 20 Градус Цельсия\n",
      "Версия прошивки: 141\n",
      "Период: 23576 \n",
      "Термокомпенсация выключена\n",
      "Сглаживание: 0\n",
      "Device:TD_390508, RSSI: -52, address: E2:F2:BB:CB:08:A1, uuid: {'uuids': ['6e400001-b5a3-f393-e0a9-ffeeddc5f56c'], 'manufacturer_data': {3862: b'\\x01\\x01\\x00$\\x13\\x8d[]\\x00\\x00\\x00\\x80'}}\n",
      "Уровень топлива: 1\n",
      "Напряжение встроенной батареи: 3.6 В\n",
      "Температура: 19 Градус Цельсия\n",
      "Версия прошивки: 141\n",
      "Период: 23899 \n",
      "Термокомпенсация выключена\n",
      "Сглаживание: 0\n",
      "Device:TD_390502, RSSI: -36, address: DA:84:37:FA:25:6F, uuid: {'uuids': ['6e400001-b5a3-f393-e0a9-ffeeddc5f566'], 'manufacturer_data': {3862: b'\\x01\\x01\\x00$\\x14\\x8d\\xe7]\\x00\\x00\\x00\\x80'}}\n",
      "Уровень топлива: 1\n",
      "Напряжение встроенной батареи: 3.6 В\n",
      "Температура: 20 Градус Цельсия\n",
      "Версия прошивки: 141\n",
      "Период: 24039 \n",
      "Термокомпенсация выключена\n",
      "Сглаживание: 0\n",
      "Device:TD_390517, RSSI: -40, address: DD:E8:26:E5:B6:80, uuid: {'uuids': ['6e400001-b5a3-f393-e0a9-ffeeddc5f575'], 'manufacturer_data': {3862: b'\\x01\\x01\\x00#\\x15\\x8d\\\\\\\\\\x00\\x00\\x00\\x80'}}\n",
      "Уровень топлива: 1\n",
      "Напряжение встроенной батареи: 3.5 В\n",
      "Температура: 21 Градус Цельсия\n",
      "Версия прошивки: 141\n",
      "Период: 23644 \n",
      "Термокомпенсация выключена\n",
      "Сглаживание: 0\n",
      "Device:TD_390497, RSSI: -36, address: DA:E0:BA:31:66:83, uuid: {'uuids': ['6e400001-b5a3-f393-e0a9-ffeeddc5f561'], 'manufacturer_data': {3862: b'\\x01\\x01\\x00#\\x16\\x8d\\x9bY\\x00\\x00\\x00\\x80'}}\n",
      "Уровень топлива: 1\n",
      "Напряжение встроенной батареи: 3.5 В\n",
      "Температура: 22 Градус Цельсия\n",
      "Версия прошивки: 141\n",
      "Период: 22939 \n",
      "Термокомпенсация выключена\n",
      "Сглаживание: 0\n",
      "Device:TD_390507, RSSI: -38, address: F0:28:4D:B8:B4:D5, uuid: {'uuids': [], 'manufacturer_data': {3862: b'\\x01\\x01\\x00#\\x15\\x8d\\xb0\\\\\\x00\\x00\\x00\\x80'}}\n",
      "Уровень топлива: 1\n",
      "Напряжение встроенной батареи: 3.5 В\n",
      "Температура: 21 Градус Цельсия\n",
      "Версия прошивки: 141\n",
      "Период: 23728 \n",
      "Термокомпенсация выключена\n",
      "Сглаживание: 0\n",
      "Device:TD_390514, RSSI: -36, address: E3:43:08:EE:D8:B9, uuid: {'uuids': ['6e400001-b5a3-f393-e0a9-ffeeddc5f572'], 'manufacturer_data': {3862: b'\\x01\\x01\\x00#\\x18\\x8d\\x07]\\x00\\x00\\x00\\x80'}}\n",
      "Уровень топлива: 1\n",
      "Напряжение встроенной батареи: 3.5 В\n",
      "Температура: 24 Градус Цельсия\n",
      "Версия прошивки: 141\n",
      "Период: 23815 \n",
      "Термокомпенсация выключена\n",
      "Сглаживание: 0\n",
      "Device:TD_390499, RSSI: -40, address: EE:95:12:DC:A7:18, uuid: {'uuids': ['6e400001-b5a3-f393-e0a9-ffeeddc5f563'], 'manufacturer_data': {3862: b'\\x01\\x01\\x00$\\x15\\x8dD[\\x00\\x00\\x00\\x80'}}\n",
      "Уровень топлива: 1\n",
      "Напряжение встроенной батареи: 3.6 В\n",
      "Температура: 21 Градус Цельсия\n",
      "Версия прошивки: 141\n",
      "Период: 23364 \n",
      "Термокомпенсация выключена\n",
      "Сглаживание: 0\n",
      "Device:TD_390520, RSSI: -38, address: DE:BB:4B:19:4A:D8, uuid: {'uuids': [], 'manufacturer_data': {3862: b'\\x01\\x01\\x00#\\x17\\x8d\\x0c\\\\\\x00\\x00\\x00\\x80'}}\n",
      "Уровень топлива: 1\n",
      "Напряжение встроенной батареи: 3.5 В\n",
      "Температура: 23 Градус Цельсия\n",
      "Версия прошивки: 141\n",
      "Период: 23564 \n",
      "Термокомпенсация выключена\n",
      "Сглаживание: 0\n",
      "Device:TD_390522, RSSI: -36, address: DD:F9:D1:7A:4E:56, uuid: {'uuids': ['6e400001-b5a3-f393-e0a9-ffeeddc5f57a'], 'manufacturer_data': {3862: b'\\x01\\x01\\x00$\\x16\\x8d\\xcaZ\\x00\\x00\\x00\\x80'}}\n",
      "Уровень топлива: 1\n",
      "Напряжение встроенной батареи: 3.6 В\n",
      "Температура: 22 Градус Цельсия\n",
      "Версия прошивки: 141\n",
      "Период: 23242 \n",
      "Термокомпенсация выключена\n",
      "Сглаживание: 0\n",
      "Device:TD_390493, RSSI: -30, address: DC:71:C5:C7:7E:92, uuid: {'uuids': ['6e400001-b5a3-f393-e0a9-ffeeddc5f55d'], 'manufacturer_data': {3862: b'\\x01\\x01\\x00#\\x16\\x8d!\\\\\\x00\\x00\\x00\\x80'}}\n",
      "Уровень топлива: 1\n",
      "Напряжение встроенной батареи: 3.5 В\n",
      "Температура: 22 Градус Цельсия\n",
      "Версия прошивки: 141\n",
      "Период: 23585 \n",
      "Термокомпенсация выключена\n",
      "Сглаживание: 0\n",
      "Device:TD_390501, RSSI: -46, address: D5:FB:DF:CF:24:41, uuid: {'uuids': ['6e400001-b5a3-f393-e0a9-ffeeddc5f565'], 'manufacturer_data': {3862: b'\\x01\\x01\\x00#\\x14\\x8d\\xfa[\\x00\\x00\\x00\\x80'}}\n",
      "Уровень топлива: 1\n",
      "Напряжение встроенной батареи: 3.5 В\n",
      "Температура: 20 Градус Цельсия\n",
      "Версия прошивки: 141\n",
      "Период: 23546 \n",
      "Термокомпенсация выключена\n",
      "Сглаживание: 0\n",
      "Device:TD_390505, RSSI: -38, address: F7:89:29:CA:11:01, uuid: {'uuids': ['6e400001-b5a3-f393-e0a9-ffeeddc5f569'], 'manufacturer_data': {3862: b'\\x01\\x01\\x00#\\x17\\x8d>^\\x00\\x00\\x00\\x80'}}\n",
      "Уровень топлива: 1\n",
      "Напряжение встроенной батареи: 3.5 В\n",
      "Температура: 23 Градус Цельсия\n",
      "Версия прошивки: 141\n",
      "Период: 24126 \n",
      "Термокомпенсация выключена\n",
      "Сглаживание: 0\n",
      "Device:TD_390518, RSSI: -38, address: F1:DE:6B:F4:A3:91, uuid: {'uuids': ['6e400001-b5a3-f393-e0a9-ffeeddc5f576'], 'manufacturer_data': {3862: b'\\x01\\x01\\x00#\\x13\\x8d\\xa4^\\x00\\x00\\x00\\x80'}}\n",
      "Уровень топлива: 1\n",
      "Напряжение встроенной батареи: 3.5 В\n",
      "Температура: 19 Градус Цельсия\n",
      "Версия прошивки: 141\n",
      "Период: 24228 \n",
      "Термокомпенсация выключена\n",
      "Сглаживание: 0\n",
      "Device:TD_390515, RSSI: -38, address: D6:FB:66:09:AC:B3, uuid: {'uuids': [], 'manufacturer_data': {3862: b'\\x01\\x01\\x00$\\x15\\x8d\\xbdZ\\x00\\x00\\x00\\x80'}}\n",
      "Уровень топлива: 1\n",
      "Напряжение встроенной батареи: 3.6 В\n",
      "Температура: 21 Градус Цельсия\n",
      "Версия прошивки: 141\n",
      "Период: 23229 \n",
      "Термокомпенсация выключена\n",
      "Сглаживание: 0\n",
      "Device:TD_390494, RSSI: -26, address: CD:5F:36:2F:2D:64, uuid: {'uuids': ['6e400001-b5a3-f393-e0a9-ffeeddc5f55e'], 'manufacturer_data': {3862: b'\\x01\\x01\\x00#\\x15\\x8d\\x13]\\x00\\x00\\x00\\x80'}}\n",
      "Уровень топлива: 1\n",
      "Напряжение встроенной батареи: 3.5 В\n",
      "Температура: 21 Градус Цельсия\n",
      "Версия прошивки: 141\n",
      "Период: 23827 \n",
      "Термокомпенсация выключена\n",
      "Сглаживание: 0\n",
      "Device:TD_390500, RSSI: -38, address: C2:29:B5:6F:99:FE, uuid: {'uuids': ['6e400001-b5a3-f393-e0a9-ffeeddc5f564'], 'manufacturer_data': {3862: b'\\x01\\x01\\x00#\\x16\\x8d\\xd2\\\\\\x00\\x00\\x00\\x80'}}\n",
      "Уровень топлива: 1\n",
      "Напряжение встроенной батареи: 3.5 В\n",
      "Температура: 22 Градус Цельсия\n",
      "Версия прошивки: 141\n",
      "Период: 23762 \n",
      "Термокомпенсация выключена\n",
      "Сглаживание: 0\n",
      "Device:TD_390511, RSSI: -38, address: E3:96:F1:86:ED:88, uuid: {'uuids': ['6e400001-b5a3-f393-e0a9-ffeeddc5f56f'], 'manufacturer_data': {3862: b'\\x01\\x01\\x00$\\x15\\x8d\\xc7\\\\\\x00\\x00\\x00\\x80'}}\n",
      "Уровень топлива: 1\n",
      "Напряжение встроенной батареи: 3.6 В\n",
      "Температура: 21 Градус Цельсия\n",
      "Версия прошивки: 141\n",
      "Период: 23751 \n",
      "Термокомпенсация выключена\n",
      "Сглаживание: 0\n",
      "Device:TD_390496, RSSI: -46, address: C6:C7:1B:1F:2D:B6, uuid: {'uuids': ['6e400001-b5a3-f393-e0a9-ffeeddc5f560'], 'manufacturer_data': {3862: b'\\x01\\x01\\x00$\\x18\\x8dT]\\x00\\x00\\x00\\x80'}}\n",
      "Уровень топлива: 1\n",
      "Напряжение встроенной батареи: 3.6 В\n",
      "Температура: 24 Градус Цельсия\n",
      "Версия прошивки: 141\n",
      "Период: 23892 \n",
      "Термокомпенсация выключена\n",
      "Сглаживание: 0\n",
      "Device:TD_390509, RSSI: -40, address: C6:CA:4F:8F:39:8A, uuid: {'uuids': [], 'manufacturer_data': {3862: b'\\x01\\x01\\x00#\\x18\\x8d\\x04[\\x00\\x00\\x00\\x80'}}\n",
      "Уровень топлива: 1\n",
      "Напряжение встроенной батареи: 3.5 В\n",
      "Температура: 24 Градус Цельсия\n",
      "Версия прошивки: 141\n",
      "Период: 23300 \n",
      "Термокомпенсация выключена\n",
      "Сглаживание: 0\n",
      "Device:TD_390498, RSSI: -56, address: F9:3B:7B:31:EC:23, uuid: {'uuids': ['6e400001-b5a3-f393-e0a9-ffeeddc5f562'], 'manufacturer_data': {3862: b'\\x01\\x01\\x00#\\x15\\x8d\"[\\x00\\x00\\x00\\x80'}}\n",
      "Уровень топлива: 1\n",
      "Напряжение встроенной батареи: 3.5 В\n",
      "Температура: 21 Градус Цельсия\n",
      "Версия прошивки: 141\n",
      "Период: 23330 \n",
      "Термокомпенсация выключена\n",
      "Сглаживание: 0\n",
      "Device:TD_390495, RSSI: -48, address: DC:3A:DE:37:19:9C, uuid: {'uuids': [], 'manufacturer_data': {3862: b'\\x01\\x01\\x00$\\x14\\x8d\\xacZ\\x00\\x00\\x00\\x80'}}\n",
      "Уровень топлива: 1\n",
      "Напряжение встроенной батареи: 3.6 В\n",
      "Температура: 20 Градус Цельсия\n",
      "Версия прошивки: 141\n",
      "Период: 23212 \n",
      "Термокомпенсация выключена\n",
      "Сглаживание: 0\n",
      "Device:TD_390504, RSSI: -36, address: D2:0D:99:B9:27:69, uuid: {'uuids': ['6e400001-b5a3-f393-e0a9-ffeeddc5f568'], 'manufacturer_data': {3862: b'\\x01\\x01\\x00#\\x14\\x8d$]\\x00\\x00\\x00\\x80'}}\n",
      "Уровень топлива: 1\n",
      "Напряжение встроенной батареи: 3.5 В\n",
      "Температура: 20 Градус Цельсия\n",
      "Версия прошивки: 141\n",
      "Период: 23844 \n",
      "Термокомпенсация выключена\n",
      "Сглаживание: 0\n",
      "Device:TD_390521, RSSI: -36, address: CF:EE:34:65:01:57, uuid: {'uuids': [], 'manufacturer_data': {3862: b'\\x01\\x01\\x00#\\x17\\x8d\\x8e]\\x00\\x00\\x00\\x80'}}\n",
      "Уровень топлива: 1\n",
      "Напряжение встроенной батареи: 3.5 В\n",
      "Температура: 23 Градус Цельсия\n",
      "Версия прошивки: 141\n",
      "Период: 23950 \n",
      "Термокомпенсация выключена\n",
      "Сглаживание: 0\n",
      "Device:TD_390503, RSSI: -42, address: C4:6A:64:89:A0:5F, uuid: {'uuids': [], 'manufacturer_data': {3862: b'\\x01\\x01\\x00$\\x12\\x8d%]\\x00\\x00\\x00\\x80'}}\n",
      "Уровень топлива: 1\n",
      "Напряжение встроенной батареи: 3.6 В\n",
      "Температура: 18 Градус Цельсия\n",
      "Версия прошивки: 141\n",
      "Период: 23845 \n",
      "Термокомпенсация выключена\n",
      "Сглаживание: 0\n",
      "Device:TD_390516, RSSI: -42, address: DE:05:38:15:7C:55, uuid: {'uuids': ['6e400001-b5a3-f393-e0a9-ffeeddc5f574'], 'manufacturer_data': {3862: b'\\x01\\x01\\x00#\\x16\\x8dN]\\x00\\x00\\x00\\x80'}}\n",
      "Уровень топлива: 1\n",
      "Напряжение встроенной батареи: 3.5 В\n",
      "Температура: 22 Градус Цельсия\n",
      "Версия прошивки: 141\n",
      "Период: 23886 \n",
      "Термокомпенсация выключена\n",
      "Сглаживание: 0\n"
     ]
    },
    {
     "name": "stderr",
     "output_type": "stream",
     "text": [
      "C:\\Users\\I.V.Mitrofanov\\AppData\\Local\\Temp\\ipykernel_5232\\166173740.py:2: FutureWarning: BLEDevice.metadata is deprecated and will be removed in a future version of Bleak, use AdvertisementData instead\n",
      "  data = device.metadata['manufacturer_data'][3862]\n",
      "C:\\Users\\I.V.Mitrofanov\\AppData\\Local\\Temp\\ipykernel_5232\\166173740.py:4: FutureWarning: BLEDevice.rssi is deprecated and will be removed in a future version of Bleak, use AdvertisementData.rssi instead\n",
      "  print(f'Device:{device.name}, RSSI: {device.rssi}, address: {device.address}, uuid: {device.metadata}')\n",
      "C:\\Users\\I.V.Mitrofanov\\AppData\\Local\\Temp\\ipykernel_5232\\166173740.py:4: FutureWarning: BLEDevice.metadata is deprecated and will be removed in a future version of Bleak, use AdvertisementData instead\n",
      "  print(f'Device:{device.name}, RSSI: {device.rssi}, address: {device.address}, uuid: {device.metadata}')\n"
     ]
    }
   ],
   "source": [
    "for device in filtered_df.device:\n",
    "    data = device.metadata['manufacturer_data'][3862]\n",
    "    \n",
    "    print(f'Device:{device.name}, RSSI: {device.rssi}, address: {device.address}, uuid: {device.metadata}')\n",
    "     # Расшифровка уровня топлива\n",
    "    oil_level_raw = int.from_bytes(data[1:3], byteorder='little', signed=False)\n",
    "    print(f\"Уровень топлива: {oil_level_raw}\")\n",
    "\n",
    "    # Расшифровка напряжения встроенной батареи\n",
    "    battery_voltage_raw = int.from_bytes(data[3:4], byteorder='little', signed=False)\n",
    "    battery_voltage = battery_voltage_raw / 10.0\n",
    "    print(f\"Напряжение встроенной батареи: {battery_voltage} В\")\n",
    "\n",
    "    # Расшифровка температуры\n",
    "    TD_temp_raw = int.from_bytes(data[4:5], byteorder='little', signed=True)\n",
    "    print(f\"Температура: {TD_temp_raw} Градус Цельсия\")\n",
    "\n",
    "    # Расшифровка версии прошивки\n",
    "    TD_version_raw = int.from_bytes(data[5:6], byteorder='little', signed=False)\n",
    "    print(f\"Версия прошивки: {TD_version_raw}\")\n",
    "                    \n",
    "    # Расшифровка периода (непосредственно измеренный параметр)\n",
    "    TD_period_param = int.from_bytes(data[6:10], byteorder='little', signed=False)\n",
    "    print(f\"Период: {TD_period_param} \")\n",
    "\n",
    "    # Расшифровка режима работы\n",
    "    TD_mode_raw = int.from_bytes(data[10:11], byteorder='little', signed=False)\n",
    "    TD_range = (TD_mode_raw & 0b11110000)\n",
    "    if TD_range & 0x80:\n",
    "        print(\"Диапазон датчика 4095\")\n",
    "    if TD_range & 0b00000000:\n",
    "        print(\"Диапазон датчика 1024\")\n",
    "\n",
    "    TD_flags = (TD_mode_raw & 0b00001111)\n",
    "    if TD_flags & 0b00000000:\n",
    "        print(\"Обычный алгоритм расчета\")\n",
    "    if TD_flags & 0b00000001:\n",
    "        print(\"Алгоритм расчета с тарировочной таблицей\")\n",
    "\n",
    "    # Расшифровка сглаживания и термокомпенсации\n",
    "    TD_smoth_and_copm_raw = int.from_bytes(data[11:12], byteorder='little', signed=False)\n",
    "    TD_therm_compensation = (TD_smoth_and_copm_raw & 0b11110000)\n",
    "    if TD_therm_compensation & 0x80:\n",
    "        print(\"Термокомпенсация выключена\")\n",
    "    if TD_therm_compensation & 0b00000000:\n",
    "        print(\"Термокомпенсация включена\")\n",
    "\n",
    "    TD_smoothing = TD_smoth_and_copm_raw & 0x0F\n",
    "    print(f'Сглаживание: {TD_smoothing}')"
   ]
  },
  {
   "cell_type": "code",
   "execution_count": 36,
   "id": "7181015e",
   "metadata": {},
   "outputs": [
    {
     "ename": "BleakDeviceNotFoundError",
     "evalue": "Device with address C1:90:05:44:E7:1A was not found.",
     "output_type": "error",
     "traceback": [
      "\u001b[1;31m---------------------------------------------------------------------------\u001b[0m",
      "\u001b[1;31mBleakDeviceNotFoundError\u001b[0m                  Traceback (most recent call last)",
      "Cell \u001b[1;32mIn[36], line 7\u001b[0m\n\u001b[0;32m      4\u001b[0m char_uuid \u001b[38;5;241m=\u001b[39m \u001b[38;5;124m\"\u001b[39m\u001b[38;5;124m00002a00-0000-1000-8000-00805f9b34fb\u001b[39m\u001b[38;5;124m\"\u001b[39m \u001b[38;5;66;03m# UUID характеристики\u001b[39;00m\n\u001b[0;32m      5\u001b[0m data \u001b[38;5;241m=\u001b[39m \u001b[38;5;124mb\u001b[39m\u001b[38;5;124m\"\u001b[39m\u001b[38;5;124mHello, BLE!\u001b[39m\u001b[38;5;124m\"\u001b[39m \u001b[38;5;66;03m# данные для отправки\u001b[39;00m\n\u001b[1;32m----> 7\u001b[0m \u001b[38;5;28;01masync\u001b[39;00m \u001b[38;5;28;01mwith\u001b[39;00m BleakClient(address) \u001b[38;5;28;01mas\u001b[39;00m client:\n\u001b[0;32m      8\u001b[0m     \u001b[38;5;28;01mawait\u001b[39;00m client\u001b[38;5;241m.\u001b[39mwrite_gatt_char(char_uuid, data)\n\u001b[0;32m     10\u001b[0m \u001b[38;5;28;01mawait\u001b[39;00m client\u001b[38;5;241m.\u001b[39mdisconnect()\n",
      "File \u001b[1;32m~\\anaconda3\\lib\\site-packages\\bleak\\__init__.py:491\u001b[0m, in \u001b[0;36mBleakClient.__aenter__\u001b[1;34m(self)\u001b[0m\n\u001b[0;32m    490\u001b[0m \u001b[38;5;28;01masync\u001b[39;00m \u001b[38;5;28;01mdef\u001b[39;00m \u001b[38;5;21m__aenter__\u001b[39m(\u001b[38;5;28mself\u001b[39m):\n\u001b[1;32m--> 491\u001b[0m     \u001b[38;5;28;01mawait\u001b[39;00m \u001b[38;5;28mself\u001b[39m\u001b[38;5;241m.\u001b[39mconnect()\n\u001b[0;32m    492\u001b[0m     \u001b[38;5;28;01mreturn\u001b[39;00m \u001b[38;5;28mself\u001b[39m\n",
      "File \u001b[1;32m~\\anaconda3\\lib\\site-packages\\bleak\\__init__.py:531\u001b[0m, in \u001b[0;36mBleakClient.connect\u001b[1;34m(self, **kwargs)\u001b[0m\n\u001b[0;32m    521\u001b[0m \u001b[38;5;28;01masync\u001b[39;00m \u001b[38;5;28;01mdef\u001b[39;00m \u001b[38;5;21mconnect\u001b[39m(\u001b[38;5;28mself\u001b[39m, \u001b[38;5;241m*\u001b[39m\u001b[38;5;241m*\u001b[39mkwargs) \u001b[38;5;241m-\u001b[39m\u001b[38;5;241m>\u001b[39m \u001b[38;5;28mbool\u001b[39m:\n\u001b[0;32m    522\u001b[0m     \u001b[38;5;124;03m\"\"\"Connect to the specified GATT server.\u001b[39;00m\n\u001b[0;32m    523\u001b[0m \n\u001b[0;32m    524\u001b[0m \u001b[38;5;124;03m    Args:\u001b[39;00m\n\u001b[1;32m   (...)\u001b[0m\n\u001b[0;32m    529\u001b[0m \n\u001b[0;32m    530\u001b[0m \u001b[38;5;124;03m    \"\"\"\u001b[39;00m\n\u001b[1;32m--> 531\u001b[0m     \u001b[38;5;28;01mreturn\u001b[39;00m \u001b[38;5;28;01mawait\u001b[39;00m \u001b[38;5;28mself\u001b[39m\u001b[38;5;241m.\u001b[39m_backend\u001b[38;5;241m.\u001b[39mconnect(\u001b[38;5;241m*\u001b[39m\u001b[38;5;241m*\u001b[39mkwargs)\n",
      "File \u001b[1;32m~\\anaconda3\\lib\\site-packages\\bleak\\backends\\winrt\\client.py:247\u001b[0m, in \u001b[0;36mBleakClientWinRT.connect\u001b[1;34m(self, **kwargs)\u001b[0m\n\u001b[0;32m    242\u001b[0m     device \u001b[38;5;241m=\u001b[39m \u001b[38;5;28;01mawait\u001b[39;00m BleakScanner\u001b[38;5;241m.\u001b[39mfind_device_by_address(\n\u001b[0;32m    243\u001b[0m         \u001b[38;5;28mself\u001b[39m\u001b[38;5;241m.\u001b[39maddress, timeout\u001b[38;5;241m=\u001b[39mtimeout, backend\u001b[38;5;241m=\u001b[39mBleakScannerWinRT\n\u001b[0;32m    244\u001b[0m     )\n\u001b[0;32m    246\u001b[0m     \u001b[38;5;28;01mif\u001b[39;00m device \u001b[38;5;129;01mis\u001b[39;00m \u001b[38;5;28;01mNone\u001b[39;00m:\n\u001b[1;32m--> 247\u001b[0m         \u001b[38;5;28;01mraise\u001b[39;00m BleakDeviceNotFoundError(\n\u001b[0;32m    248\u001b[0m             \u001b[38;5;28mself\u001b[39m\u001b[38;5;241m.\u001b[39maddress, \u001b[38;5;124mf\u001b[39m\u001b[38;5;124m\"\u001b[39m\u001b[38;5;124mDevice with address \u001b[39m\u001b[38;5;132;01m{\u001b[39;00m\u001b[38;5;28mself\u001b[39m\u001b[38;5;241m.\u001b[39maddress\u001b[38;5;132;01m}\u001b[39;00m\u001b[38;5;124m was not found.\u001b[39m\u001b[38;5;124m\"\u001b[39m\n\u001b[0;32m    249\u001b[0m         )\n\u001b[0;32m    251\u001b[0m     \u001b[38;5;28mself\u001b[39m\u001b[38;5;241m.\u001b[39m_device_info \u001b[38;5;241m=\u001b[39m device\u001b[38;5;241m.\u001b[39mdetails\u001b[38;5;241m.\u001b[39madv\u001b[38;5;241m.\u001b[39mbluetooth_address\n\u001b[0;32m    253\u001b[0m logger\u001b[38;5;241m.\u001b[39mdebug(\u001b[38;5;124m\"\u001b[39m\u001b[38;5;124mConnecting to BLE device @ \u001b[39m\u001b[38;5;132;01m%s\u001b[39;00m\u001b[38;5;124m\"\u001b[39m, \u001b[38;5;28mself\u001b[39m\u001b[38;5;241m.\u001b[39maddress)\n",
      "\u001b[1;31mBleakDeviceNotFoundError\u001b[0m: Device with address C1:90:05:44:E7:1A was not found."
     ]
    }
   ],
   "source": [
    "from bleak import BleakClient\n",
    "\n",
    "address = \"C1:90:05:44:E7:1A\" # MAC-адрес устройства\n",
    "char_uuid = \"00002a00-0000-1000-8000-00805f9b34fb\" # UUID характеристики\n",
    "data = b\"Hello, BLE!\" # данные для отправки\n",
    "\n",
    "async with BleakClient(address) as client:\n",
    "    await client.write_gatt_char(char_uuid, data)\n",
    "\n",
    "await client.disconnect()"
   ]
  },
  {
   "cell_type": "code",
   "execution_count": null,
   "id": "303a4785",
   "metadata": {},
   "outputs": [],
   "source": []
  }
 ],
 "metadata": {
  "kernelspec": {
   "display_name": "Python 3 (ipykernel)",
   "language": "python",
   "name": "python3"
  },
  "language_info": {
   "codemirror_mode": {
    "name": "ipython",
    "version": 3
   },
   "file_extension": ".py",
   "mimetype": "text/x-python",
   "name": "python",
   "nbconvert_exporter": "python",
   "pygments_lexer": "ipython3",
   "version": "3.10.9"
  }
 },
 "nbformat": 4,
 "nbformat_minor": 5
}
