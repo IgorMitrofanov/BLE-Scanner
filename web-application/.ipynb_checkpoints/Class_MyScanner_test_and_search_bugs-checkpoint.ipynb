{
 "cells": [
  {
   "cell_type": "code",
   "execution_count": 1,
   "id": "cbdd935d",
   "metadata": {},
   "outputs": [],
   "source": [
    "import numpy as np\n",
    "import pandas as pd\n",
    "import asyncio\n",
    "import struct\n",
    "import nest_asyncio\n",
    "import bleak\n",
    "from bleak import BleakScanner, BleakClient\n",
    "from bleak.exc import BleakError\n",
    "nest_asyncio.apply()\n",
    "import re\n",
    "from tqdm import tqdm\n",
    "from queue import Queue"
   ]
  },
  {
   "cell_type": "code",
   "execution_count": 2,
   "id": "54aa1784",
   "metadata": {},
   "outputs": [],
   "source": [
    "class DataCollector:\n",
    "    def __init__(self, start_serial, end_serial):\n",
    "        self.start_serial = start_serial\n",
    "        self.end_serial = end_serial\n",
    "        self.device_names = [\"TD_\" + str(i) for i in range(start_serial, end_serial+1)]\n",
    "        self.start_len = len(self.device_names)\n",
    "        self.df = pd.DataFrame({'Name': self.device_names, \n",
    "                                'MAC': [None] * len(self.device_names),\n",
    "                                'RSSI': [None] * len(self.device_names),\n",
    "                                'Oil Level' : [None] * len(self.device_names),\n",
    "                                'Temperature': [None] * len(self.device_names),\n",
    "                                'Battery Voltage': [None] * len(self.device_names),\n",
    "                                'HK': [None] * len(self.device_names),\n",
    "                                'LK': [None] * len(self.device_names)})\n",
    "        \n",
    "    def update_MAC(self, name, address):\n",
    "        index = self.df.index[self.df['Name'] == name][0]\n",
    "       # if self.df.at[index, 'MAC'] is None:   \n",
    "        self.df.at[index, 'MAC'] = address\n",
    "            \n",
    "    def update_RSSI(self, name, RSSI):\n",
    "        index = self.df.index[self.df['Name'] == name][0]\n",
    "       # if self.df.at[index, 'RSSI'] is None:   \n",
    "        self.df.at[index, 'RSSI'] = RSSI\n",
    "            \n",
    "    def update_oil_level(self, name, oil_level_raw):\n",
    "        index = self.df.index[self.df['Name'] == name][0]\n",
    "       # if self.df.at[index, 'Oil Level'] is None:   \n",
    "        self.df.at[index, 'Oil Level'] = oil_level_raw\n",
    "            \n",
    "    def update_temp(self, name, TD_temp_raw):\n",
    "        index = self.df.index[self.df['Name'] == name][0]\n",
    "       # if self.df.at[index, 'Temperature'] is None:   \n",
    "        self.df.at[index, 'Temperature'] = TD_temp_raw\n",
    "            \n",
    "    def update_battery_voltage(self, name, battery_voltage):\n",
    "        index = self.df.index[self.df['Name'] == name][0]\n",
    "        # if self.df.at[index, 'Battery Voltage'] is None:   \n",
    "        self.df.at[index, 'Battery Voltage'] = battery_voltage\n",
    "            \n",
    "    def update_HK(self, name, hk):\n",
    "        index = self.df.index[self.df['Name'] == name][0]\n",
    "       # if self.df.at[index, 'HK'] is None:   \n",
    "        self.df.at[index, 'HK'] = hk\n",
    "            \n",
    "    def update_LK(self, name, lk):\n",
    "        index = self.df.index[self.df['Name'] == name][0]\n",
    "       # if self.df.at[index, 'LK'] is None:   \n",
    "        self.df.at[index, 'LK'] = lk\n",
    "            \n",
    "    def get_dataframe(self):\n",
    "        return self.df"
   ]
  },
  {
   "cell_type": "code",
   "execution_count": 9,
   "id": "7a86715b",
   "metadata": {},
   "outputs": [],
   "source": [
    "class MyScanner:\n",
    "    def __init__(self, timeout, start_serial, end_serial):\n",
    "        self._scanner = BleakScanner(detection_callback=self.detection_callback)\n",
    "        self.scanning = asyncio.Event()\n",
    "        self.timeout = timeout\n",
    "        self.dc = DataCollector(start_serial, end_serial)\n",
    "        self.queue_devices_to_connect = Queue()\n",
    "\n",
    "    def detection_callback(self, device, advertisement_data):\n",
    "        try:\n",
    "            if device.name in self.dc.device_names: \n",
    "                \n",
    "                \n",
    "                self.queue_devices_to_connect.put(device)\n",
    "            \n",
    "                self.dc.device_names.remove(device.name)\n",
    "            \n",
    "                print(f'found device with name: {device.name} {self.dc.start_len-len(self.dc.device_names)}/{self.dc.start_len}')\n",
    "                self.dc.update_MAC(device.name, device.address)\n",
    "                self.dc.update_RSSI(device.name, advertisement_data.rssi)\n",
    "            \n",
    "                oil_level_raw, battery_voltage, TD_temp_raw = adv_decrypt(advertisement_data.manufacturer_data[3862])\n",
    "                self.dc.update_oil_level(device.name, oil_level_raw)\n",
    "                self.dc.update_battery_voltage(device.name, battery_voltage)\n",
    "                self.dc.update_temp(device.name, TD_temp_raw)\n",
    "        except Exception as e:\n",
    "            print(f\"Error in callback (scanner): {e}\")\n",
    "            \n",
    "    async def scanning(self):\n",
    "        print(f'\\t\\tStarted scanning with {self.timeout} seconds timeout...')\n",
    "        await self._scanner.start()\n",
    "        self.scanning.set()\n",
    "    async def stop_scanning(self):\n",
    "        self.scanning.clear()\n",
    "        await self._scanner.stop()\n",
    "    async def run(self):\n",
    "        print('start')\n",
    "        self.scanning()\n",
    "        await asyncio.sleep(5) \n",
    "        print('stop')\n",
    "        self.stop_scanning()\n",
    "        return\n",
    "            \n",
    "    def get_dataframe(self):\n",
    "        return self.dc.get_dataframe()\n",
    "    \n",
    "    def queue_connection(self):\n",
    "        print(f'\\t\\tStarted connecting and sending data for queue of devices...')\n",
    "        while not self.queue_devices_to_connect.empty():\n",
    "            print('Devices in queue:', self.queue_devices_to_connect.queue)\n",
    "            device = self.queue_devices_to_connect.get()\n",
    "            assistant = BleakClientAssistant(device)\n",
    "            hk, lk = assistant.run(b\"GA\\r\")\n",
    "            self.dc.update_HK(device.name, hk)\n",
    "            self.dc.update_LK(device.name, lk)"
   ]
  },
  {
   "cell_type": "code",
   "execution_count": 10,
   "id": "71e32720",
   "metadata": {},
   "outputs": [
    {
     "name": "stdout",
     "output_type": "stream",
     "text": [
      "start\n"
     ]
    },
    {
     "ename": "TypeError",
     "evalue": "'Event' object is not callable",
     "output_type": "error",
     "traceback": [
      "\u001b[1;31m---------------------------------------------------------------------------\u001b[0m",
      "\u001b[1;31mTypeError\u001b[0m                                 Traceback (most recent call last)",
      "File \u001b[1;32m<timed exec>:3\u001b[0m\n",
      "File \u001b[1;32m~\\AppData\\Local\\Programs\\Python\\Python311\\Lib\\site-packages\\nest_asyncio.py:90\u001b[0m, in \u001b[0;36m_patch_loop.<locals>.run_until_complete\u001b[1;34m(self, future)\u001b[0m\n\u001b[0;32m     87\u001b[0m \u001b[38;5;28;01mif\u001b[39;00m \u001b[38;5;129;01mnot\u001b[39;00m f\u001b[38;5;241m.\u001b[39mdone():\n\u001b[0;32m     88\u001b[0m     \u001b[38;5;28;01mraise\u001b[39;00m \u001b[38;5;167;01mRuntimeError\u001b[39;00m(\n\u001b[0;32m     89\u001b[0m         \u001b[38;5;124m'\u001b[39m\u001b[38;5;124mEvent loop stopped before Future completed.\u001b[39m\u001b[38;5;124m'\u001b[39m)\n\u001b[1;32m---> 90\u001b[0m \u001b[38;5;28;01mreturn\u001b[39;00m \u001b[43mf\u001b[49m\u001b[38;5;241;43m.\u001b[39;49m\u001b[43mresult\u001b[49m\u001b[43m(\u001b[49m\u001b[43m)\u001b[49m\n",
      "File \u001b[1;32m~\\AppData\\Local\\Programs\\Python\\Python311\\Lib\\asyncio\\futures.py:203\u001b[0m, in \u001b[0;36mFuture.result\u001b[1;34m(self)\u001b[0m\n\u001b[0;32m    201\u001b[0m \u001b[38;5;28mself\u001b[39m\u001b[38;5;241m.\u001b[39m__log_traceback \u001b[38;5;241m=\u001b[39m \u001b[38;5;28;01mFalse\u001b[39;00m\n\u001b[0;32m    202\u001b[0m \u001b[38;5;28;01mif\u001b[39;00m \u001b[38;5;28mself\u001b[39m\u001b[38;5;241m.\u001b[39m_exception \u001b[38;5;129;01mis\u001b[39;00m \u001b[38;5;129;01mnot\u001b[39;00m \u001b[38;5;28;01mNone\u001b[39;00m:\n\u001b[1;32m--> 203\u001b[0m     \u001b[38;5;28;01mraise\u001b[39;00m \u001b[38;5;28mself\u001b[39m\u001b[38;5;241m.\u001b[39m_exception\u001b[38;5;241m.\u001b[39mwith_traceback(\u001b[38;5;28mself\u001b[39m\u001b[38;5;241m.\u001b[39m_exception_tb)\n\u001b[0;32m    204\u001b[0m \u001b[38;5;28;01mreturn\u001b[39;00m \u001b[38;5;28mself\u001b[39m\u001b[38;5;241m.\u001b[39m_result\n",
      "File \u001b[1;32m~\\AppData\\Local\\Programs\\Python\\Python311\\Lib\\asyncio\\tasks.py:267\u001b[0m, in \u001b[0;36mTask.__step\u001b[1;34m(***failed resolving arguments***)\u001b[0m\n\u001b[0;32m    263\u001b[0m \u001b[38;5;28;01mtry\u001b[39;00m:\n\u001b[0;32m    264\u001b[0m     \u001b[38;5;28;01mif\u001b[39;00m exc \u001b[38;5;129;01mis\u001b[39;00m \u001b[38;5;28;01mNone\u001b[39;00m:\n\u001b[0;32m    265\u001b[0m         \u001b[38;5;66;03m# We use the `send` method directly, because coroutines\u001b[39;00m\n\u001b[0;32m    266\u001b[0m         \u001b[38;5;66;03m# don't have `__iter__` and `__next__` methods.\u001b[39;00m\n\u001b[1;32m--> 267\u001b[0m         result \u001b[38;5;241m=\u001b[39m coro\u001b[38;5;241m.\u001b[39msend(\u001b[38;5;28;01mNone\u001b[39;00m)\n\u001b[0;32m    268\u001b[0m     \u001b[38;5;28;01melse\u001b[39;00m:\n\u001b[0;32m    269\u001b[0m         result \u001b[38;5;241m=\u001b[39m coro\u001b[38;5;241m.\u001b[39mthrow(exc)\n",
      "Cell \u001b[1;32mIn[9], line 38\u001b[0m, in \u001b[0;36mMyScanner.run\u001b[1;34m(self)\u001b[0m\n\u001b[0;32m     36\u001b[0m \u001b[38;5;28;01masync\u001b[39;00m \u001b[38;5;28;01mdef\u001b[39;00m \u001b[38;5;21mrun\u001b[39m(\u001b[38;5;28mself\u001b[39m):\n\u001b[0;32m     37\u001b[0m     \u001b[38;5;28mprint\u001b[39m(\u001b[38;5;124m'\u001b[39m\u001b[38;5;124mstart\u001b[39m\u001b[38;5;124m'\u001b[39m)\n\u001b[1;32m---> 38\u001b[0m     \u001b[38;5;28;43mself\u001b[39;49m\u001b[38;5;241;43m.\u001b[39;49m\u001b[43mscanning\u001b[49m\u001b[43m(\u001b[49m\u001b[43m)\u001b[49m\n\u001b[0;32m     39\u001b[0m     \u001b[38;5;28;01mawait\u001b[39;00m asyncio\u001b[38;5;241m.\u001b[39msleep(\u001b[38;5;241m5\u001b[39m) \n\u001b[0;32m     40\u001b[0m     \u001b[38;5;28mprint\u001b[39m(\u001b[38;5;124m'\u001b[39m\u001b[38;5;124mstop\u001b[39m\u001b[38;5;124m'\u001b[39m)\n",
      "\u001b[1;31mTypeError\u001b[0m: 'Event' object is not callable"
     ]
    }
   ],
   "source": [
    "%%time\n",
    "my_scanner = MyScanner(timeout=10, start_serial=383448, end_serial=383449)\n",
    "loop = asyncio.get_event_loop()\n",
    "loop.run_until_complete(my_scanner.run())"
   ]
  },
  {
   "cell_type": "code",
   "execution_count": 15,
   "id": "65f7490f",
   "metadata": {},
   "outputs": [
    {
     "data": {
      "text/plain": [
       "True"
      ]
     },
     "execution_count": 15,
     "metadata": {},
     "output_type": "execute_result"
    }
   ],
   "source": [
    "loop.is_running()"
   ]
  },
  {
   "cell_type": "code",
   "execution_count": null,
   "id": "e03f78a7",
   "metadata": {},
   "outputs": [],
   "source": []
  }
 ],
 "metadata": {
  "kernelspec": {
   "display_name": "Python 3 (ipykernel)",
   "language": "python",
   "name": "python3"
  },
  "language_info": {
   "codemirror_mode": {
    "name": "ipython",
    "version": 3
   },
   "file_extension": ".py",
   "mimetype": "text/x-python",
   "name": "python",
   "nbconvert_exporter": "python",
   "pygments_lexer": "ipython3",
   "version": "3.11.3"
  }
 },
 "nbformat": 4,
 "nbformat_minor": 5
}
