{
 "cells": [
  {
   "cell_type": "markdown",
   "id": "eb331a92",
   "metadata": {},
   "source": [
    "Импорты:"
   ]
  },
  {
   "cell_type": "code",
   "execution_count": 1,
   "id": "d39e9fa2",
   "metadata": {},
   "outputs": [],
   "source": [
    "import numpy as np\n",
    "import pandas as pd\n",
    "import asyncio\n",
    "import struct\n",
    "import nest_asyncio\n",
    "import bleak\n",
    "from bleak import BleakScanner, BleakClient\n",
    "from bleak.exc import BleakError\n",
    "nest_asyncio.apply()\n",
    "import re\n",
    "from tqdm import tqdm"
   ]
  },
  {
   "cell_type": "code",
   "execution_count": 2,
   "id": "4efec4bf",
   "metadata": {},
   "outputs": [],
   "source": [
    "class BleakClientAssistant:\n",
    "    def __init__(self, address, timeout=60):\n",
    "        self.address = address\n",
    "        self.timeout = timeout\n",
    "        self.loop = asyncio.get_event_loop()\n",
    "        self.client = None\n",
    "        self.hk = None\n",
    "        self.lk = None\n",
    "\n",
    "    async def connect(self):\n",
    "        self.client = BleakClient(self.address, timeout=self.timeout, cache_timeout=0)\n",
    "        try:\n",
    "            with tqdm(total=100, desc=\"Connecting and sending data\") as pbar:\n",
    "                success = await self.client.connect()\n",
    "                for i in range(100):\n",
    "                    pbar.update(1)\n",
    "                    await asyncio.sleep(0.1)\n",
    "                if success:\n",
    "                    await asyncio.sleep(1)  \n",
    "                    await self.client.start_notify(14, self.callback)\n",
    "                else:\n",
    "                    print(\"Failed to connect to device\")\n",
    "        except BleakError as e:\n",
    "            print(f\"Could not connect to device: {e}\")\n",
    "            retry = input(\"Would you like to retry connect? (y/n) \")\n",
    "            if retry.lower() == \"y\":\n",
    "                await self.connect()\n",
    "            else:\n",
    "                return\n",
    "        \n",
    "    async def disconnect(self):\n",
    "        await self.client.stop_notify(14)\n",
    "        await self.client.disconnect()\n",
    "        \n",
    "    async def send_message(self, message):\n",
    "        await self.client.write_gatt_char(12, message)\n",
    "        print(f'WRITE: {message} on TX_char')\n",
    "        await asyncio.sleep(1)\n",
    "        \n",
    "    async def callback(self, sender: int, data: bytearray):\n",
    "        response = data.decode().strip()\n",
    "        print(f'Received notification from RX_char: {response}')\n",
    "        match = re.search(r\"HK:1:(\\d+),LK:1:(\\d+)\", response)\n",
    "        if match:\n",
    "            self.hk = int(match.group(1))\n",
    "            self.lk = int(match.group(2))\n",
    "        \n",
    "    def run(self, message):\n",
    "        self.loop.run_until_complete(self.connect())\n",
    "        self.loop.run_until_complete(self.send_message(message))\n",
    "        self.loop.run_until_complete(self.disconnect())\n",
    "        return self.hk, self.lk"
   ]
  },
  {
   "cell_type": "code",
   "execution_count": 3,
   "id": "386de798",
   "metadata": {},
   "outputs": [],
   "source": [
    "def adv_decrypt(data):\n",
    "    # Расшифровка уровня топлива\n",
    "    oil_level_raw = int.from_bytes(data[1:3], byteorder='little', signed=False)\n",
    "    print(f\"Уровень топлива: {oil_level_raw}\")\n",
    "\n",
    "    # Расшифровка напряжения встроенной батареи\n",
    "    battery_voltage_raw = int.from_bytes(data[3:4], byteorder='little', signed=False)\n",
    "    battery_voltage = battery_voltage_raw / 10.0\n",
    "    print(f\"Напряжение встроенной батареи: {battery_voltage} В\")\n",
    "\n",
    "    # Расшифровка температуры\n",
    "    TD_temp_raw = int.from_bytes(data[4:5], byteorder='little', signed=True)\n",
    "    print(f\"Температура: {TD_temp_raw} Градус Цельсия\")\n",
    "\n",
    "    return oil_level_raw, battery_voltage, TD_temp_raw"
   ]
  },
  {
   "cell_type": "code",
   "execution_count": null,
   "id": "4f01408c",
   "metadata": {},
   "outputs": [],
   "source": [
    "class DataCollector:\n",
    "    def __init__(self, start_serial, end_serial):\n",
    "        self.start_serial = start_serial\n",
    "        self.end_serial = end_serial\n",
    "        self.device_names = [\"TD_\" + str(i) for i in range(start_serial, end_serial+1)]\n",
    "        self.df = pd.DataFrame({'Name': self.device_names, \n",
    "                                'MAC': [None] * len(self.device_names),\n",
    "                                'RSSI': [None] * len(self.device_names),\n",
    "                                'O-L' : [None] * len(self.device_names),\n",
    "                                'T': [None] * len(self.device_names),\n",
    "                                'B-W': [None] * len(self.device_names),\n",
    "                                'HK': [None] * len(self.device_names),\n",
    "                                'LK': [None] * len(self.device_names)})\n",
    "    def update_data()"
   ]
  },
  {
   "cell_type": "code",
   "execution_count": 4,
   "id": "92db7c15",
   "metadata": {},
   "outputs": [],
   "source": [
    "class MyScanner:\n",
    "    def __init__(self, timeout, start_serial, end_serial):\n",
    "        self._scanner = BleakScanner(detection_callback=self.detection_callback)\n",
    "        self.scanning = asyncio.Event()\n",
    "        self.address = None\n",
    "        self.timeout = timeout\n",
    "        self.start_serial = start_serial\n",
    "        self.end_serial = end_serial\n",
    "        self.device_names = [\"TD_\" + str(i) for i in range(start_serial, end_serial+1)]\n",
    "        self.df = pd.DataFrame({'Name': self.device_names, \n",
    "                                'MAC': [None] * len(self.device_names),\n",
    "                                'RSSI': [None] * len(self.device_names),\n",
    "                                'O-L' : [None] * len(self.device_names),\n",
    "                                'T': [None] * len(self.device_names),\n",
    "                                'B-W': [None] * len(self.device_names),\n",
    "                                'HK': [None] * len(self.device_names),\n",
    "                                'LK': [None] * len(self.device_names)})\n",
    "\n",
    "        \n",
    "\n",
    "    def detection_callback(self, device, advertisement_data):\n",
    "        if device.name in self.device_names: \n",
    "            print(f'found device with {device.name} name')\n",
    "            index = self.df.index[self.df['Name'] == device.name][0]\n",
    "            if self.df.at[index, 'MAC'] is None:   \n",
    "                self.df.at[index, 'MAC'] = device.address\n",
    "            if self. df.at[index, 'RSSI'] is None:   \n",
    "                self.df.at[index, 'RSSI'] = advertisement_data.rssi\n",
    "            oil_level_raw, battery_voltage, TD_temp_raw = adv_decrypt(advertisement_data.manufacturer_data[3862])\n",
    "            if self. df.at[index, 'O-L'] is None:   \n",
    "                self.df.at[index, 'O-L'] = oil_level_raw\n",
    "            if self. df.at[index, 'B-W'] is None:   \n",
    "                self.df.at[index, 'B-W'] = battery_voltage   \n",
    "            if self. df.at[index, 'T'] is None:   \n",
    "                self.df.at[index, 'T'] = TD_temp_raw   \n",
    "                \n",
    "            assistant = BleakClientAssistant(device.address, timeout=self.timeout)\n",
    "            hk, lk = assistant.run(b\"GA\\r\")\n",
    "            if self. df.at[index, 'HK'] is None:   \n",
    "                self.df.at[index, 'HK'] = hk\n",
    "            if self. df.at[index, 'LK'] is None:   \n",
    "                self.df.at[index, 'LK'] = lk\n",
    "\n",
    "    async def run(self):\n",
    "        await self._scanner.start()\n",
    "        self.scanning.set()\n",
    "        end_time = loop.time() + self.timeout\n",
    "        while self.scanning.is_set():\n",
    "            if loop.time() > end_time:\n",
    "                self.scanning.clear()\n",
    "                print('\\t\\tScan has timed out so we terminate')\n",
    "            await asyncio.sleep(0.1)\n",
    "        await self._scanner.stop()\n",
    "\n",
    "    def get_address(self):\n",
    "        return self.address\n",
    "    def get_dataframe(self):\n",
    "        return self.df"
   ]
  },
  {
   "cell_type": "code",
   "execution_count": 7,
   "id": "794006ad",
   "metadata": {
    "scrolled": true
   },
   "outputs": [
    {
     "name": "stdout",
     "output_type": "stream",
     "text": [
      "found device with TD_383449 name\n",
      "Уровень топлива: 1\n",
      "Напряжение встроенной батареи: 3.7 В\n",
      "Температура: 22 Градус Цельсия\n"
     ]
    },
    {
     "name": "stderr",
     "output_type": "stream",
     "text": [
      "\r",
      "Connecting and sending data:   0%|                                                             | 0/100 [00:00<?, ?it/s]"
     ]
    },
    {
     "name": "stdout",
     "output_type": "stream",
     "text": [
      "found device with TD_383449 name\n",
      "Уровень топлива: 1\n",
      "Напряжение встроенной батареи: 3.7 В\n",
      "Температура: 22 Градус Цельсия\n"
     ]
    },
    {
     "name": "stderr",
     "output_type": "stream",
     "text": [
      "\n",
      "Connecting and sending data:   0%|                                                             | 0/100 [00:00<?, ?it/s]\u001b[A"
     ]
    },
    {
     "name": "stdout",
     "output_type": "stream",
     "text": [
      "found device with TD_383448 name\n",
      "Уровень топлива: 4095\n",
      "Напряжение встроенной батареи: 3.7 В\n",
      "Температура: 23 Градус Цельсия\n"
     ]
    },
    {
     "name": "stderr",
     "output_type": "stream",
     "text": [
      "\n",
      "\n",
      "Connecting and sending data:   0%|                                                             | 0/100 [00:00<?, ?it/s]\u001b[A\u001b[A"
     ]
    },
    {
     "name": "stdout",
     "output_type": "stream",
     "text": [
      "found device with TD_383449 name\n",
      "Уровень топлива: 1\n",
      "Напряжение встроенной батареи: 3.7 В\n",
      "Температура: 22 Градус Цельсия\n"
     ]
    },
    {
     "name": "stderr",
     "output_type": "stream",
     "text": [
      "\n",
      "\n",
      "\n",
      "Connecting and sending data:   0%|                                                             | 0/100 [00:00<?, ?it/s]\u001b[A\u001b[A\u001b[A"
     ]
    },
    {
     "name": "stdout",
     "output_type": "stream",
     "text": [
      "found device with TD_383449 name\n",
      "Уровень топлива: 1\n",
      "Напряжение встроенной батареи: 3.7 В\n",
      "Температура: 22 Градус Цельсия\n"
     ]
    },
    {
     "name": "stderr",
     "output_type": "stream",
     "text": [
      "\n",
      "\n",
      "\n",
      "\n",
      "Connecting and sending data:   0%|                                                             | 0/100 [00:00<?, ?it/s]\u001b[A\u001b[A\u001b[A\u001b[A"
     ]
    },
    {
     "name": "stdout",
     "output_type": "stream",
     "text": [
      "found device with TD_383449 name\n",
      "Уровень топлива: 1\n",
      "Напряжение встроенной батареи: 3.7 В\n",
      "Температура: 22 Градус Цельсия\n"
     ]
    },
    {
     "name": "stderr",
     "output_type": "stream",
     "text": [
      "\n",
      "\n",
      "\n",
      "\n",
      "\n",
      "Connecting and sending data:   0%|                                                             | 0/100 [00:12<?, ?it/s]\u001b[A\u001b[A\u001b[A\u001b[A\u001b[A\n"
     ]
    },
    {
     "name": "stdout",
     "output_type": "stream",
     "text": [
      "Could not connect to device: Could not get GATT characteristics for <_bleak_winrt_Windows_Devices_Bluetooth_GenericAttributeProfile.GattDeviceService object at 0x0000023E9582FD90>: Access Denied\n",
      "Would you like to retry connect? (y/n) y\n"
     ]
    },
    {
     "name": "stderr",
     "output_type": "stream",
     "text": [
      "\n",
      "\n",
      "\n",
      "Connecting and sending data:   0%|                                                             | 0/100 [00:15<?, ?it/s]\u001b[A\u001b[A\u001b[A\n"
     ]
    },
    {
     "name": "stdout",
     "output_type": "stream",
     "text": [
      "Could not connect to device: Could not get GATT characteristics for <_bleak_winrt_Windows_Devices_Bluetooth_GenericAttributeProfile.GattDeviceService object at 0x0000023E9582DCD0>: Access Denied\n",
      "Would you like to retry connect? (y/n) y\n"
     ]
    },
    {
     "name": "stderr",
     "output_type": "stream",
     "text": [
      "\n",
      "\n",
      "\n",
      "\n",
      "Connecting and sending data:   0%|                                                             | 0/100 [00:22<?, ?it/s]\u001b[A\u001b[A\u001b[A\u001b[A\n"
     ]
    },
    {
     "name": "stdout",
     "output_type": "stream",
     "text": [
      "Could not connect to device: Could not get GATT characteristics for <_bleak_winrt_Windows_Devices_Bluetooth_GenericAttributeProfile.GattDeviceService object at 0x0000023E9582C130>: Access Denied\n",
      "Would you like to retry connect? (y/n) y\n"
     ]
    },
    {
     "name": "stderr",
     "output_type": "stream",
     "text": [
      "\n",
      "Connecting and sending data:   0%|                                                             | 0/100 [00:00<?, ?it/s]\u001b[A"
     ]
    },
    {
     "name": "stdout",
     "output_type": "stream",
     "text": [
      "found device with TD_383449 name\n",
      "Уровень топлива: 1\n",
      "Напряжение встроенной батареи: 3.7 В\n",
      "Температура: 22 Градус Цельсия\n"
     ]
    },
    {
     "name": "stderr",
     "output_type": "stream",
     "text": [
      "\n",
      "\n",
      "\n",
      "\n",
      "\n",
      "\n",
      "Connecting and sending data:   0%|                                                             | 0/100 [00:08<?, ?it/s]\u001b[A\u001b[A\u001b[A\u001b[A\u001b[A\u001b[A\n"
     ]
    },
    {
     "name": "stdout",
     "output_type": "stream",
     "text": [
      "Could not connect to device: Could not get GATT characteristics for <_bleak_winrt_Windows_Devices_Bluetooth_GenericAttributeProfile.GattDeviceService object at 0x0000023E955AB9D0>: Access Denied\n",
      "Would you like to retry connect? (y/n) y\n"
     ]
    },
    {
     "name": "stderr",
     "output_type": "stream",
     "text": [
      "\n",
      "\n",
      "\n",
      "\n",
      "\n",
      "Connecting and sending data:   3%|█▌                                                   | 3/100 [00:28<10:21,  6.41s/it]\u001b[A\u001b[A\u001b[A\u001b[A\u001b[A"
     ]
    },
    {
     "name": "stdout",
     "output_type": "stream",
     "text": [
      "\t\tScan has timed out so we terminate\n"
     ]
    },
    {
     "name": "stderr",
     "output_type": "stream",
     "text": [
      "Connecting and sending data:   0%|                                                             | 0/100 [00:30<?, ?it/s]\n"
     ]
    },
    {
     "name": "stdout",
     "output_type": "stream",
     "text": [
      "Could not connect to device: Device with address CA:17:37:73:61:98 was not found.\n",
      "Would you like to retry connect? (y/n) y\n"
     ]
    },
    {
     "name": "stderr",
     "output_type": "stream",
     "text": [
      "\n",
      "\n",
      "Connecting and sending data: 100%|███████████████████████████████████████████████████| 100/100 [00:43<00:00,  2.30it/s]\u001b[A\u001b[A\n",
      "Exception in callback BleakScannerWinRT._stopped_handler(<_bleak_winrt...0023E9535B9F0>, <_bleak_winrt...0023E96A32AD0>)\n",
      "handle: <Handle BleakScannerWinRT._stopped_handler(<_bleak_winrt...0023E9535B9F0>, <_bleak_winrt...0023E96A32AD0>)>\n",
      "Traceback (most recent call last):\n",
      "  File \"C:\\ProgramData\\anaconda3\\lib\\asyncio\\events.py\", line 80, in _run\n",
      "    self._context.run(self._callback, *self._args)\n",
      "  File \"C:\\Users\\Dukalis\\AppData\\Roaming\\Python\\Python310\\site-packages\\bleak\\backends\\winrt\\scanner.py\", line 213, in _stopped_handler\n",
      "    len(self.seen_devices), self.watcher.status\n",
      "AttributeError: 'NoneType' object has no attribute 'status'\n",
      "Connecting and sending data:   0%|                                                             | 0/100 [00:20<?, ?it/s]\n"
     ]
    },
    {
     "name": "stdout",
     "output_type": "stream",
     "text": [
      "Could not connect to device: Could not get GATT characteristics for <_bleak_winrt_Windows_Devices_Bluetooth_GenericAttributeProfile.GattDeviceService object at 0x0000023E9544D930>: Access Denied\n",
      "Would you like to retry connect? (y/n) n\n"
     ]
    },
    {
     "name": "stderr",
     "output_type": "stream",
     "text": [
      "Connecting and sending data:   0%|                                                             | 0/100 [00:28<?, ?it/s]\n"
     ]
    },
    {
     "name": "stdout",
     "output_type": "stream",
     "text": [
      "Could not connect to device: Could not get GATT characteristics for <_bleak_winrt_Windows_Devices_Bluetooth_GenericAttributeProfile.GattDeviceService object at 0x0000023E9544C590>: Access Denied\n",
      "Would you like to retry connect? (y/n) n\n"
     ]
    },
    {
     "name": "stderr",
     "output_type": "stream",
     "text": [
      "Connecting and sending data:   0%|                                                             | 0/100 [00:28<?, ?it/s]\n"
     ]
    },
    {
     "name": "stdout",
     "output_type": "stream",
     "text": [
      "Could not connect to device: Could not get GATT characteristics for <_bleak_winrt_Windows_Devices_Bluetooth_GenericAttributeProfile.GattDeviceService object at 0x0000023E9544E1F0>: Access Denied\n",
      "Would you like to retry connect? (y/n) n\n"
     ]
    },
    {
     "name": "stderr",
     "output_type": "stream",
     "text": [
      "Connecting and sending data:   0%|                                                             | 0/100 [00:28<?, ?it/s]\n"
     ]
    },
    {
     "name": "stdout",
     "output_type": "stream",
     "text": [
      "Could not connect to device: Could not get GATT characteristics for <_bleak_winrt_Windows_Devices_Bluetooth_GenericAttributeProfile.GattDeviceService object at 0x0000023E9520A6B0>: Access Denied\n",
      "Would you like to retry connect? (y/n) n\n"
     ]
    },
    {
     "name": "stderr",
     "output_type": "stream",
     "text": [
      "Connecting and sending data:   0%|                                                             | 0/100 [00:34<?, ?it/s]\n"
     ]
    },
    {
     "name": "stdout",
     "output_type": "stream",
     "text": [
      "Could not connect to device: Could not get GATT characteristics for <_bleak_winrt_Windows_Devices_Bluetooth_GenericAttributeProfile.GattDeviceService object at 0x0000023E9544FBB0>: Access Denied\n",
      "Would you like to retry connect? (y/n) n\n"
     ]
    },
    {
     "name": "stderr",
     "output_type": "stream",
     "text": [
      "Exception in callback BleakScannerWinRT._received_handler(<_bleak_winrt...0023E958784B0>, <_bleak_winrt...0023E9587AAB0>)\n",
      "handle: <Handle BleakScannerWinRT._received_handler(<_bleak_winrt...0023E958784B0>, <_bleak_winrt...0023E9587AAB0>)>\n",
      "Traceback (most recent call last):\n",
      "  File \"C:\\ProgramData\\anaconda3\\lib\\asyncio\\events.py\", line 80, in _run\n",
      "    self._context.run(self._callback, *self._args)\n",
      "  File \"C:\\Users\\Dukalis\\AppData\\Roaming\\Python\\Python310\\site-packages\\bleak\\backends\\winrt\\scanner.py\", line 208, in _received_handler\n",
      "    self._callback(device, advertisement_data)\n",
      "  File \"C:\\Users\\Dukalis\\AppData\\Local\\Temp\\ipykernel_10020\\3520866471.py\", line 38, in detection_callback\n",
      "    hk, lk = assistant.run(b\"GA\\r\")\n",
      "  File \"C:\\Users\\Dukalis\\AppData\\Local\\Temp\\ipykernel_10020\\2033048030.py\", line 50, in run\n",
      "    self.loop.run_until_complete(self.send_message(message))\n",
      "  File \"C:\\ProgramData\\anaconda3\\lib\\site-packages\\nest_asyncio.py\", line 90, in run_until_complete\n",
      "    return f.result()\n",
      "  File \"C:\\ProgramData\\anaconda3\\lib\\asyncio\\futures.py\", line 201, in result\n",
      "    raise self._exception.with_traceback(self._exception_tb)\n",
      "  File \"C:\\ProgramData\\anaconda3\\lib\\asyncio\\tasks.py\", line 232, in __step\n",
      "    result = coro.send(None)\n",
      "  File \"C:\\Users\\Dukalis\\AppData\\Local\\Temp\\ipykernel_10020\\2033048030.py\", line 36, in send_message\n",
      "    await self.client.write_gatt_char(12, message)\n",
      "  File \"C:\\Users\\Dukalis\\AppData\\Roaming\\Python\\Python310\\site-packages\\bleak\\__init__.py\", line 659, in write_gatt_char\n",
      "    await self._backend.write_gatt_char(char_specifier, data, response)\n",
      "  File \"C:\\Users\\Dukalis\\AppData\\Roaming\\Python\\Python310\\site-packages\\bleak\\backends\\winrt\\client.py\", line 855, in write_gatt_char\n",
      "    raise BleakError(\"Not connected\")\n",
      "bleak.exc.BleakError: Not connected\n",
      "Exception in callback BleakScannerWinRT._received_handler(<_bleak_winrt...0023E9582F8D0>, <_bleak_winrt...0023E9582F830>)\n",
      "handle: <Handle BleakScannerWinRT._received_handler(<_bleak_winrt...0023E9582F8D0>, <_bleak_winrt...0023E9582F830>)>\n",
      "Traceback (most recent call last):\n",
      "  File \"C:\\ProgramData\\anaconda3\\lib\\asyncio\\events.py\", line 80, in _run\n",
      "    self._context.run(self._callback, *self._args)\n",
      "  File \"C:\\Users\\Dukalis\\AppData\\Roaming\\Python\\Python310\\site-packages\\bleak\\backends\\winrt\\scanner.py\", line 208, in _received_handler\n",
      "    self._callback(device, advertisement_data)\n",
      "  File \"C:\\Users\\Dukalis\\AppData\\Local\\Temp\\ipykernel_10020\\3520866471.py\", line 38, in detection_callback\n",
      "    hk, lk = assistant.run(b\"GA\\r\")\n",
      "  File \"C:\\Users\\Dukalis\\AppData\\Local\\Temp\\ipykernel_10020\\2033048030.py\", line 50, in run\n",
      "    self.loop.run_until_complete(self.send_message(message))\n",
      "  File \"C:\\ProgramData\\anaconda3\\lib\\site-packages\\nest_asyncio.py\", line 90, in run_until_complete\n",
      "    return f.result()\n",
      "  File \"C:\\ProgramData\\anaconda3\\lib\\asyncio\\futures.py\", line 201, in result\n",
      "    raise self._exception.with_traceback(self._exception_tb)\n",
      "  File \"C:\\ProgramData\\anaconda3\\lib\\asyncio\\tasks.py\", line 232, in __step\n",
      "    result = coro.send(None)\n",
      "  File \"C:\\Users\\Dukalis\\AppData\\Local\\Temp\\ipykernel_10020\\2033048030.py\", line 36, in send_message\n",
      "    await self.client.write_gatt_char(12, message)\n",
      "  File \"C:\\Users\\Dukalis\\AppData\\Roaming\\Python\\Python310\\site-packages\\bleak\\__init__.py\", line 659, in write_gatt_char\n",
      "    await self._backend.write_gatt_char(char_specifier, data, response)\n",
      "  File \"C:\\Users\\Dukalis\\AppData\\Roaming\\Python\\Python310\\site-packages\\bleak\\backends\\winrt\\client.py\", line 855, in write_gatt_char\n",
      "    raise BleakError(\"Not connected\")\n",
      "bleak.exc.BleakError: Not connected\n",
      "Exception in callback BleakScannerWinRT._received_handler(<_bleak_winrt...0023E95646350>, <_bleak_winrt...0023E95646370>)\n",
      "handle: <Handle BleakScannerWinRT._received_handler(<_bleak_winrt...0023E95646350>, <_bleak_winrt...0023E95646370>)>\n",
      "Traceback (most recent call last):\n",
      "  File \"C:\\ProgramData\\anaconda3\\lib\\asyncio\\events.py\", line 80, in _run\n",
      "    self._context.run(self._callback, *self._args)\n",
      "  File \"C:\\Users\\Dukalis\\AppData\\Roaming\\Python\\Python310\\site-packages\\bleak\\backends\\winrt\\scanner.py\", line 208, in _received_handler\n",
      "    self._callback(device, advertisement_data)\n",
      "  File \"C:\\Users\\Dukalis\\AppData\\Local\\Temp\\ipykernel_10020\\3520866471.py\", line 38, in detection_callback\n",
      "    hk, lk = assistant.run(b\"GA\\r\")\n",
      "  File \"C:\\Users\\Dukalis\\AppData\\Local\\Temp\\ipykernel_10020\\2033048030.py\", line 50, in run\n",
      "    self.loop.run_until_complete(self.send_message(message))\n",
      "  File \"C:\\ProgramData\\anaconda3\\lib\\site-packages\\nest_asyncio.py\", line 90, in run_until_complete\n",
      "    return f.result()\n",
      "  File \"C:\\ProgramData\\anaconda3\\lib\\asyncio\\futures.py\", line 201, in result\n",
      "    raise self._exception.with_traceback(self._exception_tb)\n",
      "  File \"C:\\ProgramData\\anaconda3\\lib\\asyncio\\tasks.py\", line 232, in __step\n",
      "    result = coro.send(None)\n",
      "  File \"C:\\Users\\Dukalis\\AppData\\Local\\Temp\\ipykernel_10020\\2033048030.py\", line 36, in send_message\n",
      "    await self.client.write_gatt_char(12, message)\n",
      "  File \"C:\\Users\\Dukalis\\AppData\\Roaming\\Python\\Python310\\site-packages\\bleak\\__init__.py\", line 659, in write_gatt_char\n",
      "    await self._backend.write_gatt_char(char_specifier, data, response)\n",
      "  File \"C:\\Users\\Dukalis\\AppData\\Roaming\\Python\\Python310\\site-packages\\bleak\\backends\\winrt\\client.py\", line 855, in write_gatt_char\n",
      "    raise BleakError(\"Not connected\")\n",
      "bleak.exc.BleakError: Not connected\n",
      "Exception in callback BleakScannerWinRT._received_handler(<_bleak_winrt...0023E956457B0>, <_bleak_winrt...0023E95645EB0>)\n",
      "handle: <Handle BleakScannerWinRT._received_handler(<_bleak_winrt...0023E956457B0>, <_bleak_winrt...0023E95645EB0>)>\n",
      "Traceback (most recent call last):\n",
      "  File \"C:\\ProgramData\\anaconda3\\lib\\asyncio\\events.py\", line 80, in _run\n",
      "    self._context.run(self._callback, *self._args)\n",
      "  File \"C:\\Users\\Dukalis\\AppData\\Roaming\\Python\\Python310\\site-packages\\bleak\\backends\\winrt\\scanner.py\", line 208, in _received_handler\n",
      "    self._callback(device, advertisement_data)\n",
      "  File \"C:\\Users\\Dukalis\\AppData\\Local\\Temp\\ipykernel_10020\\3520866471.py\", line 38, in detection_callback\n",
      "    hk, lk = assistant.run(b\"GA\\r\")\n",
      "  File \"C:\\Users\\Dukalis\\AppData\\Local\\Temp\\ipykernel_10020\\2033048030.py\", line 50, in run\n",
      "    self.loop.run_until_complete(self.send_message(message))\n",
      "  File \"C:\\ProgramData\\anaconda3\\lib\\site-packages\\nest_asyncio.py\", line 90, in run_until_complete\n",
      "    return f.result()\n",
      "  File \"C:\\ProgramData\\anaconda3\\lib\\asyncio\\futures.py\", line 201, in result\n",
      "    raise self._exception.with_traceback(self._exception_tb)\n",
      "  File \"C:\\ProgramData\\anaconda3\\lib\\asyncio\\tasks.py\", line 232, in __step\n",
      "    result = coro.send(None)\n",
      "  File \"C:\\Users\\Dukalis\\AppData\\Local\\Temp\\ipykernel_10020\\2033048030.py\", line 36, in send_message\n",
      "    await self.client.write_gatt_char(12, message)\n",
      "  File \"C:\\Users\\Dukalis\\AppData\\Roaming\\Python\\Python310\\site-packages\\bleak\\__init__.py\", line 659, in write_gatt_char\n",
      "    await self._backend.write_gatt_char(char_specifier, data, response)\n",
      "  File \"C:\\Users\\Dukalis\\AppData\\Roaming\\Python\\Python310\\site-packages\\bleak\\backends\\winrt\\client.py\", line 855, in write_gatt_char\n",
      "    raise BleakError(\"Not connected\")\n",
      "bleak.exc.BleakError: Not connected\n",
      "Connecting and sending data:   0%|                                                             | 0/100 [00:30<?, ?it/s]\n"
     ]
    },
    {
     "name": "stdout",
     "output_type": "stream",
     "text": [
      "Could not connect to device: Device with address CA:17:37:73:61:98 was not found.\n",
      "Would you like to retry connect? (y/n) n\n"
     ]
    },
    {
     "name": "stderr",
     "output_type": "stream",
     "text": [
      "Exception in callback BleakScannerWinRT._received_handler(<_bleak_winrt...0023E9540E630>, <_bleak_winrt...0023E9540E6F0>)\n",
      "handle: <Handle BleakScannerWinRT._received_handler(<_bleak_winrt...0023E9540E630>, <_bleak_winrt...0023E9540E6F0>)>\n",
      "Traceback (most recent call last):\n",
      "  File \"C:\\ProgramData\\anaconda3\\lib\\asyncio\\events.py\", line 80, in _run\n",
      "    self._context.run(self._callback, *self._args)\n",
      "  File \"C:\\Users\\Dukalis\\AppData\\Roaming\\Python\\Python310\\site-packages\\bleak\\backends\\winrt\\scanner.py\", line 208, in _received_handler\n",
      "    self._callback(device, advertisement_data)\n",
      "  File \"C:\\Users\\Dukalis\\AppData\\Local\\Temp\\ipykernel_10020\\3520866471.py\", line 38, in detection_callback\n",
      "    hk, lk = assistant.run(b\"GA\\r\")\n",
      "  File \"C:\\Users\\Dukalis\\AppData\\Local\\Temp\\ipykernel_10020\\2033048030.py\", line 50, in run\n",
      "    self.loop.run_until_complete(self.send_message(message))\n",
      "  File \"C:\\ProgramData\\anaconda3\\lib\\site-packages\\nest_asyncio.py\", line 90, in run_until_complete\n",
      "    return f.result()\n",
      "  File \"C:\\ProgramData\\anaconda3\\lib\\asyncio\\futures.py\", line 201, in result\n",
      "    raise self._exception.with_traceback(self._exception_tb)\n",
      "  File \"C:\\ProgramData\\anaconda3\\lib\\asyncio\\tasks.py\", line 232, in __step\n",
      "    result = coro.send(None)\n",
      "  File \"C:\\Users\\Dukalis\\AppData\\Local\\Temp\\ipykernel_10020\\2033048030.py\", line 36, in send_message\n",
      "    await self.client.write_gatt_char(12, message)\n",
      "  File \"C:\\Users\\Dukalis\\AppData\\Roaming\\Python\\Python310\\site-packages\\bleak\\__init__.py\", line 659, in write_gatt_char\n",
      "    await self._backend.write_gatt_char(char_specifier, data, response)\n",
      "  File \"C:\\Users\\Dukalis\\AppData\\Roaming\\Python\\Python310\\site-packages\\bleak\\backends\\winrt\\client.py\", line 855, in write_gatt_char\n",
      "    raise BleakError(\"Not connected\")\n",
      "bleak.exc.BleakError: Not connected\n",
      "Exception in callback BleakScannerWinRT._received_handler(<_bleak_winrt...0023E9542AF10>, <_bleak_winrt...0023E95429ED0>)\n",
      "handle: <Handle BleakScannerWinRT._received_handler(<_bleak_winrt...0023E9542AF10>, <_bleak_winrt...0023E95429ED0>)>\n",
      "Traceback (most recent call last):\n",
      "  File \"C:\\ProgramData\\anaconda3\\lib\\asyncio\\events.py\", line 80, in _run\n",
      "    self._context.run(self._callback, *self._args)\n",
      "  File \"C:\\Users\\Dukalis\\AppData\\Roaming\\Python\\Python310\\site-packages\\bleak\\backends\\winrt\\scanner.py\", line 208, in _received_handler\n",
      "    self._callback(device, advertisement_data)\n",
      "  File \"C:\\Users\\Dukalis\\AppData\\Local\\Temp\\ipykernel_10020\\3520866471.py\", line 38, in detection_callback\n",
      "    hk, lk = assistant.run(b\"GA\\r\")\n",
      "  File \"C:\\Users\\Dukalis\\AppData\\Local\\Temp\\ipykernel_10020\\2033048030.py\", line 50, in run\n",
      "    self.loop.run_until_complete(self.send_message(message))\n",
      "  File \"C:\\ProgramData\\anaconda3\\lib\\site-packages\\nest_asyncio.py\", line 90, in run_until_complete\n",
      "    return f.result()\n",
      "  File \"C:\\ProgramData\\anaconda3\\lib\\asyncio\\futures.py\", line 201, in result\n",
      "    raise self._exception.with_traceback(self._exception_tb)\n",
      "  File \"C:\\ProgramData\\anaconda3\\lib\\asyncio\\tasks.py\", line 232, in __step\n",
      "    result = coro.send(None)\n",
      "  File \"C:\\Users\\Dukalis\\AppData\\Local\\Temp\\ipykernel_10020\\2033048030.py\", line 36, in send_message\n",
      "    await self.client.write_gatt_char(12, message)\n",
      "  File \"C:\\Users\\Dukalis\\AppData\\Roaming\\Python\\Python310\\site-packages\\bleak\\__init__.py\", line 659, in write_gatt_char\n",
      "    await self._backend.write_gatt_char(char_specifier, data, response)\n",
      "  File \"C:\\Users\\Dukalis\\AppData\\Roaming\\Python\\Python310\\site-packages\\bleak\\backends\\winrt\\client.py\", line 855, in write_gatt_char\n",
      "    raise BleakError(\"Not connected\")\n",
      "bleak.exc.BleakError: Not connected\n"
     ]
    },
    {
     "name": "stdout",
     "output_type": "stream",
     "text": [
      "WRITE: b'GA\\r' on TX_char\n",
      "Received notification from RX_char: AGA,UT:1:22,UL:1:1,HK:1:51941,LK:1:30474,US:1:30511,SE:1:383449,VB:2:3.7,WM:1:32768,TS:1:2110369,EM:\n",
      "Received notification from RX_char: 1:0,TT:1:0,TM:1:10,UD:0:D9D9C5DDEEFF,VD:1:1,VV:1:141\n"
     ]
    }
   ],
   "source": [
    "my_scanner = MyScanner(timeout=30, start_serial=383448, end_serial=383449)\n",
    "loop = asyncio.get_event_loop()\n",
    "loop.run_until_complete(my_scanner.run())\n",
    "address = my_scanner.get_address()"
   ]
  },
  {
   "cell_type": "code",
   "execution_count": 8,
   "id": "6deff30e",
   "metadata": {},
   "outputs": [
    {
     "data": {
      "text/html": [
       "<div>\n",
       "<style scoped>\n",
       "    .dataframe tbody tr th:only-of-type {\n",
       "        vertical-align: middle;\n",
       "    }\n",
       "\n",
       "    .dataframe tbody tr th {\n",
       "        vertical-align: top;\n",
       "    }\n",
       "\n",
       "    .dataframe thead th {\n",
       "        text-align: right;\n",
       "    }\n",
       "</style>\n",
       "<table border=\"1\" class=\"dataframe\">\n",
       "  <thead>\n",
       "    <tr style=\"text-align: right;\">\n",
       "      <th></th>\n",
       "      <th>Name</th>\n",
       "      <th>MAC</th>\n",
       "      <th>RSSI</th>\n",
       "      <th>O-L</th>\n",
       "      <th>T</th>\n",
       "      <th>B-W</th>\n",
       "      <th>HK</th>\n",
       "      <th>LK</th>\n",
       "    </tr>\n",
       "  </thead>\n",
       "  <tbody>\n",
       "    <tr>\n",
       "      <th>0</th>\n",
       "      <td>TD_383448</td>\n",
       "      <td>CA:17:37:73:61:98</td>\n",
       "      <td>-64</td>\n",
       "      <td>4095</td>\n",
       "      <td>23</td>\n",
       "      <td>3.7</td>\n",
       "      <td>None</td>\n",
       "      <td>None</td>\n",
       "    </tr>\n",
       "    <tr>\n",
       "      <th>1</th>\n",
       "      <td>TD_383449</td>\n",
       "      <td>E2:F1:F3:8C:E1:45</td>\n",
       "      <td>-54</td>\n",
       "      <td>1</td>\n",
       "      <td>22</td>\n",
       "      <td>3.7</td>\n",
       "      <td>51941</td>\n",
       "      <td>30474</td>\n",
       "    </tr>\n",
       "  </tbody>\n",
       "</table>\n",
       "</div>"
      ],
      "text/plain": [
       "        Name                MAC RSSI   O-L   T  B-W     HK     LK\n",
       "0  TD_383448  CA:17:37:73:61:98  -64  4095  23  3.7   None   None\n",
       "1  TD_383449  E2:F1:F3:8C:E1:45  -54     1  22  3.7  51941  30474"
      ]
     },
     "execution_count": 8,
     "metadata": {},
     "output_type": "execute_result"
    }
   ],
   "source": [
    "my_scanner.get_dataframe()"
   ]
  },
  {
   "cell_type": "code",
   "execution_count": 58,
   "id": "2668eb37",
   "metadata": {},
   "outputs": [
    {
     "data": {
      "text/html": [
       "<div>\n",
       "<style scoped>\n",
       "    .dataframe tbody tr th:only-of-type {\n",
       "        vertical-align: middle;\n",
       "    }\n",
       "\n",
       "    .dataframe tbody tr th {\n",
       "        vertical-align: top;\n",
       "    }\n",
       "\n",
       "    .dataframe thead th {\n",
       "        text-align: right;\n",
       "    }\n",
       "</style>\n",
       "<table border=\"1\" class=\"dataframe\">\n",
       "  <thead>\n",
       "    <tr style=\"text-align: right;\">\n",
       "      <th></th>\n",
       "      <th>Name</th>\n",
       "      <th>MAC</th>\n",
       "      <th>RSSI</th>\n",
       "      <th>O-L</th>\n",
       "      <th>T</th>\n",
       "      <th>B-W</th>\n",
       "      <th>HK</th>\n",
       "      <th>LK</th>\n",
       "    </tr>\n",
       "  </thead>\n",
       "  <tbody>\n",
       "    <tr>\n",
       "      <th>0</th>\n",
       "      <td>TD_100001</td>\n",
       "      <td>None</td>\n",
       "      <td>None</td>\n",
       "      <td>None</td>\n",
       "      <td>None</td>\n",
       "      <td>None</td>\n",
       "      <td>None</td>\n",
       "      <td>None</td>\n",
       "    </tr>\n",
       "    <tr>\n",
       "      <th>1</th>\n",
       "      <td>TD_100002</td>\n",
       "      <td>None</td>\n",
       "      <td>None</td>\n",
       "      <td>None</td>\n",
       "      <td>None</td>\n",
       "      <td>None</td>\n",
       "      <td>None</td>\n",
       "      <td>None</td>\n",
       "    </tr>\n",
       "    <tr>\n",
       "      <th>2</th>\n",
       "      <td>TD_100003</td>\n",
       "      <td>None</td>\n",
       "      <td>None</td>\n",
       "      <td>None</td>\n",
       "      <td>None</td>\n",
       "      <td>None</td>\n",
       "      <td>None</td>\n",
       "      <td>None</td>\n",
       "    </tr>\n",
       "    <tr>\n",
       "      <th>3</th>\n",
       "      <td>TD_100004</td>\n",
       "      <td>None</td>\n",
       "      <td>None</td>\n",
       "      <td>None</td>\n",
       "      <td>None</td>\n",
       "      <td>None</td>\n",
       "      <td>None</td>\n",
       "      <td>None</td>\n",
       "    </tr>\n",
       "    <tr>\n",
       "      <th>4</th>\n",
       "      <td>TD_100005</td>\n",
       "      <td>None</td>\n",
       "      <td>None</td>\n",
       "      <td>None</td>\n",
       "      <td>None</td>\n",
       "      <td>None</td>\n",
       "      <td>None</td>\n",
       "      <td>None</td>\n",
       "    </tr>\n",
       "    <tr>\n",
       "      <th>5</th>\n",
       "      <td>TD_100006</td>\n",
       "      <td>None</td>\n",
       "      <td>None</td>\n",
       "      <td>None</td>\n",
       "      <td>None</td>\n",
       "      <td>None</td>\n",
       "      <td>None</td>\n",
       "      <td>None</td>\n",
       "    </tr>\n",
       "    <tr>\n",
       "      <th>6</th>\n",
       "      <td>TD_100007</td>\n",
       "      <td>None</td>\n",
       "      <td>None</td>\n",
       "      <td>None</td>\n",
       "      <td>None</td>\n",
       "      <td>None</td>\n",
       "      <td>None</td>\n",
       "      <td>None</td>\n",
       "    </tr>\n",
       "    <tr>\n",
       "      <th>7</th>\n",
       "      <td>TD_100008</td>\n",
       "      <td>None</td>\n",
       "      <td>None</td>\n",
       "      <td>None</td>\n",
       "      <td>None</td>\n",
       "      <td>None</td>\n",
       "      <td>None</td>\n",
       "      <td>None</td>\n",
       "    </tr>\n",
       "    <tr>\n",
       "      <th>8</th>\n",
       "      <td>TD_100009</td>\n",
       "      <td>None</td>\n",
       "      <td>None</td>\n",
       "      <td>None</td>\n",
       "      <td>None</td>\n",
       "      <td>None</td>\n",
       "      <td>None</td>\n",
       "      <td>None</td>\n",
       "    </tr>\n",
       "    <tr>\n",
       "      <th>9</th>\n",
       "      <td>TD_100010</td>\n",
       "      <td>None</td>\n",
       "      <td>None</td>\n",
       "      <td>None</td>\n",
       "      <td>None</td>\n",
       "      <td>None</td>\n",
       "      <td>None</td>\n",
       "      <td>None</td>\n",
       "    </tr>\n",
       "  </tbody>\n",
       "</table>\n",
       "</div>"
      ],
      "text/plain": [
       "        Name   MAC  RSSI   O-L     T   B-W    HK    LK\n",
       "0  TD_100001  None  None  None  None  None  None  None\n",
       "1  TD_100002  None  None  None  None  None  None  None\n",
       "2  TD_100003  None  None  None  None  None  None  None\n",
       "3  TD_100004  None  None  None  None  None  None  None\n",
       "4  TD_100005  None  None  None  None  None  None  None\n",
       "5  TD_100006  None  None  None  None  None  None  None\n",
       "6  TD_100007  None  None  None  None  None  None  None\n",
       "7  TD_100008  None  None  None  None  None  None  None\n",
       "8  TD_100009  None  None  None  None  None  None  None\n",
       "9  TD_100010  None  None  None  None  None  None  None"
      ]
     },
     "execution_count": 58,
     "metadata": {},
     "output_type": "execute_result"
    }
   ],
   "source": [
    "MyScanner(1,100001,100010).get_dataframe()"
   ]
  },
  {
   "cell_type": "code",
   "execution_count": 40,
   "id": "0e4a980f",
   "metadata": {},
   "outputs": [
    {
     "name": "stderr",
     "output_type": "stream",
     "text": [
      "Connecting and sending data: 100%|███████████████████████████████████████████████████| 100/100 [00:29<00:00,  3.36it/s]\n"
     ]
    },
    {
     "name": "stdout",
     "output_type": "stream",
     "text": [
      "WRITE: b'GA\\r' on TX_char\n",
      "Received notification from RX_char: AGA,UT:1:23,UL:1:4095,HK:1:30000,LK:1:10000,US:1:30693,SE:1:383448,VB:2:3.7,WM:1:32768,TS:1:2109144,\n",
      "Received notification from RX_char: EM:1:0,TT:1:0,TM:1:10,UD:0:D8D9C5DDEEFF,VD:1:1,VV:1:141\n",
      "CPU times: total: 1.44 s\n",
      "Wall time: 38.2 s\n"
     ]
    }
   ],
   "source": [
    "%%time\n",
    "address = 'CA:17:37:73:61:98'\n",
    "assistant = BleakClientAssistant(address, timeout=30)\n",
    "hk, lk = assistant.run(b\"GA\\r\")"
   ]
  },
  {
   "cell_type": "code",
   "execution_count": 35,
   "id": "05a229a7",
   "metadata": {},
   "outputs": [
    {
     "name": "stdout",
     "output_type": "stream",
     "text": [
      "HK: 30000, LK: 10000\n"
     ]
    }
   ],
   "source": [
    "print(f\"HK: {hk}, LK: {lk}\")"
   ]
  },
  {
   "cell_type": "code",
   "execution_count": null,
   "id": "f2bb5b7a",
   "metadata": {},
   "outputs": [],
   "source": []
  }
 ],
 "metadata": {
  "kernelspec": {
   "display_name": "Python 3 (ipykernel)",
   "language": "python",
   "name": "python3"
  },
  "language_info": {
   "codemirror_mode": {
    "name": "ipython",
    "version": 3
   },
   "file_extension": ".py",
   "mimetype": "text/x-python",
   "name": "python",
   "nbconvert_exporter": "python",
   "pygments_lexer": "ipython3",
   "version": "3.10.9"
  }
 },
 "nbformat": 4,
 "nbformat_minor": 5
}
