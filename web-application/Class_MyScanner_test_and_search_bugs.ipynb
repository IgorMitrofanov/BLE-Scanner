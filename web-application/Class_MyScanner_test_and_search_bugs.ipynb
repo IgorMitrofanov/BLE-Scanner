{
 "cells": [
  {
   "cell_type": "code",
   "execution_count": 1,
   "id": "cbdd935d",
   "metadata": {},
   "outputs": [],
   "source": [
    "import numpy as np\n",
    "import pandas as pd\n",
    "import asyncio\n",
    "import struct\n",
    "import nest_asyncio\n",
    "import bleak\n",
    "from bleak import BleakScanner, BleakClient\n",
    "from bleak.exc import BleakError\n",
    "nest_asyncio.apply()\n",
    "import re\n",
    "from tqdm import tqdm\n",
    "from queue import Queue"
   ]
  },
  {
   "cell_type": "code",
   "execution_count": 2,
   "id": "54aa1784",
   "metadata": {},
   "outputs": [],
   "source": [
    "class DataCollector:\n",
    "    def __init__(self, start_serial, end_serial):\n",
    "        self.start_serial = start_serial\n",
    "        self.end_serial = end_serial\n",
    "        self.device_names = [\"TD_\" + str(i) for i in range(start_serial, end_serial+1)]\n",
    "        self.start_len = len(self.device_names)\n",
    "        self.df = pd.DataFrame({'Name': self.device_names, \n",
    "                                'MAC': [None] * len(self.device_names),\n",
    "                                'RSSI': [None] * len(self.device_names),\n",
    "                                'Oil Level' : [None] * len(self.device_names),\n",
    "                                'Temperature': [None] * len(self.device_names),\n",
    "                                'Battery Voltage': [None] * len(self.device_names),\n",
    "                                'HK': [None] * len(self.device_names),\n",
    "                                'LK': [None] * len(self.device_names)})\n",
    "        \n",
    "    def update_MAC(self, name, address):\n",
    "        index = self.df.index[self.df['Name'] == name][0]\n",
    "       # if self.df.at[index, 'MAC'] is None:   \n",
    "        self.df.at[index, 'MAC'] = address\n",
    "            \n",
    "    def update_RSSI(self, name, RSSI):\n",
    "        index = self.df.index[self.df['Name'] == name][0]\n",
    "       # if self.df.at[index, 'RSSI'] is None:   \n",
    "        self.df.at[index, 'RSSI'] = RSSI\n",
    "            \n",
    "    def update_oil_level(self, name, oil_level_raw):\n",
    "        index = self.df.index[self.df['Name'] == name][0]\n",
    "       # if self.df.at[index, 'Oil Level'] is None:   \n",
    "        self.df.at[index, 'Oil Level'] = oil_level_raw\n",
    "            \n",
    "    def update_temp(self, name, TD_temp_raw):\n",
    "        index = self.df.index[self.df['Name'] == name][0]\n",
    "       # if self.df.at[index, 'Temperature'] is None:   \n",
    "        self.df.at[index, 'Temperature'] = TD_temp_raw\n",
    "            \n",
    "    def update_battery_voltage(self, name, battery_voltage):\n",
    "        index = self.df.index[self.df['Name'] == name][0]\n",
    "        # if self.df.at[index, 'Battery Voltage'] is None:   \n",
    "        self.df.at[index, 'Battery Voltage'] = battery_voltage\n",
    "            \n",
    "    def update_HK(self, name, hk):\n",
    "        index = self.df.index[self.df['Name'] == name][0]\n",
    "       # if self.df.at[index, 'HK'] is None:   \n",
    "        self.df.at[index, 'HK'] = hk\n",
    "            \n",
    "    def update_LK(self, name, lk):\n",
    "        index = self.df.index[self.df['Name'] == name][0]\n",
    "       # if self.df.at[index, 'LK'] is None:   \n",
    "        self.df.at[index, 'LK'] = lk\n",
    "            \n",
    "    def get_dataframe(self):\n",
    "        return self.df"
   ]
  },
  {
   "cell_type": "code",
   "execution_count": 3,
   "id": "7a86715b",
   "metadata": {},
   "outputs": [],
   "source": [
    "class MyScanner:\n",
    "    def __init__(self, timeout, start_serial, end_serial):\n",
    "        self._scanner = BleakScanner(detection_callback=self.detection_callback)\n",
    "        self.scanning = asyncio.Event()\n",
    "        self.timeout = timeout\n",
    "        self.dc = DataCollector(start_serial, end_serial)\n",
    "        self.queue_devices_to_connect = Queue()\n",
    "    def detection_callback(self, device, advertisement_data):\n",
    "        try:\n",
    "            if device.name in self.dc.device_names: \n",
    "                self.queue_devices_to_connect.put(device)\n",
    "                self.dc.device_names.remove(device.name)\n",
    "                print(f'found device with name: {device.name} {self.dc.start_len-len(self.dc.device_names)}/{self.dc.start_len}')\n",
    "                self.dc.update_MAC(device.name, device.address)\n",
    "                self.dc.update_RSSI(device.name, advertisement_data.rssi)\n",
    "                oil_level_raw, battery_voltage, TD_temp_raw = adv_decrypt(advertisement_data.manufacturer_data[3862])\n",
    "                self.dc.update_oil_level(device.name, oil_level_raw)\n",
    "                self.dc.update_battery_voltage(device.name, battery_voltage)\n",
    "                self.dc.update_temp(device.name, TD_temp_raw)\n",
    "        except Exception as e:\n",
    "            print(f\"Error in callback (scanner): {e}\")\n",
    "    async def run(self):\n",
    "        self._scanner = BleakScanner(detection_callback=self.detection_callback)\n",
    "        print(f'\\t\\tStarted scanning with {self.timeout} seconds timeout...')\n",
    "        await self._scanner.start()\n",
    "        self.scanning.set()\n",
    "        end_time = loop.time() + self.timeout\n",
    "        while self.scanning.is_set():\n",
    "            if loop.time() > end_time:\n",
    "                self.scanning.clear()\n",
    "                await self._scanner.stop()\n",
    "                print(f\"\\t\\tScan has timed out so we terminate.\")\n",
    "                if len(self.dc.device_names) == 0:\n",
    "                    print('All devices have been found.')\n",
    "                else:\n",
    "                    print(f\"Can't founded devices ({len(self.dc.device_names)*100/self.dc.start_len:2f}%) : {self.dc.device_names}\")\n",
    "                    while True:\n",
    "                        retry = input(\"Would you like to retry search? (y/n) \")\n",
    "                        if retry.lower() == \"y\":\n",
    "                            change_timeout = input('Would you like change timeout? (y/n) ')\n",
    "                            if change_timeout.lower() == \"y\":\n",
    "                                self.timeout = int(input('Timeout seconds (int): '))\n",
    "                                await self.run()\n",
    "                                break\n",
    "                            else:\n",
    "                                await self.run()\n",
    "                                break\n",
    "                        elif retry.lower() == \"n\":\n",
    "                            return\n",
    "                        else:\n",
    "                            print(\"Invalid input, please enter 'y' or 'n'.\")\n",
    "                await asyncio.sleep(0.01)\n",
    "            else:\n",
    "                continue\n",
    "    def get_dataframe(self):\n",
    "        return self.dc.get_dataframe()\n",
    "    def queue_connection(self):\n",
    "        while not self.queue_devices_to_connect.empty():\n",
    "            print('Devices in queue:', self.queue_devices_to_connect.queue)\n",
    "            device = self.queue_devices_to_connect.get()\n",
    "            assistant = BleakClientAssistant(device)\n",
    "            hk, lk = assistant.run(b\"GA\\r\")\n",
    "            self.dc.update_HK(device.name, hk)\n",
    "            self.dc.update_LK(device.name, lk)"
   ]
  },
  {
   "cell_type": "code",
   "execution_count": 4,
   "id": "71e32720",
   "metadata": {},
   "outputs": [
    {
     "name": "stdout",
     "output_type": "stream",
     "text": [
      "\t\tStarted scanning with 10 seconds timeout...\n",
      "found device with name: TD_383448 1/553\n",
      "Error in callback (scanner): name 'adv_decrypt' is not defined\n",
      "found device with name: TD_383449 2/553\n",
      "Error in callback (scanner): name 'adv_decrypt' is not defined\n",
      "\t\tScan has timed out so we terminate.\n",
      "Can't founded devices (99.638336%) : ['TD_383450', 'TD_383451', 'TD_383452', 'TD_383453', 'TD_383454', 'TD_383455', 'TD_383456', 'TD_383457', 'TD_383458', 'TD_383459', 'TD_383460', 'TD_383461', 'TD_383462', 'TD_383463', 'TD_383464', 'TD_383465', 'TD_383466', 'TD_383467', 'TD_383468', 'TD_383469', 'TD_383470', 'TD_383471', 'TD_383472', 'TD_383473', 'TD_383474', 'TD_383475', 'TD_383476', 'TD_383477', 'TD_383478', 'TD_383479', 'TD_383480', 'TD_383481', 'TD_383482', 'TD_383483', 'TD_383484', 'TD_383485', 'TD_383486', 'TD_383487', 'TD_383488', 'TD_383489', 'TD_383490', 'TD_383491', 'TD_383492', 'TD_383493', 'TD_383494', 'TD_383495', 'TD_383496', 'TD_383497', 'TD_383498', 'TD_383499', 'TD_383500', 'TD_383501', 'TD_383502', 'TD_383503', 'TD_383504', 'TD_383505', 'TD_383506', 'TD_383507', 'TD_383508', 'TD_383509', 'TD_383510', 'TD_383511', 'TD_383512', 'TD_383513', 'TD_383514', 'TD_383515', 'TD_383516', 'TD_383517', 'TD_383518', 'TD_383519', 'TD_383520', 'TD_383521', 'TD_383522', 'TD_383523', 'TD_383524', 'TD_383525', 'TD_383526', 'TD_383527', 'TD_383528', 'TD_383529', 'TD_383530', 'TD_383531', 'TD_383532', 'TD_383533', 'TD_383534', 'TD_383535', 'TD_383536', 'TD_383537', 'TD_383538', 'TD_383539', 'TD_383540', 'TD_383541', 'TD_383542', 'TD_383543', 'TD_383544', 'TD_383545', 'TD_383546', 'TD_383547', 'TD_383548', 'TD_383549', 'TD_383550', 'TD_383551', 'TD_383552', 'TD_383553', 'TD_383554', 'TD_383555', 'TD_383556', 'TD_383557', 'TD_383558', 'TD_383559', 'TD_383560', 'TD_383561', 'TD_383562', 'TD_383563', 'TD_383564', 'TD_383565', 'TD_383566', 'TD_383567', 'TD_383568', 'TD_383569', 'TD_383570', 'TD_383571', 'TD_383572', 'TD_383573', 'TD_383574', 'TD_383575', 'TD_383576', 'TD_383577', 'TD_383578', 'TD_383579', 'TD_383580', 'TD_383581', 'TD_383582', 'TD_383583', 'TD_383584', 'TD_383585', 'TD_383586', 'TD_383587', 'TD_383588', 'TD_383589', 'TD_383590', 'TD_383591', 'TD_383592', 'TD_383593', 'TD_383594', 'TD_383595', 'TD_383596', 'TD_383597', 'TD_383598', 'TD_383599', 'TD_383600', 'TD_383601', 'TD_383602', 'TD_383603', 'TD_383604', 'TD_383605', 'TD_383606', 'TD_383607', 'TD_383608', 'TD_383609', 'TD_383610', 'TD_383611', 'TD_383612', 'TD_383613', 'TD_383614', 'TD_383615', 'TD_383616', 'TD_383617', 'TD_383618', 'TD_383619', 'TD_383620', 'TD_383621', 'TD_383622', 'TD_383623', 'TD_383624', 'TD_383625', 'TD_383626', 'TD_383627', 'TD_383628', 'TD_383629', 'TD_383630', 'TD_383631', 'TD_383632', 'TD_383633', 'TD_383634', 'TD_383635', 'TD_383636', 'TD_383637', 'TD_383638', 'TD_383639', 'TD_383640', 'TD_383641', 'TD_383642', 'TD_383643', 'TD_383644', 'TD_383645', 'TD_383646', 'TD_383647', 'TD_383648', 'TD_383649', 'TD_383650', 'TD_383651', 'TD_383652', 'TD_383653', 'TD_383654', 'TD_383655', 'TD_383656', 'TD_383657', 'TD_383658', 'TD_383659', 'TD_383660', 'TD_383661', 'TD_383662', 'TD_383663', 'TD_383664', 'TD_383665', 'TD_383666', 'TD_383667', 'TD_383668', 'TD_383669', 'TD_383670', 'TD_383671', 'TD_383672', 'TD_383673', 'TD_383674', 'TD_383675', 'TD_383676', 'TD_383677', 'TD_383678', 'TD_383679', 'TD_383680', 'TD_383681', 'TD_383682', 'TD_383683', 'TD_383684', 'TD_383685', 'TD_383686', 'TD_383687', 'TD_383688', 'TD_383689', 'TD_383690', 'TD_383691', 'TD_383692', 'TD_383693', 'TD_383694', 'TD_383695', 'TD_383696', 'TD_383697', 'TD_383698', 'TD_383699', 'TD_383700', 'TD_383701', 'TD_383702', 'TD_383703', 'TD_383704', 'TD_383705', 'TD_383706', 'TD_383707', 'TD_383708', 'TD_383709', 'TD_383710', 'TD_383711', 'TD_383712', 'TD_383713', 'TD_383714', 'TD_383715', 'TD_383716', 'TD_383717', 'TD_383718', 'TD_383719', 'TD_383720', 'TD_383721', 'TD_383722', 'TD_383723', 'TD_383724', 'TD_383725', 'TD_383726', 'TD_383727', 'TD_383728', 'TD_383729', 'TD_383730', 'TD_383731', 'TD_383732', 'TD_383733', 'TD_383734', 'TD_383735', 'TD_383736', 'TD_383737', 'TD_383738', 'TD_383739', 'TD_383740', 'TD_383741', 'TD_383742', 'TD_383743', 'TD_383744', 'TD_383745', 'TD_383746', 'TD_383747', 'TD_383748', 'TD_383749', 'TD_383750', 'TD_383751', 'TD_383752', 'TD_383753', 'TD_383754', 'TD_383755', 'TD_383756', 'TD_383757', 'TD_383758', 'TD_383759', 'TD_383760', 'TD_383761', 'TD_383762', 'TD_383763', 'TD_383764', 'TD_383765', 'TD_383766', 'TD_383767', 'TD_383768', 'TD_383769', 'TD_383770', 'TD_383771', 'TD_383772', 'TD_383773', 'TD_383774', 'TD_383775', 'TD_383776', 'TD_383777', 'TD_383778', 'TD_383779', 'TD_383780', 'TD_383781', 'TD_383782', 'TD_383783', 'TD_383784', 'TD_383785', 'TD_383786', 'TD_383787', 'TD_383788', 'TD_383789', 'TD_383790', 'TD_383791', 'TD_383792', 'TD_383793', 'TD_383794', 'TD_383795', 'TD_383796', 'TD_383797', 'TD_383798', 'TD_383799', 'TD_383800', 'TD_383801', 'TD_383802', 'TD_383803', 'TD_383804', 'TD_383805', 'TD_383806', 'TD_383807', 'TD_383808', 'TD_383809', 'TD_383810', 'TD_383811', 'TD_383812', 'TD_383813', 'TD_383814', 'TD_383815', 'TD_383816', 'TD_383817', 'TD_383818', 'TD_383819', 'TD_383820', 'TD_383821', 'TD_383822', 'TD_383823', 'TD_383824', 'TD_383825', 'TD_383826', 'TD_383827', 'TD_383828', 'TD_383829', 'TD_383830', 'TD_383831', 'TD_383832', 'TD_383833', 'TD_383834', 'TD_383835', 'TD_383836', 'TD_383837', 'TD_383838', 'TD_383839', 'TD_383840', 'TD_383841', 'TD_383842', 'TD_383843', 'TD_383844', 'TD_383845', 'TD_383846', 'TD_383847', 'TD_383848', 'TD_383849', 'TD_383850', 'TD_383851', 'TD_383852', 'TD_383853', 'TD_383854', 'TD_383855', 'TD_383856', 'TD_383857', 'TD_383858', 'TD_383859', 'TD_383860', 'TD_383861', 'TD_383862', 'TD_383863', 'TD_383864', 'TD_383865', 'TD_383866', 'TD_383867', 'TD_383868', 'TD_383869', 'TD_383870', 'TD_383871', 'TD_383872', 'TD_383873', 'TD_383874', 'TD_383875', 'TD_383876', 'TD_383877', 'TD_383878', 'TD_383879', 'TD_383880', 'TD_383881', 'TD_383882', 'TD_383883', 'TD_383884', 'TD_383885', 'TD_383886', 'TD_383887', 'TD_383888', 'TD_383889', 'TD_383890', 'TD_383891', 'TD_383892', 'TD_383893', 'TD_383894', 'TD_383895', 'TD_383896', 'TD_383897', 'TD_383898', 'TD_383899', 'TD_383900', 'TD_383901', 'TD_383902', 'TD_383903', 'TD_383904', 'TD_383905', 'TD_383906', 'TD_383907', 'TD_383908', 'TD_383909', 'TD_383910', 'TD_383911', 'TD_383912', 'TD_383913', 'TD_383914', 'TD_383915', 'TD_383916', 'TD_383917', 'TD_383918', 'TD_383919', 'TD_383920', 'TD_383921', 'TD_383922', 'TD_383923', 'TD_383924', 'TD_383925', 'TD_383926', 'TD_383927', 'TD_383928', 'TD_383929', 'TD_383930', 'TD_383931', 'TD_383932', 'TD_383933', 'TD_383934', 'TD_383935', 'TD_383936', 'TD_383937', 'TD_383938', 'TD_383939', 'TD_383940', 'TD_383941', 'TD_383942', 'TD_383943', 'TD_383944', 'TD_383945', 'TD_383946', 'TD_383947', 'TD_383948', 'TD_383949', 'TD_383950', 'TD_383951', 'TD_383952', 'TD_383953', 'TD_383954', 'TD_383955', 'TD_383956', 'TD_383957', 'TD_383958', 'TD_383959', 'TD_383960', 'TD_383961', 'TD_383962', 'TD_383963', 'TD_383964', 'TD_383965', 'TD_383966', 'TD_383967', 'TD_383968', 'TD_383969', 'TD_383970', 'TD_383971', 'TD_383972', 'TD_383973', 'TD_383974', 'TD_383975', 'TD_383976', 'TD_383977', 'TD_383978', 'TD_383979', 'TD_383980', 'TD_383981', 'TD_383982', 'TD_383983', 'TD_383984', 'TD_383985', 'TD_383986', 'TD_383987', 'TD_383988', 'TD_383989', 'TD_383990', 'TD_383991', 'TD_383992', 'TD_383993', 'TD_383994', 'TD_383995', 'TD_383996', 'TD_383997', 'TD_383998', 'TD_383999', 'TD_384000']\n",
      "Would you like to retry search? (y/n) y\n",
      "Would you like change timeout? (y/n) 12\n",
      "\t\tStarted scanning with 10 seconds timeout...\n",
      "\t\tScan has timed out so we terminate.\n",
      "Can't founded devices (99.638336%) : ['TD_383450', 'TD_383451', 'TD_383452', 'TD_383453', 'TD_383454', 'TD_383455', 'TD_383456', 'TD_383457', 'TD_383458', 'TD_383459', 'TD_383460', 'TD_383461', 'TD_383462', 'TD_383463', 'TD_383464', 'TD_383465', 'TD_383466', 'TD_383467', 'TD_383468', 'TD_383469', 'TD_383470', 'TD_383471', 'TD_383472', 'TD_383473', 'TD_383474', 'TD_383475', 'TD_383476', 'TD_383477', 'TD_383478', 'TD_383479', 'TD_383480', 'TD_383481', 'TD_383482', 'TD_383483', 'TD_383484', 'TD_383485', 'TD_383486', 'TD_383487', 'TD_383488', 'TD_383489', 'TD_383490', 'TD_383491', 'TD_383492', 'TD_383493', 'TD_383494', 'TD_383495', 'TD_383496', 'TD_383497', 'TD_383498', 'TD_383499', 'TD_383500', 'TD_383501', 'TD_383502', 'TD_383503', 'TD_383504', 'TD_383505', 'TD_383506', 'TD_383507', 'TD_383508', 'TD_383509', 'TD_383510', 'TD_383511', 'TD_383512', 'TD_383513', 'TD_383514', 'TD_383515', 'TD_383516', 'TD_383517', 'TD_383518', 'TD_383519', 'TD_383520', 'TD_383521', 'TD_383522', 'TD_383523', 'TD_383524', 'TD_383525', 'TD_383526', 'TD_383527', 'TD_383528', 'TD_383529', 'TD_383530', 'TD_383531', 'TD_383532', 'TD_383533', 'TD_383534', 'TD_383535', 'TD_383536', 'TD_383537', 'TD_383538', 'TD_383539', 'TD_383540', 'TD_383541', 'TD_383542', 'TD_383543', 'TD_383544', 'TD_383545', 'TD_383546', 'TD_383547', 'TD_383548', 'TD_383549', 'TD_383550', 'TD_383551', 'TD_383552', 'TD_383553', 'TD_383554', 'TD_383555', 'TD_383556', 'TD_383557', 'TD_383558', 'TD_383559', 'TD_383560', 'TD_383561', 'TD_383562', 'TD_383563', 'TD_383564', 'TD_383565', 'TD_383566', 'TD_383567', 'TD_383568', 'TD_383569', 'TD_383570', 'TD_383571', 'TD_383572', 'TD_383573', 'TD_383574', 'TD_383575', 'TD_383576', 'TD_383577', 'TD_383578', 'TD_383579', 'TD_383580', 'TD_383581', 'TD_383582', 'TD_383583', 'TD_383584', 'TD_383585', 'TD_383586', 'TD_383587', 'TD_383588', 'TD_383589', 'TD_383590', 'TD_383591', 'TD_383592', 'TD_383593', 'TD_383594', 'TD_383595', 'TD_383596', 'TD_383597', 'TD_383598', 'TD_383599', 'TD_383600', 'TD_383601', 'TD_383602', 'TD_383603', 'TD_383604', 'TD_383605', 'TD_383606', 'TD_383607', 'TD_383608', 'TD_383609', 'TD_383610', 'TD_383611', 'TD_383612', 'TD_383613', 'TD_383614', 'TD_383615', 'TD_383616', 'TD_383617', 'TD_383618', 'TD_383619', 'TD_383620', 'TD_383621', 'TD_383622', 'TD_383623', 'TD_383624', 'TD_383625', 'TD_383626', 'TD_383627', 'TD_383628', 'TD_383629', 'TD_383630', 'TD_383631', 'TD_383632', 'TD_383633', 'TD_383634', 'TD_383635', 'TD_383636', 'TD_383637', 'TD_383638', 'TD_383639', 'TD_383640', 'TD_383641', 'TD_383642', 'TD_383643', 'TD_383644', 'TD_383645', 'TD_383646', 'TD_383647', 'TD_383648', 'TD_383649', 'TD_383650', 'TD_383651', 'TD_383652', 'TD_383653', 'TD_383654', 'TD_383655', 'TD_383656', 'TD_383657', 'TD_383658', 'TD_383659', 'TD_383660', 'TD_383661', 'TD_383662', 'TD_383663', 'TD_383664', 'TD_383665', 'TD_383666', 'TD_383667', 'TD_383668', 'TD_383669', 'TD_383670', 'TD_383671', 'TD_383672', 'TD_383673', 'TD_383674', 'TD_383675', 'TD_383676', 'TD_383677', 'TD_383678', 'TD_383679', 'TD_383680', 'TD_383681', 'TD_383682', 'TD_383683', 'TD_383684', 'TD_383685', 'TD_383686', 'TD_383687', 'TD_383688', 'TD_383689', 'TD_383690', 'TD_383691', 'TD_383692', 'TD_383693', 'TD_383694', 'TD_383695', 'TD_383696', 'TD_383697', 'TD_383698', 'TD_383699', 'TD_383700', 'TD_383701', 'TD_383702', 'TD_383703', 'TD_383704', 'TD_383705', 'TD_383706', 'TD_383707', 'TD_383708', 'TD_383709', 'TD_383710', 'TD_383711', 'TD_383712', 'TD_383713', 'TD_383714', 'TD_383715', 'TD_383716', 'TD_383717', 'TD_383718', 'TD_383719', 'TD_383720', 'TD_383721', 'TD_383722', 'TD_383723', 'TD_383724', 'TD_383725', 'TD_383726', 'TD_383727', 'TD_383728', 'TD_383729', 'TD_383730', 'TD_383731', 'TD_383732', 'TD_383733', 'TD_383734', 'TD_383735', 'TD_383736', 'TD_383737', 'TD_383738', 'TD_383739', 'TD_383740', 'TD_383741', 'TD_383742', 'TD_383743', 'TD_383744', 'TD_383745', 'TD_383746', 'TD_383747', 'TD_383748', 'TD_383749', 'TD_383750', 'TD_383751', 'TD_383752', 'TD_383753', 'TD_383754', 'TD_383755', 'TD_383756', 'TD_383757', 'TD_383758', 'TD_383759', 'TD_383760', 'TD_383761', 'TD_383762', 'TD_383763', 'TD_383764', 'TD_383765', 'TD_383766', 'TD_383767', 'TD_383768', 'TD_383769', 'TD_383770', 'TD_383771', 'TD_383772', 'TD_383773', 'TD_383774', 'TD_383775', 'TD_383776', 'TD_383777', 'TD_383778', 'TD_383779', 'TD_383780', 'TD_383781', 'TD_383782', 'TD_383783', 'TD_383784', 'TD_383785', 'TD_383786', 'TD_383787', 'TD_383788', 'TD_383789', 'TD_383790', 'TD_383791', 'TD_383792', 'TD_383793', 'TD_383794', 'TD_383795', 'TD_383796', 'TD_383797', 'TD_383798', 'TD_383799', 'TD_383800', 'TD_383801', 'TD_383802', 'TD_383803', 'TD_383804', 'TD_383805', 'TD_383806', 'TD_383807', 'TD_383808', 'TD_383809', 'TD_383810', 'TD_383811', 'TD_383812', 'TD_383813', 'TD_383814', 'TD_383815', 'TD_383816', 'TD_383817', 'TD_383818', 'TD_383819', 'TD_383820', 'TD_383821', 'TD_383822', 'TD_383823', 'TD_383824', 'TD_383825', 'TD_383826', 'TD_383827', 'TD_383828', 'TD_383829', 'TD_383830', 'TD_383831', 'TD_383832', 'TD_383833', 'TD_383834', 'TD_383835', 'TD_383836', 'TD_383837', 'TD_383838', 'TD_383839', 'TD_383840', 'TD_383841', 'TD_383842', 'TD_383843', 'TD_383844', 'TD_383845', 'TD_383846', 'TD_383847', 'TD_383848', 'TD_383849', 'TD_383850', 'TD_383851', 'TD_383852', 'TD_383853', 'TD_383854', 'TD_383855', 'TD_383856', 'TD_383857', 'TD_383858', 'TD_383859', 'TD_383860', 'TD_383861', 'TD_383862', 'TD_383863', 'TD_383864', 'TD_383865', 'TD_383866', 'TD_383867', 'TD_383868', 'TD_383869', 'TD_383870', 'TD_383871', 'TD_383872', 'TD_383873', 'TD_383874', 'TD_383875', 'TD_383876', 'TD_383877', 'TD_383878', 'TD_383879', 'TD_383880', 'TD_383881', 'TD_383882', 'TD_383883', 'TD_383884', 'TD_383885', 'TD_383886', 'TD_383887', 'TD_383888', 'TD_383889', 'TD_383890', 'TD_383891', 'TD_383892', 'TD_383893', 'TD_383894', 'TD_383895', 'TD_383896', 'TD_383897', 'TD_383898', 'TD_383899', 'TD_383900', 'TD_383901', 'TD_383902', 'TD_383903', 'TD_383904', 'TD_383905', 'TD_383906', 'TD_383907', 'TD_383908', 'TD_383909', 'TD_383910', 'TD_383911', 'TD_383912', 'TD_383913', 'TD_383914', 'TD_383915', 'TD_383916', 'TD_383917', 'TD_383918', 'TD_383919', 'TD_383920', 'TD_383921', 'TD_383922', 'TD_383923', 'TD_383924', 'TD_383925', 'TD_383926', 'TD_383927', 'TD_383928', 'TD_383929', 'TD_383930', 'TD_383931', 'TD_383932', 'TD_383933', 'TD_383934', 'TD_383935', 'TD_383936', 'TD_383937', 'TD_383938', 'TD_383939', 'TD_383940', 'TD_383941', 'TD_383942', 'TD_383943', 'TD_383944', 'TD_383945', 'TD_383946', 'TD_383947', 'TD_383948', 'TD_383949', 'TD_383950', 'TD_383951', 'TD_383952', 'TD_383953', 'TD_383954', 'TD_383955', 'TD_383956', 'TD_383957', 'TD_383958', 'TD_383959', 'TD_383960', 'TD_383961', 'TD_383962', 'TD_383963', 'TD_383964', 'TD_383965', 'TD_383966', 'TD_383967', 'TD_383968', 'TD_383969', 'TD_383970', 'TD_383971', 'TD_383972', 'TD_383973', 'TD_383974', 'TD_383975', 'TD_383976', 'TD_383977', 'TD_383978', 'TD_383979', 'TD_383980', 'TD_383981', 'TD_383982', 'TD_383983', 'TD_383984', 'TD_383985', 'TD_383986', 'TD_383987', 'TD_383988', 'TD_383989', 'TD_383990', 'TD_383991', 'TD_383992', 'TD_383993', 'TD_383994', 'TD_383995', 'TD_383996', 'TD_383997', 'TD_383998', 'TD_383999', 'TD_384000']\n"
     ]
    },
    {
     "name": "stdout",
     "output_type": "stream",
     "text": [
      "Would you like to retry search? (y/n) n\n",
      "CPU times: total: 21.8 s\n",
      "Wall time: 44 s\n"
     ]
    }
   ],
   "source": [
    "%%time\n",
    "my_scanner = MyScanner(timeout=10, start_serial=383448, end_serial=384000)\n",
    "loop = asyncio.get_event_loop()\n",
    "loop.run_until_complete(my_scanner.run())"
   ]
  },
  {
   "cell_type": "code",
   "execution_count": 5,
   "id": "d8f0cce1",
   "metadata": {},
   "outputs": [
    {
     "name": "stdout",
     "output_type": "stream",
     "text": [
      "1\n"
     ]
    }
   ],
   "source": [
    "print(1)"
   ]
  },
  {
   "cell_type": "code",
   "execution_count": null,
   "id": "65f7490f",
   "metadata": {},
   "outputs": [],
   "source": []
  }
 ],
 "metadata": {
  "kernelspec": {
   "display_name": "Python 3 (ipykernel)",
   "language": "python",
   "name": "python3"
  },
  "language_info": {
   "codemirror_mode": {
    "name": "ipython",
    "version": 3
   },
   "file_extension": ".py",
   "mimetype": "text/x-python",
   "name": "python",
   "nbconvert_exporter": "python",
   "pygments_lexer": "ipython3",
   "version": "3.10.9"
  }
 },
 "nbformat": 4,
 "nbformat_minor": 5
}
